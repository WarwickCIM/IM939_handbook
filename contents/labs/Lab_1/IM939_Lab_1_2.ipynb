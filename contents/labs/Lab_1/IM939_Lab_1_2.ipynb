{
 "cells": [
  {
   "cell_type": "markdown",
   "metadata": {},
   "source": [
    "# IM939 - Lab 1 - Part 2\n",
    "\n",
    "Welcome to the second part of IM939 lab 1.\n",
    "\n",
    "Here we are going to look at libraries, loading in data from a csv file, loops and functions."
   ]
  },
  {
   "cell_type": "markdown",
   "metadata": {},
   "source": [
    "## Functions\n",
    "\n",
    "How do we get the length of a list?"
   ]
  },
  {
   "cell_type": "code",
   "execution_count": 1,
   "metadata": {},
   "outputs": [
    {
     "data": {
      "text/plain": [
       "4"
      ]
     },
     "execution_count": 1,
     "metadata": {},
     "output_type": "execute_result"
    }
   ],
   "source": [
    "lunch_ingredients = ['gravy', 'potatoes', 'meat', 'veg']\n",
    "len(lunch_ingredients)"
   ]
  },
  {
   "cell_type": "markdown",
   "metadata": {},
   "source": [
    "We used a function. The syntax for a function is function_name(argument1, argument2). In our above example we passed the list lunch_ingrediants as an argument to the len function.\n",
    "\n"
   ]
  },
  {
   "cell_type": "code",
   "execution_count": 2,
   "metadata": {},
   "outputs": [],
   "source": [
    "james = {'age':35, 'hair colour': 'brown', 'Glasses': 'yes'}"
   ]
  },
  {
   "cell_type": "code",
   "execution_count": 3,
   "metadata": {},
   "outputs": [
    {
     "data": {
      "text/plain": [
       "3"
      ]
     },
     "execution_count": 3,
     "metadata": {},
     "output_type": "execute_result"
    }
   ],
   "source": [
    "len(james)"
   ]
  },
  {
   "cell_type": "markdown",
   "metadata": {},
   "source": [
    "One very useful function is to check a data type. In base R it may be obvious but when you move to libraries, with different data types, it may be worth checking."
   ]
  },
  {
   "cell_type": "code",
   "execution_count": 4,
   "metadata": {},
   "outputs": [
    {
     "data": {
      "text/plain": [
       "dict"
      ]
     },
     "execution_count": 4,
     "metadata": {},
     "output_type": "execute_result"
    }
   ],
   "source": [
    "type(james)"
   ]
  },
  {
   "cell_type": "code",
   "execution_count": 5,
   "metadata": {},
   "outputs": [
    {
     "data": {
      "text/plain": [
       "list"
      ]
     },
     "execution_count": 5,
     "metadata": {},
     "output_type": "execute_result"
    }
   ],
   "source": [
    "type(lunch_ingredients)"
   ]
  },
  {
   "cell_type": "code",
   "execution_count": 6,
   "metadata": {},
   "outputs": [
    {
     "data": {
      "text/plain": [
       "int"
      ]
     },
     "execution_count": 6,
     "metadata": {},
     "output_type": "execute_result"
    }
   ],
   "source": [
    "type(55)"
   ]
  },
  {
   "cell_type": "markdown",
   "metadata": {},
   "source": [
    "## Methods\n",
    "\n",
    "What is really happening? Well all data types in Python have functions built in. A variable is an object (a string, a list, an int, etc.). Each object has a set of methods do stuff with that object.\n",
    "\n",
    "For example, I can add a value to the lunch_ingredients list liks so"
   ]
  },
  {
   "cell_type": "code",
   "execution_count": 7,
   "metadata": {},
   "outputs": [
    {
     "data": {
      "text/plain": [
       "['gravy', 'potatoes', 'meat', 'veg', 'yorkshire pudding']"
      ]
     },
     "execution_count": 7,
     "metadata": {},
     "output_type": "execute_result"
    }
   ],
   "source": [
    "lunch_ingredients.append('yorkshire pudding')\n",
    "lunch_ingredients"
   ]
  },
  {
   "cell_type": "markdown",
   "metadata": {},
   "source": [
    "Note the objectname.method notation. By adding a yorkshire pudding, a fine addition to any meal, my lunch ingredients now number 5.\n",
    "\n",
    "I can count these easily."
   ]
  },
  {
   "cell_type": "code",
   "execution_count": 8,
   "metadata": {},
   "outputs": [
    {
     "data": {
      "text/plain": [
       "5"
      ]
     },
     "execution_count": 8,
     "metadata": {},
     "output_type": "execute_result"
    }
   ],
   "source": [
    "len(lunch_ingredients)"
   ]
  },
  {
   "cell_type": "markdown",
   "metadata": {},
   "source": [
    "Which is the same as the following."
   ]
  },
  {
   "cell_type": "code",
   "execution_count": 9,
   "metadata": {},
   "outputs": [
    {
     "data": {
      "text/plain": [
       "5"
      ]
     },
     "execution_count": 9,
     "metadata": {},
     "output_type": "execute_result"
    }
   ],
   "source": [
    "lunch_ingredients.__len__()"
   ]
  },
  {
   "cell_type": "markdown",
   "metadata": {},
   "source": [
    "You can tab complete to see what methods are available for a given object. There are quite a few [built in python functions](https://www.w3schools.com/python/python_ref_functions.asp#:~:text=Python%20Built%20in%20Functions%20%20%20%20Function,of%20an%20object%20%2036%20more%20rows%20).\n",
    "\n",
    "However, do be aware that different objects will likely have different methods. For instance, can we get a length of an int?"
   ]
  },
  {
   "cell_type": "code",
   "execution_count": 10,
   "metadata": {},
   "outputs": [
    {
     "ename": "TypeError",
     "evalue": "object of type 'int' has no len()",
     "output_type": "error",
     "traceback": [
      "\u001b[0;31m---------------------------------------------------------------------------\u001b[0m",
      "\u001b[0;31mTypeError\u001b[0m                                 Traceback (most recent call last)",
      "Cell \u001b[0;32mIn[10], line 1\u001b[0m\n\u001b[0;32m----> 1\u001b[0m \u001b[39mlen\u001b[39;49m(\u001b[39m4\u001b[39;49m)\n",
      "\u001b[0;31mTypeError\u001b[0m: object of type 'int' has no len()"
     ]
    }
   ],
   "source": [
    "len(4)"
   ]
  },
  {
   "cell_type": "markdown",
   "metadata": {},
   "source": [
    "The error \"TypeError: object of type 'int' has no len()\" essentially means an int object has no __len__ [dunder method](https://medium.com/@robertbracco1/most-common-python-functions-aafdc01b71ef).\n",
    "\n",
    "To see the methods for a given object, type in the object name in a code cell, add a period '.' and press tab."
   ]
  },
  {
   "cell_type": "markdown",
   "metadata": {},
   "source": [
    "# Flow control\n",
    "\n",
    "## For loops\n",
    "\n",
    "You may need to repeat some code (such as reading lines in a csv file). For loops allow you to repeat code but with a variable changing each loop.\n",
    "\n",
    "For instance,"
   ]
  },
  {
   "cell_type": "code",
   "execution_count": 11,
   "metadata": {},
   "outputs": [
    {
     "name": "stdout",
     "output_type": "stream",
     "text": [
      "gravy\n",
      "potatoes\n",
      "meat\n",
      "veg\n",
      "yorkshire pudding\n"
     ]
    }
   ],
   "source": [
    "for ingredient in lunch_ingredients:\n",
    "    print(ingredient)\n",
    "    \n"
   ]
  },
  {
   "cell_type": "markdown",
   "metadata": {},
   "source": [
    "The above loop went through each ingrediant and printed it. \n",
    "\n",
    "Note the syntax and spacing. The for statement finishes with a : and the next line has a tab. For loops have to be defined like that. If you miss out the tab then you will be shown an error. It does make the code more readable though."
   ]
  },
  {
   "cell_type": "code",
   "execution_count": 12,
   "metadata": {},
   "outputs": [
    {
     "name": "stdout",
     "output_type": "stream",
     "text": [
      "gravy\n",
      "potatoes\n",
      "meat\n",
      "veg\n",
      "yorkshire pudding\n"
     ]
    }
   ],
   "source": [
    "for ingredient in lunch_ingredients:\n",
    "    print(ingredient)"
   ]
  },
  {
   "cell_type": "markdown",
   "metadata": {},
   "source": [
    "At least the error is informative.\n",
    "\n",
    "We can have more than one line in the loop."
   ]
  },
  {
   "cell_type": "code",
   "execution_count": 13,
   "metadata": {},
   "outputs": [
    {
     "name": "stdout",
     "output_type": "stream",
     "text": [
      "I love to eat gravy\n",
      "food is great\n",
      "I love to eat potatoes\n",
      "food is great\n",
      "I love to eat meat\n",
      "food is great\n",
      "I love to eat veg\n",
      "food is great\n",
      "I love to eat yorkshire pudding\n",
      "food is great\n"
     ]
    }
   ],
   "source": [
    "for ingredient in lunch_ingredients:\n",
    "    print('I love to eat ' + ingredient)\n",
    "    print('food is great')\n",
    "    \n"
   ]
  },
  {
   "cell_type": "markdown",
   "metadata": {},
   "source": [
    "## If statements\n",
    "\n",
    "An if statement allows us to run different code depending on a condition. "
   ]
  },
  {
   "cell_type": "code",
   "execution_count": 14,
   "metadata": {},
   "outputs": [
    {
     "name": "stdout",
     "output_type": "stream",
     "text": [
      "Number is less than 5\n"
     ]
    }
   ],
   "source": [
    "my_num = 3\n",
    "\n",
    "if my_num > 5:\n",
    "    print('Number is bigger than 5')\n",
    "    \n",
    "if my_num < 5:\n",
    "    print('Number is less than 5')"
   ]
  },
  {
   "cell_type": "markdown",
   "metadata": {},
   "source": [
    "We can include this in a for loop."
   ]
  },
  {
   "cell_type": "code",
   "execution_count": 15,
   "metadata": {},
   "outputs": [
    {
     "name": "stdout",
     "output_type": "stream",
     "text": [
      "0\n",
      "1\n",
      "2\n",
      "3\n",
      "4\n",
      "5\n",
      "6\n",
      "7\n",
      "8\n",
      "9\n"
     ]
    }
   ],
   "source": [
    "for i in range(10): #go through each number 0:10\n",
    "    print(i)"
   ]
  },
  {
   "cell_type": "code",
   "execution_count": 16,
   "metadata": {},
   "outputs": [
    {
     "name": "stdout",
     "output_type": "stream",
     "text": [
      "0\n",
      "1\n",
      "2\n",
      "3\n",
      "4\n",
      "5\n",
      "We found a 5!\n",
      "6\n",
      "7\n",
      "8\n",
      "9\n"
     ]
    }
   ],
   "source": [
    "for i in range(10):\n",
    "    print(i)\n",
    "    if i == 5:\n",
    "        print('We found a 5!')"
   ]
  },
  {
   "cell_type": "markdown",
   "metadata": {},
   "source": [
    "You can also include an else part of your if statement."
   ]
  },
  {
   "cell_type": "code",
   "execution_count": 17,
   "metadata": {},
   "outputs": [
    {
     "name": "stdout",
     "output_type": "stream",
     "text": [
      "0\n",
      "Not a 5. Boo hoo :(\n",
      "1\n",
      "Not a 5. Boo hoo :(\n",
      "2\n",
      "Not a 5. Boo hoo :(\n",
      "3\n",
      "Not a 5. Boo hoo :(\n",
      "4\n",
      "Not a 5. Boo hoo :(\n",
      "5\n",
      "We found a 5! :)\n",
      "6\n",
      "Not a 5. Boo hoo :(\n",
      "7\n",
      "Not a 5. Boo hoo :(\n",
      "8\n",
      "Not a 5. Boo hoo :(\n",
      "9\n",
      "Not a 5. Boo hoo :(\n"
     ]
    }
   ],
   "source": [
    "for i in range(10):\n",
    "    print(i)\n",
    "    if i == 5:\n",
    "        print('We found a 5! :)')\n",
    "    else:\n",
    "        print('Not a 5. Boo hoo :(')"
   ]
  },
  {
   "cell_type": "markdown",
   "metadata": {},
   "source": [
    "# Modules\n",
    "\n",
    "A module is a collection of code someone else has written(objects, methods, etc.). A library is a group of modules. In data science work you will use libraries such as numpy and scikit-learn. Anaconda has many of these libraries built in.\n",
    "\n",
    "Sometimes there are multiple ways to do something. Different libraries may have modules which have similiar functionality but slight differences.\n",
    "\n",
    "For example, lets go through a comma seperated value file to make some data accessible in Python.\n",
    "\n",
    "## CSV module"
   ]
  },
  {
   "cell_type": "code",
   "execution_count": 18,
   "metadata": {},
   "outputs": [],
   "source": [
    "import csv"
   ]
  },
  {
   "cell_type": "markdown",
   "metadata": {},
   "source": [
    "The import keyword loads in a module. Here it loads in the csv module from the inbuilt Python library (see the [Python docs on the csv module](https://docs.python.org/3/library/csv.html)).\n",
    "\n",
    "Please put the Facebook.csv file in the same folder as this notebook for this bit.\n",
    "\n",
    "The code for going through a csv file is a bit lengthy."
   ]
  },
  {
   "cell_type": "code",
   "execution_count": 19,
   "metadata": {
    "scrolled": false
   },
   "outputs": [
    {
     "name": "stdout",
     "output_type": "stream",
     "text": [
      "['\\ufefftype', 'post_message', 'link', 'link_domain', 'post_published', 'likes_count_fb', 'comments_count_fb', 'reactions_count_fb', 'shares_count_fb', 'engagement_fb']\n",
      "['status', 'Don t forget to post your photographs from heritage weekend  of you having a good time on here please.', '', '', '2017-09-09T13:57:14+0000', '5', '1', '5', '0', '6']\n",
      "['status', 'If you want to learn about Historic Coventry this Saturday we will be carrying out a guided tour around the Medieval Wall of Coventry. Booking details below', '', '', '2017-08-31T17:36:47+0000', '7', '12', '7', '0', '19']\n",
      "['event', '3 more dates for September Tours of The Medieval City Wall Below. Saturday 16th  23  rd and 30th https://www.facebook.com/events/1935828209971181/?ti=icl', 'https://www.facebook.com/events/1935828209971181/', 'facebook.com', '2017-09-05T10:46:45+0000', '2', '0', '2', '0', '2']\n",
      "['link', 'http://www.coventrytelegraph.net/whats-on/arts-culture-news/majestic-medieval-hall-coventrys-best-13448249', 'http://www.coventrytelegraph.net/whats-on/arts-culture-news/majestic-medieval-hall-coventrys-best-13448249', 'coventrytelegraph.net', '2017-08-14T08:56:04+0000', '9', '2', '10', '4', '16']\n",
      "['status', 'Different angle of St Michaels', '', '', '2017-08-26T09:04:35+0000', '11', '0', '12', '0', '12']\n",
      "['link', 'The Heritage Open Days are taking place from 7-10 September  with venues opening their doors and giving access to areas not normally open to the public - and now is the time to book a tour. As in previous years  there are some very interesting and unique tours taking place.   Make sure you don‚Äôt miss out on these by checking booking details online and booking your place.  Tours that need pre booking include: Medieval City Wall; BBC Coventry and Warwickshire Radio; Priory Undercroft and Visitor Centre; King Henry VIII School; Coventry Solihull Waste Disposal Ltd; and Coventry Central Library behind the scenes tour.  A Heritage Open Days brochure will be available from Council buildings  The Herbert  Coventry Cathedral and libraries from Wednesday (23 August).  For more details  visit the website www.coventry.gov.uk/hod.', 'http://www.coventry.gov.uk/hod', 'coventry.gov.uk', '2017-08-21T10:26:52+0000', '10', '0', '10', '13', '23']\n",
      "['status', 'Hi thanks to be able to share here & be part of tnis group ; Good to kbow iof yt area as going down soon with Natiomal Trust centre from Glasgow', '', '', '2017-08-17T08:36:07+0000', '1', '8', '1', '0', '9']\n",
      "['link', 'http://www.coventrytelegraph.net/whats-on/whats-on-news/future-coventrys-albany-theatre-been-13477790', 'http://www.coventrytelegraph.net/whats-on/whats-on-news/future-coventrys-albany-theatre-been-13477790', 'coventrytelegraph.net', '2017-08-17T09:14:59+0000', '8', '1', '9', '1', '11']\n",
      "['photo', 'https://www.facebook.com/peter.garbett.9/posts/1769150796433812  Sad we are loosing this museum visit it whilst you can', 'https://www.facebook.com/photo.php?fbid=1280170205424760&set=gm.1921178978100268&type=3', 'facebook.com', '2017-08-10T11:49:47+0000', '2', '1', '2', '0', '3']\n",
      "['link', 'https://www.facebook.com/CoventryPVC/posts/859986554155927', 'http://www.crowdfunder.co.uk/coventry-priory', 'crowdfunder.co.uk', '2017-08-07T21:13:46+0000', '6', '1', '6', '0', '7']\n",
      "['photo', 'Looking good in the sunshine.. https://www.facebook.com/visitcoventry.net/posts/501006916915750', 'https://www.facebook.com/visitcoventry.net/photos/a.373019843047792.1073741829.361929627490147/501006773582431/?type=3', 'facebook.com', '2017-08-06T21:25:32+0000', '8', '0', '8', '1', '9']\n",
      "['status', 'Best unique Pubs Whats your favourite pubs and why? in Coventry and surrounding areas.', '', '', '2017-07-19T08:35:49+0000', '0', '7', '0', '0', '7']\n",
      "['status', 'Thank you for letting me join your group', '', '', '2017-07-19T14:30:58+0000', '1', '1', '1', '0', '2']\n",
      "['link', 'https://www.facebook.com/theprideofwillenhall/posts/1378187435629358', 'http://www.coventrytelegraph.net/whats-on/whats-on-news/worlds-longest-inflatable-obstacle-course-13346712', 'coventrytelegraph.net', '2017-07-19T08:23:55+0000', '0', '0', '0', '0', '0']\n",
      "['link', 'https://www.facebook.com/peter.garbett.9/posts/1740635729285319  Coventry shortlisted!', 'https://coventry2021.co.uk/news/?is_mobile=1', 'coventry2021.co.uk', '2017-07-15T18:04:34+0000', '2', '0', '2', '0', '2']\n",
      "['photo', 'Nice. https://www.facebook.com/visitcoventry.net/photos/a.363722627310847.1073741828.361929627490147/489764101373365/?type=3', 'https://www.facebook.com/visitcoventry.net/photos/a.363722627310847.1073741828.361929627490147/489764101373365/?type=3', 'facebook.com', '2017-07-13T22:06:20+0000', '3', '0', '3', '0', '3']\n",
      "['photo', 'I ve always wanted to have a nose down this passageway..  https://www.facebook.com/visitcoventry.net/posts/487218148294627', 'https://www.facebook.com/visitcoventry.net/photos/a.373019843047792.1073741829.361929627490147/487215948294847/?type=3', 'facebook.com', '2017-07-09T12:21:01+0000', '11', '1', '11', '0', '12']\n",
      "['link', 'http://www.coventrytelegraph.net/whats-on/music-nightlife-news/what-godiva-festival-weather-forecast-13275038', 'http://www.coventrytelegraph.net/whats-on/music-nightlife-news/what-godiva-festival-weather-forecast-13275038', 'coventrytelegraph.net', '2017-07-08T08:39:38+0000', '1', '0', '1', '0', '1']\n",
      "['video', 'Looks like a great idea.', 'https://www.facebook.com/stmarysguildhall/videos/10156233759843475/', 'facebook.com', '2017-07-07T15:28:24+0000', '7', '0', '9', '2', '11']\n",
      "['photo', 'Lovely pic.. https://www.facebook.com/visitcoventry.net/photos/a.363722627310847.1073741828.361929627490147/483673398649102/?type=3', 'https://www.facebook.com/visitcoventry.net/photos/a.363722627310847.1073741828.361929627490147/483673398649102/?type=3', 'facebook.com', '2017-07-02T08:41:08+0000', '15', '2', '16', '1', '19']\n",
      "['status', 'What is your favourite restaurant or eatery in Coventry area?', '', '', '2017-06-29T08:55:29+0000', '3', '35', '3', '0', '38']\n",
      "['photo', 'Interesting.. https://www.facebook.com/visitcoventry.net/photos/a.363722627310847.1073741828.361929627490147/481529385530170/?type=3', 'https://www.facebook.com/visitcoventry.net/photos/a.363722627310847.1073741828.361929627490147/481529385530170/?type=3', 'facebook.com', '2017-06-29T05:32:53+0000', '9', '0', '9', '0', '9']\n",
      "['link', 'https://www.facebook.com/BerkswellWindmill/posts/1322847697832828', 'https://www.facebook.com/BerkswellWindmill/posts/1322847697832828', 'facebook.com', '2017-06-26T18:24:47+0000', '0', '0', '0', '0', '0']\n",
      "['status', 'Just saw a post about people that made me think would almost be a great motto for our fabulous city.   Let go of what s gone. Be grateful for (and save) what remains. Look forward to what is coming. ', '', '', '2017-06-25T17:17:12+0000', '4', '2', '5', '0', '7']\n",
      "['event', 'Why not make a weekend of it? It s Jaguar Super Saturday! In aid of Air Ambulance  details on joining below  if you own a Jaguar! This year there will be a  timeline  of cars from oldest to newest  many built at Browns Lane!', 'https://www.facebook.com/events/201361447045208/', 'facebook.com', '2017-06-22T19:27:54+0000', '2', '0', '2', '0', '2']\n",
      "['event', ':) we have a wonderful collection of exciting Citroen motorcars at the Museum on Sunday  if you own a Citroen you re welcome to come along with your car 10-4pm it s FREE and you may be given a leaflet about the car club! Any Citroen can come along  old or new  thank you :)', 'https://www.facebook.com/events/362084697478113/', 'facebook.com', '2017-06-22T19:23:49+0000', '1', '0', '1', '0', '1']\n",
      "['event', 'City Wall Guided Costume Tour this Saturday meeting at 2pm at Priory Visitors Centre ( behind Nando s  Trinity Street) with the Deep Fat Friar https://www.facebook.com/events/313502545772268/?ti=icl', 'https://www.facebook.com/events/313502545772268/', 'facebook.com', '2017-06-22T19:20:55+0000', '6', '0', '6', '1', '7']\n",
      "['link', 'https://www.facebook.com/BerkswellWindmill/posts/1322847697832828', 'https://www.facebook.com/BerkswellWindmill/posts/1322847697832828', 'facebook.com', '2017-06-22T16:59:56+0000', '1', '0', '1', '0', '1']\n"
     ]
    }
   ],
   "source": [
    "with open('data/Facebook.csv', mode = 'r', encoding = 'UTF-8') as csvfile:    # open up our csv file\n",
    "    reader = csv.reader(csvfile)                                         # create a reader object which looks at our csv file\n",
    "    for row in reader:                                                   # for each row the reader finds\n",
    "        print(row)                                                       # print out the current row"
   ]
  },
  {
   "cell_type": "markdown",
   "metadata": {},
   "source": [
    "Ok, each row looks like a list. But printing it out is pretty messy. We should dump this into a list of dictionaries (so we can pick out particular values)."
   ]
  },
  {
   "cell_type": "code",
   "execution_count": 20,
   "metadata": {},
   "outputs": [
    {
     "name": "stdout",
     "output_type": "stream",
     "text": [
      "{'\\ufefftype': 'status', 'post_message': 'Don t forget to post your photographs from heritage weekend  of you having a good time on here please.', 'link': '', 'link_domain': '', 'post_published': '2017-09-09T13:57:14+0000', 'likes_count_fb': '5', 'comments_count_fb': '1', 'reactions_count_fb': '5', 'shares_count_fb': '0', 'engagement_fb': '6'}\n",
      "{'\\ufefftype': 'status', 'post_message': 'If you want to learn about Historic Coventry this Saturday we will be carrying out a guided tour around the Medieval Wall of Coventry. Booking details below', 'link': '', 'link_domain': '', 'post_published': '2017-08-31T17:36:47+0000', 'likes_count_fb': '7', 'comments_count_fb': '12', 'reactions_count_fb': '7', 'shares_count_fb': '0', 'engagement_fb': '19'}\n",
      "{'\\ufefftype': 'event', 'post_message': '3 more dates for September Tours of The Medieval City Wall Below. Saturday 16th  23  rd and 30th https://www.facebook.com/events/1935828209971181/?ti=icl', 'link': 'https://www.facebook.com/events/1935828209971181/', 'link_domain': 'facebook.com', 'post_published': '2017-09-05T10:46:45+0000', 'likes_count_fb': '2', 'comments_count_fb': '0', 'reactions_count_fb': '2', 'shares_count_fb': '0', 'engagement_fb': '2'}\n",
      "{'\\ufefftype': 'link', 'post_message': 'http://www.coventrytelegraph.net/whats-on/arts-culture-news/majestic-medieval-hall-coventrys-best-13448249', 'link': 'http://www.coventrytelegraph.net/whats-on/arts-culture-news/majestic-medieval-hall-coventrys-best-13448249', 'link_domain': 'coventrytelegraph.net', 'post_published': '2017-08-14T08:56:04+0000', 'likes_count_fb': '9', 'comments_count_fb': '2', 'reactions_count_fb': '10', 'shares_count_fb': '4', 'engagement_fb': '16'}\n",
      "{'\\ufefftype': 'status', 'post_message': 'Different angle of St Michaels', 'link': '', 'link_domain': '', 'post_published': '2017-08-26T09:04:35+0000', 'likes_count_fb': '11', 'comments_count_fb': '0', 'reactions_count_fb': '12', 'shares_count_fb': '0', 'engagement_fb': '12'}\n",
      "{'\\ufefftype': 'link', 'post_message': 'The Heritage Open Days are taking place from 7-10 September  with venues opening their doors and giving access to areas not normally open to the public - and now is the time to book a tour. As in previous years  there are some very interesting and unique tours taking place.   Make sure you don‚Äôt miss out on these by checking booking details online and booking your place.  Tours that need pre booking include: Medieval City Wall; BBC Coventry and Warwickshire Radio; Priory Undercroft and Visitor Centre; King Henry VIII School; Coventry Solihull Waste Disposal Ltd; and Coventry Central Library behind the scenes tour.  A Heritage Open Days brochure will be available from Council buildings  The Herbert  Coventry Cathedral and libraries from Wednesday (23 August).  For more details  visit the website www.coventry.gov.uk/hod.', 'link': 'http://www.coventry.gov.uk/hod', 'link_domain': 'coventry.gov.uk', 'post_published': '2017-08-21T10:26:52+0000', 'likes_count_fb': '10', 'comments_count_fb': '0', 'reactions_count_fb': '10', 'shares_count_fb': '13', 'engagement_fb': '23'}\n",
      "{'\\ufefftype': 'status', 'post_message': 'Hi thanks to be able to share here & be part of tnis group ; Good to kbow iof yt area as going down soon with Natiomal Trust centre from Glasgow', 'link': '', 'link_domain': '', 'post_published': '2017-08-17T08:36:07+0000', 'likes_count_fb': '1', 'comments_count_fb': '8', 'reactions_count_fb': '1', 'shares_count_fb': '0', 'engagement_fb': '9'}\n",
      "{'\\ufefftype': 'link', 'post_message': 'http://www.coventrytelegraph.net/whats-on/whats-on-news/future-coventrys-albany-theatre-been-13477790', 'link': 'http://www.coventrytelegraph.net/whats-on/whats-on-news/future-coventrys-albany-theatre-been-13477790', 'link_domain': 'coventrytelegraph.net', 'post_published': '2017-08-17T09:14:59+0000', 'likes_count_fb': '8', 'comments_count_fb': '1', 'reactions_count_fb': '9', 'shares_count_fb': '1', 'engagement_fb': '11'}\n",
      "{'\\ufefftype': 'photo', 'post_message': 'https://www.facebook.com/peter.garbett.9/posts/1769150796433812  Sad we are loosing this museum visit it whilst you can', 'link': 'https://www.facebook.com/photo.php?fbid=1280170205424760&set=gm.1921178978100268&type=3', 'link_domain': 'facebook.com', 'post_published': '2017-08-10T11:49:47+0000', 'likes_count_fb': '2', 'comments_count_fb': '1', 'reactions_count_fb': '2', 'shares_count_fb': '0', 'engagement_fb': '3'}\n",
      "{'\\ufefftype': 'link', 'post_message': 'https://www.facebook.com/CoventryPVC/posts/859986554155927', 'link': 'http://www.crowdfunder.co.uk/coventry-priory', 'link_domain': 'crowdfunder.co.uk', 'post_published': '2017-08-07T21:13:46+0000', 'likes_count_fb': '6', 'comments_count_fb': '1', 'reactions_count_fb': '6', 'shares_count_fb': '0', 'engagement_fb': '7'}\n",
      "{'\\ufefftype': 'photo', 'post_message': 'Looking good in the sunshine.. https://www.facebook.com/visitcoventry.net/posts/501006916915750', 'link': 'https://www.facebook.com/visitcoventry.net/photos/a.373019843047792.1073741829.361929627490147/501006773582431/?type=3', 'link_domain': 'facebook.com', 'post_published': '2017-08-06T21:25:32+0000', 'likes_count_fb': '8', 'comments_count_fb': '0', 'reactions_count_fb': '8', 'shares_count_fb': '1', 'engagement_fb': '9'}\n",
      "{'\\ufefftype': 'status', 'post_message': 'Best unique Pubs Whats your favourite pubs and why? in Coventry and surrounding areas.', 'link': '', 'link_domain': '', 'post_published': '2017-07-19T08:35:49+0000', 'likes_count_fb': '0', 'comments_count_fb': '7', 'reactions_count_fb': '0', 'shares_count_fb': '0', 'engagement_fb': '7'}\n",
      "{'\\ufefftype': 'status', 'post_message': 'Thank you for letting me join your group', 'link': '', 'link_domain': '', 'post_published': '2017-07-19T14:30:58+0000', 'likes_count_fb': '1', 'comments_count_fb': '1', 'reactions_count_fb': '1', 'shares_count_fb': '0', 'engagement_fb': '2'}\n",
      "{'\\ufefftype': 'link', 'post_message': 'https://www.facebook.com/theprideofwillenhall/posts/1378187435629358', 'link': 'http://www.coventrytelegraph.net/whats-on/whats-on-news/worlds-longest-inflatable-obstacle-course-13346712', 'link_domain': 'coventrytelegraph.net', 'post_published': '2017-07-19T08:23:55+0000', 'likes_count_fb': '0', 'comments_count_fb': '0', 'reactions_count_fb': '0', 'shares_count_fb': '0', 'engagement_fb': '0'}\n",
      "{'\\ufefftype': 'link', 'post_message': 'https://www.facebook.com/peter.garbett.9/posts/1740635729285319  Coventry shortlisted!', 'link': 'https://coventry2021.co.uk/news/?is_mobile=1', 'link_domain': 'coventry2021.co.uk', 'post_published': '2017-07-15T18:04:34+0000', 'likes_count_fb': '2', 'comments_count_fb': '0', 'reactions_count_fb': '2', 'shares_count_fb': '0', 'engagement_fb': '2'}\n",
      "{'\\ufefftype': 'photo', 'post_message': 'Nice. https://www.facebook.com/visitcoventry.net/photos/a.363722627310847.1073741828.361929627490147/489764101373365/?type=3', 'link': 'https://www.facebook.com/visitcoventry.net/photos/a.363722627310847.1073741828.361929627490147/489764101373365/?type=3', 'link_domain': 'facebook.com', 'post_published': '2017-07-13T22:06:20+0000', 'likes_count_fb': '3', 'comments_count_fb': '0', 'reactions_count_fb': '3', 'shares_count_fb': '0', 'engagement_fb': '3'}\n",
      "{'\\ufefftype': 'photo', 'post_message': 'I ve always wanted to have a nose down this passageway..  https://www.facebook.com/visitcoventry.net/posts/487218148294627', 'link': 'https://www.facebook.com/visitcoventry.net/photos/a.373019843047792.1073741829.361929627490147/487215948294847/?type=3', 'link_domain': 'facebook.com', 'post_published': '2017-07-09T12:21:01+0000', 'likes_count_fb': '11', 'comments_count_fb': '1', 'reactions_count_fb': '11', 'shares_count_fb': '0', 'engagement_fb': '12'}\n",
      "{'\\ufefftype': 'link', 'post_message': 'http://www.coventrytelegraph.net/whats-on/music-nightlife-news/what-godiva-festival-weather-forecast-13275038', 'link': 'http://www.coventrytelegraph.net/whats-on/music-nightlife-news/what-godiva-festival-weather-forecast-13275038', 'link_domain': 'coventrytelegraph.net', 'post_published': '2017-07-08T08:39:38+0000', 'likes_count_fb': '1', 'comments_count_fb': '0', 'reactions_count_fb': '1', 'shares_count_fb': '0', 'engagement_fb': '1'}\n",
      "{'\\ufefftype': 'video', 'post_message': 'Looks like a great idea.', 'link': 'https://www.facebook.com/stmarysguildhall/videos/10156233759843475/', 'link_domain': 'facebook.com', 'post_published': '2017-07-07T15:28:24+0000', 'likes_count_fb': '7', 'comments_count_fb': '0', 'reactions_count_fb': '9', 'shares_count_fb': '2', 'engagement_fb': '11'}\n",
      "{'\\ufefftype': 'photo', 'post_message': 'Lovely pic.. https://www.facebook.com/visitcoventry.net/photos/a.363722627310847.1073741828.361929627490147/483673398649102/?type=3', 'link': 'https://www.facebook.com/visitcoventry.net/photos/a.363722627310847.1073741828.361929627490147/483673398649102/?type=3', 'link_domain': 'facebook.com', 'post_published': '2017-07-02T08:41:08+0000', 'likes_count_fb': '15', 'comments_count_fb': '2', 'reactions_count_fb': '16', 'shares_count_fb': '1', 'engagement_fb': '19'}\n",
      "{'\\ufefftype': 'status', 'post_message': 'What is your favourite restaurant or eatery in Coventry area?', 'link': '', 'link_domain': '', 'post_published': '2017-06-29T08:55:29+0000', 'likes_count_fb': '3', 'comments_count_fb': '35', 'reactions_count_fb': '3', 'shares_count_fb': '0', 'engagement_fb': '38'}\n",
      "{'\\ufefftype': 'photo', 'post_message': 'Interesting.. https://www.facebook.com/visitcoventry.net/photos/a.363722627310847.1073741828.361929627490147/481529385530170/?type=3', 'link': 'https://www.facebook.com/visitcoventry.net/photos/a.363722627310847.1073741828.361929627490147/481529385530170/?type=3', 'link_domain': 'facebook.com', 'post_published': '2017-06-29T05:32:53+0000', 'likes_count_fb': '9', 'comments_count_fb': '0', 'reactions_count_fb': '9', 'shares_count_fb': '0', 'engagement_fb': '9'}\n",
      "{'\\ufefftype': 'link', 'post_message': 'https://www.facebook.com/BerkswellWindmill/posts/1322847697832828', 'link': 'https://www.facebook.com/BerkswellWindmill/posts/1322847697832828', 'link_domain': 'facebook.com', 'post_published': '2017-06-26T18:24:47+0000', 'likes_count_fb': '0', 'comments_count_fb': '0', 'reactions_count_fb': '0', 'shares_count_fb': '0', 'engagement_fb': '0'}\n",
      "{'\\ufefftype': 'status', 'post_message': 'Just saw a post about people that made me think would almost be a great motto for our fabulous city.   Let go of what s gone. Be grateful for (and save) what remains. Look forward to what is coming. ', 'link': '', 'link_domain': '', 'post_published': '2017-06-25T17:17:12+0000', 'likes_count_fb': '4', 'comments_count_fb': '2', 'reactions_count_fb': '5', 'shares_count_fb': '0', 'engagement_fb': '7'}\n",
      "{'\\ufefftype': 'event', 'post_message': 'Why not make a weekend of it? It s Jaguar Super Saturday! In aid of Air Ambulance  details on joining below  if you own a Jaguar! This year there will be a  timeline  of cars from oldest to newest  many built at Browns Lane!', 'link': 'https://www.facebook.com/events/201361447045208/', 'link_domain': 'facebook.com', 'post_published': '2017-06-22T19:27:54+0000', 'likes_count_fb': '2', 'comments_count_fb': '0', 'reactions_count_fb': '2', 'shares_count_fb': '0', 'engagement_fb': '2'}\n",
      "{'\\ufefftype': 'event', 'post_message': ':) we have a wonderful collection of exciting Citroen motorcars at the Museum on Sunday  if you own a Citroen you re welcome to come along with your car 10-4pm it s FREE and you may be given a leaflet about the car club! Any Citroen can come along  old or new  thank you :)', 'link': 'https://www.facebook.com/events/362084697478113/', 'link_domain': 'facebook.com', 'post_published': '2017-06-22T19:23:49+0000', 'likes_count_fb': '1', 'comments_count_fb': '0', 'reactions_count_fb': '1', 'shares_count_fb': '0', 'engagement_fb': '1'}\n",
      "{'\\ufefftype': 'event', 'post_message': 'City Wall Guided Costume Tour this Saturday meeting at 2pm at Priory Visitors Centre ( behind Nando s  Trinity Street) with the Deep Fat Friar https://www.facebook.com/events/313502545772268/?ti=icl', 'link': 'https://www.facebook.com/events/313502545772268/', 'link_domain': 'facebook.com', 'post_published': '2017-06-22T19:20:55+0000', 'likes_count_fb': '6', 'comments_count_fb': '0', 'reactions_count_fb': '6', 'shares_count_fb': '1', 'engagement_fb': '7'}\n",
      "{'\\ufefftype': 'link', 'post_message': 'https://www.facebook.com/BerkswellWindmill/posts/1322847697832828', 'link': 'https://www.facebook.com/BerkswellWindmill/posts/1322847697832828', 'link_domain': 'facebook.com', 'post_published': '2017-06-22T16:59:56+0000', 'likes_count_fb': '1', 'comments_count_fb': '0', 'reactions_count_fb': '1', 'shares_count_fb': '0', 'engagement_fb': '1'}\n"
     ]
    }
   ],
   "source": [
    "csv_content = []                                   # create list to put our data into\n",
    "\n",
    "with open('data/Facebook.csv', mode = 'r', encoding = 'UTF-8') as csvfile:  # open up csv file\n",
    "    reader = csv.DictReader(csvfile)                                   # create a reader which will read in each row and turn it into a dictionary\n",
    "    for row in reader:                                                 # for each row\n",
    "        csv_content.append(row) \n",
    "        print(row)                                                     # put the created dictionary into our list"
   ]
  },
  {
   "cell_type": "markdown",
   "metadata": {},
   "source": [
    "Look at the first entry in csv_content."
   ]
  },
  {
   "cell_type": "code",
   "execution_count": 21,
   "metadata": {},
   "outputs": [
    {
     "data": {
      "text/plain": [
       "{'\\ufefftype': 'status',\n",
       " 'post_message': 'Don t forget to post your photographs from heritage weekend  of you having a good time on here please.',\n",
       " 'link': '',\n",
       " 'link_domain': '',\n",
       " 'post_published': '2017-09-09T13:57:14+0000',\n",
       " 'likes_count_fb': '5',\n",
       " 'comments_count_fb': '1',\n",
       " 'reactions_count_fb': '5',\n",
       " 'shares_count_fb': '0',\n",
       " 'engagement_fb': '6'}"
      ]
     },
     "execution_count": 21,
     "metadata": {},
     "output_type": "execute_result"
    }
   ],
   "source": [
    "csv_content[0]"
   ]
  },
  {
   "cell_type": "markdown",
   "metadata": {},
   "source": [
    "Dictionaries have keys. The keys method of the dictionary object will show them to us (though they are obvious from printing the first line aboe)."
   ]
  },
  {
   "cell_type": "code",
   "execution_count": 22,
   "metadata": {},
   "outputs": [
    {
     "data": {
      "text/plain": [
       "dict_keys(['\\ufefftype', 'post_message', 'link', 'link_domain', 'post_published', 'likes_count_fb', 'comments_count_fb', 'reactions_count_fb', 'shares_count_fb', 'engagement_fb'])"
      ]
     },
     "execution_count": 22,
     "metadata": {},
     "output_type": "execute_result"
    }
   ],
   "source": [
    "csv_content[0].keys()"
   ]
  },
  {
   "cell_type": "code",
   "execution_count": 23,
   "metadata": {},
   "outputs": [
    {
     "data": {
      "text/plain": [
       "'Don t forget to post your photographs from heritage weekend  of you having a good time on here please.'"
      ]
     },
     "execution_count": 23,
     "metadata": {},
     "output_type": "execute_result"
    }
   ],
   "source": [
    "csv_content[0]['post_message']"
   ]
  },
  {
   "cell_type": "markdown",
   "metadata": {},
   "source": [
    "We have a list where each list element is a dictionary. So we need to index our list each time, hence the csv_content[0].\n",
    "\n",
    "To go through our list we need to use a for loop. So, in order to get each post message."
   ]
  },
  {
   "cell_type": "code",
   "execution_count": 24,
   "metadata": {},
   "outputs": [
    {
     "name": "stdout",
     "output_type": "stream",
     "text": [
      "Don t forget to post your photographs from heritage weekend  of you having a good time on here please.\n",
      "If you want to learn about Historic Coventry this Saturday we will be carrying out a guided tour around the Medieval Wall of Coventry. Booking details below\n",
      "3 more dates for September Tours of The Medieval City Wall Below. Saturday 16th  23  rd and 30th https://www.facebook.com/events/1935828209971181/?ti=icl\n",
      "http://www.coventrytelegraph.net/whats-on/arts-culture-news/majestic-medieval-hall-coventrys-best-13448249\n",
      "Different angle of St Michaels\n",
      "The Heritage Open Days are taking place from 7-10 September  with venues opening their doors and giving access to areas not normally open to the public - and now is the time to book a tour. As in previous years  there are some very interesting and unique tours taking place.   Make sure you don‚Äôt miss out on these by checking booking details online and booking your place.  Tours that need pre booking include: Medieval City Wall; BBC Coventry and Warwickshire Radio; Priory Undercroft and Visitor Centre; King Henry VIII School; Coventry Solihull Waste Disposal Ltd; and Coventry Central Library behind the scenes tour.  A Heritage Open Days brochure will be available from Council buildings  The Herbert  Coventry Cathedral and libraries from Wednesday (23 August).  For more details  visit the website www.coventry.gov.uk/hod.\n",
      "Hi thanks to be able to share here & be part of tnis group ; Good to kbow iof yt area as going down soon with Natiomal Trust centre from Glasgow\n",
      "http://www.coventrytelegraph.net/whats-on/whats-on-news/future-coventrys-albany-theatre-been-13477790\n",
      "https://www.facebook.com/peter.garbett.9/posts/1769150796433812  Sad we are loosing this museum visit it whilst you can\n",
      "https://www.facebook.com/CoventryPVC/posts/859986554155927\n",
      "Looking good in the sunshine.. https://www.facebook.com/visitcoventry.net/posts/501006916915750\n",
      "Best unique Pubs Whats your favourite pubs and why? in Coventry and surrounding areas.\n",
      "Thank you for letting me join your group\n",
      "https://www.facebook.com/theprideofwillenhall/posts/1378187435629358\n",
      "https://www.facebook.com/peter.garbett.9/posts/1740635729285319  Coventry shortlisted!\n",
      "Nice. https://www.facebook.com/visitcoventry.net/photos/a.363722627310847.1073741828.361929627490147/489764101373365/?type=3\n",
      "I ve always wanted to have a nose down this passageway..  https://www.facebook.com/visitcoventry.net/posts/487218148294627\n",
      "http://www.coventrytelegraph.net/whats-on/music-nightlife-news/what-godiva-festival-weather-forecast-13275038\n",
      "Looks like a great idea.\n",
      "Lovely pic.. https://www.facebook.com/visitcoventry.net/photos/a.363722627310847.1073741828.361929627490147/483673398649102/?type=3\n",
      "What is your favourite restaurant or eatery in Coventry area?\n",
      "Interesting.. https://www.facebook.com/visitcoventry.net/photos/a.363722627310847.1073741828.361929627490147/481529385530170/?type=3\n",
      "https://www.facebook.com/BerkswellWindmill/posts/1322847697832828\n",
      "Just saw a post about people that made me think would almost be a great motto for our fabulous city.   Let go of what s gone. Be grateful for (and save) what remains. Look forward to what is coming. \n",
      "Why not make a weekend of it? It s Jaguar Super Saturday! In aid of Air Ambulance  details on joining below  if you own a Jaguar! This year there will be a  timeline  of cars from oldest to newest  many built at Browns Lane!\n",
      ":) we have a wonderful collection of exciting Citroen motorcars at the Museum on Sunday  if you own a Citroen you re welcome to come along with your car 10-4pm it s FREE and you may be given a leaflet about the car club! Any Citroen can come along  old or new  thank you :)\n",
      "City Wall Guided Costume Tour this Saturday meeting at 2pm at Priory Visitors Centre ( behind Nando s  Trinity Street) with the Deep Fat Friar https://www.facebook.com/events/313502545772268/?ti=icl\n",
      "https://www.facebook.com/BerkswellWindmill/posts/1322847697832828\n"
     ]
    }
   ],
   "source": [
    "for post in csv_content:\n",
    "    print(post['post_message'])"
   ]
  },
  {
   "cell_type": "markdown",
   "metadata": {},
   "source": [
    "If I want to do data science, where accessing data in a sensible way is key, then there must be a better way! There is.\n",
    "\n",
    "# Pandas\n",
    "\n",
    "The Pandas library is designed with data science in mind. You will examine it more in the coming weeks. Reading CSV files with pandas is very easy. "
   ]
  },
  {
   "cell_type": "code",
   "execution_count": 25,
   "metadata": {},
   "outputs": [],
   "source": [
    "import pandas as pd"
   ]
  },
  {
   "cell_type": "markdown",
   "metadata": {},
   "source": [
    "The import x as y is good practice. In the below code, anything with a pd. prefix comes from pandas. This is particulary useful for preventing a module from overwriting inbuilt Python functionality."
   ]
  },
  {
   "cell_type": "code",
   "execution_count": 26,
   "metadata": {},
   "outputs": [],
   "source": [
    "df = pd.read_csv('data/Facebook.csv', encoding = 'UTF-8')"
   ]
  },
  {
   "cell_type": "markdown",
   "metadata": {},
   "source": [
    "That was easy. We can even pick out specific rows."
   ]
  },
  {
   "cell_type": "code",
   "execution_count": 27,
   "metadata": {},
   "outputs": [
    {
     "data": {
      "text/plain": [
       "0     Don t forget to post your photographs from her...\n",
       "1     If you want to learn about Historic Coventry t...\n",
       "2     3 more dates for September Tours of The Mediev...\n",
       "3     http://www.coventrytelegraph.net/whats-on/arts...\n",
       "4                        Different angle of St Michaels\n",
       "5     The Heritage Open Days are taking place from 7...\n",
       "6     Hi thanks to be able to share here & be part o...\n",
       "7     http://www.coventrytelegraph.net/whats-on/what...\n",
       "8     https://www.facebook.com/peter.garbett.9/posts...\n",
       "9     https://www.facebook.com/CoventryPVC/posts/859...\n",
       "10    Looking good in the sunshine.. https://www.fac...\n",
       "11    Best unique Pubs Whats your favourite pubs and...\n",
       "12             Thank you for letting me join your group\n",
       "13    https://www.facebook.com/theprideofwillenhall/...\n",
       "14    https://www.facebook.com/peter.garbett.9/posts...\n",
       "15    Nice. https://www.facebook.com/visitcoventry.n...\n",
       "16    I ve always wanted to have a nose down this pa...\n",
       "17    http://www.coventrytelegraph.net/whats-on/musi...\n",
       "18                             Looks like a great idea.\n",
       "19    Lovely pic.. https://www.facebook.com/visitcov...\n",
       "20    What is your favourite restaurant or eatery in...\n",
       "21    Interesting.. https://www.facebook.com/visitco...\n",
       "22    https://www.facebook.com/BerkswellWindmill/pos...\n",
       "23    Just saw a post about people that made me thin...\n",
       "24    Why not make a weekend of it? It s Jaguar Supe...\n",
       "25    :) we have a wonderful collection of exciting ...\n",
       "26    City Wall Guided Costume Tour this Saturday me...\n",
       "27    https://www.facebook.com/BerkswellWindmill/pos...\n",
       "Name: post_message, dtype: object"
      ]
     },
     "execution_count": 27,
     "metadata": {},
     "output_type": "execute_result"
    }
   ],
   "source": [
    "df['post_message']"
   ]
  },
  {
   "cell_type": "markdown",
   "metadata": {},
   "source": [
    "And even look at the dataset in a pretty way."
   ]
  },
  {
   "cell_type": "code",
   "execution_count": 28,
   "metadata": {},
   "outputs": [
    {
     "data": {
      "text/html": [
       "<div>\n",
       "<style scoped>\n",
       "    .dataframe tbody tr th:only-of-type {\n",
       "        vertical-align: middle;\n",
       "    }\n",
       "\n",
       "    .dataframe tbody tr th {\n",
       "        vertical-align: top;\n",
       "    }\n",
       "\n",
       "    .dataframe thead th {\n",
       "        text-align: right;\n",
       "    }\n",
       "</style>\n",
       "<table border=\"1\" class=\"dataframe\">\n",
       "  <thead>\n",
       "    <tr style=\"text-align: right;\">\n",
       "      <th></th>\n",
       "      <th>type</th>\n",
       "      <th>post_message</th>\n",
       "      <th>link</th>\n",
       "      <th>link_domain</th>\n",
       "      <th>post_published</th>\n",
       "      <th>likes_count_fb</th>\n",
       "      <th>comments_count_fb</th>\n",
       "      <th>reactions_count_fb</th>\n",
       "      <th>shares_count_fb</th>\n",
       "      <th>engagement_fb</th>\n",
       "    </tr>\n",
       "  </thead>\n",
       "  <tbody>\n",
       "    <tr>\n",
       "      <th>0</th>\n",
       "      <td>status</td>\n",
       "      <td>Don t forget to post your photographs from her...</td>\n",
       "      <td>NaN</td>\n",
       "      <td>NaN</td>\n",
       "      <td>2017-09-09T13:57:14+0000</td>\n",
       "      <td>5</td>\n",
       "      <td>1</td>\n",
       "      <td>5</td>\n",
       "      <td>0</td>\n",
       "      <td>6</td>\n",
       "    </tr>\n",
       "    <tr>\n",
       "      <th>1</th>\n",
       "      <td>status</td>\n",
       "      <td>If you want to learn about Historic Coventry t...</td>\n",
       "      <td>NaN</td>\n",
       "      <td>NaN</td>\n",
       "      <td>2017-08-31T17:36:47+0000</td>\n",
       "      <td>7</td>\n",
       "      <td>12</td>\n",
       "      <td>7</td>\n",
       "      <td>0</td>\n",
       "      <td>19</td>\n",
       "    </tr>\n",
       "    <tr>\n",
       "      <th>2</th>\n",
       "      <td>event</td>\n",
       "      <td>3 more dates for September Tours of The Mediev...</td>\n",
       "      <td>https://www.facebook.com/events/1935828209971181/</td>\n",
       "      <td>facebook.com</td>\n",
       "      <td>2017-09-05T10:46:45+0000</td>\n",
       "      <td>2</td>\n",
       "      <td>0</td>\n",
       "      <td>2</td>\n",
       "      <td>0</td>\n",
       "      <td>2</td>\n",
       "    </tr>\n",
       "    <tr>\n",
       "      <th>3</th>\n",
       "      <td>link</td>\n",
       "      <td>http://www.coventrytelegraph.net/whats-on/arts...</td>\n",
       "      <td>http://www.coventrytelegraph.net/whats-on/arts...</td>\n",
       "      <td>coventrytelegraph.net</td>\n",
       "      <td>2017-08-14T08:56:04+0000</td>\n",
       "      <td>9</td>\n",
       "      <td>2</td>\n",
       "      <td>10</td>\n",
       "      <td>4</td>\n",
       "      <td>16</td>\n",
       "    </tr>\n",
       "    <tr>\n",
       "      <th>4</th>\n",
       "      <td>status</td>\n",
       "      <td>Different angle of St Michaels</td>\n",
       "      <td>NaN</td>\n",
       "      <td>NaN</td>\n",
       "      <td>2017-08-26T09:04:35+0000</td>\n",
       "      <td>11</td>\n",
       "      <td>0</td>\n",
       "      <td>12</td>\n",
       "      <td>0</td>\n",
       "      <td>12</td>\n",
       "    </tr>\n",
       "    <tr>\n",
       "      <th>5</th>\n",
       "      <td>link</td>\n",
       "      <td>The Heritage Open Days are taking place from 7...</td>\n",
       "      <td>http://www.coventry.gov.uk/hod</td>\n",
       "      <td>coventry.gov.uk</td>\n",
       "      <td>2017-08-21T10:26:52+0000</td>\n",
       "      <td>10</td>\n",
       "      <td>0</td>\n",
       "      <td>10</td>\n",
       "      <td>13</td>\n",
       "      <td>23</td>\n",
       "    </tr>\n",
       "    <tr>\n",
       "      <th>6</th>\n",
       "      <td>status</td>\n",
       "      <td>Hi thanks to be able to share here &amp; be part o...</td>\n",
       "      <td>NaN</td>\n",
       "      <td>NaN</td>\n",
       "      <td>2017-08-17T08:36:07+0000</td>\n",
       "      <td>1</td>\n",
       "      <td>8</td>\n",
       "      <td>1</td>\n",
       "      <td>0</td>\n",
       "      <td>9</td>\n",
       "    </tr>\n",
       "    <tr>\n",
       "      <th>7</th>\n",
       "      <td>link</td>\n",
       "      <td>http://www.coventrytelegraph.net/whats-on/what...</td>\n",
       "      <td>http://www.coventrytelegraph.net/whats-on/what...</td>\n",
       "      <td>coventrytelegraph.net</td>\n",
       "      <td>2017-08-17T09:14:59+0000</td>\n",
       "      <td>8</td>\n",
       "      <td>1</td>\n",
       "      <td>9</td>\n",
       "      <td>1</td>\n",
       "      <td>11</td>\n",
       "    </tr>\n",
       "    <tr>\n",
       "      <th>8</th>\n",
       "      <td>photo</td>\n",
       "      <td>https://www.facebook.com/peter.garbett.9/posts...</td>\n",
       "      <td>https://www.facebook.com/photo.php?fbid=128017...</td>\n",
       "      <td>facebook.com</td>\n",
       "      <td>2017-08-10T11:49:47+0000</td>\n",
       "      <td>2</td>\n",
       "      <td>1</td>\n",
       "      <td>2</td>\n",
       "      <td>0</td>\n",
       "      <td>3</td>\n",
       "    </tr>\n",
       "    <tr>\n",
       "      <th>9</th>\n",
       "      <td>link</td>\n",
       "      <td>https://www.facebook.com/CoventryPVC/posts/859...</td>\n",
       "      <td>http://www.crowdfunder.co.uk/coventry-priory</td>\n",
       "      <td>crowdfunder.co.uk</td>\n",
       "      <td>2017-08-07T21:13:46+0000</td>\n",
       "      <td>6</td>\n",
       "      <td>1</td>\n",
       "      <td>6</td>\n",
       "      <td>0</td>\n",
       "      <td>7</td>\n",
       "    </tr>\n",
       "    <tr>\n",
       "      <th>10</th>\n",
       "      <td>photo</td>\n",
       "      <td>Looking good in the sunshine.. https://www.fac...</td>\n",
       "      <td>https://www.facebook.com/visitcoventry.net/pho...</td>\n",
       "      <td>facebook.com</td>\n",
       "      <td>2017-08-06T21:25:32+0000</td>\n",
       "      <td>8</td>\n",
       "      <td>0</td>\n",
       "      <td>8</td>\n",
       "      <td>1</td>\n",
       "      <td>9</td>\n",
       "    </tr>\n",
       "    <tr>\n",
       "      <th>11</th>\n",
       "      <td>status</td>\n",
       "      <td>Best unique Pubs Whats your favourite pubs and...</td>\n",
       "      <td>NaN</td>\n",
       "      <td>NaN</td>\n",
       "      <td>2017-07-19T08:35:49+0000</td>\n",
       "      <td>0</td>\n",
       "      <td>7</td>\n",
       "      <td>0</td>\n",
       "      <td>0</td>\n",
       "      <td>7</td>\n",
       "    </tr>\n",
       "    <tr>\n",
       "      <th>12</th>\n",
       "      <td>status</td>\n",
       "      <td>Thank you for letting me join your group</td>\n",
       "      <td>NaN</td>\n",
       "      <td>NaN</td>\n",
       "      <td>2017-07-19T14:30:58+0000</td>\n",
       "      <td>1</td>\n",
       "      <td>1</td>\n",
       "      <td>1</td>\n",
       "      <td>0</td>\n",
       "      <td>2</td>\n",
       "    </tr>\n",
       "    <tr>\n",
       "      <th>13</th>\n",
       "      <td>link</td>\n",
       "      <td>https://www.facebook.com/theprideofwillenhall/...</td>\n",
       "      <td>http://www.coventrytelegraph.net/whats-on/what...</td>\n",
       "      <td>coventrytelegraph.net</td>\n",
       "      <td>2017-07-19T08:23:55+0000</td>\n",
       "      <td>0</td>\n",
       "      <td>0</td>\n",
       "      <td>0</td>\n",
       "      <td>0</td>\n",
       "      <td>0</td>\n",
       "    </tr>\n",
       "    <tr>\n",
       "      <th>14</th>\n",
       "      <td>link</td>\n",
       "      <td>https://www.facebook.com/peter.garbett.9/posts...</td>\n",
       "      <td>https://coventry2021.co.uk/news/?is_mobile=1</td>\n",
       "      <td>coventry2021.co.uk</td>\n",
       "      <td>2017-07-15T18:04:34+0000</td>\n",
       "      <td>2</td>\n",
       "      <td>0</td>\n",
       "      <td>2</td>\n",
       "      <td>0</td>\n",
       "      <td>2</td>\n",
       "    </tr>\n",
       "    <tr>\n",
       "      <th>15</th>\n",
       "      <td>photo</td>\n",
       "      <td>Nice. https://www.facebook.com/visitcoventry.n...</td>\n",
       "      <td>https://www.facebook.com/visitcoventry.net/pho...</td>\n",
       "      <td>facebook.com</td>\n",
       "      <td>2017-07-13T22:06:20+0000</td>\n",
       "      <td>3</td>\n",
       "      <td>0</td>\n",
       "      <td>3</td>\n",
       "      <td>0</td>\n",
       "      <td>3</td>\n",
       "    </tr>\n",
       "    <tr>\n",
       "      <th>16</th>\n",
       "      <td>photo</td>\n",
       "      <td>I ve always wanted to have a nose down this pa...</td>\n",
       "      <td>https://www.facebook.com/visitcoventry.net/pho...</td>\n",
       "      <td>facebook.com</td>\n",
       "      <td>2017-07-09T12:21:01+0000</td>\n",
       "      <td>11</td>\n",
       "      <td>1</td>\n",
       "      <td>11</td>\n",
       "      <td>0</td>\n",
       "      <td>12</td>\n",
       "    </tr>\n",
       "    <tr>\n",
       "      <th>17</th>\n",
       "      <td>link</td>\n",
       "      <td>http://www.coventrytelegraph.net/whats-on/musi...</td>\n",
       "      <td>http://www.coventrytelegraph.net/whats-on/musi...</td>\n",
       "      <td>coventrytelegraph.net</td>\n",
       "      <td>2017-07-08T08:39:38+0000</td>\n",
       "      <td>1</td>\n",
       "      <td>0</td>\n",
       "      <td>1</td>\n",
       "      <td>0</td>\n",
       "      <td>1</td>\n",
       "    </tr>\n",
       "    <tr>\n",
       "      <th>18</th>\n",
       "      <td>video</td>\n",
       "      <td>Looks like a great idea.</td>\n",
       "      <td>https://www.facebook.com/stmarysguildhall/vide...</td>\n",
       "      <td>facebook.com</td>\n",
       "      <td>2017-07-07T15:28:24+0000</td>\n",
       "      <td>7</td>\n",
       "      <td>0</td>\n",
       "      <td>9</td>\n",
       "      <td>2</td>\n",
       "      <td>11</td>\n",
       "    </tr>\n",
       "    <tr>\n",
       "      <th>19</th>\n",
       "      <td>photo</td>\n",
       "      <td>Lovely pic.. https://www.facebook.com/visitcov...</td>\n",
       "      <td>https://www.facebook.com/visitcoventry.net/pho...</td>\n",
       "      <td>facebook.com</td>\n",
       "      <td>2017-07-02T08:41:08+0000</td>\n",
       "      <td>15</td>\n",
       "      <td>2</td>\n",
       "      <td>16</td>\n",
       "      <td>1</td>\n",
       "      <td>19</td>\n",
       "    </tr>\n",
       "    <tr>\n",
       "      <th>20</th>\n",
       "      <td>status</td>\n",
       "      <td>What is your favourite restaurant or eatery in...</td>\n",
       "      <td>NaN</td>\n",
       "      <td>NaN</td>\n",
       "      <td>2017-06-29T08:55:29+0000</td>\n",
       "      <td>3</td>\n",
       "      <td>35</td>\n",
       "      <td>3</td>\n",
       "      <td>0</td>\n",
       "      <td>38</td>\n",
       "    </tr>\n",
       "    <tr>\n",
       "      <th>21</th>\n",
       "      <td>photo</td>\n",
       "      <td>Interesting.. https://www.facebook.com/visitco...</td>\n",
       "      <td>https://www.facebook.com/visitcoventry.net/pho...</td>\n",
       "      <td>facebook.com</td>\n",
       "      <td>2017-06-29T05:32:53+0000</td>\n",
       "      <td>9</td>\n",
       "      <td>0</td>\n",
       "      <td>9</td>\n",
       "      <td>0</td>\n",
       "      <td>9</td>\n",
       "    </tr>\n",
       "    <tr>\n",
       "      <th>22</th>\n",
       "      <td>link</td>\n",
       "      <td>https://www.facebook.com/BerkswellWindmill/pos...</td>\n",
       "      <td>https://www.facebook.com/BerkswellWindmill/pos...</td>\n",
       "      <td>facebook.com</td>\n",
       "      <td>2017-06-26T18:24:47+0000</td>\n",
       "      <td>0</td>\n",
       "      <td>0</td>\n",
       "      <td>0</td>\n",
       "      <td>0</td>\n",
       "      <td>0</td>\n",
       "    </tr>\n",
       "    <tr>\n",
       "      <th>23</th>\n",
       "      <td>status</td>\n",
       "      <td>Just saw a post about people that made me thin...</td>\n",
       "      <td>NaN</td>\n",
       "      <td>NaN</td>\n",
       "      <td>2017-06-25T17:17:12+0000</td>\n",
       "      <td>4</td>\n",
       "      <td>2</td>\n",
       "      <td>5</td>\n",
       "      <td>0</td>\n",
       "      <td>7</td>\n",
       "    </tr>\n",
       "    <tr>\n",
       "      <th>24</th>\n",
       "      <td>event</td>\n",
       "      <td>Why not make a weekend of it? It s Jaguar Supe...</td>\n",
       "      <td>https://www.facebook.com/events/201361447045208/</td>\n",
       "      <td>facebook.com</td>\n",
       "      <td>2017-06-22T19:27:54+0000</td>\n",
       "      <td>2</td>\n",
       "      <td>0</td>\n",
       "      <td>2</td>\n",
       "      <td>0</td>\n",
       "      <td>2</td>\n",
       "    </tr>\n",
       "    <tr>\n",
       "      <th>25</th>\n",
       "      <td>event</td>\n",
       "      <td>:) we have a wonderful collection of exciting ...</td>\n",
       "      <td>https://www.facebook.com/events/362084697478113/</td>\n",
       "      <td>facebook.com</td>\n",
       "      <td>2017-06-22T19:23:49+0000</td>\n",
       "      <td>1</td>\n",
       "      <td>0</td>\n",
       "      <td>1</td>\n",
       "      <td>0</td>\n",
       "      <td>1</td>\n",
       "    </tr>\n",
       "    <tr>\n",
       "      <th>26</th>\n",
       "      <td>event</td>\n",
       "      <td>City Wall Guided Costume Tour this Saturday me...</td>\n",
       "      <td>https://www.facebook.com/events/313502545772268/</td>\n",
       "      <td>facebook.com</td>\n",
       "      <td>2017-06-22T19:20:55+0000</td>\n",
       "      <td>6</td>\n",
       "      <td>0</td>\n",
       "      <td>6</td>\n",
       "      <td>1</td>\n",
       "      <td>7</td>\n",
       "    </tr>\n",
       "    <tr>\n",
       "      <th>27</th>\n",
       "      <td>link</td>\n",
       "      <td>https://www.facebook.com/BerkswellWindmill/pos...</td>\n",
       "      <td>https://www.facebook.com/BerkswellWindmill/pos...</td>\n",
       "      <td>facebook.com</td>\n",
       "      <td>2017-06-22T16:59:56+0000</td>\n",
       "      <td>1</td>\n",
       "      <td>0</td>\n",
       "      <td>1</td>\n",
       "      <td>0</td>\n",
       "      <td>1</td>\n",
       "    </tr>\n",
       "  </tbody>\n",
       "</table>\n",
       "</div>"
      ],
      "text/plain": [
       "      type                                       post_message  \\\n",
       "0   status  Don t forget to post your photographs from her...   \n",
       "1   status  If you want to learn about Historic Coventry t...   \n",
       "2    event  3 more dates for September Tours of The Mediev...   \n",
       "3     link  http://www.coventrytelegraph.net/whats-on/arts...   \n",
       "4   status                     Different angle of St Michaels   \n",
       "5     link  The Heritage Open Days are taking place from 7...   \n",
       "6   status  Hi thanks to be able to share here & be part o...   \n",
       "7     link  http://www.coventrytelegraph.net/whats-on/what...   \n",
       "8    photo  https://www.facebook.com/peter.garbett.9/posts...   \n",
       "9     link  https://www.facebook.com/CoventryPVC/posts/859...   \n",
       "10   photo  Looking good in the sunshine.. https://www.fac...   \n",
       "11  status  Best unique Pubs Whats your favourite pubs and...   \n",
       "12  status           Thank you for letting me join your group   \n",
       "13    link  https://www.facebook.com/theprideofwillenhall/...   \n",
       "14    link  https://www.facebook.com/peter.garbett.9/posts...   \n",
       "15   photo  Nice. https://www.facebook.com/visitcoventry.n...   \n",
       "16   photo  I ve always wanted to have a nose down this pa...   \n",
       "17    link  http://www.coventrytelegraph.net/whats-on/musi...   \n",
       "18   video                           Looks like a great idea.   \n",
       "19   photo  Lovely pic.. https://www.facebook.com/visitcov...   \n",
       "20  status  What is your favourite restaurant or eatery in...   \n",
       "21   photo  Interesting.. https://www.facebook.com/visitco...   \n",
       "22    link  https://www.facebook.com/BerkswellWindmill/pos...   \n",
       "23  status  Just saw a post about people that made me thin...   \n",
       "24   event  Why not make a weekend of it? It s Jaguar Supe...   \n",
       "25   event  :) we have a wonderful collection of exciting ...   \n",
       "26   event  City Wall Guided Costume Tour this Saturday me...   \n",
       "27    link  https://www.facebook.com/BerkswellWindmill/pos...   \n",
       "\n",
       "                                                 link            link_domain  \\\n",
       "0                                                 NaN                    NaN   \n",
       "1                                                 NaN                    NaN   \n",
       "2   https://www.facebook.com/events/1935828209971181/           facebook.com   \n",
       "3   http://www.coventrytelegraph.net/whats-on/arts...  coventrytelegraph.net   \n",
       "4                                                 NaN                    NaN   \n",
       "5                      http://www.coventry.gov.uk/hod        coventry.gov.uk   \n",
       "6                                                 NaN                    NaN   \n",
       "7   http://www.coventrytelegraph.net/whats-on/what...  coventrytelegraph.net   \n",
       "8   https://www.facebook.com/photo.php?fbid=128017...           facebook.com   \n",
       "9        http://www.crowdfunder.co.uk/coventry-priory      crowdfunder.co.uk   \n",
       "10  https://www.facebook.com/visitcoventry.net/pho...           facebook.com   \n",
       "11                                                NaN                    NaN   \n",
       "12                                                NaN                    NaN   \n",
       "13  http://www.coventrytelegraph.net/whats-on/what...  coventrytelegraph.net   \n",
       "14       https://coventry2021.co.uk/news/?is_mobile=1     coventry2021.co.uk   \n",
       "15  https://www.facebook.com/visitcoventry.net/pho...           facebook.com   \n",
       "16  https://www.facebook.com/visitcoventry.net/pho...           facebook.com   \n",
       "17  http://www.coventrytelegraph.net/whats-on/musi...  coventrytelegraph.net   \n",
       "18  https://www.facebook.com/stmarysguildhall/vide...           facebook.com   \n",
       "19  https://www.facebook.com/visitcoventry.net/pho...           facebook.com   \n",
       "20                                                NaN                    NaN   \n",
       "21  https://www.facebook.com/visitcoventry.net/pho...           facebook.com   \n",
       "22  https://www.facebook.com/BerkswellWindmill/pos...           facebook.com   \n",
       "23                                                NaN                    NaN   \n",
       "24   https://www.facebook.com/events/201361447045208/           facebook.com   \n",
       "25   https://www.facebook.com/events/362084697478113/           facebook.com   \n",
       "26   https://www.facebook.com/events/313502545772268/           facebook.com   \n",
       "27  https://www.facebook.com/BerkswellWindmill/pos...           facebook.com   \n",
       "\n",
       "              post_published  likes_count_fb  comments_count_fb  \\\n",
       "0   2017-09-09T13:57:14+0000               5                  1   \n",
       "1   2017-08-31T17:36:47+0000               7                 12   \n",
       "2   2017-09-05T10:46:45+0000               2                  0   \n",
       "3   2017-08-14T08:56:04+0000               9                  2   \n",
       "4   2017-08-26T09:04:35+0000              11                  0   \n",
       "5   2017-08-21T10:26:52+0000              10                  0   \n",
       "6   2017-08-17T08:36:07+0000               1                  8   \n",
       "7   2017-08-17T09:14:59+0000               8                  1   \n",
       "8   2017-08-10T11:49:47+0000               2                  1   \n",
       "9   2017-08-07T21:13:46+0000               6                  1   \n",
       "10  2017-08-06T21:25:32+0000               8                  0   \n",
       "11  2017-07-19T08:35:49+0000               0                  7   \n",
       "12  2017-07-19T14:30:58+0000               1                  1   \n",
       "13  2017-07-19T08:23:55+0000               0                  0   \n",
       "14  2017-07-15T18:04:34+0000               2                  0   \n",
       "15  2017-07-13T22:06:20+0000               3                  0   \n",
       "16  2017-07-09T12:21:01+0000              11                  1   \n",
       "17  2017-07-08T08:39:38+0000               1                  0   \n",
       "18  2017-07-07T15:28:24+0000               7                  0   \n",
       "19  2017-07-02T08:41:08+0000              15                  2   \n",
       "20  2017-06-29T08:55:29+0000               3                 35   \n",
       "21  2017-06-29T05:32:53+0000               9                  0   \n",
       "22  2017-06-26T18:24:47+0000               0                  0   \n",
       "23  2017-06-25T17:17:12+0000               4                  2   \n",
       "24  2017-06-22T19:27:54+0000               2                  0   \n",
       "25  2017-06-22T19:23:49+0000               1                  0   \n",
       "26  2017-06-22T19:20:55+0000               6                  0   \n",
       "27  2017-06-22T16:59:56+0000               1                  0   \n",
       "\n",
       "    reactions_count_fb  shares_count_fb  engagement_fb  \n",
       "0                    5                0              6  \n",
       "1                    7                0             19  \n",
       "2                    2                0              2  \n",
       "3                   10                4             16  \n",
       "4                   12                0             12  \n",
       "5                   10               13             23  \n",
       "6                    1                0              9  \n",
       "7                    9                1             11  \n",
       "8                    2                0              3  \n",
       "9                    6                0              7  \n",
       "10                   8                1              9  \n",
       "11                   0                0              7  \n",
       "12                   1                0              2  \n",
       "13                   0                0              0  \n",
       "14                   2                0              2  \n",
       "15                   3                0              3  \n",
       "16                  11                0             12  \n",
       "17                   1                0              1  \n",
       "18                   9                2             11  \n",
       "19                  16                1             19  \n",
       "20                   3                0             38  \n",
       "21                   9                0              9  \n",
       "22                   0                0              0  \n",
       "23                   5                0              7  \n",
       "24                   2                0              2  \n",
       "25                   1                0              1  \n",
       "26                   6                1              7  \n",
       "27                   1                0              1  "
      ]
     },
     "execution_count": 28,
     "metadata": {},
     "output_type": "execute_result"
    }
   ],
   "source": [
    "df"
   ]
  },
  {
   "cell_type": "markdown",
   "metadata": {},
   "source": [
    "Huzzah!\n",
    "\n",
    "A final point, pd.read_csv returns a pandas specific object with associated methods."
   ]
  },
  {
   "cell_type": "code",
   "execution_count": 29,
   "metadata": {},
   "outputs": [
    {
     "data": {
      "text/plain": [
       "pandas.core.frame.DataFrame"
      ]
     },
     "execution_count": 29,
     "metadata": {},
     "output_type": "execute_result"
    }
   ],
   "source": [
    "type(df)"
   ]
  },
  {
   "cell_type": "code",
   "execution_count": 30,
   "metadata": {},
   "outputs": [
    {
     "data": {
      "text/plain": [
       "type                  object\n",
       "post_message          object\n",
       "link                  object\n",
       "link_domain           object\n",
       "post_published        object\n",
       "likes_count_fb         int64\n",
       "comments_count_fb      int64\n",
       "reactions_count_fb     int64\n",
       "shares_count_fb        int64\n",
       "engagement_fb          int64\n",
       "dtype: object"
      ]
     },
     "execution_count": 30,
     "metadata": {},
     "output_type": "execute_result"
    }
   ],
   "source": [
    "df.dtypes"
   ]
  },
  {
   "cell_type": "markdown",
   "metadata": {},
   "source": [
    "Where int64 are integers and object here refers to strings."
   ]
  }
 ],
 "metadata": {
  "kernelspec": {
   "display_name": "Python 3",
   "language": "python",
   "name": "python3"
  },
  "language_info": {
   "codemirror_mode": {
    "name": "ipython",
    "version": 3
   },
   "file_extension": ".py",
   "mimetype": "text/x-python",
   "name": "python",
   "nbconvert_exporter": "python",
   "pygments_lexer": "ipython3",
   "version": "3.11.4"
  }
 },
 "nbformat": 4,
 "nbformat_minor": 4
}
