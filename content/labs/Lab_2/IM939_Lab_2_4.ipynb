{
 "cells": [
  {
   "cell_type": "markdown",
   "metadata": {},
   "source": [
    "---\n",
    "warning: false\n",
    "---"
   ]
  },
  {
   "cell_type": "code",
   "execution_count": 1,
   "metadata": {},
   "outputs": [],
   "source": [
    "import warnings\n",
    "warnings.filterwarnings('ignore')"
   ]
  },
  {
   "cell_type": "markdown",
   "metadata": {},
   "source": [
    "# Lab: Seaborn {#sec-seaborn}\n",
    "\n",
    "In the previous notebooks we created basic, yet fast, visualisations using `matplotlib`. In this one we will be using a different plotting library called [`Seaborn`](https://seaborn.pydata.org/). Some consider it the [`ggplot`](https://ggplot2.tidyverse.org/) of Python with excellent default setting which make your data life easier. \n",
    "\n",
    "\n",
    "## Preparations\n",
    "\n",
    "As usual, we need to load any package and data needed for our work."
   ]
  },
  {
   "cell_type": "code",
   "execution_count": 2,
   "metadata": {},
   "outputs": [],
   "source": [
    "import numpy as np\n",
    "import pandas as pd\n",
    "import seaborn as sns\n",
    "\n",
    "office_df = pd.read_csv('data/raw/office_ratings.csv', encoding='UTF-8')"
   ]
  },
  {
   "cell_type": "markdown",
   "metadata": {},
   "source": [
    "And check our data:"
   ]
  },
  {
   "cell_type": "code",
   "execution_count": null,
   "metadata": {},
   "outputs": [],
   "source": [
    "office_df.head()"
   ]
  },
  {
   "cell_type": "markdown",
   "metadata": {},
   "source": [
    "We can try to replicate the same plots as in the previous notebooks.\n",
    "\n",
    "## Scatterplots\n",
    "\n",
    "This is relatively similar to what we did in @sec-dv-bibariate, but in this case we will be using seaborn's `replot()` method."
   ]
  },
  {
   "cell_type": "code",
   "execution_count": null,
   "metadata": {},
   "outputs": [],
   "source": [
    "sns.relplot(x='total_votes', y='imdb_rating', data=office_df)"
   ]
  },
  {
   "cell_type": "markdown",
   "metadata": {},
   "source": [
    "### Dates\n",
    "\n",
    "If we want to create a scatterplot with dates, we will need to convert them to dates, too:"
   ]
  },
  {
   "cell_type": "code",
   "execution_count": null,
   "metadata": {},
   "outputs": [],
   "source": [
    "office_df['air_date'] =  pd.to_datetime(office_df['air_date'], errors='ignore')\n",
    "\n",
    "g = sns.relplot(x=\"air_date\", y=\"imdb_rating\", kind=\"scatter\", data=office_df)"
   ]
  },
  {
   "cell_type": "markdown",
   "metadata": {},
   "source": [
    "## Functions\n",
    "\n",
    "We can define our own functions. A function helps us with code we are going to run multiple times. For instance, the below function scales values between 0 and 1.\n",
    "\n",
    "Here is a modified function from [stackoverflow](https://stackoverflow.com/questions/26414913/normalize-columns-of-pandas-data-frame)."
   ]
  },
  {
   "cell_type": "code",
   "execution_count": null,
   "metadata": {},
   "outputs": [],
   "source": [
    "office_df.head()"
   ]
  },
  {
   "cell_type": "code",
   "execution_count": null,
   "metadata": {},
   "outputs": [],
   "source": [
    "def normalize(df, feature_name):\n",
    "    result = df.copy()\n",
    "    \n",
    "    max_value = df[feature_name].max()\n",
    "    min_value = df[feature_name].min()\n",
    "    \n",
    "    result[feature_name] = (df[feature_name] - min_value) / (max_value - min_value)\n",
    "    \n",
    "    return result"
   ]
  },
  {
   "cell_type": "markdown",
   "metadata": {},
   "source": [
    "Passing the dataframe and name of the column will return a dataframe with that column scaled between 0 and 1."
   ]
  },
  {
   "cell_type": "code",
   "execution_count": null,
   "metadata": {},
   "outputs": [],
   "source": [
    "normalize(office_df, 'imdb_rating')"
   ]
  },
  {
   "cell_type": "markdown",
   "metadata": {},
   "source": [
    "Replacing the origonal dataframe. We can normalize both out votes and rating."
   ]
  },
  {
   "cell_type": "code",
   "execution_count": null,
   "metadata": {},
   "outputs": [],
   "source": [
    "office_df = normalize(office_df, 'imdb_rating')"
   ]
  },
  {
   "cell_type": "code",
   "execution_count": null,
   "metadata": {},
   "outputs": [],
   "source": [
    "office_df = normalize(office_df, 'total_votes')"
   ]
  },
  {
   "cell_type": "code",
   "execution_count": null,
   "metadata": {},
   "outputs": [],
   "source": [
    "office_df"
   ]
  },
  {
   "cell_type": "markdown",
   "metadata": {},
   "source": [
    "### Long format\n",
    "\n",
    "Seaborn prefers a long format table. Details of melt can be found [here](https://pandas.pydata.org/pandas-docs/stable/reference/api/pandas.melt.html)."
   ]
  },
  {
   "cell_type": "code",
   "execution_count": 4,
   "metadata": {},
   "outputs": [
    {
     "data": {
      "text/html": [
       "<div>\n",
       "<style scoped>\n",
       "    .dataframe tbody tr th:only-of-type {\n",
       "        vertical-align: middle;\n",
       "    }\n",
       "\n",
       "    .dataframe tbody tr th {\n",
       "        vertical-align: top;\n",
       "    }\n",
       "\n",
       "    .dataframe thead th {\n",
       "        text-align: right;\n",
       "    }\n",
       "</style>\n",
       "<table border=\"1\" class=\"dataframe\">\n",
       "  <thead>\n",
       "    <tr style=\"text-align: right;\">\n",
       "      <th></th>\n",
       "      <th>season</th>\n",
       "      <th>episode</th>\n",
       "      <th>title</th>\n",
       "      <th>air_date</th>\n",
       "      <th>variable</th>\n",
       "      <th>value</th>\n",
       "    </tr>\n",
       "  </thead>\n",
       "  <tbody>\n",
       "    <tr>\n",
       "      <th>0</th>\n",
       "      <td>1</td>\n",
       "      <td>1</td>\n",
       "      <td>Pilot</td>\n",
       "      <td>2005-03-24</td>\n",
       "      <td>imdb_rating</td>\n",
       "      <td>7.6</td>\n",
       "    </tr>\n",
       "    <tr>\n",
       "      <th>1</th>\n",
       "      <td>1</td>\n",
       "      <td>2</td>\n",
       "      <td>Diversity Day</td>\n",
       "      <td>2005-03-29</td>\n",
       "      <td>imdb_rating</td>\n",
       "      <td>8.3</td>\n",
       "    </tr>\n",
       "    <tr>\n",
       "      <th>2</th>\n",
       "      <td>1</td>\n",
       "      <td>3</td>\n",
       "      <td>Health Care</td>\n",
       "      <td>2005-04-05</td>\n",
       "      <td>imdb_rating</td>\n",
       "      <td>7.9</td>\n",
       "    </tr>\n",
       "    <tr>\n",
       "      <th>3</th>\n",
       "      <td>1</td>\n",
       "      <td>4</td>\n",
       "      <td>The Alliance</td>\n",
       "      <td>2005-04-12</td>\n",
       "      <td>imdb_rating</td>\n",
       "      <td>8.1</td>\n",
       "    </tr>\n",
       "    <tr>\n",
       "      <th>4</th>\n",
       "      <td>1</td>\n",
       "      <td>5</td>\n",
       "      <td>Basketball</td>\n",
       "      <td>2005-04-19</td>\n",
       "      <td>imdb_rating</td>\n",
       "      <td>8.4</td>\n",
       "    </tr>\n",
       "    <tr>\n",
       "      <th>...</th>\n",
       "      <td>...</td>\n",
       "      <td>...</td>\n",
       "      <td>...</td>\n",
       "      <td>...</td>\n",
       "      <td>...</td>\n",
       "      <td>...</td>\n",
       "    </tr>\n",
       "    <tr>\n",
       "      <th>371</th>\n",
       "      <td>9</td>\n",
       "      <td>19</td>\n",
       "      <td>Stairmageddon</td>\n",
       "      <td>2013-04-11</td>\n",
       "      <td>total_votes</td>\n",
       "      <td>1484.0</td>\n",
       "    </tr>\n",
       "    <tr>\n",
       "      <th>372</th>\n",
       "      <td>9</td>\n",
       "      <td>20</td>\n",
       "      <td>Paper Airplane</td>\n",
       "      <td>2013-04-25</td>\n",
       "      <td>total_votes</td>\n",
       "      <td>1482.0</td>\n",
       "    </tr>\n",
       "    <tr>\n",
       "      <th>373</th>\n",
       "      <td>9</td>\n",
       "      <td>21</td>\n",
       "      <td>Livin' the Dream</td>\n",
       "      <td>2013-05-02</td>\n",
       "      <td>total_votes</td>\n",
       "      <td>2041.0</td>\n",
       "    </tr>\n",
       "    <tr>\n",
       "      <th>374</th>\n",
       "      <td>9</td>\n",
       "      <td>22</td>\n",
       "      <td>A.A.R.M.</td>\n",
       "      <td>2013-05-09</td>\n",
       "      <td>total_votes</td>\n",
       "      <td>2860.0</td>\n",
       "    </tr>\n",
       "    <tr>\n",
       "      <th>375</th>\n",
       "      <td>9</td>\n",
       "      <td>23</td>\n",
       "      <td>Finale</td>\n",
       "      <td>2013-05-16</td>\n",
       "      <td>total_votes</td>\n",
       "      <td>7934.0</td>\n",
       "    </tr>\n",
       "  </tbody>\n",
       "</table>\n",
       "<p>376 rows × 6 columns</p>\n",
       "</div>"
      ],
      "text/plain": [
       "     season  episode             title    air_date     variable   value\n",
       "0         1        1             Pilot  2005-03-24  imdb_rating     7.6\n",
       "1         1        2     Diversity Day  2005-03-29  imdb_rating     8.3\n",
       "2         1        3       Health Care  2005-04-05  imdb_rating     7.9\n",
       "3         1        4      The Alliance  2005-04-12  imdb_rating     8.1\n",
       "4         1        5        Basketball  2005-04-19  imdb_rating     8.4\n",
       "..      ...      ...               ...         ...          ...     ...\n",
       "371       9       19     Stairmageddon  2013-04-11  total_votes  1484.0\n",
       "372       9       20    Paper Airplane  2013-04-25  total_votes  1482.0\n",
       "373       9       21  Livin' the Dream  2013-05-02  total_votes  2041.0\n",
       "374       9       22          A.A.R.M.  2013-05-09  total_votes  2860.0\n",
       "375       9       23            Finale  2013-05-16  total_votes  7934.0\n",
       "\n",
       "[376 rows x 6 columns]"
      ]
     },
     "execution_count": 4,
     "metadata": {},
     "output_type": "execute_result"
    }
   ],
   "source": [
    "office_df_long=pd.melt(office_df, id_vars=['season', 'episode', 'title', 'air_date'], value_vars=['imdb_rating', 'total_votes'])\n",
    "office_df_long"
   ]
  },
  {
   "cell_type": "markdown",
   "metadata": {},
   "source": [
    "Which we can plot in seaborn like so."
   ]
  },
  {
   "cell_type": "code",
   "execution_count": 5,
   "metadata": {},
   "outputs": [
    {
     "data": {
      "text/plain": [
       "<seaborn.axisgrid.FacetGrid at 0x195c3a650>"
      ]
     },
     "execution_count": 5,
     "metadata": {},
     "output_type": "execute_result"
    },
    {
     "data": {
      "image/png": "[encoded data removed]",
      "text/plain": [
       "<Figure size 633.5x500 with 1 Axes>"
      ]
     },
     "metadata": {},
     "output_type": "display_data"
    }
   ],
   "source": [
    "sns.relplot(x='air_date', y='value', size='variable', data=office_df_long)"
   ]
  },
  {
   "cell_type": "code",
   "execution_count": null,
   "metadata": {},
   "outputs": [],
   "source": [
    "?sns.relplot"
   ]
  }
 ],
 "metadata": {
  "kernelspec": {
   "display_name": "Python 3 (ipykernel)",
   "language": "python",
   "name": "python3"
  },
  "language_info": {
   "codemirror_mode": {
    "name": "ipython",
    "version": 3
   },
   "file_extension": ".py",
   "mimetype": "text/x-python",
   "name": "python",
   "nbconvert_exporter": "python",
   "pygments_lexer": "ipython3",
   "version": "3.11.4"
  }
 },
 "nbformat": 4,
 "nbformat_minor": 4
}
