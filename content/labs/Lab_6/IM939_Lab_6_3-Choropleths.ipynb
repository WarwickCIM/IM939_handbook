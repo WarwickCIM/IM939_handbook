{
 "cells": [
  {
   "cell_type": "markdown",
   "metadata": {},
   "source": [
    "# Lab: Choropleth Maps {#sec-choropleth-maps}\n",
    "\n",
    "A visualisation often shown is a choropleth. This is a series of spatial polygons (such as states in the USA) which are coloured by a feature, like the one below. \n",
    "\n",
    "![A choropleth map showing CO2 emissions by country as compared to world average. Source [Our World in Data](https://ourworldindata.org/grapher/per-capita-co2-vs-average)](figs/per-capita-co2-vs-average.png)\n",
    "\n",
    "In this lab, we will look at creating choropleths of polling data in the recent USA election, and how maps can sometimes be deceptive (as well as how to detect -and avoid- such techniques). To do so, we will be using `geopandas` for the geospatial features, and `altair` for the maps' visualisations.\n",
    "\n",
    "::: callout-note\n",
    "### About geopandas\n",
    "\n",
    "[`geopandas`](https://geopandas.org) is a very specific and complex library that is not installed by default in Anaconda, so normally you would need to install it (and its multiple dependencies) by yourselves. If you are using the course's virtual environment, this should be installed for you the first time you set up your environment for the module. Refer to @sec-setup for instructions on how to set up your environment.\n",
    "\n",
    ":::\n",
    "\n",
    "## Data preparations\n",
    "\n",
    "We will be loading two datasets:\n",
    "\n",
    "1. `geo_states`: contains the geospatial polygons of the states in America, but does not contain any data about USA elections;\n",
    "2. `df_polls`: the polling data we used in the last notebook, but does not have any geospatial polygons (you can find more information about every variable [here](https://github.com/fivethirtyeight/data/tree/master/election-forecasts-2020)). "
   ]
  },
  {
   "cell_type": "code",
   "execution_count": null,
   "metadata": {},
   "outputs": [],
   "source": [
    "import geopandas as gpd \n",
    "import pandas as pd\n",
    "import altair as alt\n",
    "\n",
    "geo_states = gpd.read_file('data/gz_2010_us_040_00_500k.json')\n",
    "df_polls = pd.read_csv('data/presidential_poll_averages_2020.csv')"
   ]
  },
  {
   "cell_type": "markdown",
   "metadata": {},
   "source": [
    "Let's explore the data first:"
   ]
  },
  {
   "cell_type": "code",
   "execution_count": null,
   "metadata": {},
   "outputs": [],
   "source": [
    "geo_states.head()"
   ]
  },
  {
   "cell_type": "markdown",
   "metadata": {},
   "source": [
    "This seems like a regular data frame, but there's a feature that stands out from the others: `geometry`. This feature contains the coordinates thar define the polygons (or multipolygons) for every region in the map, in this case, every State in the USA. This is also an indicator that we are not using a regular dataframe, but a particular type of dataframe called `GeoDataFrame`:"
   ]
  },
  {
   "cell_type": "code",
   "execution_count": null,
   "metadata": {},
   "outputs": [],
   "source": [
    "type(geo_states)"
   ]
  },
  {
   "cell_type": "markdown",
   "metadata": {},
   "source": [
    "Because this is a geospatial dataframe, we can visualise it as a map. In this case, we are going to use Altair to create a map using the AlbersUsa projection."
   ]
  },
  {
   "cell_type": "code",
   "execution_count": null,
   "metadata": {},
   "outputs": [],
   "source": [
    "alt.Chart(geo_states, title='US states').mark_geoshape().encode(\n",
    ").properties(\n",
    "    width=500,\n",
    "    height=300\n",
    ").project(\n",
    "    type='albersUsa'\n",
    ")"
   ]
  },
  {
   "cell_type": "markdown",
   "metadata": {},
   "source": [
    "And now the polls' result:"
   ]
  },
  {
   "cell_type": "code",
   "execution_count": null,
   "metadata": {},
   "outputs": [],
   "source": [
    "df_polls"
   ]
  },
  {
   "cell_type": "markdown",
   "metadata": {},
   "source": [
    "As you can see, `modeldate` has different dates. Let's double check that:"
   ]
  },
  {
   "cell_type": "code",
   "execution_count": null,
   "metadata": {},
   "outputs": [],
   "source": [
    "df_polls.modeldate.unique()"
   ]
  },
  {
   "cell_type": "markdown",
   "metadata": {},
   "source": [
    "### Filtering\n",
    "\n",
    "That means, that we will need to filter our poll data to a specific date, in this case `11/2/2020`"
   ]
  },
  {
   "cell_type": "code",
   "execution_count": null,
   "metadata": {},
   "outputs": [],
   "source": [
    "df_nov = df_polls[\n",
    "    (df_polls.modeldate == '11/3/2020')\n",
    "]\n",
    "\n",
    "df_nov_states = df_nov[\n",
    "    (df_nov.candidate_name == 'Donald Trump') |\n",
    "    (df_nov.candidate_name == 'Joseph R. Biden Jr.')\n",
    "]\n",
    "\n",
    "df_nov_states"
   ]
  },
  {
   "cell_type": "markdown",
   "metadata": {},
   "source": [
    "### Computing percentages\n",
    "\n",
    "We want to put the percentage estimates for each candidate onto the map. First, let us create a dataframe containing the data for each candidate."
   ]
  },
  {
   "cell_type": "code",
   "execution_count": null,
   "metadata": {},
   "outputs": [],
   "source": [
    "# Create separate data frame for Trump and Biden\n",
    "trump_data = df_nov_states[\n",
    "    df_nov_states.candidate_name == 'Donald Trump'\n",
    "]\n",
    "\n",
    "biden_data = df_nov_states[\n",
    "    df_nov_states.candidate_name == 'Joseph R. Biden Jr.'\n",
    "]"
   ]
  },
  {
   "cell_type": "markdown",
   "metadata": {},
   "source": [
    "### Joining data\n",
    "\n",
    "As we have seen before, we have two datasets that partially address our needs:  `geo_states` contains the geospatial polygons of the states in America, but lacks data about USA elections; `df_polls` contains data about USA elections but lacks geometry. \n",
    "\n",
    "We will need to combine both (joining) to create a (geospatial)dataframe that contains geometry AND polling data so we can create a choropleth map capable of answering our question: _who is winning the elections?_\n",
    "\n",
    "To do so, we need to join both dataframes using a common feature. Our spatial and poll data have the name of the state in common, but their columns have different names. \n",
    "\n",
    "We could rename the columns names, and then join them with `pd.merge()` but instead, we are going to use a less destructive way.\n",
    "\n",
    "We can join the geospatial data and poll data using `pd.merge()` while providing different column names by using `left_on` for the left data (usually the geodataframe) and `right_on` for the right dataframe. We will be using this method, as it doesn't require to rename columns."
   ]
  },
  {
   "cell_type": "code",
   "execution_count": null,
   "metadata": {},
   "outputs": [],
   "source": [
    "# Add the poll data (divided in two data frames) to a single geospatial dataframe.\n",
    "geo_states_trump = geo_states.merge(\n",
    "    trump_data, left_on = 'NAME', right_on = 'state')\n",
    "\n",
    "geo_states_biden = geo_states.merge(\n",
    "    biden_data, left_on = 'NAME', right_on = 'state')"
   ]
  },
  {
   "cell_type": "code",
   "execution_count": null,
   "metadata": {},
   "outputs": [],
   "source": [
    "geo_states_trump.head()"
   ]
  },
  {
   "cell_type": "code",
   "execution_count": null,
   "metadata": {},
   "outputs": [],
   "source": [
    "geo_states_biden.head()"
   ]
  },
  {
   "cell_type": "markdown",
   "metadata": {},
   "source": [
    "Joe Biden is clearly winning. Can we make it look like he is not?"
   ]
  },
  {
   "cell_type": "markdown",
   "metadata": {},
   "source": [
    "## Data visualisation\n",
    "\n",
    "We can plot this specifying the feature to use for our colour."
   ]
  },
  {
   "cell_type": "code",
   "execution_count": null,
   "metadata": {},
   "outputs": [],
   "source": [
    "#| label: fig-default-choropleth-map\n",
    "#| fig-catption: Default Choropleth map using Altair.\n",
    "\n",
    "alt.Chart(geo_states_trump, title='Poll estimate for Donald Trump on 11/3/2020').mark_geoshape().encode(\n",
    "    color='pct_estimate',\n",
    "    tooltip=['NAME', 'pct_estimate']\n",
    ").properties(\n",
    "    width=500,\n",
    "    height=300\n",
    ").project(\n",
    "    type='albersUsa'\n",
    ")"
   ]
  },
  {
   "cell_type": "markdown",
   "metadata": {},
   "source": [
    "### Binning\n",
    "\n",
    "To smooth out any differences we can bin our data.\n",
    "\n",
    "In the case below, we will be binning based on a single value (step):"
   ]
  },
  {
   "cell_type": "code",
   "execution_count": null,
   "metadata": {},
   "outputs": [],
   "source": [
    "alt.Chart(geo_states_trump, title='Poll estimate for Donald Trump on 11/3/2020').mark_geoshape().encode(\n",
    "    alt.Color('pct_estimate', bin=alt.Bin(step=35)),\n",
    "    tooltip=['NAME', 'pct_estimate']\n",
    ").properties(\n",
    "    width=500,\n",
    "    height=300\n",
    ").project(\n",
    "    type='albersUsa'\n",
    ")"
   ]
  },
  {
   "cell_type": "markdown",
   "metadata": {},
   "source": [
    ":::callout-caution\n",
    "\n",
    "## Your turn\n",
    "\n",
    "How would you interpret the plot above? \n",
    "What would change if we change the value of the step?\n",
    "\n",
    ":::\n",
    "\n",
    "What about if we increase the binstep so we have more bins?"
   ]
  },
  {
   "cell_type": "code",
   "execution_count": null,
   "metadata": {},
   "outputs": [],
   "source": [
    "alt.Chart(geo_states_trump, title='Poll estimate for Donald Trump on 11/3/2020').mark_geoshape().encode(\n",
    "    alt.Color('pct_estimate', bin=alt.Bin(step=5)),\n",
    "    tooltip=['NAME', 'pct_estimate']\n",
    ").properties(\n",
    "    width=500,\n",
    "    height=300\n",
    ").project(\n",
    "    type='albersUsa'\n",
    ")"
   ]
  },
  {
   "cell_type": "markdown",
   "metadata": {},
   "source": [
    "::: callout-caution\n",
    "\n",
    "## Your turn\n",
    "\n",
    "Try different step sizes for the bins and consider how bins can shape our interpretation of the data. What would happen if plots with different bin sizes were placed side to side?\n",
    "\n",
    ":::\n",
    "\n",
    "\n",
    "To add further confusion, what happens when we log scale the data?"
   ]
  },
  {
   "cell_type": "code",
   "execution_count": null,
   "metadata": {},
   "outputs": [],
   "source": [
    "alt.Chart(geo_states_trump, title='Poll estimate for Donald Trump on 11/3/2020').mark_geoshape().encode(\n",
    "    alt.Color('pct_estimate', bin=alt.Bin(step=5), scale=alt.Scale(type='log')),\n",
    "    tooltip=['NAME', 'pct_estimate']\n",
    ").properties(\n",
    "    width=500,\n",
    "    height=300\n",
    ").project(\n",
    "    type='albersUsa'\n",
    ")"
   ]
  },
  {
   "cell_type": "markdown",
   "metadata": {},
   "source": [
    "vs"
   ]
  },
  {
   "cell_type": "code",
   "execution_count": null,
   "metadata": {},
   "outputs": [],
   "source": [
    "alt.Chart(geo_states_biden, title='Poll estimate for Joe Biden on 11/3/2020').mark_geoshape().encode(\n",
    "    alt.Color('pct_estimate', bin=alt.Bin(step=5), scale=alt.Scale(type='log')),\n",
    "    tooltip=['NAME', 'pct_estimate']\n",
    ").properties(\n",
    "    width=500,\n",
    "    height=300\n",
    ").project(\n",
    "    type='albersUsa'\n",
    ")"
   ]
  },
  {
   "cell_type": "markdown",
   "metadata": {},
   "source": [
    "What is happening here?!?!\n",
    "\n",
    "### Colour palettes\n",
    "\n",
    "Next up, what about the colours we use and the range of values assigned to each color? Code inspired by/taken from [here](https://colab.research.google.com/drive/1PePamFUfrgvN3ZYaN8fWfP8ovIJ0gyre#scrollTo=Poo1da-8u3cX)."
   ]
  },
  {
   "cell_type": "code",
   "execution_count": null,
   "metadata": {},
   "outputs": [],
   "source": [
    "alt.Chart(geo_states_trump, title='Poll estimate for Donal Trump on 11/3/2020').mark_geoshape().encode(\n",
    "    alt.Color('pct_estimate',\n",
    "    scale=alt.Scale(type=\"linear\",\n",
    "              domain=[10, 40, 50, 55, 60, 61, 62],\n",
    "                          range=[\"#414487\",\"#414487\",\n",
    "                                 \"#355f8d\",\"#355f8d\",\n",
    "                                 \"#2a788e\",\n",
    "                                 \"#fde725\",\"#fde725\"])),\n",
    "    tooltip=['NAME', 'pct_estimate']\n",
    ").properties(\n",
    "    width=500,\n",
    "    height=300\n",
    ").project(\n",
    "    type='albersUsa'\n",
    ")"
   ]
  },
  {
   "cell_type": "markdown",
   "metadata": {},
   "source": [
    "Compare that with"
   ]
  },
  {
   "cell_type": "code",
   "execution_count": null,
   "metadata": {},
   "outputs": [],
   "source": [
    "alt.Chart(geo_states_trump, title='Poll estimate for Donald Trump on 11/3/2020').mark_geoshape().encode(\n",
    "    alt.Color('pct_estimate',\n",
    "    scale=alt.Scale(type=\"linear\",\n",
    "              domain=[10, 20, 30, 35, 68, 70, 100],\n",
    "                          range=[\"#414487\",\"#414487\",\n",
    "                                 \"#7ad151\",\"#7ad151\",\n",
    "                                 \"#bddf26\",\n",
    "                                 \"#fde725\",\"#fde725\"])),\n",
    "    tooltip=['NAME', 'pct_estimate']\n",
    ").properties(\n",
    "    width=500,\n",
    "    height=300\n",
    ").project(\n",
    "    type='albersUsa'\n",
    ")"
   ]
  },
  {
   "cell_type": "markdown",
   "metadata": {},
   "source": [
    "### Legends\n",
    "\n",
    "My goodness! So what have we played around with?\n",
    "\n",
    "* Transforming our scale using log\n",
    "* Binning our data to smooth out variances\n",
    "* Altering our colour scheme and the ranges for each colour\n",
    "\n",
    "... what about if we remove the legend?"
   ]
  },
  {
   "cell_type": "code",
   "execution_count": null,
   "metadata": {},
   "outputs": [],
   "source": [
    "alt.Chart(geo_states_trump, title='Poll estimate for Donald Trump on 11/3/2020').mark_geoshape().encode(\n",
    "    alt.Color('pct_estimate',\n",
    "    scale=alt.Scale(type=\"linear\",\n",
    "              domain=[10, 20, 30, 35, 68, 70, 100],\n",
    "                          range=[\"#414487\",\"#414487\",\n",
    "                                 \"#7ad151\",\"#7ad151\",\n",
    "                                 \"#bddf26\",\n",
    "                                 \"#fde725\",\"#fde725\"]),\n",
    "                                 legend=None),\n",
    "    tooltip=['NAME', 'pct_estimate']\n",
    ").properties(\n",
    "    width=500,\n",
    "    height=300\n",
    ").project(\n",
    "    type='albersUsa'\n",
    ")"
   ]
  },
  {
   "cell_type": "markdown",
   "metadata": {},
   "source": [
    "Good luck trying to interpret that. Though we often see maps without legends and with questionable colour schemes on TV.\n",
    "\n",
    "::: callout-caution\n",
    "\n",
    "## Food for thought\n",
    "\n",
    "How do you think choropleths should be displayed? What information does a use need to understand the message communicated in these plots?\n",
    "\n",
    ":::"
   ]
  }
 ],
 "metadata": {
  "kernelspec": {
   "display_name": "IM939",
   "language": "python",
   "name": "python3"
  },
  "language_info": {
   "codemirror_mode": {
    "name": "ipython",
    "version": 3
   },
   "file_extension": ".py",
   "mimetype": "text/x-python",
   "name": "python",
   "nbconvert_exporter": "python",
   "pygments_lexer": "ipython3",
   "version": "3.12.4"
  }
 },
 "nbformat": 4,
 "nbformat_minor": 4
}
