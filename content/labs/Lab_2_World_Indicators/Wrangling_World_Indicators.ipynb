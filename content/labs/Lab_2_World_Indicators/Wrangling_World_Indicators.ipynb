{
 "cells": [
  {
   "cell_type": "markdown",
   "metadata": {},
   "source": [
    "# Wrangling World Indicators\n",
    "\n",
    "The data wrangled here is the World Indicators dataset [link to dataset](https://datacatalog.worldbank.org/dataset/world-development-indicators).\n",
    "\n",
    "We are going to create a smaller long format dataset.\n",
    "\n",
    "Let us load in our data."
   ]
  },
  {
   "cell_type": "code",
   "execution_count": null,
   "metadata": {},
   "outputs": [],
   "source": [
    "import pandas as pd\n",
    "df = pd.read_csv('WDI_Data.csv', encoding='UTF-8')"
   ]
  },
  {
   "cell_type": "code",
   "execution_count": null,
   "metadata": {},
   "outputs": [],
   "source": [
    "df.shape"
   ]
  },
  {
   "cell_type": "code",
   "execution_count": null,
   "metadata": {},
   "outputs": [],
   "source": [
    "df.head()"
   ]
  },
  {
   "cell_type": "markdown",
   "metadata": {},
   "source": [
    "Pick out the countries we want in our datasets."
   ]
  },
  {
   "cell_type": "code",
   "execution_count": null,
   "metadata": {},
   "outputs": [],
   "source": [
    "df_1 = df[\n",
    "    (df['Country Name'] == 'France')  | \n",
    "    (df['Country Name'] == 'Italy')   | \n",
    "    (df['Country Name'] == 'Germany') |\n",
    "    (df['Country Name'] == 'United Kingdom')\n",
    "]"
   ]
  },
  {
   "cell_type": "markdown",
   "metadata": {},
   "source": [
    "Pick out the variables."
   ]
  },
  {
   "cell_type": "code",
   "execution_count": null,
   "metadata": {},
   "outputs": [],
   "source": [
    "df_2 = df_1[\n",
    "    (df_1['Indicator Name'] == 'GDP per capita (current US$)') |\n",
    "    (df_1['Indicator Name'] == 'Imports of goods and services (current US$)') |\n",
    "    (df_1['Indicator Name'] == 'Land area (sq. km)') |\n",
    "    (df_1['Indicator Name'] == 'Life expectancy at birth, total (years)') |\n",
    "    (df_1['Indicator Name'] == 'Population in largest city') |\n",
    "    (df_1['Indicator Name'] == 'Population growth (annual %)') |\n",
    "    (df_1['Indicator Name'] == 'Primary education, duration (years)') |\n",
    "    (df_1['Indicator Name'] == 'Progression to secondary school (%)') |\n",
    "    (df_1['Indicator Name'] == 'Rural population (% of total population)') |\n",
    "    (df_1['Indicator Name'] == 'Access to electricity (% of population)') |\n",
    "    (df_1['Indicator Name'] == 'Population, total')\n",
    "]"
   ]
  },
  {
   "cell_type": "markdown",
   "metadata": {},
   "source": [
    "Generate date range"
   ]
  },
  {
   "cell_type": "code",
   "execution_count": null,
   "metadata": {},
   "outputs": [],
   "source": [
    "datetime_series = pd.Series(\n",
    "    pd.date_range(\"1960-01-01\", periods=45, freq=\"Y\")\n",
    ")\n",
    "\n",
    "dates = datetime_series.dt.strftime('%Y')"
   ]
  },
  {
   "cell_type": "markdown",
   "metadata": {},
   "source": [
    "Change data format to long. Perfect for using with Seaborn."
   ]
  },
  {
   "cell_type": "code",
   "execution_count": null,
   "metadata": {},
   "outputs": [],
   "source": [
    "df_3 = pd.melt(df_2,  \n",
    "               id_vars = ['Country Name', 'Country Code', 'Indicator Name', 'Indicator Code'],\n",
    "               value_vars = dates,\n",
    "               var_name = 'year',\n",
    "               value_name = 'value')"
   ]
  },
  {
   "cell_type": "code",
   "execution_count": null,
   "metadata": {},
   "outputs": [],
   "source": [
    "df_3"
   ]
  },
  {
   "cell_type": "markdown",
   "metadata": {},
   "source": [
    "Write out file"
   ]
  },
  {
   "cell_type": "code",
   "execution_count": null,
   "metadata": {},
   "outputs": [],
   "source": [
    "df_3.to_csv('world_indicators_long.csv')"
   ]
  },
  {
   "cell_type": "markdown",
   "metadata": {},
   "source": [
    "To make things a little easier in Pandas, we can convert the long format to wide using pivot table, and then back to a dataframe (see [this link](https://stackoverflow.com/questions/42708193/pandas-pivot-table-to-data-frame/42708606))."
   ]
  },
  {
   "cell_type": "code",
   "execution_count": null,
   "metadata": {},
   "outputs": [],
   "source": [
    "df_pivot = df_3.pivot_table(index=['Country Name', 'year'], columns = 'Indicator Name', values = ['value'])\n",
    "df_4 = pd.DataFrame(df_pivot.to_records())\n",
    "\n",
    "# clean up column names\n",
    "df_4.columns = [hdr.replace(\"('value', \", \"\").replace(\"')\", \"\").replace(\"'\", \"\") \\\n",
    "                     for hdr in df_4.columns]\n",
    "\n",
    "# remove spaces from variable names\n",
    "df_4.columns = [c.replace(' ', '_') for c in df_4.columns]"
   ]
  },
  {
   "cell_type": "code",
   "execution_count": null,
   "metadata": {},
   "outputs": [],
   "source": [
    "df_4"
   ]
  },
  {
   "cell_type": "markdown",
   "metadata": {},
   "source": [
    "Write the file out for pandas"
   ]
  },
  {
   "cell_type": "code",
   "execution_count": null,
   "metadata": {},
   "outputs": [],
   "source": [
    "df_4.to_csv('world_indicators_pandas.csv', index=False)"
   ]
  },
  {
   "cell_type": "markdown",
   "metadata": {},
   "source": [
    "# Not time series\n",
    "\n",
    "We can also look at a specific year."
   ]
  },
  {
   "cell_type": "code",
   "execution_count": null,
   "metadata": {},
   "outputs": [],
   "source": [
    "df_year = df[['Country Name', 'Country Code', 'Indicator Name', '2000']]"
   ]
  },
  {
   "cell_type": "code",
   "execution_count": null,
   "metadata": {},
   "outputs": [],
   "source": [
    "df_year = df_year[\n",
    "    (df_year['Country Name'] == 'France')  | \n",
    "    (df_year['Country Name'] == 'Italy')   | \n",
    "    (df_year['Country Name'] == 'Germany') |\n",
    "    (df_year['Country Name'] == 'Japan') |\n",
    "    (df_year['Country Name'] == 'China') |\n",
    "    (df_year['Country Name'] == 'Spain') |\n",
    "    (df_year['Country Name'] == 'USA') |\n",
    "    (df_year['Country Name'] == 'Afghanistan') |\n",
    "    (df_year['Country Name'] == 'Chile') |\n",
    "    (df_year['Country Name'] == 'Norway') |\n",
    "    (df_year['Country Name'] == 'United States') |\n",
    "    (df_year['Country Name'] == 'United Kingdom')\n",
    "]"
   ]
  },
  {
   "cell_type": "code",
   "execution_count": null,
   "metadata": {},
   "outputs": [],
   "source": [
    "df_year"
   ]
  },
  {
   "cell_type": "code",
   "execution_count": null,
   "metadata": {},
   "outputs": [],
   "source": [
    "df_year.to_csv('world_indicators_2000.csv')"
   ]
  }
 ],
 "metadata": {
  "kernelspec": {
   "display_name": "Python 3",
   "language": "python",
   "name": "python3"
  },
  "language_info": {
   "codemirror_mode": {
    "name": "ipython",
    "version": 3
   },
   "file_extension": ".py",
   "mimetype": "text/x-python",
   "name": "python",
   "nbconvert_exporter": "python",
   "pygments_lexer": "ipython3",
   "version": "3.8.3"
  }
 },
 "nbformat": 4,
 "nbformat_minor": 4
}
