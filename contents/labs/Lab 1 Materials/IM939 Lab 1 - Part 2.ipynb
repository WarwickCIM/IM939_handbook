{
 "cells": [
  {
   "cell_type": "markdown",
   "metadata": {},
   "source": [
    "# IM939 - Lab 1 - Part 2\n",
    "\n",
    "Welcome to the second part of IM939 lab 1.\n",
    "\n",
    "Here we are going to look at libraries, loading in data from a csv file, loops and functions."
   ]
  },
  {
   "cell_type": "markdown",
   "metadata": {},
   "source": [
    "## Functions\n",
    "\n",
    "How do we get the length of a list?"
   ]
  },
  {
   "cell_type": "code",
   "execution_count": 1,
   "metadata": {},
   "outputs": [
    {
     "data": {
      "text/plain": [
       "4"
      ]
     },
     "execution_count": 1,
     "metadata": {},
     "output_type": "execute_result"
    }
   ],
   "source": [
    "lunch_ingredients = ['gravy', 'potatoes', 'meat', 'veg']\n",
    "len(lunch_ingredients)"
   ]
  },
  {
   "cell_type": "markdown",
   "metadata": {},
   "source": [
    "We used a function. The syntax for a function is function_name(argument1, argument2). In our above example we passed the list lunch_ingrediants as an argument to the len function.\n",
    "\n"
   ]
  },
  {
   "cell_type": "code",
   "execution_count": 2,
   "metadata": {},
   "outputs": [],
   "source": [
    "james = {'age':35, 'hair colour': 'brown', 'Glasses': 'yes'}"
   ]
  },
  {
   "cell_type": "code",
   "execution_count": 3,
   "metadata": {},
   "outputs": [
    {
     "data": {
      "text/plain": [
       "3"
      ]
     },
     "execution_count": 3,
     "metadata": {},
     "output_type": "execute_result"
    }
   ],
   "source": [
    "len(james)"
   ]
  },
  {
   "cell_type": "markdown",
   "metadata": {},
   "source": [
    "One very useful function is to check a data type. In base R it may be obvious but when you move to libraries, with different data types, it may be worth checking."
   ]
  },
  {
   "cell_type": "code",
   "execution_count": 4,
   "metadata": {},
   "outputs": [
    {
     "data": {
      "text/plain": [
       "dict"
      ]
     },
     "execution_count": 4,
     "metadata": {},
     "output_type": "execute_result"
    }
   ],
   "source": [
    "type(james)"
   ]
  },
  {
   "cell_type": "code",
   "execution_count": 5,
   "metadata": {},
   "outputs": [
    {
     "data": {
      "text/plain": [
       "list"
      ]
     },
     "execution_count": 5,
     "metadata": {},
     "output_type": "execute_result"
    }
   ],
   "source": [
    "type(lunch_ingredients)"
   ]
  },
  {
   "cell_type": "code",
   "execution_count": 6,
   "metadata": {},
   "outputs": [
    {
     "data": {
      "text/plain": [
       "int"
      ]
     },
     "execution_count": 6,
     "metadata": {},
     "output_type": "execute_result"
    }
   ],
   "source": [
    "type(55)"
   ]
  },
  {
   "cell_type": "markdown",
   "metadata": {},
   "source": [
    "## Methods\n",
    "\n",
    "What is really happening? Well all data types in Python have functions built in. A variable is an object (a string, a list, an int, etc.). Each object has a set of methods do stuff with that object.\n",
    "\n",
    "For example, I can add a value to the lunch_ingredients list liks so"
   ]
  },
  {
   "cell_type": "code",
   "execution_count": 7,
   "metadata": {},
   "outputs": [
    {
     "data": {
      "text/plain": [
       "['gravy', 'potatoes', 'meat', 'veg', 'yorkshire pudding']"
      ]
     },
     "execution_count": 7,
     "metadata": {},
     "output_type": "execute_result"
    }
   ],
   "source": [
    "lunch_ingredients.append('yorkshire pudding')\n",
    "lunch_ingredients"
   ]
  },
  {
   "cell_type": "markdown",
   "metadata": {},
   "source": [
    "Note the objectname.method notation. By adding a yorkshire pudding, a fine addition to any meal, my lunch ingredients now number 5.\n",
    "\n",
    "I can count these easily."
   ]
  },
  {
   "cell_type": "code",
   "execution_count": 8,
   "metadata": {},
   "outputs": [
    {
     "data": {
      "text/plain": [
       "5"
      ]
     },
     "execution_count": 8,
     "metadata": {},
     "output_type": "execute_result"
    }
   ],
   "source": [
    "len(lunch_ingredients)"
   ]
  },
  {
   "cell_type": "markdown",
   "metadata": {},
   "source": [
    "Which is the same as the following."
   ]
  },
  {
   "cell_type": "code",
   "execution_count": 9,
   "metadata": {},
   "outputs": [
    {
     "data": {
      "text/plain": [
       "5"
      ]
     },
     "execution_count": 9,
     "metadata": {},
     "output_type": "execute_result"
    }
   ],
   "source": [
    "lunch_ingredients.__len__()"
   ]
  },
  {
   "cell_type": "markdown",
   "metadata": {},
   "source": [
    "You can tab complete to see what methods are available for a given object. There are quite a few [built in python functions](https://www.w3schools.com/python/python_ref_functions.asp#:~:text=Python%20Built%20in%20Functions%20%20%20%20Function,of%20an%20object%20%2036%20more%20rows%20).\n",
    "\n",
    "However, do be aware that different objects will likely have different methods. For instance, can we get a length of an int?"
   ]
  },
  {
   "cell_type": "code",
   "execution_count": 10,
   "metadata": {},
   "outputs": [
    {
     "ename": "TypeError",
     "evalue": "object of type 'int' has no len()",
     "output_type": "error",
     "traceback": [
      "\u001b[1;31m---------------------------------------------------------------------------\u001b[0m",
      "\u001b[1;31mTypeError\u001b[0m                                 Traceback (most recent call last)",
      "\u001b[1;32m<ipython-input-10-00d7b5c8c880>\u001b[0m in \u001b[0;36m<module>\u001b[1;34m\u001b[0m\n\u001b[1;32m----> 1\u001b[1;33m \u001b[0mlen\u001b[0m\u001b[1;33m(\u001b[0m\u001b[1;36m4\u001b[0m\u001b[1;33m)\u001b[0m\u001b[1;33m\u001b[0m\u001b[1;33m\u001b[0m\u001b[0m\n\u001b[0m",
      "\u001b[1;31mTypeError\u001b[0m: object of type 'int' has no len()"
     ]
    }
   ],
   "source": [
    "len(4)"
   ]
  },
  {
   "cell_type": "markdown",
   "metadata": {},
   "source": [
    "The error \"TypeError: object of type 'int' has no len()\" essentially means an int object has no __len__ [dunder method](https://medium.com/@robertbracco1/most-common-python-functions-aafdc01b71ef).\n",
    "\n",
    "To see the methods for a given object, type in the object name in a code cell, add a period '.' and press tab."
   ]
  },
  {
   "cell_type": "markdown",
   "metadata": {},
   "source": [
    "# Flow control\n",
    "\n",
    "## For loops\n",
    "\n",
    "You may need to repeat some code (such as reading lines in a csv file). For loops allow you to repeat code but with a variable changing each loop.\n",
    "\n",
    "For instance,"
   ]
  },
  {
   "cell_type": "code",
   "execution_count": 13,
   "metadata": {},
   "outputs": [
    {
     "name": "stdout",
     "output_type": "stream",
     "text": [
      "gravy\n",
      "potatoes\n",
      "meat\n",
      "veg\n",
      "yorkshire pudding\n",
      "yorkshire pudding\n"
     ]
    }
   ],
   "source": [
    "for ingredient in lunch_ingredients:\n",
    "    print(ingredient)\n",
    "    \n"
   ]
  },
  {
   "cell_type": "markdown",
   "metadata": {},
   "source": [
    "The above loop went through each ingrediant and printed it. \n",
    "\n",
    "Note the syntax and spacing. The for statement finishes with a : and the next line has a tab. For loops have to be defined like that. If you miss out the tab then you will be shown an error. It does make the code more readable though."
   ]
  },
  {
   "cell_type": "code",
   "execution_count": 14,
   "metadata": {},
   "outputs": [
    {
     "ename": "IndentationError",
     "evalue": "expected an indented block (<ipython-input-14-d27e90151ef3>, line 2)",
     "output_type": "error",
     "traceback": [
      "\u001b[1;36m  File \u001b[1;32m\"<ipython-input-14-d27e90151ef3>\"\u001b[1;36m, line \u001b[1;32m2\u001b[0m\n\u001b[1;33m    print(ingredient)\u001b[0m\n\u001b[1;37m    ^\u001b[0m\n\u001b[1;31mIndentationError\u001b[0m\u001b[1;31m:\u001b[0m expected an indented block\n"
     ]
    }
   ],
   "source": [
    "for ingredient in lunch_ingredients:\n",
    "    print(ingredient)"
   ]
  },
  {
   "cell_type": "markdown",
   "metadata": {},
   "source": [
    "At least the error is informative.\n",
    "\n",
    "We can have more than one line in the loop."
   ]
  },
  {
   "cell_type": "code",
   "execution_count": 16,
   "metadata": {},
   "outputs": [
    {
     "name": "stdout",
     "output_type": "stream",
     "text": [
      "I love to eat gravy\n",
      "food is great\n",
      "I love to eat potatoes\n",
      "food is great\n",
      "I love to eat meat\n",
      "food is great\n",
      "I love to eat veg\n",
      "food is great\n",
      "I love to eat yorkshire pudding\n",
      "food is great\n"
     ]
    }
   ],
   "source": [
    "for ingredient in lunch_ingredients:\n",
    "    print('I love to eat ' + ingredient)\n",
    "    print('food is great')\n",
    "    \n"
   ]
  },
  {
   "cell_type": "markdown",
   "metadata": {},
   "source": [
    "## If statements\n",
    "\n",
    "An if statement allows us to run different code depending on a condition. "
   ]
  },
  {
   "cell_type": "code",
   "execution_count": 18,
   "metadata": {},
   "outputs": [
    {
     "name": "stdout",
     "output_type": "stream",
     "text": [
      "Number is less than 5\n"
     ]
    }
   ],
   "source": [
    "my_num = 3\n",
    "\n",
    "if my_num > 5:\n",
    "    print('Number is bigger than 5')\n",
    "    \n",
    "if my_num < 5:\n",
    "    print('Number is less than 5')"
   ]
  },
  {
   "cell_type": "markdown",
   "metadata": {},
   "source": [
    "We can include this in a for loop."
   ]
  },
  {
   "cell_type": "code",
   "execution_count": 19,
   "metadata": {},
   "outputs": [
    {
     "name": "stdout",
     "output_type": "stream",
     "text": [
      "0\n",
      "1\n",
      "2\n",
      "3\n",
      "4\n",
      "5\n",
      "6\n",
      "7\n",
      "8\n",
      "9\n"
     ]
    }
   ],
   "source": [
    "for i in range(10): #go through each number 0:10\n",
    "    print(i)"
   ]
  },
  {
   "cell_type": "code",
   "execution_count": 22,
   "metadata": {},
   "outputs": [
    {
     "ename": "SyntaxError",
     "evalue": "invalid syntax (<ipython-input-22-bb513156d281>, line 3)",
     "output_type": "error",
     "traceback": [
      "\u001b[1;36m  File \u001b[1;32m\"<ipython-input-22-bb513156d281>\"\u001b[1;36m, line \u001b[1;32m3\u001b[0m\n\u001b[1;33m    if i = 5:\u001b[0m\n\u001b[1;37m         ^\u001b[0m\n\u001b[1;31mSyntaxError\u001b[0m\u001b[1;31m:\u001b[0m invalid syntax\n"
     ]
    }
   ],
   "source": [
    "for i in range(10):\n",
    "    print(i)\n",
    "    if i == 5:\n",
    "        print('We found a 5!')"
   ]
  },
  {
   "cell_type": "markdown",
   "metadata": {},
   "source": [
    "You can also include an else part of your if statement."
   ]
  },
  {
   "cell_type": "code",
   "execution_count": 21,
   "metadata": {},
   "outputs": [
    {
     "name": "stdout",
     "output_type": "stream",
     "text": [
      "0\n",
      "Not a 5. Boo hoo :(\n",
      "1\n",
      "Not a 5. Boo hoo :(\n",
      "2\n",
      "Not a 5. Boo hoo :(\n",
      "3\n",
      "Not a 5. Boo hoo :(\n",
      "4\n",
      "Not a 5. Boo hoo :(\n",
      "5\n",
      "We found a 5! :)\n",
      "6\n",
      "Not a 5. Boo hoo :(\n",
      "7\n",
      "Not a 5. Boo hoo :(\n",
      "8\n",
      "Not a 5. Boo hoo :(\n",
      "9\n",
      "Not a 5. Boo hoo :(\n"
     ]
    }
   ],
   "source": [
    "for i in range(10):\n",
    "    print(i)\n",
    "    if i == 5:\n",
    "        print('We found a 5! :)')\n",
    "    else:\n",
    "        print('Not a 5. Boo hoo :(')"
   ]
  },
  {
   "cell_type": "markdown",
   "metadata": {},
   "source": [
    "# Modules\n",
    "\n",
    "A module is a collection of code someone else has written(objects, methods, etc.). A library is a group of modules. In data science work you will use libraries such as numpy and scikit-learn. Anaconda has many of these libraries built in.\n",
    "\n",
    "Sometimes there are multiple ways to do something. Different libraries may have modules which have similiar functionality but slight differences.\n",
    "\n",
    "For example, lets go through a comma seperated value file to make some data accessible in Python.\n",
    "\n",
    "## CSV module"
   ]
  },
  {
   "cell_type": "code",
   "execution_count": 23,
   "metadata": {},
   "outputs": [],
   "source": [
    "import csv"
   ]
  },
  {
   "cell_type": "markdown",
   "metadata": {},
   "source": [
    "The import keyword loads in a module. Here it loads in the csv module from the inbuilt Python library (see the [Python docs on the csv module](https://docs.python.org/3/library/csv.html)).\n",
    "\n",
    "Please put the Facebook.csv file in the same folder as this notebook for this bit.\n",
    "\n",
    "The code for going through a csv file is a bit lengthy."
   ]
  },
  {
   "cell_type": "code",
   "execution_count": null,
   "metadata": {
    "scrolled": false
   },
   "outputs": [],
   "source": [
    "with open('Facebook.csv', mode = 'r', encoding = 'UTF-8') as csvfile:    # open up our csv file\n",
    "    reader = csv.reader(csvfile)                                         # create a reader object which looks at our csv file\n",
    "    for row in reader:                                                   # for each row the reader finds\n",
    "        print(row)                                                       # print out the current row"
   ]
  },
  {
   "cell_type": "markdown",
   "metadata": {},
   "source": [
    "Ok, each row looks like a list. But printing it out is pretty messy. We should dump this into a list of dictionaries (so we can pick out particular values)."
   ]
  },
  {
   "cell_type": "code",
   "execution_count": 32,
   "metadata": {},
   "outputs": [
    {
     "name": "stdout",
     "output_type": "stream",
     "text": [
      "{'\\ufefftype': 'status', 'post_message': 'Don t forget to post your photographs from heritage weekend  of you having a good time on here please.', 'link': '', 'link_domain': '', 'post_published': '2017-09-09T13:57:14+0000', 'likes_count_fb': '5', 'comments_count_fb': '1', 'reactions_count_fb': '5', 'shares_count_fb': '0', 'engagement_fb': '6'}\n",
      "{'\\ufefftype': 'status', 'post_message': 'If you want to learn about Historic Coventry this Saturday we will be carrying out a guided tour around the Medieval Wall of Coventry. Booking details below', 'link': '', 'link_domain': '', 'post_published': '2017-08-31T17:36:47+0000', 'likes_count_fb': '7', 'comments_count_fb': '12', 'reactions_count_fb': '7', 'shares_count_fb': '0', 'engagement_fb': '19'}\n",
      "{'\\ufefftype': 'event', 'post_message': '3 more dates for September Tours of The Medieval City Wall Below. Saturday 16th  23  rd and 30th https://www.facebook.com/events/1935828209971181/?ti=icl', 'link': 'https://www.facebook.com/events/1935828209971181/', 'link_domain': 'facebook.com', 'post_published': '2017-09-05T10:46:45+0000', 'likes_count_fb': '2', 'comments_count_fb': '0', 'reactions_count_fb': '2', 'shares_count_fb': '0', 'engagement_fb': '2'}\n",
      "{'\\ufefftype': 'link', 'post_message': 'http://www.coventrytelegraph.net/whats-on/arts-culture-news/majestic-medieval-hall-coventrys-best-13448249', 'link': 'http://www.coventrytelegraph.net/whats-on/arts-culture-news/majestic-medieval-hall-coventrys-best-13448249', 'link_domain': 'coventrytelegraph.net', 'post_published': '2017-08-14T08:56:04+0000', 'likes_count_fb': '9', 'comments_count_fb': '2', 'reactions_count_fb': '10', 'shares_count_fb': '4', 'engagement_fb': '16'}\n",
      "{'\\ufefftype': 'status', 'post_message': 'Different angle of St Michaels', 'link': '', 'link_domain': '', 'post_published': '2017-08-26T09:04:35+0000', 'likes_count_fb': '11', 'comments_count_fb': '0', 'reactions_count_fb': '12', 'shares_count_fb': '0', 'engagement_fb': '12'}\n",
      "{'\\ufefftype': 'link', 'post_message': 'The Heritage Open Days are taking place from 7-10 September  with venues opening their doors and giving access to areas not normally open to the public - and now is the time to book a tour. As in previous years  there are some very interesting and unique tours taking place.   Make sure you don‚Äôt miss out on these by checking booking details online and booking your place.  Tours that need pre booking include: Medieval City Wall; BBC Coventry and Warwickshire Radio; Priory Undercroft and Visitor Centre; King Henry VIII School; Coventry Solihull Waste Disposal Ltd; and Coventry Central Library behind the scenes tour.  A Heritage Open Days brochure will be available from Council buildings  The Herbert  Coventry Cathedral and libraries from Wednesday (23 August).  For more details  visit the website www.coventry.gov.uk/hod.', 'link': 'http://www.coventry.gov.uk/hod', 'link_domain': 'coventry.gov.uk', 'post_published': '2017-08-21T10:26:52+0000', 'likes_count_fb': '10', 'comments_count_fb': '0', 'reactions_count_fb': '10', 'shares_count_fb': '13', 'engagement_fb': '23'}\n",
      "{'\\ufefftype': 'status', 'post_message': 'Hi thanks to be able to share here & be part of tnis group ; Good to kbow iof yt area as going down soon with Natiomal Trust centre from Glasgow', 'link': '', 'link_domain': '', 'post_published': '2017-08-17T08:36:07+0000', 'likes_count_fb': '1', 'comments_count_fb': '8', 'reactions_count_fb': '1', 'shares_count_fb': '0', 'engagement_fb': '9'}\n",
      "{'\\ufefftype': 'link', 'post_message': 'http://www.coventrytelegraph.net/whats-on/whats-on-news/future-coventrys-albany-theatre-been-13477790', 'link': 'http://www.coventrytelegraph.net/whats-on/whats-on-news/future-coventrys-albany-theatre-been-13477790', 'link_domain': 'coventrytelegraph.net', 'post_published': '2017-08-17T09:14:59+0000', 'likes_count_fb': '8', 'comments_count_fb': '1', 'reactions_count_fb': '9', 'shares_count_fb': '1', 'engagement_fb': '11'}\n",
      "{'\\ufefftype': 'photo', 'post_message': 'https://www.facebook.com/peter.garbett.9/posts/1769150796433812  Sad we are loosing this museum visit it whilst you can', 'link': 'https://www.facebook.com/photo.php?fbid=1280170205424760&set=gm.1921178978100268&type=3', 'link_domain': 'facebook.com', 'post_published': '2017-08-10T11:49:47+0000', 'likes_count_fb': '2', 'comments_count_fb': '1', 'reactions_count_fb': '2', 'shares_count_fb': '0', 'engagement_fb': '3'}\n",
      "{'\\ufefftype': 'link', 'post_message': 'https://www.facebook.com/CoventryPVC/posts/859986554155927', 'link': 'http://www.crowdfunder.co.uk/coventry-priory', 'link_domain': 'crowdfunder.co.uk', 'post_published': '2017-08-07T21:13:46+0000', 'likes_count_fb': '6', 'comments_count_fb': '1', 'reactions_count_fb': '6', 'shares_count_fb': '0', 'engagement_fb': '7'}\n",
      "{'\\ufefftype': 'photo', 'post_message': 'Looking good in the sunshine.. https://www.facebook.com/visitcoventry.net/posts/501006916915750', 'link': 'https://www.facebook.com/visitcoventry.net/photos/a.373019843047792.1073741829.361929627490147/501006773582431/?type=3', 'link_domain': 'facebook.com', 'post_published': '2017-08-06T21:25:32+0000', 'likes_count_fb': '8', 'comments_count_fb': '0', 'reactions_count_fb': '8', 'shares_count_fb': '1', 'engagement_fb': '9'}\n",
      "{'\\ufefftype': 'status', 'post_message': 'Best unique Pubs Whats your favourite pubs and why? in Coventry and surrounding areas.', 'link': '', 'link_domain': '', 'post_published': '2017-07-19T08:35:49+0000', 'likes_count_fb': '0', 'comments_count_fb': '7', 'reactions_count_fb': '0', 'shares_count_fb': '0', 'engagement_fb': '7'}\n",
      "{'\\ufefftype': 'status', 'post_message': 'Thank you for letting me join your group', 'link': '', 'link_domain': '', 'post_published': '2017-07-19T14:30:58+0000', 'likes_count_fb': '1', 'comments_count_fb': '1', 'reactions_count_fb': '1', 'shares_count_fb': '0', 'engagement_fb': '2'}\n",
      "{'\\ufefftype': 'link', 'post_message': 'https://www.facebook.com/theprideofwillenhall/posts/1378187435629358', 'link': 'http://www.coventrytelegraph.net/whats-on/whats-on-news/worlds-longest-inflatable-obstacle-course-13346712', 'link_domain': 'coventrytelegraph.net', 'post_published': '2017-07-19T08:23:55+0000', 'likes_count_fb': '0', 'comments_count_fb': '0', 'reactions_count_fb': '0', 'shares_count_fb': '0', 'engagement_fb': '0'}\n",
      "{'\\ufefftype': 'link', 'post_message': 'https://www.facebook.com/peter.garbett.9/posts/1740635729285319  Coventry shortlisted!', 'link': 'https://coventry2021.co.uk/news/?is_mobile=1', 'link_domain': 'coventry2021.co.uk', 'post_published': '2017-07-15T18:04:34+0000', 'likes_count_fb': '2', 'comments_count_fb': '0', 'reactions_count_fb': '2', 'shares_count_fb': '0', 'engagement_fb': '2'}\n",
      "{'\\ufefftype': 'photo', 'post_message': 'Nice. https://www.facebook.com/visitcoventry.net/photos/a.363722627310847.1073741828.361929627490147/489764101373365/?type=3', 'link': 'https://www.facebook.com/visitcoventry.net/photos/a.363722627310847.1073741828.361929627490147/489764101373365/?type=3', 'link_domain': 'facebook.com', 'post_published': '2017-07-13T22:06:20+0000', 'likes_count_fb': '3', 'comments_count_fb': '0', 'reactions_count_fb': '3', 'shares_count_fb': '0', 'engagement_fb': '3'}\n",
      "{'\\ufefftype': 'photo', 'post_message': 'I ve always wanted to have a nose down this passageway..  https://www.facebook.com/visitcoventry.net/posts/487218148294627', 'link': 'https://www.facebook.com/visitcoventry.net/photos/a.373019843047792.1073741829.361929627490147/487215948294847/?type=3', 'link_domain': 'facebook.com', 'post_published': '2017-07-09T12:21:01+0000', 'likes_count_fb': '11', 'comments_count_fb': '1', 'reactions_count_fb': '11', 'shares_count_fb': '0', 'engagement_fb': '12'}\n",
      "{'\\ufefftype': 'link', 'post_message': 'http://www.coventrytelegraph.net/whats-on/music-nightlife-news/what-godiva-festival-weather-forecast-13275038', 'link': 'http://www.coventrytelegraph.net/whats-on/music-nightlife-news/what-godiva-festival-weather-forecast-13275038', 'link_domain': 'coventrytelegraph.net', 'post_published': '2017-07-08T08:39:38+0000', 'likes_count_fb': '1', 'comments_count_fb': '0', 'reactions_count_fb': '1', 'shares_count_fb': '0', 'engagement_fb': '1'}\n",
      "{'\\ufefftype': 'video', 'post_message': 'Looks like a great idea.', 'link': 'https://www.facebook.com/stmarysguildhall/videos/10156233759843475/', 'link_domain': 'facebook.com', 'post_published': '2017-07-07T15:28:24+0000', 'likes_count_fb': '7', 'comments_count_fb': '0', 'reactions_count_fb': '9', 'shares_count_fb': '2', 'engagement_fb': '11'}\n",
      "{'\\ufefftype': 'photo', 'post_message': 'Lovely pic.. https://www.facebook.com/visitcoventry.net/photos/a.363722627310847.1073741828.361929627490147/483673398649102/?type=3', 'link': 'https://www.facebook.com/visitcoventry.net/photos/a.363722627310847.1073741828.361929627490147/483673398649102/?type=3', 'link_domain': 'facebook.com', 'post_published': '2017-07-02T08:41:08+0000', 'likes_count_fb': '15', 'comments_count_fb': '2', 'reactions_count_fb': '16', 'shares_count_fb': '1', 'engagement_fb': '19'}\n",
      "{'\\ufefftype': 'status', 'post_message': 'What is your favourite restaurant or eatery in Coventry area?', 'link': '', 'link_domain': '', 'post_published': '2017-06-29T08:55:29+0000', 'likes_count_fb': '3', 'comments_count_fb': '35', 'reactions_count_fb': '3', 'shares_count_fb': '0', 'engagement_fb': '38'}\n",
      "{'\\ufefftype': 'photo', 'post_message': 'Interesting.. https://www.facebook.com/visitcoventry.net/photos/a.363722627310847.1073741828.361929627490147/481529385530170/?type=3', 'link': 'https://www.facebook.com/visitcoventry.net/photos/a.363722627310847.1073741828.361929627490147/481529385530170/?type=3', 'link_domain': 'facebook.com', 'post_published': '2017-06-29T05:32:53+0000', 'likes_count_fb': '9', 'comments_count_fb': '0', 'reactions_count_fb': '9', 'shares_count_fb': '0', 'engagement_fb': '9'}\n",
      "{'\\ufefftype': 'link', 'post_message': 'https://www.facebook.com/BerkswellWindmill/posts/1322847697832828', 'link': 'https://www.facebook.com/BerkswellWindmill/posts/1322847697832828', 'link_domain': 'facebook.com', 'post_published': '2017-06-26T18:24:47+0000', 'likes_count_fb': '0', 'comments_count_fb': '0', 'reactions_count_fb': '0', 'shares_count_fb': '0', 'engagement_fb': '0'}\n",
      "{'\\ufefftype': 'status', 'post_message': 'Just saw a post about people that made me think would almost be a great motto for our fabulous city.   Let go of what s gone. Be grateful for (and save) what remains. Look forward to what is coming. ', 'link': '', 'link_domain': '', 'post_published': '2017-06-25T17:17:12+0000', 'likes_count_fb': '4', 'comments_count_fb': '2', 'reactions_count_fb': '5', 'shares_count_fb': '0', 'engagement_fb': '7'}\n",
      "{'\\ufefftype': 'event', 'post_message': 'Why not make a weekend of it? It s Jaguar Super Saturday! In aid of Air Ambulance  details on joining below  if you own a Jaguar! This year there will be a  timeline  of cars from oldest to newest  many built at Browns Lane!', 'link': 'https://www.facebook.com/events/201361447045208/', 'link_domain': 'facebook.com', 'post_published': '2017-06-22T19:27:54+0000', 'likes_count_fb': '2', 'comments_count_fb': '0', 'reactions_count_fb': '2', 'shares_count_fb': '0', 'engagement_fb': '2'}\n",
      "{'\\ufefftype': 'event', 'post_message': ':) we have a wonderful collection of exciting Citroen motorcars at the Museum on Sunday  if you own a Citroen you re welcome to come along with your car 10-4pm it s FREE and you may be given a leaflet about the car club! Any Citroen can come along  old or new  thank you :)', 'link': 'https://www.facebook.com/events/362084697478113/', 'link_domain': 'facebook.com', 'post_published': '2017-06-22T19:23:49+0000', 'likes_count_fb': '1', 'comments_count_fb': '0', 'reactions_count_fb': '1', 'shares_count_fb': '0', 'engagement_fb': '1'}\n",
      "{'\\ufefftype': 'event', 'post_message': 'City Wall Guided Costume Tour this Saturday meeting at 2pm at Priory Visitors Centre ( behind Nando s  Trinity Street) with the Deep Fat Friar https://www.facebook.com/events/313502545772268/?ti=icl', 'link': 'https://www.facebook.com/events/313502545772268/', 'link_domain': 'facebook.com', 'post_published': '2017-06-22T19:20:55+0000', 'likes_count_fb': '6', 'comments_count_fb': '0', 'reactions_count_fb': '6', 'shares_count_fb': '1', 'engagement_fb': '7'}\n",
      "{'\\ufefftype': 'link', 'post_message': 'https://www.facebook.com/BerkswellWindmill/posts/1322847697832828', 'link': 'https://www.facebook.com/BerkswellWindmill/posts/1322847697832828', 'link_domain': 'facebook.com', 'post_published': '2017-06-22T16:59:56+0000', 'likes_count_fb': '1', 'comments_count_fb': '0', 'reactions_count_fb': '1', 'shares_count_fb': '0', 'engagement_fb': '1'}\n"
     ]
    }
   ],
   "source": [
    "csv_content = []                                   # create list to put our data into\n",
    "\n",
    "with open('Facebook.csv', mode = 'r', encoding = 'UTF-8') as csvfile:  # open up csv file\n",
    "    reader = csv.DictReader(csvfile)                                   # create a reader which will read in each row and turn it into a dictionary\n",
    "    for row in reader:                                                 # for each row\n",
    "        csv_content.append(row) \n",
    "        print(row)                                                     # put the created dictionary into our list"
   ]
  },
  {
   "cell_type": "markdown",
   "metadata": {},
   "source": [
    "Look at the first entry in csv_content."
   ]
  },
  {
   "cell_type": "code",
   "execution_count": 26,
   "metadata": {},
   "outputs": [
    {
     "data": {
      "text/plain": [
       "{'ï»¿type': 'status',\n",
       " 'post_message': 'Don t forget to post your photographs from heritage weekend  of you having a good time on here please.',\n",
       " 'link': '',\n",
       " 'link_domain': '',\n",
       " 'post_published': '2017-09-09T13:57:14+0000',\n",
       " 'likes_count_fb': '5',\n",
       " 'comments_count_fb': '1',\n",
       " 'reactions_count_fb': '5',\n",
       " 'shares_count_fb': '0',\n",
       " 'engagement_fb': '6'}"
      ]
     },
     "execution_count": 26,
     "metadata": {},
     "output_type": "execute_result"
    }
   ],
   "source": [
    "csv_content[0]"
   ]
  },
  {
   "cell_type": "markdown",
   "metadata": {},
   "source": [
    "Dictionaries have keys. The keys method of the dictionary object will show them to us (though they are obvious from printing the first line aboe)."
   ]
  },
  {
   "cell_type": "code",
   "execution_count": 27,
   "metadata": {},
   "outputs": [
    {
     "data": {
      "text/plain": [
       "dict_keys(['ï»¿type', 'post_message', 'link', 'link_domain', 'post_published', 'likes_count_fb', 'comments_count_fb', 'reactions_count_fb', 'shares_count_fb', 'engagement_fb'])"
      ]
     },
     "execution_count": 27,
     "metadata": {},
     "output_type": "execute_result"
    }
   ],
   "source": [
    "csv_content[0].keys()"
   ]
  },
  {
   "cell_type": "code",
   "execution_count": 28,
   "metadata": {},
   "outputs": [
    {
     "data": {
      "text/plain": [
       "'Don t forget to post your photographs from heritage weekend  of you having a good time on here please.'"
      ]
     },
     "execution_count": 28,
     "metadata": {},
     "output_type": "execute_result"
    }
   ],
   "source": [
    "csv_content[0]['post_message']"
   ]
  },
  {
   "cell_type": "markdown",
   "metadata": {},
   "source": [
    "We have a list where each list element is a dictionary. So we need to index our list each time, hence the csv_content[0].\n",
    "\n",
    "To go through our list we need to use a for loop. So, in order to get each post message."
   ]
  },
  {
   "cell_type": "code",
   "execution_count": null,
   "metadata": {},
   "outputs": [],
   "source": [
    "for post in csv_content:\n",
    "    print(post['post_message'])"
   ]
  },
  {
   "cell_type": "markdown",
   "metadata": {},
   "source": [
    "If I want to do data science, where accessing data in a sensible way is key, then there must be a better way! There is.\n",
    "\n",
    "# Pandas\n",
    "\n",
    "The Pandas library is designed with data science in mind. You will examine it more in the coming weeks. Reading CSV files with pandas is very easy. "
   ]
  },
  {
   "cell_type": "code",
   "execution_count": 3,
   "metadata": {},
   "outputs": [],
   "source": [
    "import pandas as pd"
   ]
  },
  {
   "cell_type": "markdown",
   "metadata": {},
   "source": [
    "The import x as y is good practice. In the below code, anything with a pd. prefix comes from pandas. This is particulary useful for preventing a module from overwriting inbuilt Python functionality."
   ]
  },
  {
   "cell_type": "code",
   "execution_count": 4,
   "metadata": {},
   "outputs": [],
   "source": [
    "d = pd.read_csv('Facebook.csv', encoding = 'UTF-8')"
   ]
  },
  {
   "cell_type": "markdown",
   "metadata": {},
   "source": [
    "That was easy. We can even pick out specific rows."
   ]
  },
  {
   "cell_type": "code",
   "execution_count": null,
   "metadata": {},
   "outputs": [],
   "source": [
    "d['post_message']"
   ]
  },
  {
   "cell_type": "markdown",
   "metadata": {},
   "source": [
    "And even look at the dataset in a pretty way."
   ]
  },
  {
   "cell_type": "code",
   "execution_count": null,
   "metadata": {},
   "outputs": [],
   "source": [
    "d"
   ]
  },
  {
   "cell_type": "markdown",
   "metadata": {},
   "source": [
    "Huzzah!\n",
    "\n",
    "A final point, pd.read_csv returns a pandas specific object with associated methods."
   ]
  },
  {
   "cell_type": "code",
   "execution_count": 37,
   "metadata": {},
   "outputs": [
    {
     "data": {
      "text/plain": [
       "pandas.core.frame.DataFrame"
      ]
     },
     "execution_count": 37,
     "metadata": {},
     "output_type": "execute_result"
    }
   ],
   "source": [
    "type(d)"
   ]
  },
  {
   "cell_type": "code",
   "execution_count": 38,
   "metadata": {},
   "outputs": [
    {
     "data": {
      "text/plain": [
       "type                  object\n",
       "post_message          object\n",
       "link                  object\n",
       "link_domain           object\n",
       "post_published        object\n",
       "likes_count_fb         int64\n",
       "comments_count_fb      int64\n",
       "reactions_count_fb     int64\n",
       "shares_count_fb        int64\n",
       "engagement_fb          int64\n",
       "dtype: object"
      ]
     },
     "execution_count": 38,
     "metadata": {},
     "output_type": "execute_result"
    }
   ],
   "source": [
    "d.dtypes"
   ]
  },
  {
   "cell_type": "markdown",
   "metadata": {},
   "source": [
    "Where int64 are integers and object here refers to strings."
   ]
  }
 ],
 "metadata": {
  "kernelspec": {
   "display_name": "Python 3",
   "language": "python",
   "name": "python3"
  },
  "language_info": {
   "codemirror_mode": {
    "name": "ipython",
    "version": 3
   },
   "file_extension": ".py",
   "mimetype": "text/x-python",
   "name": "python",
   "nbconvert_exporter": "python",
   "pygments_lexer": "ipython3",
   "version": "3.8.3"
  }
 },
 "nbformat": 4,
 "nbformat_minor": 4
}
