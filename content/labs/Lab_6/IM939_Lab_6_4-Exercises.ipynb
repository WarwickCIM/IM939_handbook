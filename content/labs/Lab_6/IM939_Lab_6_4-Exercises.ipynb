{
 "cells": [
  {
   "cell_type": "markdown",
   "metadata": {},
   "source": [
    "# IM939 - Lab 6 - Part 4 - Exercise\n",
    "\n",
    "We have covered a lot of visualisations in the lab today.\n",
    "\n",
    "For this exercise you should:\n",
    "\n",
    "1. Identity a trend in your data. For instance, the higher poll scores for a presidential candidate in a particular state.\n",
    "2. Create a visualisation which communicates that trend well. Consider why it is a good visualisation. Could someone else misunderstand the visualisation?\n",
    "3. Create another visualisation. The goal of the second visualisation is to be intentionally misleading.\n",
    "\n",
    "Please work on this in the same groups as the exercises in the previous weeks. There are sections below which are to guide you. Feel free to disregard these if you want to work another way.\n",
    "\n",
    "You can use any dataset from this or previous weeks. Also, feel free to explore new datasets from FiveThirtyFive, the sklean datasets or the UCI machine learning datasets.\n",
    "\n",
    "You may find the following helpful:\n",
    "\n",
    "* [Altair examples](https://altair-viz.github.io/gallery/). In general, the Altair documentation can be tricky to understand. I tend to follow the examples or google round for solutions.\n",
    "* [Seaborn examples](https://seaborn.pydata.org/examples/index.html).\n"
   ]
  },
  {
   "cell_type": "markdown",
   "metadata": {},
   "source": [
    "Load in your libraries and datasets"
   ]
  },
  {
   "cell_type": "code",
   "execution_count": 1,
   "metadata": {},
   "outputs": [],
   "source": []
  },
  {
   "cell_type": "markdown",
   "metadata": {},
   "source": [
    "Subset or clean your data"
   ]
  },
  {
   "cell_type": "code",
   "execution_count": 2,
   "metadata": {},
   "outputs": [],
   "source": []
  },
  {
   "cell_type": "markdown",
   "metadata": {},
   "source": [
    "Carry out an analysis if required. E.g., are you running a PCA or other dimension reduction, or a linear regression to plot?"
   ]
  },
  {
   "cell_type": "code",
   "execution_count": 3,
   "metadata": {},
   "outputs": [],
   "source": []
  },
  {
   "cell_type": "markdown",
   "metadata": {},
   "source": [
    "Create a visualisation which clearly show the trend you would like to show in your data."
   ]
  },
  {
   "cell_type": "code",
   "execution_count": 4,
   "metadata": {},
   "outputs": [],
   "source": []
  },
  {
   "cell_type": "markdown",
   "metadata": {},
   "source": [
    "Why did you choose this visualisation? Do you think other will clearly see the trend you have identified?"
   ]
  },
  {
   "cell_type": "markdown",
   "metadata": {},
   "source": []
  },
  {
   "cell_type": "markdown",
   "metadata": {},
   "source": [
    "Create a visualisation of this trend which you think will mislead the user?"
   ]
  },
  {
   "cell_type": "code",
   "execution_count": 5,
   "metadata": {},
   "outputs": [],
   "source": []
  },
  {
   "cell_type": "markdown",
   "metadata": {},
   "source": [
    "How do you think this will mislead the user?"
   ]
  },
  {
   "cell_type": "markdown",
   "metadata": {},
   "source": []
  }
 ],
 "metadata": {
  "kernelspec": {
   "display_name": "Python 3",
   "language": "python",
   "name": "python3"
  },
  "language_info": {
   "codemirror_mode": {
    "name": "ipython",
    "version": 3
   },
   "file_extension": ".py",
   "mimetype": "text/x-python",
   "name": "python",
   "nbconvert_exporter": "python",
   "pygments_lexer": "ipython3",
   "version": "3.11.4"
  }
 },
 "nbformat": 4,
 "nbformat_minor": 4
}
