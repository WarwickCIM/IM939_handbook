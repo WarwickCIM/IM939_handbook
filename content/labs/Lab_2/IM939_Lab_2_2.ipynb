{
 "cells": [
  {
   "cell_type": "code",
   "execution_count": null,
   "metadata": {},
   "outputs": [],
   "source": [
    "#| echo: false\n",
    "\n",
    "import warnings\n",
    "warnings.filterwarnings('ignore')"
   ]
  },
  {
   "cell_type": "markdown",
   "metadata": {},
   "source": [
    "# Lab: Visualising Data {#sec-pandas-datavis}\n",
    "\n",
    "In the previous chapter we started exploring some data by using some methods such as `describe`, `info`, `head`, `shape`... However, it is usually far easier to look at trends in data by creating plots. \n",
    "\n",
    "In this chapter we will be using `pandas`' built-in visualisation capabilities via [`matplotlib`](https://matplotlib.org/) to create some basic (but quick!) data visualisations from the _The Office_ dataset. We will be using these visualisations on the next chapter, whereas on @sec-seaborn we will use another plotting library to create customised visualisations.\n",
    "\n",
    "## Starting\n",
    "\n",
    "As usual, we will be starting by loading the required libraries and dataset(s):"
   ]
  },
  {
   "cell_type": "code",
   "execution_count": null,
   "metadata": {},
   "outputs": [],
   "source": [
    "import pandas as pd\n",
    "\n",
    "# This following is a small change that will make sure that the plots are created in a particular \"style\". \n",
    "# The following will mimic the famous \"ggplot\" style that is popular in the R coding realm.\n",
    "# There are many other default styles -- https://matplotlib.org/stable/gallery/style_sheets/index.html\n",
    "# feel free to change 'ggplot' in the line below and recreate the plots, see how things look\n",
    "\n",
    "import matplotlib.pyplot as plt\n",
    "plt.style.use('ggplot')\n",
    "\n",
    "df = pd.read_csv('data/raw/office_ratings.csv', encoding='UTF-8')"
   ]
  },
  {
   "cell_type": "code",
   "execution_count": null,
   "metadata": {},
   "outputs": [],
   "source": [
    "# Check our dataset.\n",
    "df.head()"
   ]
  },
  {
   "cell_type": "markdown",
   "metadata": {},
   "source": [
    "## Univariate plots - a single variable\n",
    "\n",
    "Univariate plots are a great way to see trends. We will create them using  `plot` method."
   ]
  },
  {
   "cell_type": "code",
   "execution_count": null,
   "metadata": {},
   "outputs": [],
   "source": [
    "# Read the documentation to understand how to use plot.\n",
    "?df.plot"
   ]
  },
  {
   "cell_type": "markdown",
   "metadata": {},
   "source": [
    "We can use `plot` to quicky visualise every variable[^variables] in the dataset.\n",
    "\n",
    "[^variables]: Actually this may not be accurate. Are you missing any column? Can you guess why are they missing?"
   ]
  },
  {
   "cell_type": "code",
   "execution_count": null,
   "metadata": {},
   "outputs": [],
   "source": [
    "# Create a plot for every variable in the dataset\n",
    "df.plot()"
   ]
  },
  {
   "cell_type": "markdown",
   "metadata": {},
   "source": [
    "Some of the variables look rather funny. It's not a great idea to work with just the defaults here where all the variables are embedded in a single plot.\n",
    "\n",
    "We can look at a specific column and that is always more helpful."
   ]
  },
  {
   "cell_type": "code",
   "execution_count": null,
   "metadata": {},
   "outputs": [],
   "source": [
    "# Visualise a column and add a title.\n",
    "df['total_votes'].plot(title='Total Votes')"
   ]
  },
  {
   "cell_type": "markdown",
   "metadata": {},
   "source": [
    "### Subplots\n",
    "\n",
    "We can also create subplots, where every variable is plotted individually and put next to the others, while sharing the axis."
   ]
  },
  {
   "cell_type": "code",
   "execution_count": null,
   "metadata": {},
   "outputs": [],
   "source": [
    "df.plot(subplots=True)"
   ]
  },
  {
   "cell_type": "markdown",
   "metadata": {},
   "source": [
    "Season and episode is not at all informative here. \n",
    "\n",
    "Think about why. Why are these plots less useful? The \"defaults\" -- in this case, simply running the plot() function can only get you so far. You will need to have a good reason why you want to create a plot and what you expect to learn from them. And the next thing to ask is what kind of plot is most useful?"
   ]
  },
  {
   "cell_type": "code",
   "execution_count": null,
   "metadata": {},
   "outputs": [],
   "source": [
    "df[['imdb_rating', 'total_votes']].plot(subplots=True)"
   ]
  },
  {
   "cell_type": "markdown",
   "metadata": {},
   "source": [
    "### Histograms\n",
    "\n",
    "Often times, instead of seeing the actual values we may be interested in seeing how they are distributed. This is known as a [histogram](https://en.wikipedia.org/wiki/Histogram), and we can create them by changing the plot type using the `kind` argument:"
   ]
  },
  {
   "cell_type": "code",
   "execution_count": null,
   "metadata": {},
   "outputs": [],
   "source": [
    "df[['imdb_rating', 'total_votes']].plot(subplots=True, kind='hist')"
   ]
  },
  {
   "cell_type": "markdown",
   "metadata": {},
   "source": [
    "Unfortunatly, since subplots share axes, our x axis is bunched up. The above tells us that the all our IMDB ratings are between 0 and a little less than 1000... not useful.\n",
    "\n",
    "Probably best to plot them individually."
   ]
  },
  {
   "cell_type": "code",
   "execution_count": null,
   "metadata": {},
   "outputs": [],
   "source": [
    "df[['imdb_rating']].plot(kind='hist', title = \"Ratings per episode\")"
   ]
  },
  {
   "cell_type": "markdown",
   "metadata": {},
   "source": [
    "Quite a sensible gaussian shape (a central point with the frequency decreasing symmetrically)."
   ]
  },
  {
   "cell_type": "code",
   "execution_count": null,
   "metadata": {},
   "outputs": [],
   "source": [
    "df[['total_votes']].plot(kind='hist', title= \"Total votes per episode\")"
   ]
  },
  {
   "cell_type": "markdown",
   "metadata": {},
   "source": [
    "A positively skewed distribution - many smaller values and very few high values."
   ]
  },
  {
   "cell_type": "markdown",
   "metadata": {},
   "source": [
    "## Bivariate - Two variables {#sec-dv-bibariate}\n",
    "\n",
    "Sometimes, instead of visualising variables individually, we may want to see them in relation to others, so we can identify possible correlations. **Scatter plots** are simple ways to explore the relationship between two variables, where one is displayed on the `X` axis and the other one in the `Y` axis.\n",
    "\n",
    "We may want to see if the number of votes and the imdb rating are not independent events. In other words, we want to know if these two data variables are related. We will be creating a scatterplot using the following syntax: `<object>.plot(x = \"<variable1>\", y = \"<variable2>\", kind = \"scatter\")`"
   ]
  },
  {
   "cell_type": "code",
   "execution_count": null,
   "metadata": {},
   "outputs": [],
   "source": [
    "# Create a scatterplot\n",
    "df.plot(x='imdb_rating', y='total_votes', kind='scatter', title='IMDB ratings and total number of votes')"
   ]
  },
  {
   "cell_type": "markdown",
   "metadata": {},
   "source": [
    "That is really interesting. The episodes with the highest rating also have the greatest number of votes. There was a cleary a great outpouring of happiness there.\n",
    "\n",
    "::: {.callout-caution collapse=\"true\"}\n",
    "### Which episodes were the most voted?\n",
    "\n",
    "\n",
    "As seen previously, There are three chapters which received more than 5,000 votes, so we could filter our dataset and see which were those chapters:"
   ]
  },
  {
   "cell_type": "code",
   "execution_count": null,
   "metadata": {},
   "outputs": [],
   "source": [
    "df[df['total_votes'] > 5000]"
   ]
  },
  {
   "cell_type": "markdown",
   "metadata": {},
   "source": [
    ":::"
   ]
  },
  {
   "cell_type": "markdown",
   "metadata": {},
   "source": [
    "Excellent. We may want to know if there's any influence of season on the ratings:"
   ]
  },
  {
   "cell_type": "code",
   "execution_count": null,
   "metadata": {},
   "outputs": [],
   "source": [
    "df.plot(x='season', y='imdb_rating', kind='scatter', title='IMDB ratings and season')"
   ]
  },
  {
   "cell_type": "markdown",
   "metadata": {},
   "source": [
    "Season 8 seems to be a bit low. But nothing too extreme."
   ]
  },
  {
   "cell_type": "markdown",
   "metadata": {},
   "source": [
    "## Dates\n",
    "\n",
    "Our data contains air date information. Currently, that column is `object` or a string."
   ]
  },
  {
   "cell_type": "code",
   "execution_count": null,
   "metadata": {},
   "outputs": [],
   "source": [
    "df.head()"
   ]
  },
  {
   "cell_type": "code",
   "execution_count": null,
   "metadata": {},
   "outputs": [],
   "source": [
    "df.dtypes"
   ]
  },
  {
   "cell_type": "markdown",
   "metadata": {},
   "source": [
    "We know this is not accurate, so we can set this to be datetime instead by using the method `datetime`. That will help us plot the time series of the data."
   ]
  },
  {
   "cell_type": "code",
   "execution_count": null,
   "metadata": {},
   "outputs": [],
   "source": [
    "# Convert air_date to a date.\n",
    "df['air_date2'] =  pd.to_datetime(df['air_date'])\n",
    "\n",
    "# Check the result\n",
    "df.dtypes"
   ]
  },
  {
   "cell_type": "code",
   "execution_count": null,
   "metadata": {},
   "outputs": [],
   "source": [
    "df.plot(x = 'air_date2', y = 'total_votes', kind='scatter')"
   ]
  },
  {
   "cell_type": "markdown",
   "metadata": {},
   "source": [
    "::: callout-caution\n",
    "\n",
    "### The importance of using the right data type\n",
    "\n",
    "Can you spot any difference when trying to plot a date that is not stored as a date data type?"
   ]
  },
  {
   "cell_type": "code",
   "execution_count": null,
   "metadata": {},
   "outputs": [],
   "source": [
    "df.plot(x = 'air_date', y = 'total_votes', kind='scatter')"
   ]
  },
  {
   "cell_type": "markdown",
   "metadata": {},
   "source": [
    "Right, this is probably not what we would expect!\n",
    ":::"
   ]
  },
  {
   "cell_type": "markdown",
   "metadata": {},
   "source": [
    "We can look at multiple variables using subplots."
   ]
  },
  {
   "cell_type": "code",
   "execution_count": null,
   "metadata": {},
   "outputs": [],
   "source": [
    "df[['air_date2', 'total_votes', 'imdb_rating']].plot(\n",
    "    x = 'air_date2', subplots=True)"
   ]
  },
  {
   "cell_type": "markdown",
   "metadata": {},
   "source": [
    "## Multivariate\n",
    "\n",
    "Our dataset is quite simple. But we can look at two variables (`total_votes`, `imdb_rating`) by a third one (`season`), used as grouping."
   ]
  },
  {
   "cell_type": "code",
   "execution_count": null,
   "metadata": {},
   "outputs": [],
   "source": [
    "df.groupby('season').plot(\n",
    "    kind='scatter', y = 'total_votes', x = 'imdb_rating')"
   ]
  },
  {
   "cell_type": "markdown",
   "metadata": {},
   "source": [
    "There is a lot more you can do with plots with Pandas and Matplotlib. A good resource is the [visualisation section of the pandas documentation](https://pandas.pydata.org/docs/user_guide/visualization.html#basic-plotting-plot)."
   ]
  },
  {
   "attachments": {},
   "cell_type": "markdown",
   "metadata": {},
   "source": [
    "## How to make good decisions on choosing suitable visualisations?\n",
    "\n",
    "This is a difficult question to cover quickly. We are running whole modules on that as you know. However, it is very important to ask yourself first what you want to see, what are you trying to find out. The next step then to think about suitable charts that can help you answer that question and to also think about what the data is, is it a categorical data feature that you are trying to visualise, or a temporal feature that has some time stamps associated with it, or is it just numbers?\n",
    "\n",
    "There are lots of good guidance available to help you navigate these decisions. One of the very useful resources is the [Visual Vocabulary of the Financial Times](https://ft-interactive.github.io/visual-vocabulary/): \n",
    "\n",
    ":::{.column-page}\n",
    "\n",
    "![FT's Visual Vocabulary](img/financialTimesVisualVocab.png)\n",
    "\n",
    ":::\n",
    "\n",
    "See a high-res version of the graphic above is here: <https://github.com/Financial-Times/chart-doctor/tree/main/visual-vocabulary>\n"
   ]
  }
 ],
 "metadata": {
  "kernelspec": {
   "display_name": "Python 3 (ipykernel)",
   "language": "python",
   "name": "python3"
  },
  "language_info": {
   "codemirror_mode": {
    "name": "ipython",
    "version": 3
   },
   "file_extension": ".py",
   "mimetype": "text/x-python",
   "name": "python",
   "nbconvert_exporter": "python",
   "pygments_lexer": "ipython3",
   "version": "3.12.4"
  }
 },
 "nbformat": 4,
 "nbformat_minor": 4
}
