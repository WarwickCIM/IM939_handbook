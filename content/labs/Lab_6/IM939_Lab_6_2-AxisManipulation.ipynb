{
 "cells": [
  {
   "cell_type": "markdown",
   "metadata": {},
   "source": [
    "# Lab: Axes manipulation {#sec-axes-manipulation}\n",
    "\n",
    "One way to create potentially misleading visualisations is by manipulating the axes of a plot. Here we illustrate these using one of the FiveThirtyEight data sets, which are available [here](https://data.fivethirtyeight.com).\n",
    "\n",
    "## Data wrangling\n",
    "\n",
    "We are going to use polls from the recent USA presidential election. As before, we load and examine the data."
   ]
  },
  {
   "cell_type": "code",
   "execution_count": null,
   "metadata": {},
   "outputs": [],
   "source": [
    "import pandas as pd \n",
    "import seaborn as sns\n",
    "import altair as alt \n",
    "\n",
    "df_polls = pd.read_csv('data/presidential_poll_averages_2020.csv')\n",
    "df_polls.head()"
   ]
  },
  {
   "cell_type": "markdown",
   "metadata": {},
   "source": [
    "For our analysis, we are going to pick estimates from 11/3/2020 for the swing states of Florida, Texas, Arizona, Michigan, Minnesota and Pennsylvania."
   ]
  },
  {
   "cell_type": "code",
   "execution_count": null,
   "metadata": {},
   "outputs": [],
   "source": [
    "df_nov = df_polls[\n",
    "    (df_polls.modeldate == '11/3/2020')\n",
    "]\n",
    "\n",
    "df_nov = df_nov[\n",
    "    (df_nov.candidate_name == 'Joseph R. Biden Jr.') |\n",
    "    (df_nov.candidate_name == 'Donald Trump')\n",
    "]\n",
    "\n",
    "df_swing = df_nov[\n",
    "    (df_nov['state'] == 'Florida') |\n",
    "    (df_nov['state'] == 'Texas' ) |\n",
    "    (df_nov['state'] == 'Arizona' ) |\n",
    "    (df_nov['state'] == 'Michigan' ) |\n",
    "    (df_nov['state'] == 'Minnesota' ) |\n",
    "    (df_nov['state'] == 'Pennsylvania' ) \n",
    "]\n",
    "\n",
    "df_swing"
   ]
  },
  {
   "cell_type": "markdown",
   "metadata": {},
   "source": [
    "## Default barplot\n",
    "\n",
    "We can look at the relative performance of the candidates within each state using a nested bar plot."
   ]
  },
  {
   "cell_type": "code",
   "execution_count": null,
   "metadata": {},
   "outputs": [],
   "source": [
    "ax = sns.barplot(\n",
    "    data = df_swing, \n",
    "    x = 'state', \n",
    "    y = 'pct_estimate', \n",
    "    hue = 'candidate_name')"
   ]
  },
  {
   "cell_type": "markdown",
   "metadata": {},
   "source": [
    "## Altering the axes\n",
    "\n",
    "Altering the axis increases the distance between the bars. Some might say that is misleading."
   ]
  },
  {
   "cell_type": "code",
   "execution_count": null,
   "metadata": {},
   "outputs": [],
   "source": [
    "ax = sns.barplot(\n",
    "    data = df_swing, \n",
    "    x = 'state', \n",
    "    y = 'pct_estimate', \n",
    "    hue = 'candidate_name')\n",
    "\n",
    "ax.set(ylim=(41, 52))"
   ]
  },
  {
   "cell_type": "markdown",
   "metadata": {},
   "source": [
    "What do you think?\n",
    "\n",
    "How about if we instead put the data on the full 0 to 100 scale?"
   ]
  },
  {
   "cell_type": "code",
   "execution_count": null,
   "metadata": {},
   "outputs": [],
   "source": [
    "ax = sns.barplot(\n",
    "    data = df_swing, \n",
    "    x = 'state', \n",
    "    y = 'pct_estimate', \n",
    "    hue = 'candidate_name')\n",
    "\n",
    "ax.set(ylim=(0, 100))"
   ]
  },
  {
   "cell_type": "markdown",
   "metadata": {},
   "source": [
    "We can do the same thing in Altair."
   ]
  },
  {
   "cell_type": "code",
   "execution_count": null,
   "metadata": {},
   "outputs": [],
   "source": [
    "alt.Chart(df_swing).mark_bar().encode(\n",
    "    x='candidate_name',\n",
    "    y='pct_estimate',\n",
    "    color='candidate_name',\n",
    "    column = alt.Column('state:O', spacing = 5, header = alt.Header(labelOrient = \"bottom\")),\n",
    ")"
   ]
  },
  {
   "cell_type": "markdown",
   "metadata": {},
   "source": [
    "Note the need for the alt column. What happens if you do not provide an alt column?\n",
    "\n",
    "Passing the domain option to the scale of the Y axis allows us to choose the y axis range."
   ]
  },
  {
   "cell_type": "code",
   "execution_count": null,
   "metadata": {},
   "outputs": [],
   "source": [
    "alt.Chart(df_swing).mark_bar().encode(\n",
    "    x='candidate_name',\n",
    "    y=alt.Y('pct_estimate', scale=alt.Scale(domain=[42,53])),\n",
    "    color='candidate_name',\n",
    "    column = alt.Column('state:O', spacing = 5, header = alt.Header(labelOrient = \"bottom\")),\n",
    ")"
   ]
  },
  {
   "cell_type": "markdown",
   "metadata": {},
   "source": [
    "## Altering the proportions\n",
    "\n",
    "We can even be a bit tricky and stretch out the difference."
   ]
  },
  {
   "cell_type": "code",
   "execution_count": null,
   "metadata": {},
   "outputs": [],
   "source": [
    "alt.Chart(df_swing).mark_bar().encode(\n",
    "    x='candidate_name',\n",
    "    y=alt.Y('pct_estimate', scale=alt.Scale(domain=[42,53])),\n",
    "    color='candidate_name',\n",
    "    column = alt.Column('state:O', spacing = 5, header = alt.Header(labelOrient = \"bottom\")),\n",
    ").properties(\n",
    "    width=20,\n",
    "    height=600\n",
    ")"
   ]
  },
  {
   "cell_type": "markdown",
   "metadata": {},
   "source": [
    "## Default line plot\n",
    "\n",
    "It is not just bar plot that you can have fun with. Line plots are another interesting example.\n",
    "\n",
    "For our simple line plot, we will need the poll data for a single state."
   ]
  },
  {
   "cell_type": "code",
   "execution_count": null,
   "metadata": {},
   "outputs": [],
   "source": [
    "df_texas = df_polls[\n",
    "    df_polls['state'] == 'Texas'\n",
    "]\n",
    "\n",
    "df_texas_bt = df_texas[\n",
    "    (df_texas['candidate_name'] == 'Donald Trump') |\n",
    "    (df_texas['candidate_name'] == 'Joseph R. Biden Jr.')\n",
    "]\n",
    "\n",
    "df_texas_bt.head()"
   ]
  },
  {
   "cell_type": "markdown",
   "metadata": {},
   "source": [
    "The modeldate column is a string (object) and not date time. So we need to change that: we will create a new datetime column called `modeldate`."
   ]
  },
  {
   "cell_type": "code",
   "execution_count": null,
   "metadata": {},
   "outputs": [],
   "source": [
    "#df_texas_bt.loc[df_texas_bt[]]"
   ]
  },
  {
   "cell_type": "code",
   "execution_count": null,
   "metadata": {},
   "outputs": [],
   "source": [
    "print('Before\\n')\n",
    "print(df_texas_bt.dtypes)\n",
    "df_texas_bt['date'] = pd.to_datetime(df_texas_bt.loc[:,'modeldate'], format='%m/%d/%Y').copy()\n",
    "print('\\nAfter\\n')\n",
    "print(df_texas_bt.dtypes)"
   ]
  },
  {
   "cell_type": "markdown",
   "metadata": {},
   "source": [
    "Create our line plot."
   ]
  },
  {
   "cell_type": "code",
   "execution_count": null,
   "metadata": {},
   "outputs": [],
   "source": [
    "alt.Chart(df_texas_bt).mark_line().encode(\n",
    "    y=alt.Y('pct_estimate', scale=alt.Scale(domain=[42,53])),\n",
    "    x='date',\n",
    "    color='candidate_name')"
   ]
  },
  {
   "cell_type": "markdown",
   "metadata": {},
   "source": [
    "Sometimes multiple axis are used for each line, or in a combined line and bar plot.\n",
    "\n",
    "The example [here](https://altair-viz.github.io/user_guide/scale_resolve.html) uses a dataframe with a column for each line. Our data does not have that."
   ]
  },
  {
   "cell_type": "code",
   "execution_count": null,
   "metadata": {},
   "outputs": [],
   "source": [
    "df_texas_bt\n",
    "our_df = df_texas_bt[['candidate_name', 'pct_estimate', 'date']]\n",
    "our_df"
   ]
  },
  {
   "cell_type": "markdown",
   "metadata": {},
   "source": [
    "Pivot table allows us to reshape our dataframe."
   ]
  },
  {
   "cell_type": "code",
   "execution_count": null,
   "metadata": {},
   "outputs": [],
   "source": [
    "our_df = pd.pivot_table(our_df, index=['date'], columns = 'candidate_name')\n",
    "our_df.columns = our_df.columns.to_series().str.join('_')\n",
    "our_df.head()"
   ]
  },
  {
   "cell_type": "markdown",
   "metadata": {},
   "source": [
    "Date here is the dataframe index. We want it to be a column."
   ]
  },
  {
   "cell_type": "code",
   "execution_count": null,
   "metadata": {},
   "outputs": [],
   "source": [
    "our_df['date1'] = our_df.index\n",
    "our_df.columns = ['Trump', 'Biden', 'date1']\n",
    "our_df.head()"
   ]
  },
  {
   "cell_type": "markdown",
   "metadata": {},
   "source": [
    "Creating our new plot, to fool all those people who expect Trump to win in Texas."
   ]
  },
  {
   "cell_type": "code",
   "execution_count": null,
   "metadata": {},
   "outputs": [],
   "source": [
    "base = alt.Chart(our_df).encode(\n",
    "        alt.X('date1')\n",
    ")\n",
    "\n",
    "line_A = base.mark_line(color='#5276A7').encode(\n",
    "    alt.Y('Trump', axis=alt.Axis(titleColor='#5276A7'), scale=alt.Scale(domain=[42,53]))\n",
    ")\n",
    "\n",
    "line_B = base.mark_line(color='#F18727').encode(\n",
    "    alt.Y('Biden', axis=alt.Axis(titleColor='#F18727'), scale=alt.Scale(domain=[35,53]))\n",
    ")\n",
    "\n",
    "alt.layer(line_A, line_B).resolve_scale(y='independent')"
   ]
  },
  {
   "cell_type": "markdown",
   "metadata": {},
   "source": [
    "Did you see what I did there?\n",
    "\n",
    "Of course, mixed axis plots are rarely purely line plots. Instead they can be mixes of different axis. For these and other plotting mistakes, the economist has a nice article [here](https://medium.economist.com/mistakes-weve-drawn-a-few-8cdd8a42d368). You may want to try some of these plots with this data set or the world indicators dataset from a few weeks ago."
   ]
  }
 ],
 "metadata": {
  "kernelspec": {
   "display_name": "Python 3",
   "language": "python",
   "name": "python3"
  },
  "language_info": {
   "codemirror_mode": {
    "name": "ipython",
    "version": 3
   },
   "file_extension": ".py",
   "mimetype": "text/x-python",
   "name": "python",
   "nbconvert_exporter": "python",
   "pygments_lexer": "ipython3",
   "version": "3.11.4"
  }
 },
 "nbformat": 4,
 "nbformat_minor": 4
}
