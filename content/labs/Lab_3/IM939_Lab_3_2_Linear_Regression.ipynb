{
 "cells": [
  {
   "cell_type": "markdown",
   "metadata": {},
   "source": [
    "# Lab: Regressions\n",
    "\n",
    "In this lab we will introduce simple linear regression in Python. We are going to use `Scikit Learn` library. More information about the library you can find here:\n",
    "<https://www.tutorialspoint.com/scikit_learn/scikit_learn_linear_regression.htm>\n",
    "\n"
   ]
  },
  {
   "cell_type": "markdown",
   "metadata": {},
   "source": [
    "\n",
    "## Sea Ice Dataset\n",
    "\n",
    "The script below is the based on the Sea Ice dataset from @igual_regression_2017.\n",
    "You can find the data here: <ftp://sidads.colorado.edu/DATASETS/NOAA/>\n",
    "or read more about the project here: <https://nsidc.org/data/seaice_index>\n",
    "\n",
    "This notebook will walk you through an example of a simple linear regression and the other notebook \"IM939 Lab 3 - Linear Regression Exercise.ipynb\" will include the example of a multiple linear regression, too."
   ]
  },
  {
   "cell_type": "markdown",
   "metadata": {},
   "source": [
    "## Simple and Multiple Linear Regression\n",
    "\n",
    "In the **linear model** the response $\\textbf{y}$ depends linearly from the covariates $\\textbf{x}_i$.\n",
    "\n",
    "In the **simple** linear regression, with a single variable, we described the relationship between the predictor and the response with a straight line. The general linear model:\n",
    "$$ \\textbf{y}  =  a_0+ a_1 \\textbf{x}_1 $$\n",
    "\n",
    "The parameter $a_0$ is called the *constant* term or the *intercept*.\n",
    "\n",
    "In the case of **multiple** linear regression we extend this idea by fitting a m-dimensional hyperplane to our m predictors.\n",
    "\n",
    "$$ \\textbf{y}  =  a_1 \\textbf{x}_1  + \\dots + a_m \\textbf{x}_{m} $$\n",
    "\n",
    "The $a_i$ are termed the *parameters* of the model or the coefficients."
   ]
  },
  {
   "cell_type": "markdown",
   "metadata": {},
   "source": [
    "## Ordinary Least Squares\n",
    "\n",
    "Ordinary Least Squares (OLS) is the simplest and most common **estimator** in which the coefficients $a$'s \n",
    "of the simple linear regression: $\\textbf{y} = a_0+a_1 \\textbf{x}$, \n",
    "are chosen to minimize the **square of the distance between the predicted values and the actual values**. \n",
    "\n",
    "$$ ||a_0 + a_1 \\textbf{x} -  \\textbf{y} ||^2_2 = \\sum_{j=1}^n (a_0+a_1 x_{j} -  y_j )^2,$$ \n",
    "\n",
    "This expression is often called **sum of squared errors of prediction (SSE)**.\n"
   ]
  },
  {
   "cell_type": "markdown",
   "metadata": {},
   "source": [
    "## Case study: Climate Change and Sea Ice Extent\n",
    "\n",
    "The question: Has there been a decrease in the amount of ice in the last years?\n",
    "\n",
    "### Reading Data\n",
    "\n",
    "There are five steps. First, let's load the data that is already in the `data` folder: `SeaIce.txt`. It is a text file, specifically is a `Tab` separated file where each `Tab` delimites the following columns:\n",
    "\n",
    "- `Year`:\t4-digit year\n",
    "- `mo`:\t1- or 2-digit month\n",
    "- `data_type`:\tInput data set (Goddard/NRTSI-G)\n",
    "- `region`:\tHemisphere that this data covers (N: Northern; S: Southern)\n",
    "- `extent`:\tSea ice extent in millions of square km\n",
    "- `area`:\tSea ice area in millions of square km\n",
    "\n",
    "Once we upload the data, we can create a `DataFrame`[^dataframe-reminder] using Pandas. \n",
    "\n",
    "[^dataframe-reminder]: A reminder what is DataFrame: <https://pandas.pydata.org/pandas-docs/stable/reference/api/pandas.DataFrame.html>"
   ]
  },
  {
   "cell_type": "code",
   "execution_count": 1,
   "metadata": {},
   "outputs": [
    {
     "name": "stdout",
     "output_type": "stream",
     "text": [
      "shape: (424, 6)\n"
     ]
    },
    {
     "data": {
      "text/html": [
       "<div>\n",
       "<style scoped>\n",
       "    .dataframe tbody tr th:only-of-type {\n",
       "        vertical-align: middle;\n",
       "    }\n",
       "\n",
       "    .dataframe tbody tr th {\n",
       "        vertical-align: top;\n",
       "    }\n",
       "\n",
       "    .dataframe thead th {\n",
       "        text-align: right;\n",
       "    }\n",
       "</style>\n",
       "<table border=\"1\" class=\"dataframe\">\n",
       "  <thead>\n",
       "    <tr style=\"text-align: right;\">\n",
       "      <th></th>\n",
       "      <th>year</th>\n",
       "      <th>mo</th>\n",
       "      <th>data_type</th>\n",
       "      <th>region</th>\n",
       "      <th>extent</th>\n",
       "      <th>area</th>\n",
       "    </tr>\n",
       "  </thead>\n",
       "  <tbody>\n",
       "    <tr>\n",
       "      <th>0</th>\n",
       "      <td>1979</td>\n",
       "      <td>1</td>\n",
       "      <td>Goddard</td>\n",
       "      <td>N</td>\n",
       "      <td>15.54</td>\n",
       "      <td>12.33</td>\n",
       "    </tr>\n",
       "    <tr>\n",
       "      <th>1</th>\n",
       "      <td>1980</td>\n",
       "      <td>1</td>\n",
       "      <td>Goddard</td>\n",
       "      <td>N</td>\n",
       "      <td>14.96</td>\n",
       "      <td>11.85</td>\n",
       "    </tr>\n",
       "    <tr>\n",
       "      <th>2</th>\n",
       "      <td>1981</td>\n",
       "      <td>1</td>\n",
       "      <td>Goddard</td>\n",
       "      <td>N</td>\n",
       "      <td>15.03</td>\n",
       "      <td>11.82</td>\n",
       "    </tr>\n",
       "    <tr>\n",
       "      <th>3</th>\n",
       "      <td>1982</td>\n",
       "      <td>1</td>\n",
       "      <td>Goddard</td>\n",
       "      <td>N</td>\n",
       "      <td>15.26</td>\n",
       "      <td>12.11</td>\n",
       "    </tr>\n",
       "    <tr>\n",
       "      <th>4</th>\n",
       "      <td>1983</td>\n",
       "      <td>1</td>\n",
       "      <td>Goddard</td>\n",
       "      <td>N</td>\n",
       "      <td>15.10</td>\n",
       "      <td>11.92</td>\n",
       "    </tr>\n",
       "  </tbody>\n",
       "</table>\n",
       "</div>"
      ],
      "text/plain": [
       "   year  mo data_type region  extent   area\n",
       "0  1979   1   Goddard      N   15.54  12.33\n",
       "1  1980   1   Goddard      N   14.96  11.85\n",
       "2  1981   1   Goddard      N   15.03  11.82\n",
       "3  1982   1   Goddard      N   15.26  12.11\n",
       "4  1983   1   Goddard      N   15.10  11.92"
      ]
     },
     "execution_count": 1,
     "metadata": {},
     "output_type": "execute_result"
    }
   ],
   "source": [
    "import pandas as pd\n",
    "ice = pd.read_csv('data/raw/SeaIce.txt', \n",
    "                  delim_whitespace=True)\n",
    "\n",
    "print('shape:', ice.shape) #this returns number of rows and columns in a dataset\n",
    "ice.head() "
   ]
  },
  {
   "cell_type": "markdown",
   "metadata": {},
   "source": [
    "We can compute the mean for that interval of time (1981 through 2010), before data cleaning."
   ]
  },
  {
   "cell_type": "code",
   "execution_count": 2,
   "metadata": {},
   "outputs": [
    {
     "data": {
      "text/plain": [
       "year      1996.000000\n",
       "mo           6.500000\n",
       "extent     -35.443066\n",
       "area       -37.921108\n",
       "dtype: float64"
      ]
     },
     "execution_count": 2,
     "metadata": {},
     "output_type": "execute_result"
    }
   ],
   "source": [
    "ice.mean(numeric_only = True)"
   ]
  },
  {
   "cell_type": "markdown",
   "metadata": {},
   "source": [
    "Did we receive a negative mean...?"
   ]
  },
  {
   "cell_type": "markdown",
   "metadata": {},
   "source": [
    "### Data visualisation to explore data\n",
    "\n",
    "Do you remember Seaborn? \n",
    "We will use lmplot() function from Seaborn to explore linear relationship of different forms, e.g. relationship between the month of the year (variable) and extent (responses):"
   ]
  },
  {
   "cell_type": "code",
   "execution_count": 3,
   "metadata": {},
   "outputs": [],
   "source": [
    "import matplotlib.pyplot as plt\n",
    "import numpy as np\n",
    "import pandas as pd\n",
    "import seaborn as sns"
   ]
  },
  {
   "cell_type": "code",
   "execution_count": 4,
   "metadata": {},
   "outputs": [
    {
     "data": {
      "text/plain": [
       "Text(0, 0.5, 'Extent')"
      ]
     },
     "execution_count": 4,
     "metadata": {},
     "output_type": "execute_result"
    },
    {
     "data": {
      "application/pdf": "[encoded data removed]",
      "text/plain": [
       "<Figure size 1650x1050 with 1 Axes>"
      ]
     },
     "metadata": {},
     "output_type": "display_data"
    }
   ],
   "source": [
    "# Visualize the data\n",
    "x = ice.year\n",
    "y = ice.extent\n",
    "plt.scatter(x, y, color = 'red')\n",
    "plt.xlabel('Year')\n",
    "plt.ylabel('Extent')"
   ]
  },
  {
   "cell_type": "markdown",
   "metadata": {},
   "source": [
    "We detect some outlier or missing data.\n",
    "we are going to use function np.unique and find the unique elements of an array."
   ]
  },
  {
   "cell_type": "code",
   "execution_count": 5,
   "metadata": {},
   "outputs": [],
   "source": [
    "?np.unique"
   ]
  },
  {
   "cell_type": "code",
   "execution_count": 6,
   "metadata": {},
   "outputs": [
    {
     "name": "stdout",
     "output_type": "stream",
     "text": [
      "Different values in data_type field: ['-9999' 'Goddard' 'NRTSI-G']\n"
     ]
    }
   ],
   "source": [
    "print ('Different values in data_type field:', np.unique(ice.data_type.values))   # there is a -9999 value!"
   ]
  },
  {
   "cell_type": "markdown",
   "metadata": {},
   "source": [
    "Let's see what type of data we have, other than the ones printed above "
   ]
  },
  {
   "cell_type": "code",
   "execution_count": 7,
   "metadata": {},
   "outputs": [
    {
     "name": "stdout",
     "output_type": "stream",
     "text": [
      "     year  mo data_type region  extent    area\n",
      "9    1988   1     -9999      N -9999.0 -9999.0\n",
      "397  1987  12     -9999      N -9999.0 -9999.0\n"
     ]
    }
   ],
   "source": [
    "print (ice[(ice.data_type != 'Goddard')\n",
    "          & (ice.data_type != 'NRTSI-G')])"
   ]
  },
  {
   "cell_type": "markdown",
   "metadata": {},
   "source": [
    "Data cleaning: we checked all the values and notice -9999 values in data_type field which should contain 'Goddard' or 'NRTSI-G' (some type of input dataset).\n",
    "So we clean them by removing these instances  "
   ]
  },
  {
   "cell_type": "code",
   "execution_count": 8,
   "metadata": {},
   "outputs": [
    {
     "name": "stdout",
     "output_type": "stream",
     "text": [
      "shape: (422, 6)\n"
     ]
    },
    {
     "data": {
      "text/plain": [
       "Text(0, 0.5, 'Extent')"
      ]
     },
     "execution_count": 8,
     "metadata": {},
     "output_type": "execute_result"
    },
    {
     "data": {
      "application/pdf": "[encoded data removed]",
      "text/plain": [
       "<Figure size 1650x1050 with 1 Axes>"
      ]
     },
     "metadata": {},
     "output_type": "display_data"
    }
   ],
   "source": [
    "# We can easily clean the data now:\n",
    "ice2 = ice[ice.data_type != '-9999']\n",
    "print ('shape:', ice2.shape)\n",
    "# And repeat the plot\n",
    "x = ice2.year\n",
    "y = ice2.extent\n",
    "plt.scatter(x, y, color = 'red')\n",
    "plt.xlabel('Month')\n",
    "plt.ylabel('Extent')"
   ]
  },
  {
   "cell_type": "code",
   "execution_count": 9,
   "metadata": {},
   "outputs": [
    {
     "data": {
      "text/plain": [
       "<seaborn.axisgrid.FacetGrid at 0x15bcbb6d0>"
      ]
     },
     "execution_count": 9,
     "metadata": {},
     "output_type": "execute_result"
    },
    {
     "data": {
      "application/pdf": "[encoded data removed]",
      "text/plain": [
       "<Figure size 1500x1500 with 1 Axes>"
      ]
     },
     "metadata": {},
     "output_type": "display_data"
    }
   ],
   "source": [
    "sns.lmplot(data = ice2, x = \"mo\", y = \"extent\")"
   ]
  },
  {
   "cell_type": "markdown",
   "metadata": {},
   "source": [
    "Above you can see ice extent data by month.\n",
    "You can see a monthly fluctuation of the sea ice extent, as would be expected for the different seasons of the year. In order to run regression, and avoid this fluctuation we can normalize data. This will let us see the evolution of the extent over the years."
   ]
  },
  {
   "cell_type": "markdown",
   "metadata": {},
   "source": [
    "### Normalization\n"
   ]
  },
  {
   "cell_type": "markdown",
   "metadata": {},
   "source": [
    "The `lmplot()` function from the Seaborn module is intended for exploring linear relationships of different forms in multidimensional datesets. Input data must be in a Pandas DataFrame. To plot them, we provide the predictor and response variable names along with the dataset\n",
    "\n"
   ]
  },
  {
   "cell_type": "code",
   "execution_count": 10,
   "metadata": {},
   "outputs": [
    {
     "data": {
      "application/pdf": "[encoded data removed]",
      "text/plain": [
       "<Figure size 3120x1560 with 1 Axes>"
      ]
     },
     "metadata": {},
     "output_type": "display_data"
    }
   ],
   "source": [
    "#| column: page-right\n",
    "\n",
    "sns.lmplot(ice2, x = \"mo\", y = \"extent\", height = 5.2, aspect = 2);\n",
    "\n",
    "# Uncomment below to save the resulting plot.\n",
    "#plt.savefig(\"figs/CleanedByMonth.png\", dpi = 300, bbox_inches = 'tight')"
   ]
  },
  {
   "cell_type": "code",
   "execution_count": 11,
   "metadata": {},
   "outputs": [],
   "source": []
  },
  {
   "cell_type": "code",
   "execution_count": 12,
   "metadata": {},
   "outputs": [
    {
     "name": "stdout",
     "output_type": "stream",
     "text": [
      "Means: mo\n",
      "1     14.479429\n",
      "2     15.298889\n",
      "3     15.491714\n",
      "4     14.766000\n",
      "5     13.396000\n",
      "6     11.860000\n",
      "7      9.601143\n",
      "8      7.122286\n",
      "9      6.404857\n",
      "10     8.809143\n",
      "11    10.964722\n",
      "12    13.059429\n",
      "Name: extent, dtype: float64\n",
      "Variances: mo\n",
      "1     0.304906\n",
      "2     0.295804\n",
      "3     0.237209\n",
      "4     0.215378\n",
      "5     0.189901\n",
      "6     0.247918\n",
      "7     0.679175\n",
      "8     0.824577\n",
      "9     1.143902\n",
      "10    0.630361\n",
      "11    0.412511\n",
      "12    0.284870\n",
      "Name: extent, dtype: float64\n"
     ]
    }
   ],
   "source": [
    "# Compute the mean for each month.\n",
    "grouped = ice2.groupby('mo')\n",
    "month_means = grouped.extent.mean()\n",
    "month_variances = grouped.extent.var()\n",
    "print ('Means:', month_means)\n",
    "print ('Variances:',month_variances)"
   ]
  },
  {
   "cell_type": "markdown",
   "metadata": {},
   "source": [
    "To capture variation per month, we can compute mean for the i-th interval of time (using 1979-2014) and subtract it from the set of extent values for that month . This can be converted to a relative pecentage difference by dividing it by the total avareage (1979-2014) and multiplying by 100."
   ]
  },
  {
   "cell_type": "code",
   "execution_count": 13,
   "metadata": {},
   "outputs": [
    {
     "name": "stderr",
     "output_type": "stream",
     "text": [
      "/var/folders/7v/zl9mv52s3ls94kntlt_l9ryh0000gq/T/ipykernel_847/751478846.py:3: SettingWithCopyWarning: \n",
      "A value is trying to be set on a copy of a slice from a DataFrame\n",
      "\n",
      "See the caveats in the documentation: https://pandas.pydata.org/pandas-docs/stable/user_guide/indexing.html#returning-a-view-versus-a-copy\n",
      "  ice2.extent[ice2.mo == i+1] = 100*(ice2.extent[ice2.mo == i+1] - month_means[i+1])/month_means.mean().copy()\n",
      "/var/folders/7v/zl9mv52s3ls94kntlt_l9ryh0000gq/T/ipykernel_847/751478846.py:3: SettingWithCopyWarning: \n",
      "A value is trying to be set on a copy of a slice from a DataFrame\n",
      "\n",
      "See the caveats in the documentation: https://pandas.pydata.org/pandas-docs/stable/user_guide/indexing.html#returning-a-view-versus-a-copy\n",
      "  ice2.extent[ice2.mo == i+1] = 100*(ice2.extent[ice2.mo == i+1] - month_means[i+1])/month_means.mean().copy()\n",
      "/var/folders/7v/zl9mv52s3ls94kntlt_l9ryh0000gq/T/ipykernel_847/751478846.py:3: SettingWithCopyWarning: \n",
      "A value is trying to be set on a copy of a slice from a DataFrame\n",
      "\n",
      "See the caveats in the documentation: https://pandas.pydata.org/pandas-docs/stable/user_guide/indexing.html#returning-a-view-versus-a-copy\n",
      "  ice2.extent[ice2.mo == i+1] = 100*(ice2.extent[ice2.mo == i+1] - month_means[i+1])/month_means.mean().copy()\n",
      "/var/folders/7v/zl9mv52s3ls94kntlt_l9ryh0000gq/T/ipykernel_847/751478846.py:3: SettingWithCopyWarning: \n",
      "A value is trying to be set on a copy of a slice from a DataFrame\n",
      "\n",
      "See the caveats in the documentation: https://pandas.pydata.org/pandas-docs/stable/user_guide/indexing.html#returning-a-view-versus-a-copy\n",
      "  ice2.extent[ice2.mo == i+1] = 100*(ice2.extent[ice2.mo == i+1] - month_means[i+1])/month_means.mean().copy()\n",
      "/var/folders/7v/zl9mv52s3ls94kntlt_l9ryh0000gq/T/ipykernel_847/751478846.py:3: SettingWithCopyWarning: \n",
      "A value is trying to be set on a copy of a slice from a DataFrame\n",
      "\n",
      "See the caveats in the documentation: https://pandas.pydata.org/pandas-docs/stable/user_guide/indexing.html#returning-a-view-versus-a-copy\n",
      "  ice2.extent[ice2.mo == i+1] = 100*(ice2.extent[ice2.mo == i+1] - month_means[i+1])/month_means.mean().copy()\n",
      "/var/folders/7v/zl9mv52s3ls94kntlt_l9ryh0000gq/T/ipykernel_847/751478846.py:3: SettingWithCopyWarning: \n",
      "A value is trying to be set on a copy of a slice from a DataFrame\n",
      "\n",
      "See the caveats in the documentation: https://pandas.pydata.org/pandas-docs/stable/user_guide/indexing.html#returning-a-view-versus-a-copy\n",
      "  ice2.extent[ice2.mo == i+1] = 100*(ice2.extent[ice2.mo == i+1] - month_means[i+1])/month_means.mean().copy()\n",
      "/var/folders/7v/zl9mv52s3ls94kntlt_l9ryh0000gq/T/ipykernel_847/751478846.py:3: SettingWithCopyWarning: \n",
      "A value is trying to be set on a copy of a slice from a DataFrame\n",
      "\n",
      "See the caveats in the documentation: https://pandas.pydata.org/pandas-docs/stable/user_guide/indexing.html#returning-a-view-versus-a-copy\n",
      "  ice2.extent[ice2.mo == i+1] = 100*(ice2.extent[ice2.mo == i+1] - month_means[i+1])/month_means.mean().copy()\n",
      "/var/folders/7v/zl9mv52s3ls94kntlt_l9ryh0000gq/T/ipykernel_847/751478846.py:3: SettingWithCopyWarning: \n",
      "A value is trying to be set on a copy of a slice from a DataFrame\n",
      "\n",
      "See the caveats in the documentation: https://pandas.pydata.org/pandas-docs/stable/user_guide/indexing.html#returning-a-view-versus-a-copy\n",
      "  ice2.extent[ice2.mo == i+1] = 100*(ice2.extent[ice2.mo == i+1] - month_means[i+1])/month_means.mean().copy()\n",
      "/var/folders/7v/zl9mv52s3ls94kntlt_l9ryh0000gq/T/ipykernel_847/751478846.py:3: SettingWithCopyWarning: \n",
      "A value is trying to be set on a copy of a slice from a DataFrame\n",
      "\n",
      "See the caveats in the documentation: https://pandas.pydata.org/pandas-docs/stable/user_guide/indexing.html#returning-a-view-versus-a-copy\n",
      "  ice2.extent[ice2.mo == i+1] = 100*(ice2.extent[ice2.mo == i+1] - month_means[i+1])/month_means.mean().copy()\n",
      "/var/folders/7v/zl9mv52s3ls94kntlt_l9ryh0000gq/T/ipykernel_847/751478846.py:3: SettingWithCopyWarning: \n",
      "A value is trying to be set on a copy of a slice from a DataFrame\n",
      "\n",
      "See the caveats in the documentation: https://pandas.pydata.org/pandas-docs/stable/user_guide/indexing.html#returning-a-view-versus-a-copy\n",
      "  ice2.extent[ice2.mo == i+1] = 100*(ice2.extent[ice2.mo == i+1] - month_means[i+1])/month_means.mean().copy()\n",
      "/var/folders/7v/zl9mv52s3ls94kntlt_l9ryh0000gq/T/ipykernel_847/751478846.py:3: SettingWithCopyWarning: \n",
      "A value is trying to be set on a copy of a slice from a DataFrame\n",
      "\n",
      "See the caveats in the documentation: https://pandas.pydata.org/pandas-docs/stable/user_guide/indexing.html#returning-a-view-versus-a-copy\n",
      "  ice2.extent[ice2.mo == i+1] = 100*(ice2.extent[ice2.mo == i+1] - month_means[i+1])/month_means.mean().copy()\n",
      "/var/folders/7v/zl9mv52s3ls94kntlt_l9ryh0000gq/T/ipykernel_847/751478846.py:3: SettingWithCopyWarning: \n",
      "A value is trying to be set on a copy of a slice from a DataFrame\n",
      "\n",
      "See the caveats in the documentation: https://pandas.pydata.org/pandas-docs/stable/user_guide/indexing.html#returning-a-view-versus-a-copy\n",
      "  ice2.extent[ice2.mo == i+1] = 100*(ice2.extent[ice2.mo == i+1] - month_means[i+1])/month_means.mean().copy()\n"
     ]
    },
    {
     "data": {
      "application/pdf": "[encoded data removed]",
      "text/plain": [
       "<Figure size 3120x1560 with 1 Axes>"
      ]
     },
     "metadata": {},
     "output_type": "display_data"
    }
   ],
   "source": [
    "# Data normalization\n",
    "for i in range(12):\n",
    "    ice2.extent[ice2.mo == i+1] = 100*(ice2.extent[ice2.mo == i+1] - month_means[i+1])/month_means.mean().copy()\n",
    "    \n",
    "sns.lmplot(ice2 , x = \"mo\", y = \"extent\", height = 5.2, aspect = 2);\n",
    "plt.savefig(\"figs/IceExtentNormalizedByMonth.png\", dpi = 300, bbox_inches = 'tight')"
   ]
  },
  {
   "cell_type": "code",
   "execution_count": 14,
   "metadata": {},
   "outputs": [
    {
     "name": "stdout",
     "output_type": "stream",
     "text": [
      "mean: -7.745252569896827e-16\n",
      "var: 31.983239774968798\n"
     ]
    }
   ],
   "source": [
    "print ('mean:', ice2.extent.mean())\n",
    "print ('var:', ice2.extent.var())"
   ]
  },
  {
   "cell_type": "markdown",
   "metadata": {},
   "source": [
    "Let us consider the entire year"
   ]
  },
  {
   "cell_type": "code",
   "execution_count": 15,
   "metadata": {},
   "outputs": [
    {
     "data": {
      "application/pdf": "[encoded data removed]",
      "text/plain": [
       "<Figure size 3120x1560 with 1 Axes>"
      ]
     },
     "metadata": {},
     "output_type": "display_data"
    }
   ],
   "source": [
    "sns.lmplot(ice2, x = \"year\", y = \"extent\", height = 5.2, aspect = 2);\n",
    "plt.savefig(\"figs/IceExtentAllMonthsByYearlmplot.png\", dpi = 300, bbox_inches = 'tight')"
   ]
  },
  {
   "cell_type": "markdown",
   "metadata": {},
   "source": [
    "### Pearson's correlation"
   ]
  },
  {
   "cell_type": "markdown",
   "metadata": {},
   "source": [
    "Let's calculate Pearson's correlation coefficient and the p-value for testing non-correlation."
   ]
  },
  {
   "cell_type": "code",
   "execution_count": 16,
   "metadata": {},
   "outputs": [
    {
     "data": {
      "text/plain": [
       "PearsonRResult(statistic=-0.8183500709897178, pvalue=4.4492318168687107e-103)"
      ]
     },
     "execution_count": 15,
     "metadata": {},
     "output_type": "execute_result"
    }
   ],
   "source": [
    "import scipy.stats\n",
    "scipy.stats.pearsonr(ice2.year.values, ice2.extent.values)"
   ]
  },
  {
   "cell_type": "markdown",
   "metadata": {},
   "source": [
    "### Simple OLS\n",
    "\n",
    "We can also compute the trend as a simple linear regression (OLS) and quantitatively evaluate it.\n",
    "\n",
    "For that we use using **Scikit-learn**, library that provides a variety of both supervised and unsupervised machine learning techniques.\n",
    "Scikit-learn provides an object-oriented interface centered around the concept of an Estimator. \n",
    "The <code>Estimator.fit</code> method sets the state of the estimator based on the training data. Usually, the data is comprised of a two-dimensional numpy array $X$ of shape <code>(n_samples, n_predictors)</code> that holds the so-called feature matrix and a one-dimensional numpy array $\\textbf{y}$ that holds the responses. Some estimators allow the user to control the fitting behavior. \n",
    "For example, the <code>sklearn.linear_model.LinearRegression</code> estimator allows the user to specify whether or not to fit an intercept term. This is done by setting the corresponding constructor arguments of the estimator object.\n",
    "During the fitting process, the state of the estimator is stored in instance attributes that have a trailing underscore ('_'). For example, the coefficients of a LinearRegression estimator are stored in the attribute coef_.\n",
    "\n",
    "Estimators that can generate predictions provide a ``Estimator.predict`` method. \n",
    "In the case of regression, ``Estimator.predict`` will return the predicted regression values, $\\hat{\\textbf{y}}$. "
   ]
  },
  {
   "cell_type": "code",
   "execution_count": 17,
   "metadata": {},
   "outputs": [
    {
     "name": "stdout",
     "output_type": "stream",
     "text": [
      "Coefficients: [[-0.45275459]]\n",
      "Intercept: [903.71640207]\n"
     ]
    }
   ],
   "source": [
    "from sklearn.linear_model import LinearRegression\n",
    "\n",
    "est = LinearRegression(fit_intercept = True)\n",
    "\n",
    "x = ice2[['year']]\n",
    "y = ice2[['extent']]\n",
    "\n",
    "est.fit(x, y)\n",
    "\n",
    "print(\"Coefficients:\", est.coef_)\n",
    "print (\"Intercept:\", est.intercept_)"
   ]
  },
  {
   "cell_type": "markdown",
   "metadata": {},
   "source": [
    "We can evaluate the model fitting by computing the mean squared error ($MSE$) and the coefficient of determination ($R^2$) of the model.\n",
    "The coefficient $R^2$ is defined as $(1 - \\textbf{u}/\\textbf{v})$, where $\\textbf{u}$ is the residual sum of squares $\\sum (\\textbf{y} - \\hat{\\textbf{y}})^2$ and $\\textbf{v}$ is the regression sum of squares $\\sum (\\textbf{y} - \\bar{\\textbf{y}})^2$, where $\\bar{\\textbf{y}}$ is the mean.\n",
    "The best possible score for $R^2$ is 1.0: lower values are worse.\n",
    "These measures can provide a quantitative answer to the question we are facing: Is there a negative trend in the evolution of sea ice extent over recent years?"
   ]
  },
  {
   "cell_type": "code",
   "execution_count": 18,
   "metadata": {},
   "outputs": [
    {
     "name": "stdout",
     "output_type": "stream",
     "text": [
      "MSE: 10.539131639803488\n",
      "R^2: 0.5067870382100226\n",
      "var: extent    31.98324\n",
      "dtype: float64\n"
     ]
    },
    {
     "data": {
      "application/pdf": "[encoded data removed]",
      "text/plain": [
       "<Figure size 1650x1050 with 1 Axes>"
      ]
     },
     "metadata": {},
     "output_type": "display_data"
    }
   ],
   "source": [
    "from sklearn import metrics\n",
    "\n",
    "# Analysis for all months together.\n",
    "x = ice2[['year']]\n",
    "y = ice2[['extent']]\n",
    "model = LinearRegression()\n",
    "model.fit(x, y)\n",
    "y_hat = model.predict(x)\n",
    "plt.plot(x, y,'o', alpha = 0.5)\n",
    "plt.plot(x, y_hat, 'r', alpha = 0.5)\n",
    "plt.xlabel('year')\n",
    "plt.ylabel('extent (All months)')\n",
    "print (\"MSE:\", metrics.mean_squared_error(y_hat, y))\n",
    "print (\"R^2:\", metrics.r2_score(y_hat, y))\n",
    "print (\"var:\", y.var())\n",
    "plt.savefig(\"figs/IceExtentLinearRegressionAllMonthsByYearPrediction.png\", dpi = 300, bbox_inches = 'tight')"
   ]
  },
  {
   "cell_type": "markdown",
   "metadata": {},
   "source": [
    "We can conclude that the data show a long-term negative trend in recent years."
   ]
  },
  {
   "cell_type": "code",
   "execution_count": 19,
   "metadata": {},
   "outputs": [
    {
     "name": "stdout",
     "output_type": "stream",
     "text": [
      "MSE: 3.8395160752867565\n",
      "R^2: 0.7810636041396216\n"
     ]
    },
    {
     "data": {
      "application/pdf": "[encoded data removed]",
      "text/plain": [
       "<Figure size 1650x1050 with 1 Axes>"
      ]
     },
     "metadata": {},
     "output_type": "display_data"
    }
   ],
   "source": [
    "# Analysis for a particular month.\n",
    "#For January\n",
    "jan = ice2[ice2.mo == 1];\n",
    "\n",
    "x = jan[['year']]\n",
    "y = jan[['extent']]\n",
    "\n",
    "model = LinearRegression()\n",
    "model.fit(x, y)\n",
    "\n",
    "y_hat = model.predict(x)\n",
    "\n",
    "plt.figure()\n",
    "plt.plot(x, y,'-o', alpha = 0.5)\n",
    "plt.plot(x, y_hat, 'r', alpha = 0.5)\n",
    "plt.xlabel('year')\n",
    "plt.ylabel('extent (January)')\n",
    "\n",
    "print (\"MSE:\", metrics.mean_squared_error(y_hat, y))\n",
    "print (\"R^2:\", metrics.r2_score(y_hat, y))"
   ]
  },
  {
   "cell_type": "markdown",
   "metadata": {},
   "source": [
    "We can also estimate the extent value for 2025. For that we use the function predict of the model."
   ]
  },
  {
   "cell_type": "code",
   "execution_count": 20,
   "metadata": {},
   "outputs": [
    {
     "name": "stdout",
     "output_type": "stream",
     "text": [
      "Prediction of extent for January 2025 (in millions of square km): [[13.14449923]]\n"
     ]
    },
    {
     "name": "stderr",
     "output_type": "stream",
     "text": [
      "/Users/u2071219/anaconda3/envs/IM939/lib/python3.11/site-packages/sklearn/base.py:464: UserWarning: X does not have valid feature names, but LinearRegression was fitted with feature names\n",
      "  warnings.warn(\n"
     ]
    }
   ],
   "source": [
    "X = np.array(2025) \n",
    "y_hat = model.predict(X.reshape(-1, 1))\n",
    "j = 1 # January\n",
    "# Original value (before normalization)\n",
    "y_hat = (y_hat*month_means.mean()/100) + month_means[j]\n",
    "print (\"Prediction of extent for January 2025 (in millions of square km):\", y_hat)"
   ]
  },
  {
   "cell_type": "markdown",
   "metadata": {},
   "source": [
    "Prediction of extent for January 2025 (in millions of square km): [ 13.14449923]"
   ]
  }
 ],
 "metadata": {
  "kernelspec": {
   "display_name": "Python 3",
   "language": "python",
   "name": "python3"
  },
  "language_info": {
   "codemirror_mode": {
    "name": "ipython",
    "version": 3
   },
   "file_extension": ".py",
   "mimetype": "text/x-python",
   "name": "python",
   "nbconvert_exporter": "python",
   "pygments_lexer": "ipython3",
   "version": "3.11.4"
  }
 },
 "nbformat": 4,
 "nbformat_minor": 4
}
