{
 "cells": [
  {
   "cell_type": "markdown",
   "metadata": {},
   "source": [
    "# IM939 Lab 1 - Part 2 - Exercises\n",
    "\n",
    "Below are a series excercises using coding concepts from IM939 Lab 1 - Part 2.\n",
    "\n",
    "For each code block, replace the ? with the correct code and run the block."
   ]
  },
  {
   "cell_type": "markdown",
   "metadata": {},
   "source": [
    "Read in the office_ratings.csv file as a list of dictionaries using the Python csv module. The office ratings files was downloaded from the [TidyTuesday data repository](https://github.com/rfordatascience/tidytuesday/blob/master/data/2020/2020-03-17/readme.md)."
   ]
  },
  {
   "cell_type": "code",
   "execution_count": 1,
   "metadata": {},
   "outputs": [],
   "source": [
    "import csv\n",
    "\n",
    "office_ratings = []\n",
    "\n",
    "with open('data/office_ratings.csv', mode = 'r', encoding = 'UTF-8') as csvfile:\n",
    "    reader = csv.DictReader(csvfile)\n",
    "    for row in reader:\n",
    "        office_ratings.append(row)  "
   ]
  },
  {
   "cell_type": "markdown",
   "metadata": {},
   "source": [
    "Print out the first two entries in the dictionary."
   ]
  },
  {
   "cell_type": "code",
   "execution_count": 2,
   "metadata": {
    "scrolled": true
   },
   "outputs": [
    {
     "data": {
      "text/plain": [
       "[{'season': '1',\n",
       "  'episode': '1',\n",
       "  'title': 'Pilot',\n",
       "  'imdb_rating': '7.6',\n",
       "  'total_votes': '3706',\n",
       "  'air_date': '2005-03-24'},\n",
       " {'season': '1',\n",
       "  'episode': '2',\n",
       "  'title': 'Diversity Day',\n",
       "  'imdb_rating': '8.3',\n",
       "  'total_votes': '3566',\n",
       "  'air_date': '2005-03-29'}]"
      ]
     },
     "execution_count": 2,
     "metadata": {},
     "output_type": "execute_result"
    }
   ],
   "source": [
    "office_ratings[0:2]"
   ]
  },
  {
   "cell_type": "markdown",
   "metadata": {},
   "source": [
    "Print out all the ratings"
   ]
  },
  {
   "cell_type": "code",
   "execution_count": 3,
   "metadata": {},
   "outputs": [
    {
     "name": "stdout",
     "output_type": "stream",
     "text": [
      "7.6\n",
      "8.3\n",
      "7.9\n",
      "8.1\n",
      "8.4\n",
      "7.8\n",
      "8.7\n",
      "8.2\n",
      "8.4\n",
      "8.4\n",
      "8.2\n",
      "8.2\n",
      "8.6\n",
      "8.2\n",
      "8.4\n",
      "8.8\n",
      "8.6\n",
      "9\n",
      "8.3\n",
      "7.9\n",
      "8.2\n",
      "8.3\n",
      "8.4\n",
      "8.3\n",
      "8.1\n",
      "8.4\n",
      "8.7\n",
      "9.3\n",
      "8.9\n",
      "8.2\n",
      "8.5\n",
      "8\n",
      "8.2\n",
      "8\n",
      "8.5\n",
      "8.7\n",
      "8.2\n",
      "8.7\n",
      "8.5\n",
      "8.6\n",
      "8.8\n",
      "8.2\n",
      "8.3\n",
      "8.8\n",
      "8.5\n",
      "8.9\n",
      "8.8\n",
      "8.7\n",
      "8.8\n",
      "9.1\n",
      "9.3\n",
      "8.8\n",
      "8.4\n",
      "8.5\n",
      "8.7\n",
      "8.8\n",
      "8.5\n",
      "8.3\n",
      "8.7\n",
      "9.3\n",
      "8.1\n",
      "8.7\n",
      "8.4\n",
      "7.9\n",
      "9.3\n",
      "8.8\n",
      "8.3\n",
      "8.1\n",
      "8.1\n",
      "8.1\n",
      "8.5\n",
      "8.2\n",
      "8.6\n",
      "8.7\n",
      "8.4\n",
      "8.7\n",
      "8.1\n",
      "9.6\n",
      "8.2\n",
      "8.2\n",
      "8.1\n",
      "8.7\n",
      "8.3\n",
      "8.4\n",
      "8.3\n",
      "8.7\n",
      "8.7\n",
      "9.1\n",
      "8.3\n",
      "8.7\n",
      "8.9\n",
      "8.7\n",
      "8.2\n",
      "8\n",
      "9.3\n",
      "9.3\n",
      "7.7\n",
      "8.6\n",
      "8.2\n",
      "8.2\n",
      "8.6\n",
      "8.2\n",
      "8.3\n",
      "8.5\n",
      "6.8\n",
      "7.8\n",
      "8.1\n",
      "8.4\n",
      "8.5\n",
      "7.8\n",
      "7.9\n",
      "8.6\n",
      "7.9\n",
      "8\n",
      "8.2\n",
      "7.9\n",
      "8\n",
      "8.4\n",
      "8.3\n",
      "8.2\n",
      "7.9\n",
      "7.8\n",
      "8.2\n",
      "7.5\n",
      "7.9\n",
      "7.8\n",
      "8.2\n",
      "8.9\n",
      "8.3\n",
      "7.7\n",
      "8.5\n",
      "8.4\n",
      "9.3\n",
      "7.5\n",
      "9.2\n",
      "7.8\n",
      "8.9\n",
      "9.7\n",
      "7.7\n",
      "8.7\n",
      "8.8\n",
      "8.2\n",
      "8.2\n",
      "7.3\n",
      "8.1\n",
      "7.6\n",
      "7.8\n",
      "7.7\n",
      "7\n",
      "7.7\n",
      "8\n",
      "7.9\n",
      "8\n",
      "7.5\n",
      "7.8\n",
      "7.9\n",
      "8.1\n",
      "7.8\n",
      "7.8\n",
      "6.7\n",
      "7.2\n",
      "7.1\n",
      "7.1\n",
      "7.7\n",
      "7.8\n",
      "7.7\n",
      "7.2\n",
      "7.5\n",
      "7.9\n",
      "7.1\n",
      "7.8\n",
      "7.7\n",
      "7.8\n",
      "8.4\n",
      "7.7\n",
      "7.9\n",
      "8\n",
      "7.7\n",
      "7.6\n",
      "7.4\n",
      "8.2\n",
      "7.5\n",
      "8\n",
      "8\n",
      "8\n",
      "8.9\n",
      "9.3\n",
      "9.7\n"
     ]
    }
   ],
   "source": [
    "for row in office_ratings:\n",
    "    print(row['imdb_rating'])"
   ]
  },
  {
   "cell_type": "markdown",
   "metadata": {},
   "source": [
    "Print out the episode name and the rating as a single string for all episodes."
   ]
  },
  {
   "cell_type": "code",
   "execution_count": 4,
   "metadata": {},
   "outputs": [
    {
     "name": "stdout",
     "output_type": "stream",
     "text": [
      "Pilot:7.6\n",
      "Diversity Day:8.3\n",
      "Health Care:7.9\n",
      "The Alliance:8.1\n",
      "Basketball:8.4\n",
      "Hot Girl:7.8\n",
      "The Dundies:8.7\n",
      "Sexual Harassment:8.2\n",
      "Office Olympics:8.4\n",
      "The Fire:8.4\n",
      "Halloween:8.2\n",
      "The Fight:8.2\n",
      "The Client:8.6\n",
      "Performance Review:8.2\n",
      "E-Mail Surveillance:8.4\n",
      "Christmas Party:8.8\n",
      "Booze Cruise:8.6\n",
      "The Injury:9\n",
      "The Secret:8.3\n",
      "The Carpet:7.9\n",
      "Boys and Girls:8.2\n",
      "Valentine's Day:8.3\n",
      "Dwight's Speech:8.4\n",
      "Take Your Daughter to Work Day:8.3\n",
      "Michael's Birthday:8.1\n",
      "Drug Testing:8.4\n",
      "Conflict Resolution:8.7\n",
      "Casino Night:9.3\n",
      "Gay Witch Hunt:8.9\n",
      "The Convention:8.2\n",
      "The Coup:8.5\n",
      "Grief Counseling:8\n",
      "Initiation:8.2\n",
      "Diwali:8\n",
      "Branch Closing:8.5\n",
      "The Merger:8.7\n",
      "The Convict:8.2\n",
      "A Benihana Christmas:8.7\n",
      "Back from Vacation:8.5\n",
      "Traveling Salesmen:8.6\n",
      "The Return:8.8\n",
      "Ben Franklin:8.2\n",
      "Phyllis' Wedding:8.3\n",
      "Business School:8.8\n",
      "Cocktails:8.5\n",
      "The Negotiation:8.9\n",
      "Safety Training:8.8\n",
      "Product Recall:8.7\n",
      "Women's Appreciation:8.8\n",
      "Beach Games:9.1\n",
      "The Job:9.3\n",
      "Fun Run:8.8\n",
      "Dunder Mifflin Infinity:8.4\n",
      "Launch Party:8.5\n",
      "Money:8.7\n",
      "Local Ad:8.8\n",
      "Branch Wars:8.5\n",
      "Survivor Man:8.3\n",
      "The Deposition:8.7\n",
      "Dinner Party:9.3\n",
      "Chair Model:8.1\n",
      "Night Out:8.7\n",
      "Did I Stutter?:8.4\n",
      "Job Fair:7.9\n",
      "Goodbye, Toby:9.3\n",
      "Weight Loss:8.8\n",
      "Business Ethics:8.3\n",
      "Baby Shower:8.1\n",
      "Crime Aid:8.1\n",
      "Employee Transfer:8.1\n",
      "Customer Survey:8.5\n",
      "Business Trip:8.2\n",
      "Frame Toby:8.6\n",
      "The Surplus:8.7\n",
      "Moroccan Christmas:8.4\n",
      "The Duel:8.7\n",
      "Prince Family Paper:8.1\n",
      "Stress Relief:9.6\n",
      "Lecture Circuit: Part 1:8.2\n",
      "Lecture Circuit: Part 2:8.2\n",
      "Blood Drive:8.1\n",
      "Golden Ticket:8.7\n",
      "New Boss:8.3\n",
      "Two Weeks:8.4\n",
      "Dream Team:8.3\n",
      "Michael Scott Paper Company:8.7\n",
      "Heavy Competition:8.7\n",
      "Broke:9.1\n",
      "Casual Friday:8.3\n",
      "Cafe Disco:8.7\n",
      "Company Picnic:8.9\n",
      "Gossip:8.7\n",
      "The Meeting:8.2\n",
      "The Promotion:8\n",
      "Niagara: Part 1:9.3\n",
      "Niagara: Part 2:9.3\n",
      "Mafia:7.7\n",
      "The Lover:8.6\n",
      "Koi Pond:8.2\n",
      "Double Date:8.2\n",
      "Murder:8.6\n",
      "Shareholder Meeting:8.2\n",
      "Scott's Tots:8.3\n",
      "Secret Santa:8.5\n",
      "The Banker:6.8\n",
      "Sabre:7.8\n",
      "Manager and Salesman:8.1\n",
      "The Delivery: Part 1:8.4\n",
      "The Delivery: Part 2:8.5\n",
      "St. Patrick's Day:7.8\n",
      "New Leads:7.9\n",
      "Happy Hour:8.6\n",
      "Secretary's Day:7.9\n",
      "Body Language:8\n",
      "The Cover-Up:8.2\n",
      "The Chump:7.9\n",
      "Whistleblower:8\n",
      "Nepotism:8.4\n",
      "Counseling:8.3\n",
      "Andy's Play:8.2\n",
      "Sex Ed:7.9\n",
      "The Sting:7.8\n",
      "Costume Contest:8.2\n",
      "Christening:7.5\n",
      "Viewing Party:7.9\n",
      "WUPHF.com:7.8\n",
      "China:8.2\n",
      "Classy Christmas:8.9\n",
      "Ultimatum:8.3\n",
      "The Seminar:7.7\n",
      "The Search:8.5\n",
      "PDA:8.4\n",
      "Threat Level Midnight:9.3\n",
      "Todd Packer:7.5\n",
      "Garage Sale:9.2\n",
      "Training Day:7.8\n",
      "Michael's Last Dundies:8.9\n",
      "Goodbye, Michael:9.7\n",
      "The Inner Circle:7.7\n",
      "Dwight K. Schrute, (Acting) Manager:8.7\n",
      "Search Committee:8.8\n",
      "The List:8.2\n",
      "The Incentive:8.2\n",
      "Lotto:7.3\n",
      "Garden Party:8.1\n",
      "Spooked:7.6\n",
      "Doomsday:7.8\n",
      "Pam's Replacement:7.7\n",
      "Gettysburg:7\n",
      "Mrs. California:7.7\n",
      "Christmas Wishes:8\n",
      "Trivia:7.9\n",
      "Pool Party:8\n",
      "Jury Duty:7.5\n",
      "Special Project:7.8\n",
      "Tallahassee:7.9\n",
      "After Hours:8.1\n",
      "Test the Store:7.8\n",
      "Last Day in Florida:7.8\n",
      "Get the Girl:6.7\n",
      "Welcome Party:7.2\n",
      "Angry Andy:7.1\n",
      "Fundraiser:7.1\n",
      "Turf War:7.7\n",
      "Free Family Portrait Studio:7.8\n",
      "New Guys:7.7\n",
      "Roy's Wedding:7.2\n",
      "Andy's Ancestry:7.5\n",
      "Work Bus:7.9\n",
      "Here Comes Treble:7.1\n",
      "The Boat:7.8\n",
      "The Whale:7.7\n",
      "The Target:7.8\n",
      "Dwight Christmas:8.4\n",
      "Lice:7.7\n",
      "Suit Warehouse:7.9\n",
      "Customer Loyalty:8\n",
      "Junior Salesman:7.7\n",
      "Vandalism:7.6\n",
      "Couples Discount:7.4\n",
      "Moving On:8.2\n",
      "The Farm:7.5\n",
      "Promos:8\n",
      "Stairmageddon:8\n",
      "Paper Airplane:8\n",
      "Livin' the Dream:8.9\n",
      "A.A.R.M.:9.3\n",
      "Finale:9.7\n"
     ]
    }
   ],
   "source": [
    "for row in office_ratings:\n",
    "    print(row['title'] + ':' + row['imdb_rating'])"
   ]
  },
  {
   "cell_type": "markdown",
   "metadata": {},
   "source": [
    "How many episodes did the office have?"
   ]
  },
  {
   "cell_type": "code",
   "execution_count": 5,
   "metadata": {},
   "outputs": [
    {
     "data": {
      "text/plain": [
       "188"
      ]
     },
     "execution_count": 5,
     "metadata": {},
     "output_type": "execute_result"
    }
   ],
   "source": [
    "len(office_ratings)"
   ]
  },
  {
   "cell_type": "markdown",
   "metadata": {},
   "source": [
    "Slightly trickier. Get the average rating."
   ]
  },
  {
   "cell_type": "code",
   "execution_count": 6,
   "metadata": {},
   "outputs": [
    {
     "data": {
      "text/plain": [
       "8.257446808510643"
      ]
     },
     "execution_count": 6,
     "metadata": {},
     "output_type": "execute_result"
    }
   ],
   "source": [
    "ratings = []\n",
    "\n",
    "for row in office_ratings:\n",
    "    this_rating = row['imdb_rating']\n",
    "    this_rating_float = float(this_rating)  # convert the string rating to an float (decimal point number)\n",
    "    ratings.append(this_rating_float)\n",
    "    \n",
    "sum(ratings) / len(ratings)"
   ]
  },
  {
   "cell_type": "markdown",
   "metadata": {},
   "source": [
    "Load the csv file using pandas"
   ]
  },
  {
   "cell_type": "code",
   "execution_count": 7,
   "metadata": {},
   "outputs": [],
   "source": [
    "import pandas as pd"
   ]
  },
  {
   "cell_type": "code",
   "execution_count": 8,
   "metadata": {},
   "outputs": [],
   "source": [
    "pd_office_ratings = pd.read_csv('data/office_ratings.csv')"
   ]
  },
  {
   "cell_type": "markdown",
   "metadata": {},
   "source": [
    "Check the types in the pandas dataframe."
   ]
  },
  {
   "cell_type": "code",
   "execution_count": 9,
   "metadata": {},
   "outputs": [
    {
     "data": {
      "text/plain": [
       "season           int64\n",
       "episode          int64\n",
       "title           object\n",
       "imdb_rating    float64\n",
       "total_votes      int64\n",
       "air_date        object\n",
       "dtype: object"
      ]
     },
     "execution_count": 9,
     "metadata": {},
     "output_type": "execute_result"
    }
   ],
   "source": [
    "pd_office_ratings.dtypes"
   ]
  },
  {
   "cell_type": "markdown",
   "metadata": {},
   "source": [
    "The ratings are now loaded as floats. Useful!\n",
    "\n",
    "So we can calculate the average more easily."
   ]
  },
  {
   "cell_type": "code",
   "execution_count": 10,
   "metadata": {},
   "outputs": [
    {
     "data": {
      "text/plain": [
       "8.257446808510643"
      ]
     },
     "execution_count": 10,
     "metadata": {},
     "output_type": "execute_result"
    }
   ],
   "source": [
    "sum(pd_office_ratings['imdb_rating']) / len(pd_office_ratings['imdb_rating'])"
   ]
  },
  {
   "cell_type": "code",
   "execution_count": 11,
   "metadata": {},
   "outputs": [
    {
     "data": {
      "text/plain": [
       "8.25744680851064"
      ]
     },
     "execution_count": 11,
     "metadata": {},
     "output_type": "execute_result"
    }
   ],
   "source": [
    "pd_office_ratings['imdb_rating'].mean()"
   ]
  },
  {
   "cell_type": "code",
   "execution_count": null,
   "metadata": {},
   "outputs": [],
   "source": []
  }
 ],
 "metadata": {
  "kernelspec": {
   "display_name": "Python 3",
   "language": "python",
   "name": "python3"
  },
  "language_info": {
   "codemirror_mode": {
    "name": "ipython",
    "version": 3
   },
   "file_extension": ".py",
   "mimetype": "text/x-python",
   "name": "python",
   "nbconvert_exporter": "python",
   "pygments_lexer": "ipython3",
   "version": "3.10.11"
  }
 },
 "nbformat": 4,
 "nbformat_minor": 4
}
