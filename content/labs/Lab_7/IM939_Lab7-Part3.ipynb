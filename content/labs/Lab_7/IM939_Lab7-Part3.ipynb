{
 "cells": [
  {
   "cell_type": "markdown",
   "metadata": {},
   "source": [
    "# Lab: Gender gaps\n",
    "\n",
    "## Source (Dataset)\n",
    "Office of the National Statistics Gender Pay Gap [ONS Source](https://www.ons.gov.uk/employmentandlabourmarket/peopleinwork/earningsandworkinghours/datasets/annualsurveyofhoursandearningsashegenderpaygaptables)\n",
    "\n",
    "## Explanations (from the source)\n",
    "+ Gender pay gap (GPG) - calculated as the difference between average hourly earnings (excluding overtime) of men and women as a proportion of average hourly earnings (excluding overtime) of men. For example, a 4% GPG denotes that women earn 4% less, on average, than men. Conversely, a -4% GPG denotes that women earn 4% more, on average, than men.\n",
    "\n",
    "+ Mean: a measure of the average which is derived by summing the values for a given sample, and then dividing the sum by the number of observations (i.e. jobs) in the sample. In earnings distributions, the mean can be disproportionately influenced by a relatively small number of high-paying jobs.\n",
    "\t\t\t\t\t\t\t\t\t\t\t\t\t\t\t\t\t\t\t\t\t\t\n",
    "+ Median: the value below which 50% of jobs fall. It is ONS's preferred measure of average earnings as it is less affected by a relatively small number of very high earners and the skewed distribution of earnings. It therefore gives a better indication of typical pay than the mean.\n",
    "\t\t\t\t\t\t\t\t\t\t\t\t\t\t\t\t\t\t\t\n",
    "### Coverage and timeliness\t\t\t\t\t\t\t\t\t\t\t\t\t\t\t\t\t\t\t\t\t\t\t\t\t\n",
    "The Annual Survey of Hours and Earnings (ASHE) covers employee jobs in the United Kingdom. It does not cover the self-employed, nor does it cover employees not paid during the reference period (2023).\n",
    "\n",
    "GPG estimates are provided for the pay period that included a specified date in April. They relate to employees on adult rates of pay, whose earnings for the survey pay period were not affected by absence. \n",
    "\t\n",
    "ASHE is based on a 1% sample of jobs taken from HM Revenue and Customs' Pay As You Earn (PAYE) records. Consequently, individuals with more than one job may appear in the sample more than once.\t\t\t\t\t\t\t\t\t\t\t\t\t\t\t\t\t "
   ]
  },
  {
   "cell_type": "markdown",
   "metadata": {},
   "source": [
    "## Reading the dataset\n"
   ]
  },
  {
   "cell_type": "code",
   "execution_count": null,
   "metadata": {
    "editable": true,
    "slideshow": {
     "slide_type": ""
    },
    "tags": []
   },
   "outputs": [],
   "source": [
    "%matplotlib inline\n",
    "import pandas as pd\n",
    "import seaborn as sns\n",
    "import matplotlib.pyplot as plt\n",
    "\n",
    "df_profession = pd.read_excel('data/genderpaygap.xlsx', sheet_name='All')\n",
    "df_profession_category = pd.read_excel('data/genderpaygap.xlsx', sheet_name='Main')\n",
    "df_age = pd.read_excel('data/genderpaygap.xlsx', sheet_name='Age')\n",
    "df_geography = pd.read_excel('data/genderpaygap.xlsx', sheet_name='Geography')"
   ]
  },
  {
   "cell_type": "markdown",
   "metadata": {},
   "source": [
    "Let's have a look at our dataset"
   ]
  },
  {
   "cell_type": "code",
   "execution_count": null,
   "metadata": {},
   "outputs": [],
   "source": [
    "df_profession.tail()"
   ]
  },
  {
   "cell_type": "code",
   "execution_count": null,
   "metadata": {},
   "outputs": [],
   "source": [
    "df_profession_category.tail()"
   ]
  },
  {
   "cell_type": "code",
   "execution_count": null,
   "metadata": {},
   "outputs": [],
   "source": [
    "df_age"
   ]
  },
  {
   "cell_type": "code",
   "execution_count": null,
   "metadata": {},
   "outputs": [],
   "source": [
    "df_geography.tail()"
   ]
  },
  {
   "cell_type": "markdown",
   "metadata": {},
   "source": [
    "If you look at the Excel data files, we see that occupations have a main and sub-category. Since we have the main category values in df_profession_category anyway, let's drop them from 'df_profession' to retain the focus on sub-categories only. We can do this based on the values in the Code column since as you can see main category professions have code values < 10 and sub-categories have values greater than 10. "
   ]
  },
  {
   "cell_type": "code",
   "execution_count": null,
   "metadata": {},
   "outputs": [],
   "source": [
    "indices_to_drop = df_profession[df_profession['Code'] < 10].index\n",
    "df_profession.drop(indices_to_drop, inplace=True)\n",
    "df_profession"
   ]
  },
  {
   "cell_type": "markdown",
   "metadata": {},
   "source": [
    "### Missing values\n",
    "Let's check our data "
   ]
  },
  {
   "cell_type": "code",
   "execution_count": null,
   "metadata": {},
   "outputs": [],
   "source": [
    "df_profession.info()\n",
    "df_profession_category.info()\n",
    "df_age.info()\n",
    "df_geography.info()"
   ]
  },
  {
   "cell_type": "code",
   "execution_count": null,
   "metadata": {},
   "outputs": [],
   "source": [
    "# It looks like GPGmean is read as an object (string) in df_profession dataframe. \n",
    "# GPGmean and GPGmedian are both objects in df_geography\n",
    "# Let's convert the data to float64, so we can create plots later\n",
    "df_profession['GPGmean'] = pd.to_numeric(df_profession['GPGmean'], errors='coerce')\n",
    "df_geography['GPGmean'] = pd.to_numeric(df_geography['GPGmean'], errors='coerce')\n",
    "df_geography['GPGmedian'] = pd.to_numeric(df_geography['GPGmedian'], errors='coerce')"
   ]
  },
  {
   "cell_type": "code",
   "execution_count": null,
   "metadata": {},
   "outputs": [],
   "source": [
    "# Next, let's check for missing values\n",
    "df_profession.isna().sum()\n",
    "df_profession_category.isna().sum()\n",
    "df_age.isna().sum()"
   ]
  },
  {
   "cell_type": "markdown",
   "metadata": {},
   "source": [
    "All seems fine - let's get plotting"
   ]
  },
  {
   "cell_type": "code",
   "execution_count": null,
   "metadata": {},
   "outputs": [],
   "source": [
    "# Let's plot the mean and median Gender Pay Gap (GPG)\n",
    "df_profession.boxplot(column=['GPGmedian', 'GPGmean'])"
   ]
  },
  {
   "cell_type": "markdown",
   "metadata": {},
   "source": [
    "Hmmm, there are outliers. Let's check the descriptive statistics"
   ]
  },
  {
   "cell_type": "code",
   "execution_count": null,
   "metadata": {},
   "outputs": [],
   "source": [
    "# Let's look at the distribution of the values in the columns\n",
    "df_profession.describe()"
   ]
  },
  {
   "cell_type": "code",
   "execution_count": null,
   "metadata": {},
   "outputs": [],
   "source": [
    "# Let's try to visualise what's going on with a histogram - what type of skew do you notice?\n",
    "df_profession[['GPGmedian']].plot(kind='hist', ec='black')"
   ]
  },
  {
   "cell_type": "markdown",
   "metadata": {},
   "source": [
    "Hmmm, there appears to be a lone bin in our histogram. Which might be the profession or professions where women earn more than men?"
   ]
  },
  {
   "cell_type": "code",
   "execution_count": null,
   "metadata": {},
   "outputs": [],
   "source": [
    "# Is there one profession or more professions where women earn more? Let's do some investigation through visualisation. \n",
    "import altair as alt\n",
    "alt.Chart(df_profession).mark_bar().encode(\n",
    "    alt.X(\"GPGmedian:Q\", bin=True, title='GPGmedian'), \n",
    "    y=alt.Y('Description:N', sort='-x', title='Professional Category'),  \n",
    "    color='Description:N',\n",
    "    tooltip=['Description', 'GPGmedian']\n",
    ").properties(\n",
    "    width=600,\n",
    "    height=400\n",
    ")"
   ]
  },
  {
   "cell_type": "markdown",
   "metadata": {},
   "source": [
    "This plot shows us that Community and civil enforcement occupations, skilled agricultural and related trades, and secretarial and related occupations are the ones where women earn, on average, more than men. \n",
    "\n",
    "If you are wondering what 'community and civil enforcement occupations' mean - then [this ONS source](https://www.ons.gov.uk/methodology/classificationsandstandards/standardoccupationalclassificationsoc/soc2020/soc2020volume1structureanddescriptionsofunitgroups) says it includes police community and parking and civil enforcement officers.\n",
    "\n",
    "Are these occupations the ones you suspected women to earn more than men (on average)?\n",
    "\n",
    "<span style=\"color: blue;\">Sidenote:</span> The above visualisation is detailed, but it's busy and cluttered. How about if we try doing this on df_profession_category instead?"
   ]
  },
  {
   "cell_type": "code",
   "execution_count": null,
   "metadata": {},
   "outputs": [],
   "source": [
    "# Is there one profession where Women earn more? Let's do some investigation. \n",
    "import altair as alt\n",
    "alt.Chart(df_profession_category).mark_bar().encode(\n",
    "    alt.X(\"GPGmedian:Q\", bin=True), \n",
    "    y=alt.Y('Description:N', sort='-x'),  \n",
    "    color='Description:N',\n",
    "    tooltip=['Description', 'GPGmedian']\n",
    ").properties(\n",
    "    width=600,\n",
    "    height=400\n",
    ")"
   ]
  },
  {
   "cell_type": "markdown",
   "metadata": {},
   "source": [
    "In this, we have lost some of the detail we had in the earlier visualisation, but we get to know that \"Caring, leisure and other service occupations\" is a 'main category' of occcupation where the GPG is low (but women don't earn more than men). \n",
    "\n",
    "<span style=\"color: blue;\">Sidenote:</span> What does this narrative tell you about women being more likely to do multiple jobs to work around their domestic responsibilities which we spoke about in the lecture (and recordings)?"
   ]
  },
  {
   "cell_type": "code",
   "execution_count": null,
   "metadata": {},
   "outputs": [],
   "source": [
    "# Alternative visualisation (excluding all employees category)\n",
    "\n",
    "# In which main professional categories is the gap narrow? Let's find out!\n",
    "df_professions_sorted = df_profession_category.sort_values('GPGmedian', ascending=True)\n",
    "\n",
    "# Let's drop the row corresponding to 'All employees' because we are more interested in looking at the differences across professional categories and sub-categories here \n",
    "df_professions_sorted = df_professions_sorted[df_professions_sorted['Description'] != 'All employees']\n",
    "\n",
    "# Let's create the bar plot\n",
    "df_professions_sorted.plot.bar(x='Description', y='GPGmedian')"
   ]
  },
  {
   "cell_type": "markdown",
   "metadata": {},
   "source": [
    "Let's look at age-based differences next:"
   ]
  },
  {
   "cell_type": "code",
   "execution_count": null,
   "metadata": {},
   "outputs": [],
   "source": [
    "df_age.sort_values('age_group', ascending=True).plot.bar(x = 'age_group', y = 'GPGmedian')"
   ]
  },
  {
   "cell_type": "markdown",
   "metadata": {},
   "source": [
    "<span style=\"color: blue;\">Reflection:</span> It seems that GPG increases with age - what does this say about our dicussion during the lectures about GPG increasing for women who take time off from work for a variety of reasons compared to their male and female counterparts who do not take time out of work! What do you think might be the reasons for the minor fall in GPG at 60+?"
   ]
  },
  {
   "cell_type": "markdown",
   "metadata": {},
   "source": [
    "## Geography\n",
    "\n",
    "#### But first: \n",
    "Since moving on from our Iris and Wine datasets, the real-world datasets rarely come prepared (ready to use).\n",
    "\n",
    "+ If you download the zip file for the latest [2023 Pay Gap ONS statistics](https://www.ons.gov.uk/file?uri=/employmentandlabourmarket/peopleinwork/earningsandworkinghours/datasets/annualsurveyofhoursandearningsashegenderpaygaptables/2023provisional/genderpaygap2023provisional.zip), you will notice that they have color-coded their cells based on the certainty of estimates. On the one hand, this is very good practice - being transparent about the quality of the data. On the other hand, it tells us that we need to be careful about what insights we can draw from the data.\n",
    "+ If you look at the statistics for one year, you can get a glimpse of what's happening across various categories (geography, age, profession, etc.) in terms of GPG but it's a cross-sectional view. But you can collate a longitudinal view should you wish to. E.g., by downloading the zip folders across the desired years and collating the information for desired categories for multiple years. But remember that this will be a 'simplified approach' to a longitudinal view and will have limitations. Also, recollect one of the figures Cagatay showed in the earlier lectures - it's common to spend a lot of time at the start of your Data Science project just collating the necessary information. If you fancy, you can write a script to automate the data collation process!\n",
    "+ We have geography information as area codes from the ONS source, but wouldn't it be nice if we are able to visualise GPG by Geography on a map of England (with [Levelling Up agenda](https://www.gov.uk/government/publications/levelling-up-the-united-kingdom) and all). That's the data hunt I went on. And found this:[UK GEO-Json](https://martinjc.github.io/UK-GeoJSON/). Now let's see what visualisation we can create with it.\n",
    "  \n",
    "<span style=\"color: blue;\">Takeaway:</span> Collating data from multiple sources is a significant, valuable and legitimate part of the Data Science project journey"
   ]
  },
  {
   "cell_type": "code",
   "execution_count": null,
   "metadata": {},
   "outputs": [],
   "source": [
    "# Getting the geospatial polygons for England\n",
    "import geopandas as gpd \n",
    "import altair as alt\n",
    "\n",
    "geo_states_england = gpd.read_file('data/Counties_and_Unitary_Authorities_May_2023_UK_BUC_-7406349609691062173.gpkg')\n",
    "geo_states_england.head()"
   ]
  },
  {
   "cell_type": "code",
   "execution_count": null,
   "metadata": {},
   "outputs": [],
   "source": [
    "print(geo_states_england.columns)"
   ]
  },
  {
   "cell_type": "code",
   "execution_count": null,
   "metadata": {},
   "outputs": [],
   "source": [
    "# Let's drop the columns we don't need\n",
    "geo_states_england = geo_states_england.drop(['CTYUA23NMW', 'BNG_E', 'BNG_N', 'GlobalID'], axis=1)"
   ]
  },
  {
   "cell_type": "code",
   "execution_count": null,
   "metadata": {},
   "outputs": [],
   "source": [
    "# Let's check again\n",
    "geo_states_england.head()"
   ]
  },
  {
   "cell_type": "code",
   "execution_count": null,
   "metadata": {},
   "outputs": [],
   "source": [
    "# Let's create a map of England\n",
    "pre_GPG_England = alt.Chart(geo_states_england, title='Map of England').mark_geoshape().encode(\n",
    "    tooltip=['CTYUA23NM']\n",
    ").properties(\n",
    "    width=500,\n",
    "    height=300\n",
    ")\n",
    "pre_GPG_England"
   ]
  },
  {
   "cell_type": "markdown",
   "metadata": {},
   "source": [
    "What's that?!\n",
    "\n",
    "::: callout-warning\n",
    "\n",
    "## Map projections\n",
    "\n",
    "Because the Earth is round, and maps are flat, geospatial data needs to be \"projected\". There are many types of projecting geospatial data, and all of them come with some tradeoff in terms of distorting area and/or distance (in other words, none of them are perfect). You can read more here.\n",
    "\n",
    "Now, the geospatial dataset that we are using for this notebook was downloaded from and uses a Coordinate Reference System (CRS)\n",
    "known as EPSG:27700 - OSGB36 / British National Grid. Regretfully, Altair works with a different CRS:  WGS 84 (also known as epsg:4326), and this is creating the conflict.\n",
    "\n",
    "We have two options: either reproject our data using geopandas, or according to [Altair documentation](https://altair-viz.github.io/user_guide/data.html#projections) try using the project configuration `(type: 'identity', reflectY': True)``. It draws the geometries without applying a projection.\n",
    "\n",
    ":::"
   ]
  },
  {
   "cell_type": "code",
   "execution_count": null,
   "metadata": {},
   "outputs": [],
   "source": [
    "# Let's create a map of England\n",
    "pre_GPG_England = alt.Chart(geo_states_england, title='Map of England').mark_geoshape().encode(\n",
    "    tooltip=['CTYUA23NM']\n",
    ").properties(\n",
    "    width=500,\n",
    "    height=300\n",
    ").project(\n",
    "    type='identity',\n",
    "    reflectY=True\n",
    ")\n",
    "pre_GPG_England"
   ]
  },
  {
   "cell_type": "code",
   "execution_count": null,
   "metadata": {},
   "outputs": [],
   "source": [
    "df_geography.info()"
   ]
  },
  {
   "cell_type": "code",
   "execution_count": null,
   "metadata": {},
   "outputs": [],
   "source": [
    "geo_states_england"
   ]
  },
  {
   "cell_type": "code",
   "execution_count": null,
   "metadata": {},
   "outputs": [],
   "source": [
    "df_geography"
   ]
  },
  {
   "cell_type": "code",
   "execution_count": null,
   "metadata": {},
   "outputs": [],
   "source": [
    "# Add the data\n",
    "geo_states_england = geo_states_england.merge(df_geography, left_on = 'CTYUA23CD', right_on = 'Code')"
   ]
  },
  {
   "cell_type": "code",
   "execution_count": null,
   "metadata": {},
   "outputs": [],
   "source": [
    "# Check the merged data\n",
    "geo_states_england.head(10)"
   ]
  },
  {
   "cell_type": "code",
   "execution_count": null,
   "metadata": {},
   "outputs": [],
   "source": [
    "# Let's plot the GPG by geography now\n",
    "post_GPG_England = alt.Chart(geo_states_england, title='GPG by region - England').mark_geoshape().encode(\n",
    "    color='GPGmedian',\n",
    "    tooltip=['Description', 'GPGmedian']\n",
    ").properties(\n",
    "    width=500,\n",
    "    height=300\n",
    ").project(\n",
    "    type='identity',\n",
    "    reflectY=True\n",
    ")\n",
    "post_GPG_England"
   ]
  },
  {
   "cell_type": "code",
   "execution_count": null,
   "metadata": {},
   "outputs": [],
   "source": [
    "# side by side view\n",
    "GPG_England = pre_GPG_England | post_GPG_England\n",
    "GPG_England"
   ]
  },
  {
   "cell_type": "markdown",
   "metadata": {},
   "source": [
    "<span style=\"color: blue;\">NOTE:</span> There seems to be a blip in the rendering of the post_GPG_England map. Do you think a cleaner dataset will help overcome this issue?"
   ]
  },
  {
   "cell_type": "markdown",
   "metadata": {},
   "source": [
    "How do the results in this workbook compare to the visualisation we saw during the lecture, for example, for the UK in [Information is Beautiful](https://informationisbeautiful.net/visualizations/gender-pay-gap/) But remember the earnings across the two might be for different years - do remember to check the metadata!"
   ]
  }
 ],
 "metadata": {
  "kernelspec": {
   "display_name": "Python 3 (ipykernel)",
   "language": "python",
   "name": "python3"
  },
  "language_info": {
   "codemirror_mode": {
    "name": "ipython",
    "version": 3
   },
   "file_extension": ".py",
   "mimetype": "text/x-python",
   "name": "python",
   "nbconvert_exporter": "python",
   "pygments_lexer": "ipython3",
   "version": "3.11.4"
  }
 },
 "nbformat": 4,
 "nbformat_minor": 4
}
