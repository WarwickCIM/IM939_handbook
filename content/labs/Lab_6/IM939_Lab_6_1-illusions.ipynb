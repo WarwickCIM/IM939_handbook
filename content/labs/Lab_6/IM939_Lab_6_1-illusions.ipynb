{
 "cells": [
  {
   "cell_type": "markdown",
   "metadata": {},
   "source": [
    "# Lab: Illusions\n",
    "\n",
    "In the following labs we are going to look at visualisations. In this notebook, we will consider 2 'illusions', whereas the following ones will address misleading visualisations such as bar plots and line plots (@sec-axes-manipulation) and choropleth maps.\n",
    "\n",
    "::: callout-note\n",
    "\n",
    "## Altair\n",
    "For this lab we will be using `Altair` - a plotting library which has more flexibility than seaborn. It is a little more complex and examples can be found [here](https://altair-viz.github.io/gallery/). `Altair` is not installed by default in Anaconda, but it has been included in the virtual environment for this module. If you are using the course's virtual environment, this should be installed for you the first time you set up your environment for the module. Refer to @sec-setup for instructions on how to set up your environment.\n",
    "\n",
    ":::\n",
    "\n"
   ]
  },
  {
   "cell_type": "markdown",
   "metadata": {},
   "source": [
    "## Clustering illusion\n",
    "\n",
    "The cluster illusion refers to the natural tendency to wrongly see patterns or clusters in random data. You can find details of the clustering illusion [here](https://en.wikipedia.org/wiki/Clustering_illusion), [here](https://www.sciencedirect.com/science/article/abs/pii/004269899090160M), and [here](https://www.sciencedirect.com/science/article/pii/S0042698906000927).\n",
    "\n",
    "::: aside\n",
    "\n",
    "![1,000 points randomly distributed inside a square, showing apparent clusters and empty spaces](figs/Plot_of_random_points.gif)\n",
    "\n",
    ":::"
   ]
  },
  {
   "cell_type": "code",
   "execution_count": null,
   "metadata": {},
   "outputs": [],
   "source": [
    "#| echo: false\n",
    "# Remove warnings for this notebook.\n",
    "import warnings\n",
    "warnings.filterwarnings('ignore')"
   ]
  },
  {
   "cell_type": "markdown",
   "metadata": {},
   "source": [
    "We will try to replicate the image on the aside by generating a random dataset of 700 points with random `x` and `y` coordinates, and visualising them on a scatterplot to see if we can see any false clustering:"
   ]
  },
  {
   "cell_type": "code",
   "execution_count": null,
   "metadata": {},
   "outputs": [],
   "source": [
    "import numpy as np\n",
    "import seaborn as sns\n",
    "import pandas as pd\n",
    "import altair as alt\n",
    "\n",
    "# Set number of observations in the dataframe that we are about to create.\n",
    "n = 700\n",
    "\n",
    "# Generate a random dataframe.\n",
    "d = {'x': np.random.uniform(0, 100, n), 'y': np.random.uniform(0, 100, n)}\n",
    "df = pd.DataFrame(d)\n",
    "\n",
    "# Create a scatterplot with seaborn.\n",
    "sns.relplot(data = df, x = 'x', y = 'y')"
   ]
  },
  {
   "cell_type": "markdown",
   "metadata": {},
   "source": [
    "And now the same but using altair instead of seaborn. The syntax for building this type in Altair is pretty straight forward."
   ]
  },
  {
   "cell_type": "code",
   "execution_count": null,
   "metadata": {},
   "outputs": [],
   "source": [
    "# Basic scatterplot in Altair\n",
    "alt.Chart(df).mark_circle(size=5).encode(\n",
    "    x='x',\n",
    "    y='y')"
   ]
  },
  {
   "cell_type": "markdown",
   "metadata": {},
   "source": [
    "To remove those pesky lines we need to specify we want an `x` and `y` axis without grid lines."
   ]
  },
  {
   "cell_type": "code",
   "execution_count": null,
   "metadata": {},
   "outputs": [],
   "source": [
    "alt.Chart(df).mark_circle(size=5).encode(\n",
    "    alt.X('x', axis=alt.Axis(grid=False)),\n",
    "    alt.Y('y', axis=alt.Axis(grid=False)))"
   ]
  },
  {
   "cell_type": "markdown",
   "metadata": {},
   "source": [
    "\n",
    "::: callout-caution\n",
    "## Question\n",
    "Do you see any clustering the in the above plots? What about if we give names to the different columns?\n",
    "\n",
    ":::\n",
    "\n",
    "We will do a lot of altering axis and colors in altair. We do this by specifying `alt.axistype` and then passing various options."
   ]
  },
  {
   "cell_type": "code",
   "execution_count": null,
   "metadata": {},
   "outputs": [],
   "source": [
    "alt.Chart(df).mark_circle(size=5).encode(\n",
    "    alt.X('x', axis=alt.Axis(grid=False, title='Height')),\n",
    "    alt.Y('y', axis=alt.Axis(grid=False, title='Weight')))"
   ]
  },
  {
   "cell_type": "markdown",
   "metadata": {},
   "source": [
    "### Streaks\n",
    "\n",
    "Another example of the clustering illusion is the idea of 'streaks', which consists of (wrongly) identifying a pattern from a small sample and extrapolate out.\n",
    "\n",
    "::: aside\n",
    "\n",
    "![](figs/dice-roll.gif){width=200px}\n",
    "\n",
    ":::\n",
    "\n",
    "Let's imagine you roll a dice. What are the odds of it being 6? And if we do a second roll? And a third? And if we repeat it 10 times? Or conversely, would you be able to predict what the next dice roll would be after 10 attemtps?\n",
    "\n",
    "Let's figure it out!\n",
    "\n"
   ]
  },
  {
   "cell_type": "code",
   "execution_count": null,
   "metadata": {},
   "outputs": [],
   "source": [
    "n_rolls = 10\n",
    "\n",
    "# Generate a dataframe where we randomly get a number from 1-6 per n rounds.\n",
    "d = {'round': np.linspace(1,n_rolls,n_rolls), 'roll': np.random.randint(1,7,n_rolls)}\n",
    "df_dice = pd.DataFrame(d)\n",
    "\n",
    "df_dice"
   ]
  },
  {
   "cell_type": "code",
   "execution_count": null,
   "metadata": {},
   "outputs": [],
   "source": [
    "sns.scatterplot(data=df_dice, x='round', y='roll')"
   ]
  },
  {
   "cell_type": "code",
   "execution_count": null,
   "metadata": {},
   "outputs": [],
   "source": [
    "alt.Chart(df_dice).mark_circle(size=20).encode(\n",
    "    alt.X('round', axis=alt.Axis(grid=False)),\n",
    "    alt.Y('roll', axis=alt.Axis(grid=False)))"
   ]
  },
  {
   "cell_type": "markdown",
   "metadata": {},
   "source": [
    "Each number on the dice will occur the same number of times. Any patterns you see are due to extrapolating based on a small sample. We can check that though by rolling the 'dice' 1,000,000 times."
   ]
  },
  {
   "cell_type": "code",
   "execution_count": null,
   "metadata": {},
   "outputs": [],
   "source": [
    "n_rolls = 1000000\n",
    "d = {'round': np.linspace(1,n_rolls,n_rolls), 'roll': np.random.randint(1,7,n_rolls)}\n",
    "df_dice_many = pd.DataFrame(d)\n",
    "\n",
    "df_dice_many.groupby('roll').count()"
   ]
  },
  {
   "cell_type": "markdown",
   "metadata": {},
   "source": [
    "## Weber-Fechner Law\n",
    "\n",
    "\n",
    "\n",
    "> 'The Weber-Fechner Law is a famous finding of early psychophysics indicating that differences between stimuli are detected on a logarithmic scale. It takes more additional millimeters of radius to discern two larger circles than two smaller circles. This type of bias is probably one of the most researched biases in visualization research.' \n",
    "> \n",
    "> -- [@calero_valdez_studying_2018]\n",
    "\n",
    "Let us see if we can create a plot to demonstrate it.\n",
    "\n",
    "We will load in the car crashes dataset from seaborn. Documentation of the data is [here](https://www.kaggle.com/fivethirtyeight/fivethirtyeight-bad-drivers-dataset)."
   ]
  },
  {
   "cell_type": "code",
   "execution_count": null,
   "metadata": {},
   "outputs": [],
   "source": [
    "df_crashes = sns.load_dataset('car_crashes')\n",
    "df_crashes.head()"
   ]
  },
  {
   "cell_type": "markdown",
   "metadata": {},
   "source": [
    "To illustrate this 'illusion' we will plot the percentage of drivers speeding, percentage of alcohol impaired and set the size of the point equal to the percentage of drivers not previously involves in any accident. Each point is an american state.\n",
    "\n",
    "Are there any relationships or patterns in the data?"
   ]
  },
  {
   "cell_type": "code",
   "execution_count": null,
   "metadata": {},
   "outputs": [],
   "source": [
    "sns.scatterplot(data=df_crashes, x='speeding', y='alcohol', size='no_previous')"
   ]
  },
  {
   "cell_type": "markdown",
   "metadata": {},
   "source": [
    "Is it easier to distinguish the different sizes in the below plot?"
   ]
  },
  {
   "cell_type": "code",
   "execution_count": null,
   "metadata": {},
   "outputs": [],
   "source": [
    "sns.scatterplot(data=df_crashes,\n",
    "                x='speeding',\n",
    "                y='alcohol',\n",
    "                size='no_previous',\n",
    "                sizes=(10,40))"
   ]
  },
  {
   "cell_type": "markdown",
   "metadata": {},
   "source": [
    "How about this one?"
   ]
  },
  {
   "cell_type": "code",
   "execution_count": null,
   "metadata": {},
   "outputs": [],
   "source": [
    "sns.scatterplot(data=df_crashes,\n",
    "                x='speeding',\n",
    "                y='alcohol',\n",
    "                size='no_previous',\n",
    "                sizes=(40,70))"
   ]
  },
  {
   "cell_type": "markdown",
   "metadata": {},
   "source": [
    "The values are the same. We have just changed the range of sizes.\n",
    "\n",
    "We can do much the same in altair."
   ]
  },
  {
   "cell_type": "code",
   "execution_count": null,
   "metadata": {},
   "outputs": [],
   "source": [
    "alt.Chart(df_crashes).mark_circle().encode(\n",
    "    x='speeding',\n",
    "    y='alcohol',\n",
    "    size='no_previous'\n",
    ")"
   ]
  },
  {
   "cell_type": "code",
   "execution_count": null,
   "metadata": {},
   "outputs": [],
   "source": [
    "alt.Chart(df_crashes).mark_circle().encode(\n",
    "    x='speeding',\n",
    "    y='alcohol',\n",
    "    size = alt.Size('no_previous', scale=alt.Scale(range=[10,40]))\n",
    ")"
   ]
  },
  {
   "cell_type": "code",
   "execution_count": null,
   "metadata": {},
   "outputs": [],
   "source": [
    "alt.Chart(df_crashes).mark_circle().encode(\n",
    "    x='speeding',\n",
    "    y='alcohol',\n",
    "    size = alt.Size('no_previous', scale=alt.Scale(range=[40,70]))\n",
    ")"
   ]
  },
  {
   "cell_type": "markdown",
   "metadata": {},
   "source": [
    "Have you come across any other illusions? If so, try and plot them out. I sometimes find it easier to understand these things through creating simple illustrations of my own."
   ]
  }
 ],
 "metadata": {
  "kernelspec": {
   "display_name": "Python 3 (ipykernel)",
   "language": "python",
   "name": "python3"
  },
  "language_info": {
   "codemirror_mode": {
    "name": "ipython",
    "version": 3
   },
   "file_extension": ".py",
   "mimetype": "text/x-python",
   "name": "python",
   "nbconvert_exporter": "python",
   "pygments_lexer": "ipython3",
   "version": "3.12.4"
  }
 },
 "nbformat": 4,
 "nbformat_minor": 4
}
