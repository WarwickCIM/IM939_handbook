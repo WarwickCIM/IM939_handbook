{
 "cells": [
  {
   "cell_type": "markdown",
   "metadata": {},
   "source": [
    "# Lab: Repetition\n",
    "\n",
    "Welcome to the second part of IM939 lab 1. Here we are going to look at how to deal with repetition, or actually how to avoid repetition using functions, methods and control flow.\n",
    "\n",
    "\n",
    "::: callout-tip\n",
    "### DRY\n",
    "Python takes pride in using the \"_[Don't Repeat Yourself (DRY)](https://en.wikipedia.org/wiki/Don%27t_repeat_yourself)_\" coding principle, and this is something you will likely see repeated almost as a mantra by (Python) coders and something you should get familiar with.\n",
    "\n",
    ":::"
   ]
  },
  {
   "cell_type": "markdown",
   "metadata": {},
   "source": [
    "## Functions\n",
    "\n",
    "How do we get the length of a list?"
   ]
  },
  {
   "cell_type": "code",
   "execution_count": null,
   "metadata": {},
   "outputs": [],
   "source": [
    "lunch_ingredients = ['gravy', 'potatoes', 'meat', 'veg']\n",
    "len(lunch_ingredients)"
   ]
  },
  {
   "cell_type": "markdown",
   "metadata": {},
   "source": [
    "We used a function. The syntax for a function is function_name(argument1, argument2,...,argumentN), noting that some arguments can be optional, meaning they are not essential for the function to execute successfully. In our above example we passed the list lunch_ingrediants as an argument to the len function.\n",
    "\n"
   ]
  },
  {
   "cell_type": "code",
   "execution_count": null,
   "metadata": {},
   "outputs": [],
   "source": [
    "james = {'age':35, 'hair colour': 'brown', 'Glasses': 'yes'}"
   ]
  },
  {
   "cell_type": "code",
   "execution_count": null,
   "metadata": {},
   "outputs": [],
   "source": [
    "len(james)"
   ]
  },
  {
   "cell_type": "markdown",
   "metadata": {},
   "source": [
    "One very useful function is to check a data type. In core Python it may be obvious but when you move to libraries, with different data types, it may be worth checking."
   ]
  },
  {
   "cell_type": "code",
   "execution_count": null,
   "metadata": {},
   "outputs": [],
   "source": [
    "type(james)"
   ]
  },
  {
   "cell_type": "code",
   "execution_count": null,
   "metadata": {},
   "outputs": [],
   "source": [
    "type(lunch_ingredients)"
   ]
  },
  {
   "cell_type": "code",
   "execution_count": null,
   "metadata": {},
   "outputs": [],
   "source": [
    "type(55)"
   ]
  },
  {
   "cell_type": "markdown",
   "metadata": {},
   "source": [
    "## Methods\n",
    "\n",
    "What is really happening? Well all data types in Python have functions built in. A variable is an object (a string, a list, an int, etc.). Each object has a set of methods do stuff with that object.\n",
    "\n",
    "For example, I can add a value to the lunch_ingredients list liks so"
   ]
  },
  {
   "cell_type": "code",
   "execution_count": null,
   "metadata": {},
   "outputs": [],
   "source": [
    "lunch_ingredients.append('yorkshire pudding')\n",
    "lunch_ingredients"
   ]
  },
  {
   "cell_type": "markdown",
   "metadata": {},
   "source": [
    "Note the objectname.method notation. By adding a yorkshire pudding, a fine addition to any meal, my lunch ingredients now number 5.\n",
    "\n",
    "I can count these easily."
   ]
  },
  {
   "cell_type": "code",
   "execution_count": null,
   "metadata": {},
   "outputs": [],
   "source": [
    "len(lunch_ingredients)"
   ]
  },
  {
   "cell_type": "markdown",
   "metadata": {},
   "source": [
    "Which is the same as the following."
   ]
  },
  {
   "cell_type": "code",
   "execution_count": null,
   "metadata": {},
   "outputs": [],
   "source": [
    "lunch_ingredients.__len__()"
   ]
  },
  {
   "cell_type": "markdown",
   "metadata": {},
   "source": [
    "You can tab complete to see what methods are available for a given object. There are quite a few [built in python functions](https://www.w3schools.com/python/python_ref_functions.asp#:~:text=Python%20Built%20in%20Functions%20%20%20%20Function,of%20an%20object%20%2036%20more%20rows%20).\n",
    "\n",
    "However, do be aware that different objects will likely have different methods. For instance, can we get a length of an int?"
   ]
  },
  {
   "cell_type": "code",
   "execution_count": null,
   "metadata": {},
   "outputs": [],
   "source": [
    "#| error: true\n",
    "len(4)"
   ]
  },
  {
   "cell_type": "markdown",
   "metadata": {},
   "source": [
    "The error \"TypeError: object of type 'int' has no len()\" essentially means an int object has no __len__ [dunder method](https://medium.com/@robertbracco1/most-common-python-functions-aafdc01b71ef).\n",
    "\n",
    "To see the methods for a given object, type in the object name in a code cell, add a period '.' and press tab."
   ]
  },
  {
   "cell_type": "markdown",
   "metadata": {},
   "source": [
    "## Flow control\n",
    "\n",
    "### For loops\n",
    "\n",
    "You may need to repeat some code (such as reading lines in a csv file). For loops allow you to repeat code but with a variable changing each loop.\n",
    "\n",
    "For instance,"
   ]
  },
  {
   "cell_type": "code",
   "execution_count": null,
   "metadata": {},
   "outputs": [],
   "source": [
    "for ingredient in lunch_ingredients:\n",
    "    print(ingredient)"
   ]
  },
  {
   "cell_type": "markdown",
   "metadata": {},
   "source": [
    "The above loop went through each ingrediant and printed it. \n",
    "\n",
    "Note the syntax and spacing. The for statement finishes with a : and the next line has a tab. For loops have to be defined like that. If you miss out the tab then you will be shown an error (like below). It does make the code more readable though."
   ]
  },
  {
   "cell_type": "code",
   "execution_count": null,
   "metadata": {},
   "outputs": [],
   "source": [
    "for ingredient in lunch_ingredients:\n",
<<<<<<< HEAD
    "    print(ingredient)"
=======
    "print(ingredient)"
>>>>>>> 3335abe9ae4162be00a3f9ac6929069d335181c0
   ]
  },
  {
   "cell_type": "markdown",
   "metadata": {},
   "source": [
    "At least the error is informative.\n",
    "\n",
    "We can have more than one line in the loop."
   ]
  },
  {
   "cell_type": "code",
   "execution_count": null,
   "metadata": {},
   "outputs": [],
   "source": [
    "for ingredient in lunch_ingredients:\n",
    "    print('I love to eat ' + ingredient)\n",
    "    print('food is great')"
   ]
  },
  {
   "cell_type": "markdown",
   "metadata": {},
   "source": [
    "### If statements\n",
    "\n",
    "An if statement allows us to run different code depending on a condition. "
   ]
  },
  {
   "cell_type": "code",
   "execution_count": null,
   "metadata": {},
   "outputs": [],
   "source": [
    "my_num = 3\n",
    "\n",
    "if my_num > 5:\n",
    "    print('Number is bigger than 5')\n",
    "    \n",
    "if my_num < 5:\n",
    "    print('Number is less than 5')"
   ]
  },
  {
   "cell_type": "markdown",
   "metadata": {},
   "source": [
    "We can include this in a for loop."
   ]
  },
  {
   "cell_type": "code",
   "execution_count": null,
   "metadata": {},
   "outputs": [],
   "source": [
    "for i in range(10): #go through each number 0:10\n",
    "    print(i)"
   ]
  },
  {
   "cell_type": "code",
   "execution_count": null,
   "metadata": {},
   "outputs": [],
   "source": [
    "for i in range(10):\n",
    "    print(i)\n",
    "    if i == 5:\n",
    "        print('We found a 5!')"
   ]
  },
  {
   "cell_type": "markdown",
   "metadata": {},
   "source": [
    "You can also include an else part of your if statement."
   ]
  },
  {
   "cell_type": "code",
   "execution_count": null,
   "metadata": {},
   "outputs": [],
   "source": [
    "for i in range(10):\n",
    "    print(i)\n",
    "    if i == 5:\n",
    "        print('We found a 5! :)')\n",
    "    else:\n",
    "        print('Not a 5. Boo hoo :(')"
   ]
  }
 ],
 "metadata": {
  "kernelspec": {
   "display_name": "Python 3 (ipykernel)",
   "language": "python",
   "name": "python3"
  },
  "language_info": {
   "codemirror_mode": {
    "name": "ipython",
    "version": 3
   },
   "file_extension": ".py",
   "mimetype": "text/x-python",
   "name": "python",
   "nbconvert_exporter": "python",
   "pygments_lexer": "ipython3",
   "version": "3.12.4"
  }
 },
 "nbformat": 4,
 "nbformat_minor": 4
}
