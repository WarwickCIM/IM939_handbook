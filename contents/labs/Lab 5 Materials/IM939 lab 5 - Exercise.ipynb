{
 "cells": [
  {
   "cell_type": "markdown",
   "metadata": {},
   "source": [
    "# IM939 lab 5 - Exercise\n",
    "\n",
    "The exercise this week is a chance to apply the code you have been delving into over these past week.\n",
    "\n",
    "Choose one of the datasets from a previous week:\n",
    "\n",
    "* Crime Census\n",
    "\n",
    "* London Borough\n",
    "\n",
    "* Wine\n",
    "\n",
    "* Iris\n",
    "\n",
    "* Global warming\n",
    "\n",
    "Or, if you are feeling confident, another dataset from the [sklearn datasets](https://scikit-learn.org/stable/datasets/index.html).\n",
    "\n",
    "__note__ Please do refer to the sklean and pandas documentation if you get stuck.\n",
    "\n",
    "Read in the data using pandas."
   ]
  },
  {
   "cell_type": "code",
   "execution_count": null,
   "metadata": {},
   "outputs": [],
   "source": []
  },
  {
   "cell_type": "markdown",
   "metadata": {},
   "source": [
    "Look at the first few rows. Get a feel for the structure of the data."
   ]
  },
  {
   "cell_type": "code",
   "execution_count": null,
   "metadata": {},
   "outputs": [],
   "source": []
  },
  {
   "cell_type": "markdown",
   "metadata": {},
   "source": [
    "Deal with missing values, if any."
   ]
  },
  {
   "cell_type": "code",
   "execution_count": null,
   "metadata": {},
   "outputs": [],
   "source": []
  },
  {
   "cell_type": "markdown",
   "metadata": {},
   "source": [
    "Create a summary of the data. Plot any particular features or groups of features which you think are of interest."
   ]
  },
  {
   "cell_type": "code",
   "execution_count": null,
   "metadata": {},
   "outputs": [],
   "source": []
  },
  {
   "cell_type": "markdown",
   "metadata": {},
   "source": [
    "Settle on a possible question you want to answer. What might you be able to learn from your dataset?\n",
    "\n",
    "Decide on your initial analysis. Remember, we have covered:\n",
    "\n",
    "* Linear regressions\n",
    "* Dimension reduction\n",
    "* Clustering\n",
    "\n",
    "Which method will best allow you to tackle your question?\n",
    "\n",
    "Apply your chosen analysis method below. Please do refer to and copy and paste code from previous weeks."
   ]
  },
  {
   "cell_type": "code",
   "execution_count": null,
   "metadata": {},
   "outputs": [],
   "source": []
  },
  {
   "cell_type": "markdown",
   "metadata": {},
   "source": [
    "Can you visualise your result?\n",
    "\n",
    "You may want to use a:\n",
    "\n",
    "* Scatterplot\n",
    "* Histogram\n",
    "* Any other plot, such as those in the [seaborn example library](http://seaborn.pydata.org/examples/index.html)."
   ]
  },
  {
   "cell_type": "code",
   "execution_count": null,
   "metadata": {},
   "outputs": [],
   "source": []
  },
  {
   "cell_type": "markdown",
   "metadata": {},
   "source": [
    "Are you able to check if your method is robust (e.g., kfold test of regressions or cluster stability checks)? Perhaps do that below."
   ]
  },
  {
   "cell_type": "code",
   "execution_count": null,
   "metadata": {},
   "outputs": [],
   "source": []
  },
  {
   "cell_type": "markdown",
   "metadata": {},
   "source": [
    "Hmm, what have you learned?\n",
    "\n",
    "\n",
    "You may want to consider if you could convince a friend of your conclusion. Perhaps another type of analysis is needed or there are issues with the analysis you chose above!\n",
    "\n",
    "Use the space below to explore a bit more. "
   ]
  },
  {
   "cell_type": "code",
   "execution_count": null,
   "metadata": {},
   "outputs": [],
   "source": []
  }
 ],
 "metadata": {
  "kernelspec": {
   "display_name": "Python 3",
   "language": "python",
   "name": "python3"
  },
  "language_info": {
   "codemirror_mode": {
    "name": "ipython",
    "version": 3
   },
   "file_extension": ".py",
   "mimetype": "text/x-python",
   "name": "python",
   "nbconvert_exporter": "python",
   "pygments_lexer": "ipython3",
   "version": "3.9.2"
  }
 },
 "nbformat": 4,
 "nbformat_minor": 4
}
