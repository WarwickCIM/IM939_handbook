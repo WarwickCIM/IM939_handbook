{
 "cells": [
  {
   "cell_type": "markdown",
   "metadata": {},
   "source": [
    "# Lab 2 - Exercise 1 - Answers\n",
    "\n",
    "Here we load in a subset of World Indicators data collected by the worldbank([link to dataset](https://datacatalog.worldbank.org/dataset/world-development-indicators)). The notebook containing the code used to subset the data is in the 'Wrangling World Indicators' notebook file available on Moodle.\n",
    "\n",
    "The dataset contains data from the UK, France, Germany and Italy. The variables we look at are:\n",
    "\n",
    "* GDP per capita (current US Dollars)\n",
    "* Imports of goods and services (current US Dollars)\n",
    "* Land area (sq. km)\n",
    "* Life expectancy at birth, total (years)\n",
    "* Population in largest city\n",
    "* Population growth (annual %)\n",
    "* Population, total\n",
    "* Primary education, duration (years) \n",
    "* Progression to secondary school (%)\n",
    "* Rural population (% of total population)\n",
    "\n",
    "and the data, though incomplete, starts from 1960 till 2004."
   ]
  },
  {
   "cell_type": "markdown",
   "metadata": {},
   "source": [
    "Load in pandas and the dataset."
   ]
  },
  {
   "cell_type": "code",
   "execution_count": 3,
   "metadata": {},
   "outputs": [],
   "source": [
    "import pandas as pd\n",
    "df = pd.read_csv('world_indicators_pandas.csv', encoding='UTF-8')"
   ]
  },
  {
   "cell_type": "markdown",
   "metadata": {},
   "source": [
    "How does the data look?"
   ]
  },
  {
   "cell_type": "code",
   "execution_count": 4,
   "metadata": {},
   "outputs": [
    {
     "ename": "SyntaxError",
     "evalue": "invalid syntax (<ipython-input-2-b4f69868d4bf>, line 1)",
     "output_type": "error",
     "traceback": [
      "\u001b[1;36m  File \u001b[1;32m\"<ipython-input-2-b4f69868d4bf>\"\u001b[1;36m, line \u001b[1;32m1\u001b[0m\n\u001b[1;33m    df.i???()\u001b[0m\n\u001b[1;37m        ^\u001b[0m\n\u001b[1;31mSyntaxError\u001b[0m\u001b[1;31m:\u001b[0m invalid syntax\n"
     ]
    }
   ],
   "source": [
    "df.i???()"
   ]
  },
  {
   "cell_type": "markdown",
   "metadata": {},
   "source": [
    "Change year to datetime instead of an integer."
   ]
  },
  {
   "cell_type": "code",
   "execution_count": 5,
   "metadata": {},
   "outputs": [],
   "source": [
    "df['year'] =  pd.to_date????(df['year'], format='%Y')\n",
    "\n",
    "# look at the data types\n",
    "df.dty???"
   ]
  },
  {
   "cell_type": "markdown",
   "metadata": {},
   "source": [
    "Check if we have some missing data."
   ]
  },
  {
   "cell_type": "code",
   "execution_count": 7,
   "metadata": {},
   "outputs": [],
   "source": [
    "?.shape[0] - df.?()"
   ]
  },
  {
   "cell_type": "code",
   "execution_count": 8,
   "metadata": {},
   "outputs": [
    {
     "data": {
      "text/plain": [
       "Country_Name                                     0\n",
       "year                                             0\n",
       "Access_to_electricity_(%_of_population)        120\n",
       "GDP_per_capita_(current_US$)                    10\n",
       "Imports_of_goods_and_services_(current_US$)     30\n",
       "Land_area_(sq._km)                               4\n",
       "Life_expectancy_at_birth,_total_(years)          0\n",
       "Population_growth_(annual_%)                     4\n",
       "Population_in_largest_city                       0\n",
       "Population,_total                                0\n",
       "Primary_education,_duration_(years)             40\n",
       "Progression_to_secondary_school_(%)            130\n",
       "Rural_population_(%_of_total_population)         0\n",
       "dtype: int64"
      ]
     },
     "execution_count": 8,
     "metadata": {},
     "output_type": "execute_result"
    }
   ],
   "source": [
    "df.isnull().sum()"
   ]
  },
  {
   "cell_type": "markdown",
   "metadata": {},
   "source": [
    "What do the top 5 rows look like?"
   ]
  },
  {
   "cell_type": "code",
   "execution_count": 9,
   "metadata": {},
   "outputs": [],
   "source": [
    "df.?()"
   ]
  },
  {
   "cell_type": "markdown",
   "metadata": {},
   "source": [
    "We can look at the top 2 if we like."
   ]
  },
  {
   "cell_type": "code",
   "execution_count": 10,
   "metadata": {},
   "outputs": [],
   "source": [
    "df.iloc[0:2,?]"
   ]
  },
  {
   "cell_type": "markdown",
   "metadata": {},
   "source": [
    "Or all the rows for a particular variable."
   ]
  },
  {
   "cell_type": "code",
   "execution_count": 11,
   "metadata": {},
   "outputs": [],
   "source": [
    "df.iloc[:,?]"
   ]
  },
  {
   "cell_type": "markdown",
   "metadata": {},
   "source": [
    "We can pick out data for a particular country."
   ]
  },
  {
   "cell_type": "code",
   "execution_count": 12,
   "metadata": {},
   "outputs": [],
   "source": [
    "df[df.Country_Name == ?]"
   ]
  },
  {
   "cell_type": "markdown",
   "metadata": {},
   "source": [
    "Or a paticular country and variable."
   ]
  },
  {
   "cell_type": "code",
   "execution_count": 17,
   "metadata": {},
   "outputs": [],
   "source": [
    "df[df.Country_Name == 'Germany'][?]"
   ]
  },
  {
   "cell_type": "code",
   "execution_count": 18,
   "metadata": {},
   "outputs": [],
   "source": [
    "df[df.Country_Name == 'France']['Land_area_(sq._km)']"
   ]
  },
  {
   "cell_type": "markdown",
   "metadata": {},
   "source": [
    "The first land area value is `NaN`. We could fill the first value with the lowest for that country.\n",
    "\n",
    "Below, we use the `.` notation to grab a column and this can be more convenient and we use `df.loc` (see the [pandas documentation](https://pandas.pydata.org/pandas-docs/stable/reference/api/pandas.DataFrame.loc.html)). For each country we set all the values of Land Area to the lowest for that country. That overwrites the NaN with the correct value."
   ]
  },
  {
   "cell_type": "code",
   "execution_count": null,
   "metadata": {},
   "outputs": [],
   "source": [
    "for country in df.Country_Name.unique():\n",
    "        df.loc[df.Country_Name == country, 'Land_area_(sq._km)'] = df.loc[df.Country_Name == country, 'Land_area_(sq._km)'].min()\n"
   ]
  },
  {
   "cell_type": "markdown",
   "metadata": {},
   "source": [
    "We can also scale GDP and population growth between 0 and 1."
   ]
  },
  {
   "cell_type": "code",
   "execution_count": 19,
   "metadata": {},
   "outputs": [],
   "source": [
    "df['GDP_scaled'] = (df['GDP_per_capita_(current_US$)'] - df['GDP_per_capita_(current_US$)'].min()) / (df['GDP_per_capita_(current_US$)'].max() - df['GDP_per_capita_(current_US$)'].min())\n",
    "df['pop_scaled'] = (df[?] - df['Population,_total'].?()) / (df['Population,_total'].max() - df['Population,_total'].min())"
   ]
  },
  {
   "cell_type": "markdown",
   "metadata": {},
   "source": [
    "Make sure it looks ok."
   ]
  },
  {
   "cell_type": "code",
   "execution_count": 22,
   "metadata": {},
   "outputs": [],
   "source": [
    "df[['Country_Name', 'GDP_scaled', 'pop_scaled']]"
   ]
  },
  {
   "cell_type": "markdown",
   "metadata": {},
   "source": [
    "Hmm, looks good."
   ]
  },
  {
   "cell_type": "code",
   "execution_count": 23,
   "metadata": {},
   "outputs": [],
   "source": [
    "df.head()"
   ]
  },
  {
   "cell_type": "markdown",
   "metadata": {},
   "source": [
    "We should get an overview of our variables."
   ]
  },
  {
   "cell_type": "code",
   "execution_count": 25,
   "metadata": {},
   "outputs": [],
   "source": [
    "df.?()"
   ]
  },
  {
   "cell_type": "markdown",
   "metadata": {},
   "source": [
    "A few observations:\n",
    "\n",
    "* The countries we are looking at have had 100% access to electricity. It is not useful in this subset but may be for developing countries.\n",
    "* Population growth looks interesting. It was negative for at least one year.\n",
    "* There seems to be some difference in progression to secondary school.\n",
    "\n",
    "We should describe the data for each country so we can see the differences."
   ]
  },
  {
   "cell_type": "code",
   "execution_count": 29,
   "metadata": {},
   "outputs": [],
   "source": [
    "df.groupby(?).describe()"
   ]
  },
  {
   "cell_type": "markdown",
   "metadata": {},
   "source": [
    "It is too wide. We can select specific variables."
   ]
  },
  {
   "cell_type": "code",
   "execution_count": 30,
   "metadata": {},
   "outputs": [],
   "source": [
    "df[['Country_Name', 'Progression_to_secondary_school_(%)']].groupby('Country_Name').describe()"
   ]
  },
  {
   "cell_type": "markdown",
   "metadata": {},
   "source": [
    "Italy is the country with a minumum of 94% whereas the UK has no data."
   ]
  },
  {
   "cell_type": "markdown",
   "metadata": {},
   "source": [
    "Narrowing in on GPD per capita."
   ]
  },
  {
   "cell_type": "code",
   "execution_count": 31,
   "metadata": {},
   "outputs": [],
   "source": [
    "df['GDP_per_capita_(current_US$)'].?()"
   ]
  },
  {
   "cell_type": "markdown",
   "metadata": {},
   "source": [
    "By country."
   ]
  },
  {
   "cell_type": "code",
   "execution_count": 32,
   "metadata": {},
   "outputs": [],
   "source": [
    "df[['Country_Name','GDP_per_capita_(current_US$)']].groupby('Country_Name').describe()"
   ]
  },
  {
   "cell_type": "markdown",
   "metadata": {},
   "source": [
    "Germany has the highest GDP per capita but we also have less data points. Why is this?\n",
    "\n",
    "Plotting GDP by year will give us a sense of our GDP data."
   ]
  },
  {
   "cell_type": "code",
   "execution_count": 33,
   "metadata": {},
   "outputs": [],
   "source": [
    "df.plot(x='year', y=\"GDP_per_capita_(current_US$)\")"
   ]
  },
  {
   "cell_type": "markdown",
   "metadata": {},
   "source": [
    "Split by country."
   ]
  },
  {
   "cell_type": "code",
   "execution_count": 35,
   "metadata": {},
   "outputs": [],
   "source": [
    "df.groupby('Country_Name').plot(?='year', y=\"GDP_per_capita_(current_US$)\")"
   ]
  },
  {
   "cell_type": "markdown",
   "metadata": {},
   "source": [
    "How about life expectancy?"
   ]
  },
  {
   "cell_type": "code",
   "execution_count": 36,
   "metadata": {},
   "outputs": [],
   "source": [
    "df.groupby('Country_Name').plot(?='year', ?=\"Life_expectancy_at_birth,_total_(years)\")"
   ]
  },
  {
   "cell_type": "markdown",
   "metadata": {},
   "source": [
    "Both increase over time. If we ignore year."
   ]
  },
  {
   "cell_type": "code",
   "execution_count": 37,
   "metadata": {},
   "outputs": [],
   "source": [
    "df.groupby('Country_Name').plot(x=\"GDP_per_capita_(current_US$)\", y=\"Life_expectancy_at_birth,_total_(years)\", kind='scatter')"
   ]
  },
  {
   "cell_type": "markdown",
   "metadata": {},
   "source": [
    "We should plot our scaled variabled against one another in seaborn.\n",
    "\n",
    "First, we let us remind ourselves what our data looks like."
   ]
  },
  {
   "cell_type": "code",
   "execution_count": 38,
   "metadata": {},
   "outputs": [],
   "source": [
    "df.head()"
   ]
  },
  {
   "cell_type": "markdown",
   "metadata": {},
   "source": [
    "Then we can melt our data."
   ]
  },
  {
   "cell_type": "code",
   "execution_count": 39,
   "metadata": {},
   "outputs": [],
   "source": [
    "df_long=pd.?(df, id_var?=['Country_Name', 'year'], value_vars=['GDP_scaled', 'pop_scaled'])\n",
    "df_long"
   ]
  },
  {
   "cell_type": "markdown",
   "metadata": {},
   "source": [
    "Then we can plot each by year."
   ]
  },
  {
   "cell_type": "code",
   "execution_count": 40,
   "metadata": {},
   "outputs": [],
   "source": [
    "import seaborn as sns\n",
    "sns.relplot(x='year', y='value', hue=?, data=df_long)"
   ]
  },
  {
   "cell_type": "markdown",
   "metadata": {},
   "source": [
    "Ah, there are different countries in the data. We should include that in our plot."
   ]
  },
  {
   "cell_type": "code",
   "execution_count": 41,
   "metadata": {},
   "outputs": [],
   "source": [
    "sns.relplot(x='year', y=?, style='variable', hue='Country_Name', data=df_long)"
   ]
  },
  {
   "cell_type": "markdown",
   "metadata": {},
   "source": [
    "Do play around with these plots by changing the data variable names. Are there any interesting relationships between the different data variables?"
   ]
  },
  {
   "cell_type": "markdown",
   "metadata": {},
   "source": [
    "In Exercise 2 we look at what else seaborn can do for us."
   ]
  }
 ],
 "metadata": {
  "kernelspec": {
   "display_name": "Python 3.9.7 ('base')",
   "language": "python",
   "name": "python3"
  },
  "language_info": {
   "codemirror_mode": {
    "name": "ipython",
    "version": 3
   },
   "file_extension": ".py",
   "mimetype": "text/x-python",
   "name": "python",
   "nbconvert_exporter": "python",
   "pygments_lexer": "ipython3",
   "version": "3.9.7"
  },
  "vscode": {
   "interpreter": {
    "hash": "8f0d3d3c53f698a31e63ff0b748221fed8efe7052cfcec89daaf089181669f3c"
   }
  }
 },
 "nbformat": 4,
 "nbformat_minor": 4
}
