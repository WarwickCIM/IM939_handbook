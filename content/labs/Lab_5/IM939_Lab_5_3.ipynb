{
 "cells": [
  {
   "cell_type": "markdown",
   "metadata": {},
   "source": [
    "# Lab: Investigating multidimensional scaling\n",
    "\n",
    "Here we look at some London Borough data."
   ]
  },
  {
   "cell_type": "code",
   "execution_count": null,
   "metadata": {},
   "outputs": [],
   "source": [
    "import pandas as pd\n",
    "\n",
    "df = pd.read_excel('data/london-borough-profilesV3.xlsx', engine = 'openpyxl')\n",
    "df.columns"
   ]
  },
  {
   "cell_type": "code",
   "execution_count": null,
   "metadata": {},
   "outputs": [],
   "source": [
    "df.head()"
   ]
  },
  {
   "cell_type": "markdown",
   "metadata": {},
   "source": [
    "Lots of different features. We also have really odd NaN values such as x and not available. We can try and get rid of this."
   ]
  },
  {
   "cell_type": "code",
   "execution_count": null,
   "metadata": {},
   "outputs": [],
   "source": [
    "def isnumber(x):\n",
    "    try:\n",
    "        float(x)\n",
    "        return True\n",
    "    except:\n",
    "        if (len(x) > 1) & (\"not avail\" not in x):\n",
    "            return True\n",
    "        else:\n",
    "            return False\n",
    "\n",
    "# apply isnumber function to every element\n",
    "df = df[df.applymap(isnumber)]\n",
    "df.head()"
   ]
  },
  {
   "cell_type": "markdown",
   "metadata": {},
   "source": [
    "That looks much cleaner.\n",
    "\n",
    "Replace the NaN values in numeric columns with the mean."
   ]
  },
  {
   "cell_type": "code",
   "execution_count": null,
   "metadata": {},
   "outputs": [],
   "source": [
    "# get only numeric columns\n",
    "numericColumns = df._get_numeric_data()"
   ]
  },
  {
   "cell_type": "code",
   "execution_count": null,
   "metadata": {},
   "outputs": [],
   "source": [
    "from sklearn.metrics import euclidean_distances\n",
    "\n",
    "# keep place names and store them in a variable\n",
    "placeNames = df[\"Area/INDICATOR\"]\n",
    "\n",
    "# let's fill the missing values with mean()\n",
    "numericColumns = numericColumns.fillna(numericColumns.mean())\n",
    "\n",
    "# let's centralize the data\n",
    "numericColumns -= numericColumns.mean()\n",
    "\n",
    "# now we compute the euclidean distances between the columns by passing the same data twice\n",
    "# the resulting data matrix now has the pairwise distances between the boroughs.\n",
    "# CAUTION: note that we are now building a distance matrix in a high-dimensional data space\n",
    "# remember the Curse of Dimensionality -- we need to be cautious with the distance values\n",
    "distMatrix = euclidean_distances(numericColumns, numericColumns)"
   ]
  },
  {
   "cell_type": "markdown",
   "metadata": {},
   "source": [
    "Check to make sure everything looks ok."
   ]
  },
  {
   "cell_type": "code",
   "execution_count": null,
   "metadata": {},
   "outputs": [],
   "source": [
    "numericColumns.head()"
   ]
  },
  {
   "cell_type": "markdown",
   "metadata": {},
   "source": [
    "We can plot out our many dimension space by uncommenting the code below (also note down how long does this take)."
   ]
  },
  {
   "cell_type": "code",
   "execution_count": null,
   "metadata": {},
   "outputs": [],
   "source": [
    "#import seaborn as sns\n",
    "#sns_plot = sns.pairplot(numericColumns)\n",
    "#sns_plot.savefig(\"figs/output.png\")"
   ]
  },
  {
   "cell_type": "markdown",
   "metadata": {},
   "source": [
    "Given that this takes quite a while (around 10 minutes), this is the image that would result from uncommenting and running the code above.\n",
    "\n",
    "![](figs/output.png)"
   ]
  },
  {
   "cell_type": "markdown",
   "metadata": {},
   "source": [
    "Dimension reduction will help us here!\n",
    "\n",
    "We could apply various different types of dimension reduction here. We are specifically going to capture the dissimilarity in the data using [multidimensional scaling](https://scikit-learn.org/stable/modules/manifold.html#multidimensional-scaling). Our distance matrix will come in useful here."
   ]
  },
  {
   "cell_type": "code",
   "execution_count": null,
   "metadata": {},
   "outputs": [],
   "source": [
    "from sklearn import manifold\n",
    "# for instance, typing distMatrix.shape on the console gives:\n",
    "# Out[115]: (38, 38) # i.e., the number of rows\n",
    "\n",
    "# first we generate an MDS object and extract the projections\n",
    "mds = manifold.MDS(n_components = 2, max_iter=3000, n_init=1, dissimilarity=\"precomputed\", normalized_stress=False)\n",
    "Y = mds.fit_transform(distMatrix)"
   ]
  },
  {
   "cell_type": "markdown",
   "metadata": {},
   "source": [
    "To interpret what is happening, let us plot the boroughs on the projected two dimensional space."
   ]
  },
  {
   "cell_type": "code",
   "execution_count": null,
   "metadata": {},
   "outputs": [],
   "source": [
    "from matplotlib import pyplot as plt\n",
    "\n",
    "fig, ax = plt.subplots()\n",
    "fig.set_size_inches(15, 15)\n",
    "plt.suptitle('MDS on only London boroughs')\n",
    "ax.scatter(Y[:, 0], Y[:, 1], c=\"#D06B36\", s = 100, alpha = 0.8, linewidth=0)\n",
    "\n",
    "for i, txt in enumerate(placeNames):\n",
    "    ax.annotate(txt, (Y[:, 0][i],Y[:, 1][i]))"
   ]
  },
  {
   "cell_type": "markdown",
   "metadata": {},
   "source": [
    "Our data also include happiness metrics. Pulling these out of our data and carrying out more multidimensional scaling can help us see how the boroughs differ in happiness."
   ]
  },
  {
   "cell_type": "code",
   "execution_count": null,
   "metadata": {},
   "outputs": [],
   "source": [
    "# get the data columns relating to emotions and feelings\n",
    "dataOnEmotions = numericColumns[[\"Life satisfaction score 2012-13 (out of 10)\", \"Worthwhileness score 2012-13 (out of 10)\",\"Happiness score 2012-13 (out of 10)\"]]\n",
    "\n",
    "# a new distance matrix to represent \"emotional distance\"s\n",
    "distMatrix2 = euclidean_distances(dataOnEmotions, dataOnEmotions)\n",
    "\n",
    "# compute a new \"embedding\" (machine learners' word for projection)\n",
    "Y2 = mds.fit_transform(distMatrix2)\n",
    "\n",
    "# let's look at the results\n",
    "fig, ax = plt.subplots()\n",
    "fig.set_size_inches(15, 15)\n",
    "plt.suptitle('An \\\"emotional\\\" look at London boroughs')\n",
    "ax.scatter(Y2[:, 0], Y2[:, 1], c=\"#D06B36\", s = 100, alpha = 0.8, linewidth=0)\n",
    "\n",
    "for i, txt in enumerate(placeNames):\n",
    "    ax.annotate(txt, (Y2[:, 0][i],Y2[:, 1][i]))"
   ]
  },
  {
   "cell_type": "markdown",
   "metadata": {},
   "source": [
    "The location of the different boroughs on the 2 dimensional multidimensional scaling space from the happiness metrics is"
   ]
  },
  {
   "cell_type": "code",
   "execution_count": null,
   "metadata": {},
   "outputs": [],
   "source": [
    "results_fixed = Y2.copy()\n",
    "print(results_fixed)"
   ]
  },
  {
   "cell_type": "markdown",
   "metadata": {},
   "source": [
    "We may want to look at if the general happiness rating captures the position of the boroughs. To do this we need to assign colours based on the binned happiness score."
   ]
  },
  {
   "cell_type": "code",
   "execution_count": null,
   "metadata": {},
   "outputs": [],
   "source": [
    "import numpy as np\n",
    "\n",
    "colorMappingValuesHappiness = np.asarray(dataOnEmotions[[\"Life satisfaction score 2012-13 (out of 10)\"]]).flatten()\n",
    "print(results_fixed.shape)\n",
    "colorMappingValuesHappiness.shape\n",
    "\n",
    "colorMappingValuesHappiness\n",
    "#c = colorMappingValuesCrime, cmap = plt.cm.Greens"
   ]
  },
  {
   "cell_type": "markdown",
   "metadata": {},
   "source": [
    "Finally, we can plot this. What can you see?"
   ]
  },
  {
   "cell_type": "code",
   "execution_count": null,
   "metadata": {},
   "outputs": [],
   "source": [
    "# let's look at the results\n",
    "fig, ax = plt.subplots()\n",
    "fig.set_size_inches(15, 15)\n",
    "plt.suptitle('An \\\"emotional\\\" look at London boroughs')\n",
    "#ax.scatter(results_fixed[:, 0], results_fixed[:, 1], c = colorMappingValuesHappiness, cmap='viridis')\n",
    "plt.scatter(results_fixed[:, 0], results_fixed[:, 1], c = colorMappingValuesHappiness, s = 100, cmap=plt.cm.Greens)\n",
    "\n",
    "for i, txt in enumerate(placeNames):\n",
    "    ax.annotate(txt, (results_fixed[:, 0][i],results_fixed[:, 1][i]))"
   ]
  },
  {
   "cell_type": "code",
   "execution_count": null,
   "metadata": {},
   "outputs": [],
   "source": [
    "# get the data columns relating to emotions and feelings\n",
    "dataOnDiversity = numericColumns[[\"Proportion of population aged 0-15, 2013\", \"Proportion of population of working-age, 2013\", \"Proportion of population aged 65 and over, 2013\", \"% of population from BAME groups (2013)\", \"% people aged 3+ whose main language is not English (2011 census)\"]]\n",
    "\n",
    "# a new distance matrix to represent \"emotional distance\"s\n",
    "distMatrix3 = euclidean_distances(dataOnDiversity, dataOnDiversity)\n",
    "\n",
    "mds = manifold.MDS(n_components = 2, max_iter=3000, n_init=1, dissimilarity=\"precomputed\", normalized_stress = False)\n",
    "Y = mds.fit_transform(distMatrix3)\n",
    "\n",
    "# Visualising the data.\n",
    "fig, ax = plt.subplots()\n",
    "fig.set_size_inches(15, 15)\n",
    "plt.suptitle('An \\\"diversity\\\" look at London boroughs')\n",
    "ax.scatter(Y[:, 0], Y[:, 1], s = 100, c = colorMappingValuesHappiness, cmap=plt.cm.Greens)\n",
    "\n",
    "for i, txt in enumerate(placeNames):\n",
    "    ax.annotate(txt, (Y[:, 0][i],Y[:, 1][i]))"
   ]
  },
  {
   "cell_type": "markdown",
   "metadata": {},
   "source": [
    "This looks very different to the one above on \"emotion\" related variables. Our job now is to relate these two projections to one another. Do you see similarities? Do you see clusters of boroughs? Can you reflect on how you can relate and combine these two maps conceptually?\n",
    "\n",
    "### A small TODO for you:\n",
    "\n",
    "Q: Can you think of other maps that you can produce with this data? Have a look at the variables once again and try to produce new \"perspectives\" to the data and see what they have to say."
   ]
  },
  {
   "cell_type": "code",
   "execution_count": null,
   "metadata": {},
   "outputs": [],
   "source": []
  }
 ],
 "metadata": {
  "kernelspec": {
   "display_name": "Python 3",
   "language": "python",
   "name": "python3"
  },
  "language_info": {
   "codemirror_mode": {
    "name": "ipython",
    "version": 3
   },
   "file_extension": ".py",
   "mimetype": "text/x-python",
   "name": "python",
   "nbconvert_exporter": "python",
   "pygments_lexer": "ipython3",
   "version": "3.11.4"
  }
 },
 "nbformat": 4,
 "nbformat_minor": 4
}
