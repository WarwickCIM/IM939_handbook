{
 "cells": [
  {
   "cell_type": "markdown",
   "metadata": {},
   "source": [
    "# Lab: Libraries\n",
    "\n",
    "Welcome to the third part of IM939 lab 1. Here we are going to look at libraries and how they extend Python's core features."
   ]
  },
  {
   "cell_type": "markdown",
   "metadata": {},
   "source": [
    "## Modules\n",
    "\n",
    "A module is a collection of code someone else has written (objects, methods, etc.). A library is a group of modules. In data science work you will use libraries such as `numpy` and `scikit-learn`. As we mentioned, Anaconda has many of these libraries built in and we do not need to install them separately.\n",
    "\n",
    "Sometimes there are multiple ways to do something. Different libraries may have modules which have similiar functionality but slight differences.\n",
    "\n",
    "For example, lets go through a comma seperated value file to make some data accessible in Python.\n",
    "\n",
    "### CSV module"
   ]
  },
  {
   "cell_type": "code",
   "execution_count": null,
   "metadata": {},
   "outputs": [],
   "source": [
    "import csv"
   ]
  },
  {
   "cell_type": "markdown",
   "metadata": {},
   "source": [
    "The import keyword loads in a module. Here it loads in the csv module from the inbuilt Python library (see the [Python docs on the csv module](https://docs.python.org/3/library/csv.html)).\n",
    "\n",
    "Please put the Facebook.csv file in the same folder as this notebook for this bit.\n",
    "\n",
    "The code for going through a csv file is a bit lengthy."
   ]
  },
  {
   "cell_type": "code",
   "execution_count": null,
   "metadata": {},
   "outputs": [],
   "source": [
    "with open('data/Facebook.csv', mode = 'r', encoding = 'UTF-8') as csvfile:    # open up our csv file\n",
    "    reader = csv.reader(csvfile)                                         # create a reader object which looks at our csv file\n",
    "    for row in reader:                                                   # for each row the reader finds\n",
    "        print(row)                                                       # print out the current row"
   ]
  },
  {
   "cell_type": "markdown",
   "metadata": {},
   "source": [
    "Ok, each row looks like a list. But printing it out is pretty messy. We should dump this into a list of dictionaries (so we can pick out particular values)."
   ]
  },
  {
   "cell_type": "code",
   "execution_count": null,
   "metadata": {},
   "outputs": [],
   "source": [
    "csv_content = []                                   # create list to put our data into\n",
    "\n",
    "with open('data/Facebook.csv', mode = 'r', encoding = 'UTF-8') as csvfile:  # open up csv file\n",
    "    reader = csv.DictReader(csvfile)                                   # create a reader which will read in each row and turn it into a dictionary\n",
    "    for row in reader:                                                 # for each row\n",
    "        csv_content.append(row) \n",
    "        print(row)                                                     # put the created dictionary into our list"
   ]
  },
  {
   "cell_type": "markdown",
   "metadata": {},
   "source": [
    "Look at the first entry in csv_content."
   ]
  },
  {
   "cell_type": "code",
   "execution_count": null,
   "metadata": {},
   "outputs": [],
   "source": [
    "csv_content[0]"
   ]
  },
  {
   "cell_type": "markdown",
   "metadata": {},
   "source": [
    "Dictionaries have keys. The keys method of the dictionary object will show them to us (though they are obvious from printing the first line aboe)."
   ]
  },
  {
   "cell_type": "code",
   "execution_count": null,
   "metadata": {},
   "outputs": [],
   "source": [
    "csv_content[0].keys()"
   ]
  },
  {
   "cell_type": "code",
   "execution_count": null,
   "metadata": {},
   "outputs": [],
   "source": [
    "csv_content[0]['post_message']"
   ]
  },
  {
   "cell_type": "markdown",
   "metadata": {},
   "source": [
    "We have a list where each list element is a dictionary. So we need to index our list each time, hence the csv_content[0].\n",
    "\n",
    "To go through our list we need to use a for loop. So, in order to get each post message."
   ]
  },
  {
   "cell_type": "code",
   "execution_count": null,
   "metadata": {},
   "outputs": [],
   "source": [
    "for post in csv_content:\n",
    "    print(post['post_message'])"
   ]
  },
  {
   "cell_type": "markdown",
   "metadata": {},
   "source": [
    "If I want to do data science, where accessing data in a sensible way is key, then there must be a better way! There is.\n",
    "\n",
    "### Pandas\n",
    "\n",
    "The Pandas library is designed with data science in mind. You will examine it more in the coming weeks. Reading CSV files with pandas is very easy. "
   ]
  },
  {
   "cell_type": "code",
   "execution_count": null,
   "metadata": {},
   "outputs": [],
   "source": [
    "import pandas as pd"
   ]
  },
  {
   "cell_type": "markdown",
   "metadata": {},
   "source": [
    "The import x as y is good practice. In the below code, anything with a pd. prefix comes from pandas. This is particulary useful for preventing a module from overwriting inbuilt Python functionality."
   ]
  },
  {
   "cell_type": "code",
   "execution_count": null,
   "metadata": {},
   "outputs": [],
   "source": [
    "df = pd.read_csv('data/Facebook.csv', encoding = 'UTF-8')"
   ]
  },
  {
   "cell_type": "markdown",
   "metadata": {},
   "source": [
    "That was easy. We can even pick out specific rows."
   ]
  },
  {
   "cell_type": "code",
   "execution_count": null,
   "metadata": {},
   "outputs": [],
   "source": [
    "df['post_message']"
   ]
  },
  {
   "cell_type": "markdown",
   "metadata": {},
   "source": [
    "And even look at the dataset in a pretty way."
   ]
  },
  {
   "cell_type": "code",
   "execution_count": null,
   "metadata": {},
   "outputs": [],
   "source": [
    "df"
   ]
  },
  {
   "cell_type": "markdown",
   "metadata": {},
   "source": [
    "Huzzah!\n",
    "\n",
    "A final point, pd.read_csv returns a pandas specific object with associated methods."
   ]
  },
  {
   "cell_type": "code",
   "execution_count": null,
   "metadata": {},
   "outputs": [],
   "source": [
    "type(df)"
   ]
  },
  {
   "cell_type": "code",
   "execution_count": null,
   "metadata": {},
   "outputs": [],
   "source": [
    "df.dtypes"
   ]
  },
  {
   "cell_type": "markdown",
   "metadata": {},
   "source": [
    "Where int64 are integers and object here refers to strings."
   ]
  }
 ],
 "metadata": {
  "kernelspec": {
   "display_name": "Python 3 (ipykernel)",
   "language": "python",
   "name": "python3"
  },
  "language_info": {
   "codemirror_mode": {
    "name": "ipython",
    "version": 3
   },
   "file_extension": ".py",
   "mimetype": "text/x-python",
   "name": "python",
   "nbconvert_exporter": "python",
   "pygments_lexer": "ipython3",
   "version": "3.12.4"
  }
 },
 "nbformat": 4,
 "nbformat_minor": 4
}
