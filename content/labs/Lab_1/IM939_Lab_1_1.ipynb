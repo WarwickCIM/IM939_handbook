{
 "cells": [
  {
   "cell_type": "markdown",
   "metadata": {},
   "source": [
    "# Lab: Introduction to Python {#sec-intro}\n",
    "\n",
    "Welcome to the first Python lab. Our aim is to introduce a little bit of Python and help you become comfortable with using Jupyter notebooks. No previous knowledge is assumed, and we encourage you to keep making steady progress working through the notebooks, and please ask questions!\n",
    "\n",
    "\n",
    "## Technological stack {#sec-technological-stack}\n",
    "\n",
    "This module uses a combination of different technologies (technological stack) besides Python. You will need to be familiar with all their components to follow the labs as well as the assignments. You can find a brief description of the main components below, and you can refer to @sec-setup for a more technical explanation of the setup.\n",
    "\n",
    "::: callout-important\n",
    "Please make sure you have Anaconda Python installed and running on your computer. Instructions for doing this can be found on @sec-setup.\n",
    ":::\n",
    "\n",
    "### Python\n",
    "\n",
    "[Python](https://www.python.org/) is a very popular general purpose programming language. Data scientists use it to clean up, analyse and visualise data. A major strength of Python is that the core Python functionality can be extended using libraries. In future labs, you will learn about popular data science libraries such as pandas and numpy.\n",
    "\n",
    "It is useful to think of programming languages as a structured way to tell the computer what to do. We cover some of the basic features of Python in this lab.\n",
    "\n",
    "### Anaconda\n",
    "\n",
    "[Anaconda](https://anaconda.com)[^anaconda] is a _distribution platform_ that manages and installs many tools used in data science, such as _programming languages_ (python), _libraries_, _IDEs_[^ides]... as well as a _GUI_ (Anaconda navigator) and a _CLI_ (Anaconda interpreter). Anaconda does some other useful things, such as creating isolated _virtual environments_, which we will be using for this module. \n",
    "\n",
    "[^ides]: Some specific  Integrated Development Environments (IDEs) for Python included in Anaconda are [VS Code](https://code.visualstudio.com/), [Jupyterlab](https://jupyterlab.readthedocs.io/en/stable/getting_started/overview.html) and [Spyder](https://www.spyder-ide.org/). In this module, there's no preferred IDE (actually, different members of the staff use different IDEs) and you can use the one you are more familiar with.\n",
    "\n",
    "::: callout-tip\n",
    "\n",
    "### Virtual environments\n",
    "\n",
    "_Virtual environments_ are a way to install all the dependencies (and their right version) required for a certain project by isolating python and libraries' specific versions. Every person who recreates the virtual environment will be using the same packages and versions, reducing errors and increasing reproducibility.\n",
    "While they are considered an advanced practice, and are therefore out of scope of this course, you may want to learn about Python's environments here: <https://realpython.com/python-virtual-environments-a-primer/>\n",
    "\n",
    ":::\n",
    "\n",
    "[^anaconda]: If you want to know more about Anaconda, these tutorials can be a good start: <https://www.tangolearn.com/what-is-anaconda/>, <https://www.upgrad.com/blog/python-anaconda-tutorial/>\n",
    "\n",
    "\n",
    "### Jupter Notebooks\n",
    "\n",
    "[Jupyter notebooks](https://jupyter.org/), such as this one, allow you to combine text and code into documents you can edit in the browser. The power of these notebooks is in documenting or describing what you are doing with the code alongside that code. For example, you could detail why you chose a particular clustering algorithm above the clustering code itself. In other words, it adds narrative and helps clarify your workflow.\n",
    "\n",
    "![This same notebook, as displayed within Jupyterlab](img/jupyter-notebook.png)"
   ]
  },
  {
   "cell_type": "markdown",
   "metadata": {},
   "source": [
    "## Getting started\n",
    "\n",
    "If you send Python a number then it will print that number for you."
   ]
  },
  {
   "cell_type": "code",
   "execution_count": null,
   "metadata": {},
   "outputs": [],
   "source": [
    "45"
   ]
  },
  {
   "cell_type": "markdown",
   "metadata": {},
   "source": [
    "You will see both the input and output displayed. The input will have a label next to it like 'In [1]' where the number tells you how much code has already been sent to the Python interpreter (the programming interpreting the Python code and returning the result). A line such as 'In [100]' tells you that 99 code cells have been passed to the Python interpreter in the current session.\n",
    "\n",
    "Python can carry out simple arithmetic."
   ]
  },
  {
   "cell_type": "code",
   "execution_count": null,
   "metadata": {},
   "outputs": [],
   "source": [
    "44 + 87"
   ]
  },
  {
   "cell_type": "code",
   "execution_count": null,
   "metadata": {},
   "outputs": [],
   "source": [
    "188 / 12"
   ]
  },
  {
   "cell_type": "code",
   "execution_count": null,
   "metadata": {},
   "outputs": [],
   "source": [
    "46 - 128"
   ]
  },
  {
   "cell_type": "markdown",
   "metadata": {},
   "source": [
    "As seen above, each time the code in a cell is run, the result from the Python interpreter is displayed."
   ]
  },
  {
   "cell_type": "markdown",
   "metadata": {},
   "source": [
    "## Data Types {#sec-data-types}\n",
    "\n",
    "As we saw in [this unit in the Skills Programme](https://pages.github.warwick.ac.uk/CIM-Methods/coding_skills/content/computational_skills/computational_thinking.html#sec-data-types), programming languages use types to help them understand what a piece of data might represent. Knowing how data types work is important because they define what can be done and cannot be done with them. Each programming language allows different data types which can be extended by other libraries such as Pandas, but these are some of the most frequent ones (and the ones we will be facing more frequently).\n",
    "\n",
    "### int, floats, strings\n",
    "\n",
    "Integers are whole numbers, like the ones we used above. We can check an object's data type using `type()`:"
   ]
  },
  {
   "cell_type": "code",
   "execution_count": null,
   "metadata": {},
   "outputs": [],
   "source": [
    "type(33)"
   ]
  },
  {
   "cell_type": "markdown",
   "metadata": {},
   "source": [
    "You can also have floats (numbers with decimal points)"
   ]
  },
  {
   "cell_type": "code",
   "execution_count": null,
   "metadata": {},
   "outputs": [],
   "source": [
    "33.4"
   ]
  },
  {
   "cell_type": "code",
   "execution_count": null,
   "metadata": {},
   "outputs": [],
   "source": [
    "type(33.4)"
   ]
  },
  {
   "cell_type": "markdown",
   "metadata": {},
   "source": [
    "and a series of characters (strings)."
   ]
  },
  {
   "cell_type": "code",
   "execution_count": null,
   "metadata": {},
   "outputs": [],
   "source": [
    "'I have a plan, sir.'"
   ]
  },
  {
   "cell_type": "code",
   "execution_count": null,
   "metadata": {},
   "outputs": [],
   "source": [
    "type('I have a plan, sir.')"
   ]
  },
  {
   "cell_type": "markdown",
   "metadata": {},
   "source": [
    "Data types are great and operators such as `*` do different things depending on the data type. For instance,"
   ]
  },
  {
   "cell_type": "code",
   "execution_count": null,
   "metadata": {},
   "outputs": [],
   "source": [
    "33 * 3"
   ]
  },
  {
   "cell_type": "markdown",
   "metadata": {},
   "source": [
    "That seems quite sensible. What about if we had a string? Run teh below line. What is the `*` doing?"
   ]
  },
  {
   "cell_type": "code",
   "execution_count": null,
   "metadata": {},
   "outputs": [],
   "source": [
    "'I have a plan, sir' * 3"
   ]
  },
  {
   "cell_type": "markdown",
   "metadata": {},
   "source": [
    "There are also operators which only work with particular data types."
   ]
  },
  {
   "cell_type": "code",
   "execution_count": null,
   "metadata": {},
   "outputs": [],
   "source": [
    "#| error: true\n",
    "'I have a plan, sir.' / 2"
   ]
  },
  {
   "cell_type": "markdown",
   "metadata": {},
   "source": [
    "This error message is very informative indeed. It tells us the line which caused the problem and that we have an error. Specifically, our error is a `TypeError`. \n",
    "\n",
    "::: callout-note\n",
    "### Understanding the error\n",
    "In this case, it says that the line `'I have a cunning plan' / 2` consists of  `string / int`.  We are trying to divide a `string` and `int`. The `/` operand is not able to divide a string by an int.\n",
    ":::"
   ]
  },
  {
   "cell_type": "markdown",
   "metadata": {},
   "source": [
    "### lists and dictionaries {#sec-list-dictionaries}\n",
    "\n",
    "You can collect multiple values in a list. This is how they look like:"
   ]
  },
  {
   "cell_type": "code",
   "execution_count": null,
   "metadata": {},
   "outputs": [],
   "source": [
    "[35, 'brown', 'yes']"
   ]
  },
  {
   "cell_type": "markdown",
   "metadata": {},
   "source": [
    "And we can check theyr type:"
   ]
  },
  {
   "cell_type": "code",
   "execution_count": null,
   "metadata": {},
   "outputs": [],
   "source": [
    "type([35, 'brown', 'yes'])"
   ]
  },
  {
   "cell_type": "markdown",
   "metadata": {},
   "source": [
    "Or add keys to the values as a dictionary."
   ]
  },
  {
   "cell_type": "code",
   "execution_count": null,
   "metadata": {},
   "outputs": [],
   "source": [
    "{'age':35, 'hair colour': 'brown', 'Glasses': 'yes'}"
   ]
  },
  {
   "cell_type": "code",
   "execution_count": null,
   "metadata": {},
   "outputs": [],
   "source": [
    "type({'age':35, 'hair colour': 'brown', 'Glasses': 'yes'})"
   ]
  },
  {
   "cell_type": "markdown",
   "metadata": {},
   "source": [
    "## Variables\n",
    "\n",
    "Variables are bins for storing things in. These things can be data types. For example, the below creates a variable called my_height and stores the in 140 there."
   ]
  },
  {
   "cell_type": "code",
   "execution_count": null,
   "metadata": {},
   "outputs": [],
   "source": [
    "my_height = 140"
   ]
  },
  {
   "cell_type": "markdown",
   "metadata": {},
   "source": [
    "The Python interpreter is now storing the int 140 in a bin called my_height. If you pass the variable name to the interpreter then it will behave just like if you typed in 140 instead."
   ]
  },
  {
   "cell_type": "code",
   "execution_count": null,
   "metadata": {},
   "outputs": [],
   "source": [
    "my_height"
   ]
  },
  {
   "cell_type": "markdown",
   "metadata": {},
   "source": [
    "Variables are neat when it comes to lists."
   ]
  },
  {
   "cell_type": "code",
   "execution_count": null,
   "metadata": {},
   "outputs": [],
   "source": [
    "my_heights = [231, 234, 43]\n",
    "my_heights"
   ]
  },
  {
   "cell_type": "code",
   "execution_count": null,
   "metadata": {},
   "outputs": [],
   "source": [
    "my_heights[1]"
   ]
  },
  {
   "cell_type": "markdown",
   "metadata": {},
   "source": [
    "Wait, what happened above? What do you think the [1] does?\n",
    "\n",
    "You can index multiple values from a list."
   ]
  },
  {
   "cell_type": "code",
   "execution_count": null,
   "metadata": {},
   "outputs": [],
   "source": [
    "my_heights[0:2]"
   ]
  },
  {
   "cell_type": "markdown",
   "metadata": {},
   "source": [
    "## Bringing it all together\n",
    "\n",
    "What does the below do?"
   ]
  },
  {
   "cell_type": "code",
   "execution_count": null,
   "metadata": {},
   "outputs": [],
   "source": [
    "radius = 40\n",
    "pi = 3.1415\n",
    "circle_area = pi * (radius * radius)\n",
    "\n",
    "length = 12\n",
    "square_area = length * length\n",
    "\n",
    "my_areas = [circle_area, square_area]"
   ]
  },
  {
   "cell_type": "code",
   "execution_count": null,
   "metadata": {},
   "outputs": [],
   "source": [
    "my_areas"
   ]
  },
  {
   "cell_type": "markdown",
   "metadata": {},
   "source": [
    "As an aside, you can include comments which are not evaluated by the Python interpreter."
   ]
  },
  {
   "cell_type": "code",
   "execution_count": null,
   "metadata": {},
   "outputs": [],
   "source": [
    "# this is a comment. Python will ignore it.\n",
    "# another comment. \n",
    "n = 33"
   ]
  },
  {
   "cell_type": "markdown",
   "metadata": {},
   "source": [
    "## Congratulations\n",
    "\n",
    "You've reached the end of the first notebook. We've looked at basic data types and variables. These are key components of all programming languages and a key part of working with data.\n",
    "\n",
    "In the next notebook we will examine using libraries, loading in data, loops and functions."
   ]
  }
 ],
 "metadata": {
  "kernelspec": {
   "display_name": "Python 3 (ipykernel)",
   "language": "python",
   "name": "python3"
  },
  "language_info": {
   "codemirror_mode": {
    "name": "ipython",
    "version": 3
   },
   "file_extension": ".py",
   "mimetype": "text/x-python",
   "name": "python",
   "nbconvert_exporter": "python",
   "pygments_lexer": "ipython3",
   "version": "3.11.6"
  },
  "vscode": {
   "interpreter": {
    "hash": "b0fa6594d8f4cbf19f97940f81e996739fb7646882a419484c72d19e05852a7e"
   }
  }
 },
 "nbformat": 4,
 "nbformat_minor": 4
}
