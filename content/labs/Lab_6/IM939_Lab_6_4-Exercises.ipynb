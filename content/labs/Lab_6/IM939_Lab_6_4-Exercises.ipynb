{
 "cells": [
  {
   "cell_type": "markdown",
   "metadata": {},
   "source": [
    "# Exercise: Data visualisation\n",
    "\n",
    "We have covered a lot of visualisations in the lab today.\n",
    "\n",
    "For this exercise you should:\n",
    "\n",
    "1. Identity a trend in your data. For instance, the higher poll scores for a presidential candidate in a particular state.\n",
    "2. Create a visualisation which communicates that trend well. Consider why it is a good visualisation. Could someone else misunderstand the visualisation?\n",
    "3. Create another visualisation. The goal of the second visualisation is to be intentionally misleading.\n",
    "\n",
    "Please work on this in the same groups as the exercises in the previous weeks. There are sections below which are to guide you. Feel free to disregard these if you want to work another way.\n",
    "\n",
    "You can use any dataset from this or previous weeks. Also, feel free to explore new [datasets from FiveThirtyFive](https://data.fivethirtyeight.com/), the [sklean datasets](https://scikit-learn.org/stable/datasets.html) or the [UCI machine learning datasets](https://archive.ics.uci.edu/).\n",
    "\n",
    "You may find the following helpful:\n",
    "\n",
    "* [Altair examples](https://altair-viz.github.io/gallery/). In general, the Altair documentation can be tricky to understand. I tend to follow the examples or google round for solutions.\n",
    "* [Seaborn examples](https://seaborn.pydata.org/examples/index.html).\n"
   ]
  },
  {
   "cell_type": "markdown",
   "metadata": {},
   "source": [
    "## Setup \n",
    "\n",
    "Load any libraries and datasets needed for your visualisation."
   ]
  },
  {
   "cell_type": "code",
   "execution_count": null,
   "metadata": {},
   "outputs": [],
   "source": []
  },
  {
   "cell_type": "markdown",
   "metadata": {},
   "source": [
    "## Data wrangling\n",
    "\n",
    "Subset or clean your data"
   ]
  },
  {
   "cell_type": "code",
   "execution_count": null,
   "metadata": {},
   "outputs": [],
   "source": []
  },
  {
   "cell_type": "markdown",
   "metadata": {},
   "source": [
    "## Analysis\n",
    "\n",
    "Carry out an analysis if required. E.g., are you running a PCA or other dimension reduction, or a linear regression to plot?"
   ]
  },
  {
   "cell_type": "code",
   "execution_count": null,
   "metadata": {},
   "outputs": [],
   "source": []
  },
  {
   "cell_type": "markdown",
   "metadata": {},
   "source": [
    "## Visualisation\n",
    "\n",
    "Create a visualisation which clearly show the trend you would like to show in your data."
   ]
  },
  {
   "cell_type": "code",
   "execution_count": null,
   "metadata": {},
   "outputs": [],
   "source": []
  },
  {
   "cell_type": "markdown",
   "metadata": {},
   "source": [
    "## Discussion\n",
    "\n",
    "Why did you choose this visualisation? Do you think other will clearly see the trend you have identified?"
   ]
  },
  {
   "cell_type": "markdown",
   "metadata": {},
   "source": []
  },
  {
   "cell_type": "markdown",
   "metadata": {},
   "source": [
    "Create a visualisation of this trend which you think will mislead the user?"
   ]
  },
  {
   "cell_type": "code",
   "execution_count": null,
   "metadata": {},
   "outputs": [],
   "source": []
  },
  {
   "cell_type": "markdown",
   "metadata": {},
   "source": [
    "How do you think this will mislead the user?"
   ]
  },
  {
   "cell_type": "markdown",
   "metadata": {},
   "source": []
  }
 ],
 "metadata": {
  "kernelspec": {
   "display_name": "Python 3",
   "language": "python",
   "name": "python3"
  },
  "language_info": {
   "codemirror_mode": {
    "name": "ipython",
    "version": 3
   },
   "file_extension": ".py",
   "mimetype": "text/x-python",
   "name": "python",
   "nbconvert_exporter": "python",
   "pygments_lexer": "ipython3",
   "version": "3.12.4"
  }
 },
 "nbformat": 4,
 "nbformat_minor": 4
}
