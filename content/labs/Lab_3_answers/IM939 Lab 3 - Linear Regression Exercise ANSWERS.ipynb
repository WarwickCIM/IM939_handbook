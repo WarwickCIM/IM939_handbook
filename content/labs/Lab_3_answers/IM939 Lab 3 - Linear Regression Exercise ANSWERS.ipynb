{
 "cells": [
  {
   "cell_type": "code",
   "execution_count": null,
   "metadata": {},
   "outputs": [],
   "source": [
    "import warnings\n",
    "warnings.filterwarnings('ignore')"
   ]
  },
  {
   "cell_type": "markdown",
   "metadata": {},
   "source": [
    "# IM939 - Lab 3 - Regression Exercise ANSWERS"
   ]
  },
  {
   "cell_type": "markdown",
   "metadata": {},
   "source": [
    "Here we use Scikit Learn library: https://www.tutorialspoint.com/scikit_learn/scikit_learn_linear_regression.htm\n",
    "\n",
    "\n",
    "## Wine Dataset\n",
    "\n",
    "The dataset for this task is the wine dataset. More information here: https://archive.ics.uci.edu/ml/datasets/wine+quality"
   ]
  },
  {
   "cell_type": "markdown",
   "metadata": {},
   "source": [
    "_What would be your research question? What do you want to learn?_\n",
    "\n",
    "(The wine dataset allows multiple different regression models. It is even prompted in the description of the dataset I linked above: \"Also, we are not sure if all input variables are relevant. So it could be interesting to test feature selection methods.\" I will show one example here. Feel free to discuss your models in the channel on Teams and share it with you colleagues!)"
   ]
  },
  {
   "cell_type": "markdown",
   "metadata": {},
   "source": [
    "My **research question** is: What determines the wine density?  \n",
    "Therefore my dependent variable will be \"density\". What will be the predictors? I could do some quick research, look for some resources in order to create some hypotheses. This would be something like theory-based approach. \n",
    "What if we didn't do any research to help us build any hypotheses about wine (maybe besisdes from some tasting ;)? That's when we need to run a lot of checks and explore data more, looking for insights or patterns. I can just try all of them, or those that make more sense to me, given that they are only 11. This would be a data-driven approach. "
   ]
  },
  {
   "cell_type": "markdown",
   "metadata": {},
   "source": [
    "## Reading Data"
   ]
  },
  {
   "cell_type": "code",
   "execution_count": null,
   "metadata": {
    "scrolled": true
   },
   "outputs": [],
   "source": [
    "import matplotlib.pyplot as plt\n",
    "import numpy as np\n",
    "import pandas as pd\n",
    "import seaborn as sns"
   ]
  },
  {
   "cell_type": "code",
   "execution_count": null,
   "metadata": {},
   "outputs": [],
   "source": [
    "# Don't forget to change the path below to point to the winequality-red_v2.xlsx file\n",
    "wine = pd.read_excel('/Users/u2272591/Downloads/WarwickCIM IM939_handbook main content-labs_Lab_3/data/raw/winequality-red_v2.xlsx')\n",
    "\n",
    "#You might need to use encoding, then the code will look like:\n",
    "# wine = pd.read_excel('winequality-red_v2.xlsx', encoding='UTF-8')\n",
    "\n",
    "type(wine)"
   ]
  },
  {
   "cell_type": "markdown",
   "metadata": {},
   "source": [
    "## Data exploration\n",
    "### Univariate analysis\n",
    "It is time to check the data, their distribution and central tendencies"
   ]
  },
  {
   "cell_type": "code",
   "execution_count": null,
   "metadata": {},
   "outputs": [],
   "source": [
    "print('shape:', wine.shape)\n",
    "wine.head()"
   ]
  },
  {
   "cell_type": "markdown",
   "metadata": {},
   "source": [
    "Look at the quality column above. It is the only column where you don't see decimals. This may suggest it is not a continuous variable. Read the dataset description: https://archive.ics.uci.edu/ml/datasets/wine+quality\n",
    "It is already suggested there: \"Output variable (based on sensory data): 12 - quality (score between 0 and 10)\". It is the only variable that is not based on physicochemical tests. It was probably a subjective score defined by wine tasters.\n",
    "\n",
    "If you build a regression model to explain wine quality, your research question should sound: \"What determines perception of the quality of wine??\" to be very precise. Do you know why?"
   ]
  },
  {
   "cell_type": "code",
   "execution_count": null,
   "metadata": {},
   "outputs": [],
   "source": [
    "wine.mean()"
   ]
  },
  {
   "cell_type": "markdown",
   "metadata": {},
   "source": [
    "What do mean results tell us? Here they give a quick overview, suggesting that variables are in different ranges. We know that quality variable is a score between 0 and 10. Let's see what are the minimum and maximum values for the physicochemical variables:"
   ]
  },
  {
   "cell_type": "code",
   "execution_count": null,
   "metadata": {},
   "outputs": [],
   "source": [
    "wine.min()"
   ]
  },
  {
   "cell_type": "code",
   "execution_count": null,
   "metadata": {},
   "outputs": [],
   "source": [
    "wine.max()"
   ]
  },
  {
   "cell_type": "markdown",
   "metadata": {},
   "source": [
    "### Check your variables\n",
    "\n",
    "Use lmplot() function from Seaborn to explore linear relationship \n",
    "Input data must be in a Pandas DataFrame. To plot them, we provide the predictor and response variable names along with the dataset"
   ]
  },
  {
   "cell_type": "code",
   "execution_count": null,
   "metadata": {},
   "outputs": [],
   "source": [
    "sns.lmplot(wine, x = \"quality\", y = \"density\", aspect=2);"
   ]
  },
  {
   "cell_type": "markdown",
   "metadata": {},
   "source": [
    "Did you find outliers or missing data? \n",
    "You can use function np.unique and find the unique elements of an array."
   ]
  },
  {
   "cell_type": "code",
   "execution_count": null,
   "metadata": {},
   "outputs": [],
   "source": [
    "?np.unique"
   ]
  },
  {
   "cell_type": "code",
   "execution_count": null,
   "metadata": {},
   "outputs": [],
   "source": [
    "for column in wine.columns:\n",
    "    unique_values = wine[column].unique()\n",
    "    print(f\"Unique values in column '{column}': {unique_values}\")"
   ]
  },
  {
   "cell_type": "markdown",
   "metadata": {},
   "source": [
    "Now we can see clearly what we already suspected: the variables have different value ranges i.e. are on different scales. \n",
    "Also, it looks like that not the full quality scale is actually used in the data. The lowest score is 3, the highest 8. The total_sulfur_dioxide has values of even 289, whereas citric_acid is maximum 1. The latter may suggest it is ratio or %. But alcohol for sure is expressed in %, but the max value is only 14.9. \n",
    "What shall we do then...? Looks like standarization is needed. Or normalization?\n",
    "\n",
    "For that we will use a short code written by de Filippi. Check also his explanation of normalization and standarisation.\n",
    "https://medium.com/@rrfd/standardize-or-normalize-examples-in-python-e3f174b65dfc"
   ]
  },
  {
   "cell_type": "code",
   "execution_count": null,
   "metadata": {},
   "outputs": [],
   "source": [
    "# 1D Visualizations\n",
    "plt.figure(figsize=(9, 5)) # Setting the figure's size: format width, height (in inches)\n",
    "plt.subplot(1,2,1) # subplot(nrows, ncols, index, **kwargs)\n",
    "plt.boxplot(wine.quality)\n",
    "plt.title(\"Boxplot of the Quality attribute\")\n",
    "plt.subplot(1,2,2)\n",
    "plt.boxplot(wine.density)\n",
    "plt.title(\"Boxplot of the Density attribute\")"
   ]
  },
  {
   "cell_type": "code",
   "execution_count": null,
   "metadata": {},
   "outputs": [],
   "source": [
    "# 2D Visualization\n",
    "plt.scatter(wine.quality, wine.density, alpha = .5)\n",
    "plt.xlabel('Wine Quality')\n",
    "plt.ylabel('Wine Density')\n",
    "plt.title('Wine Quality vs. Density\\n');"
   ]
  },
  {
   "cell_type": "markdown",
   "metadata": {},
   "source": [
    "Do you need to remove any cases?"
   ]
  },
  {
   "cell_type": "code",
   "execution_count": null,
   "metadata": {},
   "outputs": [],
   "source": [
    "# calculate the IQR for density\n",
    "wine_density_iqr = wine['density'].quantile(0.75) - wine['density'].quantile(0.25)\n",
    "# calculate values below Q1 \n",
    "lb_wine_density = wine['density'].quantile(0.25) - 1.5 * wine_density_iqr\n",
    "# calculate values above Q3\n",
    "ub_wine_density = wine['density'].quantile(0.75) + 1.5 * wine_density_iqr\n",
    "wine_cleaned_density = wine[(wine['density'] >= lb_wine_density) & (wine['density'] <= ub_wine_density)]"
   ]
  },
  {
   "cell_type": "code",
   "execution_count": null,
   "metadata": {},
   "outputs": [],
   "source": [
    "# calculate the IQR for quality\n",
    "wine_quality_iqr = wine_cleaned_density['quality'].quantile(0.75) - wine_cleaned_density['quality'].quantile(0.25)\n",
    "# calculate values below Q1 \n",
    "lb_wine_quality = wine_cleaned_density['quality'].quantile(0.25) - 1.5 * wine_quality_iqr\n",
    "# calculate values above Q3\n",
    "ub_wine_quality = wine_cleaned_density['quality'].quantile(0.75) + 1.5 * wine_quality_iqr\n",
    "wine_cleaned = wine_cleaned_density[(wine_cleaned_density['quality'] >= lb_wine_quality) & (wine_cleaned_density['quality'] <= ub_wine_quality)]"
   ]
  },
  {
   "cell_type": "code",
   "execution_count": null,
   "metadata": {},
   "outputs": [],
   "source": [
    "# 1D Visualizations\n",
    "plt.figure(figsize=(9, 5)) # Setting the figure's size: format width, height (in inches)\n",
    "plt.subplot(1,2,1) # subplot(nrows, ncols, index, **kwargs)\n",
    "plt.boxplot(wine_cleaned.quality)\n",
    "plt.title(\"Boxplot of the Quality attribute\")\n",
    "plt.subplot(1,2,2)\n",
    "plt.boxplot(wine_cleaned.density)\n",
    "plt.title(\"Boxplot of the Density attribute\")"
   ]
  },
  {
   "cell_type": "markdown",
   "metadata": {},
   "source": [
    "Did you need to standarize data?"
   ]
  },
  {
   "cell_type": "code",
   "execution_count": null,
   "metadata": {},
   "outputs": [],
   "source": [
    "#This is code for standarization  \n",
    "from sklearn import preprocessing\n",
    "import numpy as np\n",
    "\n",
    "#Get column names first\n",
    "names = wine.columns\n",
    "#Create the Scaler object\n",
    "scaler = preprocessing.StandardScaler()\n",
    "#Fit your data on the scaler object\n",
    "st_wine = scaler.fit_transform(wine)\n",
    "st_wine = pd.DataFrame(st_wine, columns=names)"
   ]
  },
  {
   "cell_type": "markdown",
   "metadata": {},
   "source": [
    "Let's run some histograms below to check the distribution *after* the standarization. That's why we use the new data frame called \"st_wine\". Compare with \"wine\" only dataset and see what changed."
   ]
  },
  {
   "cell_type": "code",
   "execution_count": null,
   "metadata": {},
   "outputs": [],
   "source": [
    "ax = sns.boxplot(data=st_wine, orient=\"h\")"
   ]
  },
  {
   "cell_type": "code",
   "execution_count": null,
   "metadata": {},
   "outputs": [],
   "source": [
    "st_wine.hist()"
   ]
  },
  {
   "cell_type": "markdown",
   "metadata": {},
   "source": [
    "You can see that some of variables are skewed. The histogram for 'wine quality' confirms it is not a continuos variable. "
   ]
  },
  {
   "cell_type": "markdown",
   "metadata": {},
   "source": [
    "## Form ideas about the data \n",
    "Before you move on to exploring correlations and maybe other kinds of models, try and build some sense of understanding of the relations between the variables. What are some relations that stand out. Do you know a bit more about the wines in this dataset or wines more generally?"
   ]
  },
  {
   "cell_type": "markdown",
   "metadata": {},
   "source": [
    "## Move on to building some simple models\n",
    "\n",
    "You can calculates a Pearson correlation coefficient and the p-value for testing non-correlation.\n",
    "\n",
    "We will be using the scikit-learn package here. This is a package we will be making use of very frequently."
   ]
  },
  {
   "cell_type": "code",
   "execution_count": null,
   "metadata": {},
   "outputs": [],
   "source": [
    "#| error: true\n",
    "import scipy.stats\n",
    "scipy.stats.pearsonr(st_wine.alcohol.values, st_wine.density.values)"
   ]
  },
  {
   "cell_type": "markdown",
   "metadata": {},
   "source": [
    "using **Scikit-learn**, build a simple linear regression (OLS) "
   ]
  },
  {
   "cell_type": "code",
   "execution_count": null,
   "metadata": {},
   "outputs": [],
   "source": [
    "#| error: true\n",
    "from sklearn.linear_model import LinearRegression\n",
    "\n",
    "est = LinearRegression(fit_intercept = True)\n",
    "\n",
    "x = st_wine[['alcohol']]\n",
    "y = st_wine[['density']]\n",
    "\n",
    "est.fit(x, y)\n",
    "\n",
    "print(\"Coefficients:\", est.coef_)\n",
    "print (\"Intercept:\", est.intercept_)"
   ]
  },
  {
   "cell_type": "markdown",
   "metadata": {},
   "source": [
    "What is the model's mean squared error ($MSE$) and the coefficient of determination ($R^2$) ?"
   ]
  },
  {
   "cell_type": "code",
   "execution_count": null,
   "metadata": {},
   "outputs": [],
   "source": [
    "#| error: true\n",
    "from sklearn import metrics\n",
    "\n",
    "model = LinearRegression()\n",
    "model.fit(x, y)\n",
    "y_hat = model.predict(x)\n",
    "plt.plot(x, y,'o', alpha = 0.5)\n",
    "plt.plot(x, y_hat, 'r', alpha = 0.5)\n",
    "plt.xlabel('alcohol')\n",
    "plt.ylabel('density')\n",
    "print (\"MSE:\", metrics.mean_squared_error(y, y_hat))\n",
    "print (\"R^2:\", metrics.r2_score(y, y_hat))\n",
    "print (\"var:\", y.var())\n",
    "plt.savefig(\"wine.png\", dpi = 300, bbox_inches = 'tight')"
   ]
  },
  {
   "cell_type": "markdown",
   "metadata": {},
   "source": [
    "What's the conclusion? \n",
    "The regression line shows a linear relationship. We can see a negative trend. The more alcohol in the wine, the less density wine has.  \n",
    "\n",
    "We aim for **MSE** to be low, the closer to 0 the better. It's much lower than in our icesea example.\n",
    "\n",
    "And *$R^2$* is a bit low (0.24), given that it can have values between 0 and 1. It indicates what portion of the variance of wine density was explained - around 24%. That's why we can try adding more predictors to see if they help explain the density of wine. \n",
    "Also, in single linear regression you can use a square of correlation coefficient for variance explained: 0.49*0.49 (see correlation result above) equals 0.24 ($R^2$).\n",
    "\n",
    "The **Intercept** tells us (the constant) is the expected mean value of Y when all X=0. In our case we have only one x - alcohol. \n",
    "How  do we interpret it?\n",
    "\n",
    "*standarized values*: when there is no alcohol in wine, the density will be lower by -3.4 standard deviations.\n",
    "\n",
    "*not standarized values*: when there is no alcohol in wine, the density equals 1.\n",
    "\n",
    "**Coefficient** equals -0.496 (based on standarized values), i.e. if value of alcohol increases by 1 standard deviation, then density will decrease by 0.49 of its standard deviation. In non-standarized values it equals -0.0008, so if alcohol is increased by 1%, the density will decrease by... Exactly, how much density is a lot...? We don't know that. It's harder to interpret than e.g. 1 cm or 1 year. That's where standarized values come handy.\n",
    "\n",
    "\n",
    "## Multiple linear regression\n",
    " "
   ]
  },
  {
   "cell_type": "markdown",
   "metadata": {},
   "source": [
    "Now we can try adding more predictors to see if they help explain the density of wine."
   ]
  },
  {
   "cell_type": "code",
   "execution_count": null,
   "metadata": {},
   "outputs": [],
   "source": [
    "from sklearn.linear_model import LinearRegression\n",
    "\n",
    "est = LinearRegression(fit_intercept = True) \n",
    "x = st_wine[['alcohol','fixed_acidity']]\n",
    "y = st_wine[['density']]\n",
    "\n",
    "est.fit(x, y)\n",
    "\n",
    "print(\"Coefficients:\", est.coef_)\n",
    "print (\"Intercept:\", est.intercept_)\n",
    "\n",
    "\n",
    "from sklearn import metrics\n",
    "\n",
    "model = LinearRegression()\n",
    "model.fit(x, y)\n",
    "y_hat = model.predict(x)\n",
    "print (\"MSE:\", metrics.mean_squared_error(y, y_hat))\n",
    "print (\"R^2:\", metrics.r2_score(y, y_hat))\n",
    "print (\"var:\", y.var())"
   ]
  },
  {
   "cell_type": "markdown",
   "metadata": {},
   "source": [
    "We can see that by adding acidity our R2 got much better. Now we continue the fun by trying to find even better model."
   ]
  }
 ],
 "metadata": {
  "kernelspec": {
   "display_name": "Python 3 (ipykernel)",
   "language": "python",
   "name": "python3"
  },
  "language_info": {
   "codemirror_mode": {
    "name": "ipython",
    "version": 3
   },
   "file_extension": ".py",
   "mimetype": "text/x-python",
   "name": "python",
   "nbconvert_exporter": "python",
   "pygments_lexer": "ipython3",
   "version": "3.11.6"
  }
 },
 "nbformat": 4,
 "nbformat_minor": 4
}
