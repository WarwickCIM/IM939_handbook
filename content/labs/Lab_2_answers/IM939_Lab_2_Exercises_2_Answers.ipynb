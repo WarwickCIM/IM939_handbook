{
 "cells": [
  {
   "cell_type": "markdown",
   "metadata": {},
   "source": [
    "# Lab 2 - Exercises 2 - Answers\n",
    "\n",
    "Here we use Seaborn to try to visualise our data. We are going to take from [these examples](https://seaborn.pydata.org/examples/index.html).\n",
    "\n",
    "Load the modules/libraries and the data"
   ]
  },
  {
   "cell_type": "code",
   "execution_count": null,
   "metadata": {},
   "outputs": [],
   "source": [
    "import pandas as pd\n",
    "import seaborn as sns"
   ]
  },
  {
   "cell_type": "code",
   "execution_count": null,
   "metadata": {},
   "outputs": [],
   "source": [
    "df = pd.read_csv('world_indicators_pandas.csv', encoding='UTF-8')"
   ]
  },
  {
   "cell_type": "markdown",
   "metadata": {},
   "source": [
    "Get a sense of our data."
   ]
  },
  {
   "cell_type": "code",
   "execution_count": null,
   "metadata": {},
   "outputs": [],
   "source": [
    "df.head()"
   ]
  },
  {
   "cell_type": "markdown",
   "metadata": {},
   "source": [
    "Boxplots are a nice way to see the distribution of our data.\n",
    "\n",
    "For instance, GDP per capita"
   ]
  },
  {
   "cell_type": "code",
   "execution_count": null,
   "metadata": {},
   "outputs": [],
   "source": [
    "sns.boxenplot(x='Country_Name', y='GDP_per_capita_(current_US$)', data=df)"
   ]
  },
  {
   "cell_type": "markdown",
   "metadata": {},
   "source": [
    "and population."
   ]
  },
  {
   "cell_type": "code",
   "execution_count": null,
   "metadata": {},
   "outputs": [],
   "source": [
    "sns.boxenplot(x='Country_Name', y='Population,_total', data=df)"
   ]
  },
  {
   "cell_type": "markdown",
   "metadata": {},
   "source": [
    "Violin plots also indicate the density of values around a specific point."
   ]
  },
  {
   "cell_type": "code",
   "execution_count": null,
   "metadata": {},
   "outputs": [],
   "source": [
    "sns.violinplot(x='Country_Name', y='GDP_per_capita_(current_US$)', data=df)"
   ]
  },
  {
   "cell_type": "code",
   "execution_count": null,
   "metadata": {},
   "outputs": [],
   "source": [
    "sns.violinplot(x='Country_Name', y='Population,_total', data=df)"
   ]
  },
  {
   "cell_type": "markdown",
   "metadata": {},
   "source": [
    "What does the above indicate about population total over time?"
   ]
  },
  {
   "cell_type": "code",
   "execution_count": null,
   "metadata": {},
   "outputs": [],
   "source": [
    "sns.relplot(x=\"GDP_per_capita_(current_US$)\", y=\"Population_growth_(annual_%)\", hue=\"Country_Name\",\n",
    "             alpha=.5, palette=\"muted\",\n",
    "            height=6, data=df)"
   ]
  },
  {
   "cell_type": "markdown",
   "metadata": {},
   "source": [
    "You can also vary the size range of the points. The sizes argument specifies the (smallest size, largest size)."
   ]
  },
  {
   "cell_type": "code",
   "execution_count": null,
   "metadata": {},
   "outputs": [],
   "source": [
    "sns.relplot(x=\"GDP_per_capita_(current_US$)\", y=\"Population_growth_(annual_%)\", hue=\"Country_Name\",\n",
    "            size='Country_Name', alpha=.5, palette=\"muted\", sizes = (10, 100),\n",
    "            height=6, data=df)"
   ]
  },
  {
   "cell_type": "code",
   "execution_count": null,
   "metadata": {},
   "outputs": [],
   "source": [
    "?sns.relplot"
   ]
  },
  {
   "cell_type": "code",
   "execution_count": null,
   "metadata": {},
   "outputs": [],
   "source": [
    "df1 = df[['Country_Name', 'GDP_per_capita_(current_US$)', 'Imports_of_goods_and_services_(current_US$)', 'Population,_total']]\n",
    "sns.pairplot(df1, hue=\"Country_Name\")"
   ]
  },
  {
   "cell_type": "markdown",
   "metadata": {},
   "source": [
    "We can focus on only two data variables."
   ]
  },
  {
   "cell_type": "code",
   "execution_count": null,
   "metadata": {},
   "outputs": [],
   "source": [
    "df1 = df[['Country_Name', 'GDP_per_capita_(current_US$)', 'Population,_total']]\n",
    "sns.pairplot(df1, hue=\"Country_Name\")"
   ]
  },
  {
   "cell_type": "markdown",
   "metadata": {},
   "source": [
    "To help with a simple regression, we can plot distributions of the data and the regression line (more on regressions next week)."
   ]
  },
  {
   "cell_type": "code",
   "execution_count": null,
   "metadata": {},
   "outputs": [],
   "source": [
    "df_france = df[df['Country_Name'] == 'France']\n",
    "sns.jointplot(x=\"GDP_per_capita_(current_US$)\", y=\"Population,_total\", data=df_france,\n",
    "                  kind=\"reg\", truncate=False,\n",
    "                  color=\"b\", height=7)"
   ]
  },
  {
   "cell_type": "markdown",
   "metadata": {},
   "source": [
    "Can you do the same for the uk?"
   ]
  },
  {
   "cell_type": "code",
   "execution_count": null,
   "metadata": {},
   "outputs": [],
   "source": [
    "df_france = df[df['Country_Name'] == 'United Kingdom']\n",
    "sns.jointplot(x=\"GDP_per_capita_(current_US$)\", y=\"Population,_total\", data=df_france,\n",
    "                  kind=\"reg\", truncate=False,\n",
    "                  color=\"b\", height=7)"
   ]
  },
  {
   "cell_type": "markdown",
   "metadata": {},
   "source": [
    "Oh no! We are collapsing time. A fairer dataset would be to look at a single year. We could fix this using another subset of the data."
   ]
  }
 ],
 "metadata": {
  "kernelspec": {
   "display_name": "Python 3",
   "language": "python",
   "name": "python3"
  },
  "language_info": {
   "codemirror_mode": {
    "name": "ipython",
    "version": 3
   },
   "file_extension": ".py",
   "mimetype": "text/x-python",
   "name": "python",
   "nbconvert_exporter": "python",
   "pygments_lexer": "ipython3",
   "version": "3.8.3"
  }
 },
 "nbformat": 4,
 "nbformat_minor": 4
}
