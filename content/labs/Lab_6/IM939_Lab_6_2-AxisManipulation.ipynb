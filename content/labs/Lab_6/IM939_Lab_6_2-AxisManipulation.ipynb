{
 "cells": [
  {
   "cell_type": "markdown",
   "metadata": {},
   "source": [
    "# Lab: Axes manipulation {#sec-axes-manipulation}\n",
    "\n",
    "One way to create potentially misleading visualisations is by manipulating the axes of a plot. Here we illustrate these using one of the FiveThirtyEight data sets, which are available [here](https://data.fivethirtyeight.com).\n",
    "\n",
    "## Data wrangling\n",
    "\n",
    "We are going to use polls from the recent USA presidential election. As before, we load and examine the data."
   ]
  },
  {
   "cell_type": "code",
   "execution_count": 1,
   "metadata": {},
   "outputs": [
    {
     "data": {
      "text/html": [
       "<div>\n",
       "<style scoped>\n",
       "    .dataframe tbody tr th:only-of-type {\n",
       "        vertical-align: middle;\n",
       "    }\n",
       "\n",
       "    .dataframe tbody tr th {\n",
       "        vertical-align: top;\n",
       "    }\n",
       "\n",
       "    .dataframe thead th {\n",
       "        text-align: right;\n",
       "    }\n",
       "</style>\n",
       "<table border=\"1\" class=\"dataframe\">\n",
       "  <thead>\n",
       "    <tr style=\"text-align: right;\">\n",
       "      <th></th>\n",
       "      <th>cycle</th>\n",
       "      <th>state</th>\n",
       "      <th>modeldate</th>\n",
       "      <th>candidate_name</th>\n",
       "      <th>pct_estimate</th>\n",
       "      <th>pct_trend_adjusted</th>\n",
       "    </tr>\n",
       "  </thead>\n",
       "  <tbody>\n",
       "    <tr>\n",
       "      <th>0</th>\n",
       "      <td>2020</td>\n",
       "      <td>Wyoming</td>\n",
       "      <td>11/3/2020</td>\n",
       "      <td>Joseph R. Biden Jr.</td>\n",
       "      <td>30.81486</td>\n",
       "      <td>30.82599</td>\n",
       "    </tr>\n",
       "    <tr>\n",
       "      <th>1</th>\n",
       "      <td>2020</td>\n",
       "      <td>Wisconsin</td>\n",
       "      <td>11/3/2020</td>\n",
       "      <td>Joseph R. Biden Jr.</td>\n",
       "      <td>52.12642</td>\n",
       "      <td>52.09584</td>\n",
       "    </tr>\n",
       "    <tr>\n",
       "      <th>2</th>\n",
       "      <td>2020</td>\n",
       "      <td>West Virginia</td>\n",
       "      <td>11/3/2020</td>\n",
       "      <td>Joseph R. Biden Jr.</td>\n",
       "      <td>33.49125</td>\n",
       "      <td>33.51517</td>\n",
       "    </tr>\n",
       "    <tr>\n",
       "      <th>3</th>\n",
       "      <td>2020</td>\n",
       "      <td>Washington</td>\n",
       "      <td>11/3/2020</td>\n",
       "      <td>Joseph R. Biden Jr.</td>\n",
       "      <td>59.34201</td>\n",
       "      <td>59.39408</td>\n",
       "    </tr>\n",
       "    <tr>\n",
       "      <th>4</th>\n",
       "      <td>2020</td>\n",
       "      <td>Virginia</td>\n",
       "      <td>11/3/2020</td>\n",
       "      <td>Joseph R. Biden Jr.</td>\n",
       "      <td>53.74120</td>\n",
       "      <td>53.72101</td>\n",
       "    </tr>\n",
       "  </tbody>\n",
       "</table>\n",
       "</div>"
      ],
      "text/plain": [
       "   cycle          state  modeldate       candidate_name  pct_estimate  \\\n",
       "0   2020        Wyoming  11/3/2020  Joseph R. Biden Jr.      30.81486   \n",
       "1   2020      Wisconsin  11/3/2020  Joseph R. Biden Jr.      52.12642   \n",
       "2   2020  West Virginia  11/3/2020  Joseph R. Biden Jr.      33.49125   \n",
       "3   2020     Washington  11/3/2020  Joseph R. Biden Jr.      59.34201   \n",
       "4   2020       Virginia  11/3/2020  Joseph R. Biden Jr.      53.74120   \n",
       "\n",
       "   pct_trend_adjusted  \n",
       "0            30.82599  \n",
       "1            52.09584  \n",
       "2            33.51517  \n",
       "3            59.39408  \n",
       "4            53.72101  "
      ]
     },
     "execution_count": 1,
     "metadata": {},
     "output_type": "execute_result"
    }
   ],
   "source": [
    "import pandas as pd \n",
    "import seaborn as sns\n",
    "import altair as alt \n",
    "\n",
    "df_polls = pd.read_csv('data/presidential_poll_averages_2020.csv')\n",
    "df_polls.head()"
   ]
  },
  {
   "cell_type": "markdown",
   "metadata": {},
   "source": [
    "For our analysis, we are going to pick estimates from 11/3/2020 for the swing states of Florida, Texas, Arizona, Michigan, Minnesota and Pennsylvania."
   ]
  },
  {
   "cell_type": "code",
   "execution_count": 2,
   "metadata": {},
   "outputs": [
    {
     "data": {
      "text/html": [
       "<div>\n",
       "<style scoped>\n",
       "    .dataframe tbody tr th:only-of-type {\n",
       "        vertical-align: middle;\n",
       "    }\n",
       "\n",
       "    .dataframe tbody tr th {\n",
       "        vertical-align: top;\n",
       "    }\n",
       "\n",
       "    .dataframe thead th {\n",
       "        text-align: right;\n",
       "    }\n",
       "</style>\n",
       "<table border=\"1\" class=\"dataframe\">\n",
       "  <thead>\n",
       "    <tr style=\"text-align: right;\">\n",
       "      <th></th>\n",
       "      <th>cycle</th>\n",
       "      <th>state</th>\n",
       "      <th>modeldate</th>\n",
       "      <th>candidate_name</th>\n",
       "      <th>pct_estimate</th>\n",
       "      <th>pct_trend_adjusted</th>\n",
       "    </tr>\n",
       "  </thead>\n",
       "  <tbody>\n",
       "    <tr>\n",
       "      <th>7</th>\n",
       "      <td>2020</td>\n",
       "      <td>Texas</td>\n",
       "      <td>11/3/2020</td>\n",
       "      <td>Joseph R. Biden Jr.</td>\n",
       "      <td>47.46643</td>\n",
       "      <td>47.44781</td>\n",
       "    </tr>\n",
       "    <tr>\n",
       "      <th>12</th>\n",
       "      <td>2020</td>\n",
       "      <td>Pennsylvania</td>\n",
       "      <td>11/3/2020</td>\n",
       "      <td>Joseph R. Biden Jr.</td>\n",
       "      <td>50.22000</td>\n",
       "      <td>50.20422</td>\n",
       "    </tr>\n",
       "    <tr>\n",
       "      <th>30</th>\n",
       "      <td>2020</td>\n",
       "      <td>Minnesota</td>\n",
       "      <td>11/3/2020</td>\n",
       "      <td>Joseph R. Biden Jr.</td>\n",
       "      <td>51.86992</td>\n",
       "      <td>51.84517</td>\n",
       "    </tr>\n",
       "    <tr>\n",
       "      <th>31</th>\n",
       "      <td>2020</td>\n",
       "      <td>Michigan</td>\n",
       "      <td>11/3/2020</td>\n",
       "      <td>Joseph R. Biden Jr.</td>\n",
       "      <td>51.17806</td>\n",
       "      <td>51.15482</td>\n",
       "    </tr>\n",
       "    <tr>\n",
       "      <th>46</th>\n",
       "      <td>2020</td>\n",
       "      <td>Florida</td>\n",
       "      <td>11/3/2020</td>\n",
       "      <td>Joseph R. Biden Jr.</td>\n",
       "      <td>49.09162</td>\n",
       "      <td>49.08035</td>\n",
       "    </tr>\n",
       "    <tr>\n",
       "      <th>53</th>\n",
       "      <td>2020</td>\n",
       "      <td>Arizona</td>\n",
       "      <td>11/3/2020</td>\n",
       "      <td>Joseph R. Biden Jr.</td>\n",
       "      <td>48.72237</td>\n",
       "      <td>48.70539</td>\n",
       "    </tr>\n",
       "    <tr>\n",
       "      <th>63</th>\n",
       "      <td>2020</td>\n",
       "      <td>Texas</td>\n",
       "      <td>11/3/2020</td>\n",
       "      <td>Donald Trump</td>\n",
       "      <td>48.57118</td>\n",
       "      <td>48.58794</td>\n",
       "    </tr>\n",
       "    <tr>\n",
       "      <th>68</th>\n",
       "      <td>2020</td>\n",
       "      <td>Pennsylvania</td>\n",
       "      <td>11/3/2020</td>\n",
       "      <td>Donald Trump</td>\n",
       "      <td>45.57216</td>\n",
       "      <td>45.55034</td>\n",
       "    </tr>\n",
       "    <tr>\n",
       "      <th>86</th>\n",
       "      <td>2020</td>\n",
       "      <td>Minnesota</td>\n",
       "      <td>11/3/2020</td>\n",
       "      <td>Donald Trump</td>\n",
       "      <td>42.63638</td>\n",
       "      <td>42.66826</td>\n",
       "    </tr>\n",
       "    <tr>\n",
       "      <th>87</th>\n",
       "      <td>2020</td>\n",
       "      <td>Michigan</td>\n",
       "      <td>11/3/2020</td>\n",
       "      <td>Donald Trump</td>\n",
       "      <td>43.20577</td>\n",
       "      <td>43.23326</td>\n",
       "    </tr>\n",
       "    <tr>\n",
       "      <th>102</th>\n",
       "      <td>2020</td>\n",
       "      <td>Florida</td>\n",
       "      <td>11/3/2020</td>\n",
       "      <td>Donald Trump</td>\n",
       "      <td>46.68101</td>\n",
       "      <td>46.61909</td>\n",
       "    </tr>\n",
       "    <tr>\n",
       "      <th>109</th>\n",
       "      <td>2020</td>\n",
       "      <td>Arizona</td>\n",
       "      <td>11/3/2020</td>\n",
       "      <td>Donald Trump</td>\n",
       "      <td>46.11074</td>\n",
       "      <td>46.10181</td>\n",
       "    </tr>\n",
       "  </tbody>\n",
       "</table>\n",
       "</div>"
      ],
      "text/plain": [
       "     cycle         state  modeldate       candidate_name  pct_estimate  \\\n",
       "7     2020         Texas  11/3/2020  Joseph R. Biden Jr.      47.46643   \n",
       "12    2020  Pennsylvania  11/3/2020  Joseph R. Biden Jr.      50.22000   \n",
       "30    2020     Minnesota  11/3/2020  Joseph R. Biden Jr.      51.86992   \n",
       "31    2020      Michigan  11/3/2020  Joseph R. Biden Jr.      51.17806   \n",
       "46    2020       Florida  11/3/2020  Joseph R. Biden Jr.      49.09162   \n",
       "53    2020       Arizona  11/3/2020  Joseph R. Biden Jr.      48.72237   \n",
       "63    2020         Texas  11/3/2020         Donald Trump      48.57118   \n",
       "68    2020  Pennsylvania  11/3/2020         Donald Trump      45.57216   \n",
       "86    2020     Minnesota  11/3/2020         Donald Trump      42.63638   \n",
       "87    2020      Michigan  11/3/2020         Donald Trump      43.20577   \n",
       "102   2020       Florida  11/3/2020         Donald Trump      46.68101   \n",
       "109   2020       Arizona  11/3/2020         Donald Trump      46.11074   \n",
       "\n",
       "     pct_trend_adjusted  \n",
       "7              47.44781  \n",
       "12             50.20422  \n",
       "30             51.84517  \n",
       "31             51.15482  \n",
       "46             49.08035  \n",
       "53             48.70539  \n",
       "63             48.58794  \n",
       "68             45.55034  \n",
       "86             42.66826  \n",
       "87             43.23326  \n",
       "102            46.61909  \n",
       "109            46.10181  "
      ]
     },
     "execution_count": 2,
     "metadata": {},
     "output_type": "execute_result"
    }
   ],
   "source": [
    "df_nov = df_polls[\n",
    "    (df_polls.modeldate == '11/3/2020')\n",
    "]\n",
    "\n",
    "df_nov = df_nov[\n",
    "    (df_nov.candidate_name == 'Joseph R. Biden Jr.') |\n",
    "    (df_nov.candidate_name == 'Donald Trump')\n",
    "]\n",
    "\n",
    "df_swing = df_nov[\n",
    "    (df_nov['state'] == 'Florida') |\n",
    "    (df_nov['state'] == 'Texas' ) |\n",
    "    (df_nov['state'] == 'Arizona' ) |\n",
    "    (df_nov['state'] == 'Michigan' ) |\n",
    "    (df_nov['state'] == 'Minnesota' ) |\n",
    "    (df_nov['state'] == 'Pennsylvania' ) \n",
    "]\n",
    "\n",
    "df_swing"
   ]
  },
  {
   "cell_type": "markdown",
   "metadata": {},
   "source": [
    "## Default barplot\n",
    "\n",
    "We can look at the relative performance of the candidates within each state using a nested bar plot."
   ]
  },
  {
   "cell_type": "code",
   "execution_count": 3,
   "metadata": {},
   "outputs": [
    {
     "name": "stderr",
     "output_type": "stream",
     "text": [
      "/Users/u2071219/anaconda3/envs/IM939-test/lib/python3.11/site-packages/seaborn/_oldcore.py:1498: FutureWarning: is_categorical_dtype is deprecated and will be removed in a future version. Use isinstance(dtype, CategoricalDtype) instead\n",
      "  if pd.api.types.is_categorical_dtype(vector):\n",
      "/Users/u2071219/anaconda3/envs/IM939-test/lib/python3.11/site-packages/seaborn/_oldcore.py:1498: FutureWarning: is_categorical_dtype is deprecated and will be removed in a future version. Use isinstance(dtype, CategoricalDtype) instead\n",
      "  if pd.api.types.is_categorical_dtype(vector):\n",
      "/Users/u2071219/anaconda3/envs/IM939-test/lib/python3.11/site-packages/seaborn/_oldcore.py:1498: FutureWarning: is_categorical_dtype is deprecated and will be removed in a future version. Use isinstance(dtype, CategoricalDtype) instead\n",
      "  if pd.api.types.is_categorical_dtype(vector):\n",
      "/Users/u2071219/anaconda3/envs/IM939-test/lib/python3.11/site-packages/seaborn/_oldcore.py:1498: FutureWarning: is_categorical_dtype is deprecated and will be removed in a future version. Use isinstance(dtype, CategoricalDtype) instead\n",
      "  if pd.api.types.is_categorical_dtype(vector):\n"
     ]
    },
    {
     "data": {
      "application/pdf": "[encoded data removed]",
      "text/plain": [
       "<Figure size 1650x1050 with 1 Axes>"
      ]
     },
     "metadata": {},
     "output_type": "display_data"
    }
   ],
   "source": [
    "ax = sns.barplot(\n",
    "    data = df_swing, \n",
    "    x = 'state', \n",
    "    y = 'pct_estimate', \n",
    "    hue = 'candidate_name')"
   ]
  },
  {
   "cell_type": "markdown",
   "metadata": {},
   "source": [
    "## Altering the axes\n",
    "\n",
    "Altering the axis increases the distance between the bars. Some might say that is misleading."
   ]
  },
  {
   "cell_type": "code",
   "execution_count": 4,
   "metadata": {},
   "outputs": [
    {
     "name": "stderr",
     "output_type": "stream",
     "text": [
      "/Users/u2071219/anaconda3/envs/IM939-test/lib/python3.11/site-packages/seaborn/_oldcore.py:1498: FutureWarning: is_categorical_dtype is deprecated and will be removed in a future version. Use isinstance(dtype, CategoricalDtype) instead\n",
      "  if pd.api.types.is_categorical_dtype(vector):\n",
      "/Users/u2071219/anaconda3/envs/IM939-test/lib/python3.11/site-packages/seaborn/_oldcore.py:1498: FutureWarning: is_categorical_dtype is deprecated and will be removed in a future version. Use isinstance(dtype, CategoricalDtype) instead\n",
      "  if pd.api.types.is_categorical_dtype(vector):\n",
      "/Users/u2071219/anaconda3/envs/IM939-test/lib/python3.11/site-packages/seaborn/_oldcore.py:1498: FutureWarning: is_categorical_dtype is deprecated and will be removed in a future version. Use isinstance(dtype, CategoricalDtype) instead\n",
      "  if pd.api.types.is_categorical_dtype(vector):\n",
      "/Users/u2071219/anaconda3/envs/IM939-test/lib/python3.11/site-packages/seaborn/_oldcore.py:1498: FutureWarning: is_categorical_dtype is deprecated and will be removed in a future version. Use isinstance(dtype, CategoricalDtype) instead\n",
      "  if pd.api.types.is_categorical_dtype(vector):\n"
     ]
    },
    {
     "data": {
      "text/plain": [
       "[(41.0, 52.0)]"
      ]
     },
     "execution_count": 4,
     "metadata": {},
     "output_type": "execute_result"
    },
    {
     "data": {
      "application/pdf": "[encoded data removed]",
      "text/plain": [
       "<Figure size 1650x1050 with 1 Axes>"
      ]
     },
     "metadata": {},
     "output_type": "display_data"
    }
   ],
   "source": [
    "ax = sns.barplot(\n",
    "    data = df_swing, \n",
    "    x = 'state', \n",
    "    y = 'pct_estimate', \n",
    "    hue = 'candidate_name')\n",
    "\n",
    "ax.set(ylim=(41, 52))"
   ]
  },
  {
   "cell_type": "markdown",
   "metadata": {},
   "source": [
    "What do you think?\n",
    "\n",
    "How about if we instead put the data on the full 0 to 100 scale?"
   ]
  },
  {
   "cell_type": "code",
   "execution_count": 5,
   "metadata": {},
   "outputs": [
    {
     "name": "stderr",
     "output_type": "stream",
     "text": [
      "/Users/u2071219/anaconda3/envs/IM939-test/lib/python3.11/site-packages/seaborn/_oldcore.py:1498: FutureWarning: is_categorical_dtype is deprecated and will be removed in a future version. Use isinstance(dtype, CategoricalDtype) instead\n",
      "  if pd.api.types.is_categorical_dtype(vector):\n",
      "/Users/u2071219/anaconda3/envs/IM939-test/lib/python3.11/site-packages/seaborn/_oldcore.py:1498: FutureWarning: is_categorical_dtype is deprecated and will be removed in a future version. Use isinstance(dtype, CategoricalDtype) instead\n",
      "  if pd.api.types.is_categorical_dtype(vector):\n",
      "/Users/u2071219/anaconda3/envs/IM939-test/lib/python3.11/site-packages/seaborn/_oldcore.py:1498: FutureWarning: is_categorical_dtype is deprecated and will be removed in a future version. Use isinstance(dtype, CategoricalDtype) instead\n",
      "  if pd.api.types.is_categorical_dtype(vector):\n",
      "/Users/u2071219/anaconda3/envs/IM939-test/lib/python3.11/site-packages/seaborn/_oldcore.py:1498: FutureWarning: is_categorical_dtype is deprecated and will be removed in a future version. Use isinstance(dtype, CategoricalDtype) instead\n",
      "  if pd.api.types.is_categorical_dtype(vector):\n"
     ]
    },
    {
     "data": {
      "text/plain": [
       "[(0.0, 100.0)]"
      ]
     },
     "execution_count": 5,
     "metadata": {},
     "output_type": "execute_result"
    },
    {
     "data": {
      "application/pdf": "[encoded data removed]",
      "text/plain": [
       "<Figure size 1650x1050 with 1 Axes>"
      ]
     },
     "metadata": {},
     "output_type": "display_data"
    }
   ],
   "source": [
    "ax = sns.barplot(\n",
    "    data = df_swing, \n",
    "    x = 'state', \n",
    "    y = 'pct_estimate', \n",
    "    hue = 'candidate_name')\n",
    "\n",
    "ax.set(ylim=(0, 100))"
   ]
  },
  {
   "cell_type": "markdown",
   "metadata": {},
   "source": [
    "We can do the same thing in Altair."
   ]
  },
  {
   "cell_type": "code",
   "execution_count": 6,
   "metadata": {},
   "outputs": [
    {
     "name": "stderr",
     "output_type": "stream",
     "text": [
      "/Users/u2071219/anaconda3/envs/IM939-test/lib/python3.11/site-packages/altair/utils/core.py:410: FutureWarning: the convert_dtype parameter is deprecated and will be removed in a future version.  Do ``ser.astype(object).apply()`` instead if you want ``convert_dtype=False``.\n",
      "  col = df[col_name].apply(to_list_if_array, convert_dtype=False)\n"
     ]
    },
    {
     "data": {
      "text/html": [
       "\n",
       "<style>\n",
       "  #altair-viz-7a5f9ff7a9df4669a3cc6a0cf387964f.vega-embed {\n",
       "    width: 100%;\n",
       "    display: flex;\n",
       "  }\n",
       "\n",
       "  #altair-viz-7a5f9ff7a9df4669a3cc6a0cf387964f.vega-embed details,\n",
       "  #altair-viz-7a5f9ff7a9df4669a3cc6a0cf387964f.vega-embed details summary {\n",
       "    position: relative;\n",
       "  }\n",
       "</style>\n",
       "<div id=\"altair-viz-7a5f9ff7a9df4669a3cc6a0cf387964f\"></div>\n",
       "<script type=\"text/javascript\">\n",
       "  var VEGA_DEBUG = (typeof VEGA_DEBUG == \"undefined\") ? {} : VEGA_DEBUG;\n",
       "  (function(spec, embedOpt){\n",
       "    let outputDiv = document.currentScript.previousElementSibling;\n",
       "    if (outputDiv.id !== \"altair-viz-7a5f9ff7a9df4669a3cc6a0cf387964f\") {\n",
       "      outputDiv = document.getElementById(\"altair-viz-7a5f9ff7a9df4669a3cc6a0cf387964f\");\n",
       "    }\n",
       "    const paths = {\n",
       "      \"vega\": \"https://cdn.jsdelivr.net/npm/vega@5?noext\",\n",
       "      \"vega-lib\": \"https://cdn.jsdelivr.net/npm/vega-lib?noext\",\n",
       "      \"vega-lite\": \"https://cdn.jsdelivr.net/npm/vega-lite@5.14.1?noext\",\n",
       "      \"vega-embed\": \"https://cdn.jsdelivr.net/npm/vega-embed@6?noext\",\n",
       "    };\n",
       "\n",
       "    function maybeLoadScript(lib, version) {\n",
       "      var key = `${lib.replace(\"-\", \"\")}_version`;\n",
       "      return (VEGA_DEBUG[key] == version) ?\n",
       "        Promise.resolve(paths[lib]) :\n",
       "        new Promise(function(resolve, reject) {\n",
       "          var s = document.createElement('script');\n",
       "          document.getElementsByTagName(\"head\")[0].appendChild(s);\n",
       "          s.async = true;\n",
       "          s.onload = () => {\n",
       "            VEGA_DEBUG[key] = version;\n",
       "            return resolve(paths[lib]);\n",
       "          };\n",
       "          s.onerror = () => reject(`Error loading script: ${paths[lib]}`);\n",
       "          s.src = paths[lib];\n",
       "        });\n",
       "    }\n",
       "\n",
       "    function showError(err) {\n",
       "      outputDiv.innerHTML = `<div class=\"error\" style=\"color:red;\">${err}</div>`;\n",
       "      throw err;\n",
       "    }\n",
       "\n",
       "    function displayChart(vegaEmbed) {\n",
       "      vegaEmbed(outputDiv, spec, embedOpt)\n",
       "        .catch(err => showError(`Javascript Error: ${err.message}<br>This usually means there's a typo in your chart specification. See the javascript console for the full traceback.`));\n",
       "    }\n",
       "\n",
       "    if(typeof define === \"function\" && define.amd) {\n",
       "      requirejs.config({paths});\n",
       "      require([\"vega-embed\"], displayChart, err => showError(`Error loading script: ${err.message}`));\n",
       "    } else {\n",
       "      maybeLoadScript(\"vega\", \"5\")\n",
       "        .then(() => maybeLoadScript(\"vega-lite\", \"5.14.1\"))\n",
       "        .then(() => maybeLoadScript(\"vega-embed\", \"6\"))\n",
       "        .catch(showError)\n",
       "        .then(() => displayChart(vegaEmbed));\n",
       "    }\n",
       "  })({\"config\": {\"view\": {\"continuousWidth\": 300, \"continuousHeight\": 300}}, \"data\": {\"name\": \"data-479201b73ec2a715fd8b64d63ba1170e\"}, \"mark\": {\"type\": \"bar\"}, \"encoding\": {\"color\": {\"field\": \"candidate_name\", \"type\": \"nominal\"}, \"column\": {\"field\": \"state\", \"header\": {\"labelOrient\": \"bottom\"}, \"spacing\": 5, \"type\": \"ordinal\"}, \"x\": {\"field\": \"candidate_name\", \"type\": \"nominal\"}, \"y\": {\"field\": \"pct_estimate\", \"type\": \"quantitative\"}}, \"$schema\": \"https://vega.github.io/schema/vega-lite/v5.14.1.json\", \"datasets\": {\"data-479201b73ec2a715fd8b64d63ba1170e\": [{\"cycle\": 2020, \"state\": \"Texas\", \"modeldate\": \"11/3/2020\", \"candidate_name\": \"Joseph R. Biden Jr.\", \"pct_estimate\": 47.46643, \"pct_trend_adjusted\": 47.44781}, {\"cycle\": 2020, \"state\": \"Pennsylvania\", \"modeldate\": \"11/3/2020\", \"candidate_name\": \"Joseph R. Biden Jr.\", \"pct_estimate\": 50.22, \"pct_trend_adjusted\": 50.20422}, {\"cycle\": 2020, \"state\": \"Minnesota\", \"modeldate\": \"11/3/2020\", \"candidate_name\": \"Joseph R. Biden Jr.\", \"pct_estimate\": 51.86992, \"pct_trend_adjusted\": 51.84517}, {\"cycle\": 2020, \"state\": \"Michigan\", \"modeldate\": \"11/3/2020\", \"candidate_name\": \"Joseph R. Biden Jr.\", \"pct_estimate\": 51.17806, \"pct_trend_adjusted\": 51.15482}, {\"cycle\": 2020, \"state\": \"Florida\", \"modeldate\": \"11/3/2020\", \"candidate_name\": \"Joseph R. Biden Jr.\", \"pct_estimate\": 49.09162, \"pct_trend_adjusted\": 49.08035}, {\"cycle\": 2020, \"state\": \"Arizona\", \"modeldate\": \"11/3/2020\", \"candidate_name\": \"Joseph R. Biden Jr.\", \"pct_estimate\": 48.72237, \"pct_trend_adjusted\": 48.70539}, {\"cycle\": 2020, \"state\": \"Texas\", \"modeldate\": \"11/3/2020\", \"candidate_name\": \"Donald Trump\", \"pct_estimate\": 48.57118, \"pct_trend_adjusted\": 48.58794}, {\"cycle\": 2020, \"state\": \"Pennsylvania\", \"modeldate\": \"11/3/2020\", \"candidate_name\": \"Donald Trump\", \"pct_estimate\": 45.57216, \"pct_trend_adjusted\": 45.55034}, {\"cycle\": 2020, \"state\": \"Minnesota\", \"modeldate\": \"11/3/2020\", \"candidate_name\": \"Donald Trump\", \"pct_estimate\": 42.63638, \"pct_trend_adjusted\": 42.66826}, {\"cycle\": 2020, \"state\": \"Michigan\", \"modeldate\": \"11/3/2020\", \"candidate_name\": \"Donald Trump\", \"pct_estimate\": 43.20577, \"pct_trend_adjusted\": 43.23326}, {\"cycle\": 2020, \"state\": \"Florida\", \"modeldate\": \"11/3/2020\", \"candidate_name\": \"Donald Trump\", \"pct_estimate\": 46.68101, \"pct_trend_adjusted\": 46.61909}, {\"cycle\": 2020, \"state\": \"Arizona\", \"modeldate\": \"11/3/2020\", \"candidate_name\": \"Donald Trump\", \"pct_estimate\": 46.11074, \"pct_trend_adjusted\": 46.10181}]}}, {\"mode\": \"vega-lite\"});\n",
       "</script>"
      ],
      "text/plain": [
       "alt.Chart(...)"
      ]
     },
     "execution_count": 6,
     "metadata": {},
     "output_type": "execute_result"
    }
   ],
   "source": [
    "alt.Chart(df_swing).mark_bar().encode(\n",
    "    x='candidate_name',\n",
    "    y='pct_estimate',\n",
    "    color='candidate_name',\n",
    "    column = alt.Column('state:O', spacing = 5, header = alt.Header(labelOrient = \"bottom\")),\n",
    ")"
   ]
  },
  {
   "cell_type": "markdown",
   "metadata": {},
   "source": [
    "Note the need for the alt column. What happens if you do not provide an alt column?\n",
    "\n",
    "Passing the domain option to the scale of the Y axis allows us to choose the y axis range."
   ]
  },
  {
   "cell_type": "code",
   "execution_count": 7,
   "metadata": {},
   "outputs": [
    {
     "name": "stderr",
     "output_type": "stream",
     "text": [
      "/Users/u2071219/anaconda3/envs/IM939-test/lib/python3.11/site-packages/altair/utils/core.py:410: FutureWarning: the convert_dtype parameter is deprecated and will be removed in a future version.  Do ``ser.astype(object).apply()`` instead if you want ``convert_dtype=False``.\n",
      "  col = df[col_name].apply(to_list_if_array, convert_dtype=False)\n"
     ]
    },
    {
     "data": {
      "text/html": [
       "\n",
       "<style>\n",
       "  #altair-viz-f9465311e2ff43739c87fe2896b19b68.vega-embed {\n",
       "    width: 100%;\n",
       "    display: flex;\n",
       "  }\n",
       "\n",
       "  #altair-viz-f9465311e2ff43739c87fe2896b19b68.vega-embed details,\n",
       "  #altair-viz-f9465311e2ff43739c87fe2896b19b68.vega-embed details summary {\n",
       "    position: relative;\n",
       "  }\n",
       "</style>\n",
       "<div id=\"altair-viz-f9465311e2ff43739c87fe2896b19b68\"></div>\n",
       "<script type=\"text/javascript\">\n",
       "  var VEGA_DEBUG = (typeof VEGA_DEBUG == \"undefined\") ? {} : VEGA_DEBUG;\n",
       "  (function(spec, embedOpt){\n",
       "    let outputDiv = document.currentScript.previousElementSibling;\n",
       "    if (outputDiv.id !== \"altair-viz-f9465311e2ff43739c87fe2896b19b68\") {\n",
       "      outputDiv = document.getElementById(\"altair-viz-f9465311e2ff43739c87fe2896b19b68\");\n",
       "    }\n",
       "    const paths = {\n",
       "      \"vega\": \"https://cdn.jsdelivr.net/npm/vega@5?noext\",\n",
       "      \"vega-lib\": \"https://cdn.jsdelivr.net/npm/vega-lib?noext\",\n",
       "      \"vega-lite\": \"https://cdn.jsdelivr.net/npm/vega-lite@5.14.1?noext\",\n",
       "      \"vega-embed\": \"https://cdn.jsdelivr.net/npm/vega-embed@6?noext\",\n",
       "    };\n",
       "\n",
       "    function maybeLoadScript(lib, version) {\n",
       "      var key = `${lib.replace(\"-\", \"\")}_version`;\n",
       "      return (VEGA_DEBUG[key] == version) ?\n",
       "        Promise.resolve(paths[lib]) :\n",
       "        new Promise(function(resolve, reject) {\n",
       "          var s = document.createElement('script');\n",
       "          document.getElementsByTagName(\"head\")[0].appendChild(s);\n",
       "          s.async = true;\n",
       "          s.onload = () => {\n",
       "            VEGA_DEBUG[key] = version;\n",
       "            return resolve(paths[lib]);\n",
       "          };\n",
       "          s.onerror = () => reject(`Error loading script: ${paths[lib]}`);\n",
       "          s.src = paths[lib];\n",
       "        });\n",
       "    }\n",
       "\n",
       "    function showError(err) {\n",
       "      outputDiv.innerHTML = `<div class=\"error\" style=\"color:red;\">${err}</div>`;\n",
       "      throw err;\n",
       "    }\n",
       "\n",
       "    function displayChart(vegaEmbed) {\n",
       "      vegaEmbed(outputDiv, spec, embedOpt)\n",
       "        .catch(err => showError(`Javascript Error: ${err.message}<br>This usually means there's a typo in your chart specification. See the javascript console for the full traceback.`));\n",
       "    }\n",
       "\n",
       "    if(typeof define === \"function\" && define.amd) {\n",
       "      requirejs.config({paths});\n",
       "      require([\"vega-embed\"], displayChart, err => showError(`Error loading script: ${err.message}`));\n",
       "    } else {\n",
       "      maybeLoadScript(\"vega\", \"5\")\n",
       "        .then(() => maybeLoadScript(\"vega-lite\", \"5.14.1\"))\n",
       "        .then(() => maybeLoadScript(\"vega-embed\", \"6\"))\n",
       "        .catch(showError)\n",
       "        .then(() => displayChart(vegaEmbed));\n",
       "    }\n",
       "  })({\"config\": {\"view\": {\"continuousWidth\": 300, \"continuousHeight\": 300}}, \"data\": {\"name\": \"data-479201b73ec2a715fd8b64d63ba1170e\"}, \"mark\": {\"type\": \"bar\"}, \"encoding\": {\"color\": {\"field\": \"candidate_name\", \"type\": \"nominal\"}, \"column\": {\"field\": \"state\", \"header\": {\"labelOrient\": \"bottom\"}, \"spacing\": 5, \"type\": \"ordinal\"}, \"x\": {\"field\": \"candidate_name\", \"type\": \"nominal\"}, \"y\": {\"field\": \"pct_estimate\", \"scale\": {\"domain\": [42, 53]}, \"type\": \"quantitative\"}}, \"$schema\": \"https://vega.github.io/schema/vega-lite/v5.14.1.json\", \"datasets\": {\"data-479201b73ec2a715fd8b64d63ba1170e\": [{\"cycle\": 2020, \"state\": \"Texas\", \"modeldate\": \"11/3/2020\", \"candidate_name\": \"Joseph R. Biden Jr.\", \"pct_estimate\": 47.46643, \"pct_trend_adjusted\": 47.44781}, {\"cycle\": 2020, \"state\": \"Pennsylvania\", \"modeldate\": \"11/3/2020\", \"candidate_name\": \"Joseph R. Biden Jr.\", \"pct_estimate\": 50.22, \"pct_trend_adjusted\": 50.20422}, {\"cycle\": 2020, \"state\": \"Minnesota\", \"modeldate\": \"11/3/2020\", \"candidate_name\": \"Joseph R. Biden Jr.\", \"pct_estimate\": 51.86992, \"pct_trend_adjusted\": 51.84517}, {\"cycle\": 2020, \"state\": \"Michigan\", \"modeldate\": \"11/3/2020\", \"candidate_name\": \"Joseph R. Biden Jr.\", \"pct_estimate\": 51.17806, \"pct_trend_adjusted\": 51.15482}, {\"cycle\": 2020, \"state\": \"Florida\", \"modeldate\": \"11/3/2020\", \"candidate_name\": \"Joseph R. Biden Jr.\", \"pct_estimate\": 49.09162, \"pct_trend_adjusted\": 49.08035}, {\"cycle\": 2020, \"state\": \"Arizona\", \"modeldate\": \"11/3/2020\", \"candidate_name\": \"Joseph R. Biden Jr.\", \"pct_estimate\": 48.72237, \"pct_trend_adjusted\": 48.70539}, {\"cycle\": 2020, \"state\": \"Texas\", \"modeldate\": \"11/3/2020\", \"candidate_name\": \"Donald Trump\", \"pct_estimate\": 48.57118, \"pct_trend_adjusted\": 48.58794}, {\"cycle\": 2020, \"state\": \"Pennsylvania\", \"modeldate\": \"11/3/2020\", \"candidate_name\": \"Donald Trump\", \"pct_estimate\": 45.57216, \"pct_trend_adjusted\": 45.55034}, {\"cycle\": 2020, \"state\": \"Minnesota\", \"modeldate\": \"11/3/2020\", \"candidate_name\": \"Donald Trump\", \"pct_estimate\": 42.63638, \"pct_trend_adjusted\": 42.66826}, {\"cycle\": 2020, \"state\": \"Michigan\", \"modeldate\": \"11/3/2020\", \"candidate_name\": \"Donald Trump\", \"pct_estimate\": 43.20577, \"pct_trend_adjusted\": 43.23326}, {\"cycle\": 2020, \"state\": \"Florida\", \"modeldate\": \"11/3/2020\", \"candidate_name\": \"Donald Trump\", \"pct_estimate\": 46.68101, \"pct_trend_adjusted\": 46.61909}, {\"cycle\": 2020, \"state\": \"Arizona\", \"modeldate\": \"11/3/2020\", \"candidate_name\": \"Donald Trump\", \"pct_estimate\": 46.11074, \"pct_trend_adjusted\": 46.10181}]}}, {\"mode\": \"vega-lite\"});\n",
       "</script>"
      ],
      "text/plain": [
       "alt.Chart(...)"
      ]
     },
     "execution_count": 7,
     "metadata": {},
     "output_type": "execute_result"
    }
   ],
   "source": [
    "alt.Chart(df_swing).mark_bar().encode(\n",
    "    x='candidate_name',\n",
    "    y=alt.Y('pct_estimate', scale=alt.Scale(domain=[42,53])),\n",
    "    color='candidate_name',\n",
    "    column = alt.Column('state:O', spacing = 5, header = alt.Header(labelOrient = \"bottom\")),\n",
    ")"
   ]
  },
  {
   "cell_type": "markdown",
   "metadata": {},
   "source": [
    "## Altering the proportions\n",
    "\n",
    "We can even be a bit tricky and stretch out the difference."
   ]
  },
  {
   "cell_type": "code",
   "execution_count": 8,
   "metadata": {},
   "outputs": [
    {
     "name": "stderr",
     "output_type": "stream",
     "text": [
      "/Users/u2071219/anaconda3/envs/IM939-test/lib/python3.11/site-packages/altair/utils/core.py:410: FutureWarning: the convert_dtype parameter is deprecated and will be removed in a future version.  Do ``ser.astype(object).apply()`` instead if you want ``convert_dtype=False``.\n",
      "  col = df[col_name].apply(to_list_if_array, convert_dtype=False)\n"
     ]
    },
    {
     "data": {
      "text/html": [
       "\n",
       "<style>\n",
       "  #altair-viz-7fb302b6cbf2485c96d36ffe5c64a215.vega-embed {\n",
       "    width: 100%;\n",
       "    display: flex;\n",
       "  }\n",
       "\n",
       "  #altair-viz-7fb302b6cbf2485c96d36ffe5c64a215.vega-embed details,\n",
       "  #altair-viz-7fb302b6cbf2485c96d36ffe5c64a215.vega-embed details summary {\n",
       "    position: relative;\n",
       "  }\n",
       "</style>\n",
       "<div id=\"altair-viz-7fb302b6cbf2485c96d36ffe5c64a215\"></div>\n",
       "<script type=\"text/javascript\">\n",
       "  var VEGA_DEBUG = (typeof VEGA_DEBUG == \"undefined\") ? {} : VEGA_DEBUG;\n",
       "  (function(spec, embedOpt){\n",
       "    let outputDiv = document.currentScript.previousElementSibling;\n",
       "    if (outputDiv.id !== \"altair-viz-7fb302b6cbf2485c96d36ffe5c64a215\") {\n",
       "      outputDiv = document.getElementById(\"altair-viz-7fb302b6cbf2485c96d36ffe5c64a215\");\n",
       "    }\n",
       "    const paths = {\n",
       "      \"vega\": \"https://cdn.jsdelivr.net/npm/vega@5?noext\",\n",
       "      \"vega-lib\": \"https://cdn.jsdelivr.net/npm/vega-lib?noext\",\n",
       "      \"vega-lite\": \"https://cdn.jsdelivr.net/npm/vega-lite@5.14.1?noext\",\n",
       "      \"vega-embed\": \"https://cdn.jsdelivr.net/npm/vega-embed@6?noext\",\n",
       "    };\n",
       "\n",
       "    function maybeLoadScript(lib, version) {\n",
       "      var key = `${lib.replace(\"-\", \"\")}_version`;\n",
       "      return (VEGA_DEBUG[key] == version) ?\n",
       "        Promise.resolve(paths[lib]) :\n",
       "        new Promise(function(resolve, reject) {\n",
       "          var s = document.createElement('script');\n",
       "          document.getElementsByTagName(\"head\")[0].appendChild(s);\n",
       "          s.async = true;\n",
       "          s.onload = () => {\n",
       "            VEGA_DEBUG[key] = version;\n",
       "            return resolve(paths[lib]);\n",
       "          };\n",
       "          s.onerror = () => reject(`Error loading script: ${paths[lib]}`);\n",
       "          s.src = paths[lib];\n",
       "        });\n",
       "    }\n",
       "\n",
       "    function showError(err) {\n",
       "      outputDiv.innerHTML = `<div class=\"error\" style=\"color:red;\">${err}</div>`;\n",
       "      throw err;\n",
       "    }\n",
       "\n",
       "    function displayChart(vegaEmbed) {\n",
       "      vegaEmbed(outputDiv, spec, embedOpt)\n",
       "        .catch(err => showError(`Javascript Error: ${err.message}<br>This usually means there's a typo in your chart specification. See the javascript console for the full traceback.`));\n",
       "    }\n",
       "\n",
       "    if(typeof define === \"function\" && define.amd) {\n",
       "      requirejs.config({paths});\n",
       "      require([\"vega-embed\"], displayChart, err => showError(`Error loading script: ${err.message}`));\n",
       "    } else {\n",
       "      maybeLoadScript(\"vega\", \"5\")\n",
       "        .then(() => maybeLoadScript(\"vega-lite\", \"5.14.1\"))\n",
       "        .then(() => maybeLoadScript(\"vega-embed\", \"6\"))\n",
       "        .catch(showError)\n",
       "        .then(() => displayChart(vegaEmbed));\n",
       "    }\n",
       "  })({\"config\": {\"view\": {\"continuousWidth\": 300, \"continuousHeight\": 300}}, \"data\": {\"name\": \"data-479201b73ec2a715fd8b64d63ba1170e\"}, \"mark\": {\"type\": \"bar\"}, \"encoding\": {\"color\": {\"field\": \"candidate_name\", \"type\": \"nominal\"}, \"column\": {\"field\": \"state\", \"header\": {\"labelOrient\": \"bottom\"}, \"spacing\": 5, \"type\": \"ordinal\"}, \"x\": {\"field\": \"candidate_name\", \"type\": \"nominal\"}, \"y\": {\"field\": \"pct_estimate\", \"scale\": {\"domain\": [42, 53]}, \"type\": \"quantitative\"}}, \"height\": 600, \"width\": 20, \"$schema\": \"https://vega.github.io/schema/vega-lite/v5.14.1.json\", \"datasets\": {\"data-479201b73ec2a715fd8b64d63ba1170e\": [{\"cycle\": 2020, \"state\": \"Texas\", \"modeldate\": \"11/3/2020\", \"candidate_name\": \"Joseph R. Biden Jr.\", \"pct_estimate\": 47.46643, \"pct_trend_adjusted\": 47.44781}, {\"cycle\": 2020, \"state\": \"Pennsylvania\", \"modeldate\": \"11/3/2020\", \"candidate_name\": \"Joseph R. Biden Jr.\", \"pct_estimate\": 50.22, \"pct_trend_adjusted\": 50.20422}, {\"cycle\": 2020, \"state\": \"Minnesota\", \"modeldate\": \"11/3/2020\", \"candidate_name\": \"Joseph R. Biden Jr.\", \"pct_estimate\": 51.86992, \"pct_trend_adjusted\": 51.84517}, {\"cycle\": 2020, \"state\": \"Michigan\", \"modeldate\": \"11/3/2020\", \"candidate_name\": \"Joseph R. Biden Jr.\", \"pct_estimate\": 51.17806, \"pct_trend_adjusted\": 51.15482}, {\"cycle\": 2020, \"state\": \"Florida\", \"modeldate\": \"11/3/2020\", \"candidate_name\": \"Joseph R. Biden Jr.\", \"pct_estimate\": 49.09162, \"pct_trend_adjusted\": 49.08035}, {\"cycle\": 2020, \"state\": \"Arizona\", \"modeldate\": \"11/3/2020\", \"candidate_name\": \"Joseph R. Biden Jr.\", \"pct_estimate\": 48.72237, \"pct_trend_adjusted\": 48.70539}, {\"cycle\": 2020, \"state\": \"Texas\", \"modeldate\": \"11/3/2020\", \"candidate_name\": \"Donald Trump\", \"pct_estimate\": 48.57118, \"pct_trend_adjusted\": 48.58794}, {\"cycle\": 2020, \"state\": \"Pennsylvania\", \"modeldate\": \"11/3/2020\", \"candidate_name\": \"Donald Trump\", \"pct_estimate\": 45.57216, \"pct_trend_adjusted\": 45.55034}, {\"cycle\": 2020, \"state\": \"Minnesota\", \"modeldate\": \"11/3/2020\", \"candidate_name\": \"Donald Trump\", \"pct_estimate\": 42.63638, \"pct_trend_adjusted\": 42.66826}, {\"cycle\": 2020, \"state\": \"Michigan\", \"modeldate\": \"11/3/2020\", \"candidate_name\": \"Donald Trump\", \"pct_estimate\": 43.20577, \"pct_trend_adjusted\": 43.23326}, {\"cycle\": 2020, \"state\": \"Florida\", \"modeldate\": \"11/3/2020\", \"candidate_name\": \"Donald Trump\", \"pct_estimate\": 46.68101, \"pct_trend_adjusted\": 46.61909}, {\"cycle\": 2020, \"state\": \"Arizona\", \"modeldate\": \"11/3/2020\", \"candidate_name\": \"Donald Trump\", \"pct_estimate\": 46.11074, \"pct_trend_adjusted\": 46.10181}]}}, {\"mode\": \"vega-lite\"});\n",
       "</script>"
      ],
      "text/plain": [
       "alt.Chart(...)"
      ]
     },
     "execution_count": 8,
     "metadata": {},
     "output_type": "execute_result"
    }
   ],
   "source": [
    "alt.Chart(df_swing).mark_bar().encode(\n",
    "    x='candidate_name',\n",
    "    y=alt.Y('pct_estimate', scale=alt.Scale(domain=[42,53])),\n",
    "    color='candidate_name',\n",
    "    column = alt.Column('state:O', spacing = 5, header = alt.Header(labelOrient = \"bottom\")),\n",
    ").properties(\n",
    "    width=20,\n",
    "    height=600\n",
    ")"
   ]
  },
  {
   "cell_type": "markdown",
   "metadata": {},
   "source": [
    "## Default line plot\n",
    "\n",
    "It is not just bar plot that you can have fun with. Line plots are another interesting example.\n",
    "\n",
    "For our simple line plot, we will need the poll data for a single state."
   ]
  },
  {
   "cell_type": "code",
   "execution_count": 9,
   "metadata": {},
   "outputs": [
    {
     "data": {
      "text/html": [
       "<div>\n",
       "<style scoped>\n",
       "    .dataframe tbody tr th:only-of-type {\n",
       "        vertical-align: middle;\n",
       "    }\n",
       "\n",
       "    .dataframe tbody tr th {\n",
       "        vertical-align: top;\n",
       "    }\n",
       "\n",
       "    .dataframe thead th {\n",
       "        text-align: right;\n",
       "    }\n",
       "</style>\n",
       "<table border=\"1\" class=\"dataframe\">\n",
       "  <thead>\n",
       "    <tr style=\"text-align: right;\">\n",
       "      <th></th>\n",
       "      <th>cycle</th>\n",
       "      <th>state</th>\n",
       "      <th>modeldate</th>\n",
       "      <th>candidate_name</th>\n",
       "      <th>pct_estimate</th>\n",
       "      <th>pct_trend_adjusted</th>\n",
       "    </tr>\n",
       "  </thead>\n",
       "  <tbody>\n",
       "    <tr>\n",
       "      <th>7</th>\n",
       "      <td>2020</td>\n",
       "      <td>Texas</td>\n",
       "      <td>11/3/2020</td>\n",
       "      <td>Joseph R. Biden Jr.</td>\n",
       "      <td>47.46643</td>\n",
       "      <td>47.44781</td>\n",
       "    </tr>\n",
       "    <tr>\n",
       "      <th>63</th>\n",
       "      <td>2020</td>\n",
       "      <td>Texas</td>\n",
       "      <td>11/3/2020</td>\n",
       "      <td>Donald Trump</td>\n",
       "      <td>48.57118</td>\n",
       "      <td>48.58794</td>\n",
       "    </tr>\n",
       "    <tr>\n",
       "      <th>231</th>\n",
       "      <td>2020</td>\n",
       "      <td>Texas</td>\n",
       "      <td>11/2/2020</td>\n",
       "      <td>Joseph R. Biden Jr.</td>\n",
       "      <td>47.46643</td>\n",
       "      <td>47.44781</td>\n",
       "    </tr>\n",
       "    <tr>\n",
       "      <th>287</th>\n",
       "      <td>2020</td>\n",
       "      <td>Texas</td>\n",
       "      <td>11/2/2020</td>\n",
       "      <td>Donald Trump</td>\n",
       "      <td>48.57118</td>\n",
       "      <td>48.58794</td>\n",
       "    </tr>\n",
       "    <tr>\n",
       "      <th>455</th>\n",
       "      <td>2020</td>\n",
       "      <td>Texas</td>\n",
       "      <td>11/1/2020</td>\n",
       "      <td>Joseph R. Biden Jr.</td>\n",
       "      <td>47.45590</td>\n",
       "      <td>47.43400</td>\n",
       "    </tr>\n",
       "  </tbody>\n",
       "</table>\n",
       "</div>"
      ],
      "text/plain": [
       "     cycle  state  modeldate       candidate_name  pct_estimate  \\\n",
       "7     2020  Texas  11/3/2020  Joseph R. Biden Jr.      47.46643   \n",
       "63    2020  Texas  11/3/2020         Donald Trump      48.57118   \n",
       "231   2020  Texas  11/2/2020  Joseph R. Biden Jr.      47.46643   \n",
       "287   2020  Texas  11/2/2020         Donald Trump      48.57118   \n",
       "455   2020  Texas  11/1/2020  Joseph R. Biden Jr.      47.45590   \n",
       "\n",
       "     pct_trend_adjusted  \n",
       "7              47.44781  \n",
       "63             48.58794  \n",
       "231            47.44781  \n",
       "287            48.58794  \n",
       "455            47.43400  "
      ]
     },
     "execution_count": 9,
     "metadata": {},
     "output_type": "execute_result"
    }
   ],
   "source": [
    "df_texas = df_polls[\n",
    "    df_polls['state'] == 'Texas'\n",
    "]\n",
    "\n",
    "df_texas_bt = df_texas[\n",
    "    (df_texas['candidate_name'] == 'Donald Trump') |\n",
    "    (df_texas['candidate_name'] == 'Joseph R. Biden Jr.')\n",
    "]\n",
    "\n",
    "df_texas_bt.head()"
   ]
  },
  {
   "cell_type": "markdown",
   "metadata": {},
   "source": [
    "The modeldate column is a string (object) and not date time. So we need to change that: we will create a new datetime column called `modeldate`."
   ]
  },
  {
   "cell_type": "code",
   "execution_count": 10,
   "metadata": {},
   "outputs": [],
   "source": [
    "#df_texas_bt.loc[df_texas_bt[]]"
   ]
  },
  {
   "cell_type": "code",
   "execution_count": 11,
   "metadata": {},
   "outputs": [
    {
     "name": "stdout",
     "output_type": "stream",
     "text": [
      "Before\n",
      "\n",
      "cycle                   int64\n",
      "state                  object\n",
      "modeldate              object\n",
      "candidate_name         object\n",
      "pct_estimate          float64\n",
      "pct_trend_adjusted    float64\n",
      "dtype: object\n",
      "\n",
      "After\n",
      "\n",
      "cycle                          int64\n",
      "state                         object\n",
      "modeldate                     object\n",
      "candidate_name                object\n",
      "pct_estimate                 float64\n",
      "pct_trend_adjusted           float64\n",
      "date                  datetime64[ns]\n",
      "dtype: object\n"
     ]
    },
    {
     "name": "stderr",
     "output_type": "stream",
     "text": [
      "/var/folders/7v/zl9mv52s3ls94kntlt_l9ryh0000gq/T/ipykernel_84482/3228356118.py:3: SettingWithCopyWarning: \n",
      "A value is trying to be set on a copy of a slice from a DataFrame.\n",
      "Try using .loc[row_indexer,col_indexer] = value instead\n",
      "\n",
      "See the caveats in the documentation: https://pandas.pydata.org/pandas-docs/stable/user_guide/indexing.html#returning-a-view-versus-a-copy\n",
      "  df_texas_bt['date'] = pd.to_datetime(df_texas_bt.loc[:,'modeldate'], format='%m/%d/%Y').copy()\n"
     ]
    }
   ],
   "source": [
    "print('Before\\n')\n",
    "print(df_texas_bt.dtypes)\n",
    "df_texas_bt['date'] = pd.to_datetime(df_texas_bt.loc[:,'modeldate'], format='%m/%d/%Y').copy()\n",
    "print('\\nAfter\\n')\n",
    "print(df_texas_bt.dtypes)"
   ]
  },
  {
   "cell_type": "markdown",
   "metadata": {},
   "source": [
    "Create our line plot."
   ]
  },
  {
   "cell_type": "code",
   "execution_count": 12,
   "metadata": {},
   "outputs": [
    {
     "name": "stderr",
     "output_type": "stream",
     "text": [
      "/Users/u2071219/anaconda3/envs/IM939-test/lib/python3.11/site-packages/altair/utils/core.py:410: FutureWarning: the convert_dtype parameter is deprecated and will be removed in a future version.  Do ``ser.astype(object).apply()`` instead if you want ``convert_dtype=False``.\n",
      "  col = df[col_name].apply(to_list_if_array, convert_dtype=False)\n"
     ]
    },
    {
     "data": {
      "text/html": [
       "\n",
       "<style>\n",
       "  #altair-viz-a7776ee219424d298d4c2dfe7c9a5a25.vega-embed {\n",
       "    width: 100%;\n",
       "    display: flex;\n",
       "  }\n",
       "\n",
       "  #altair-viz-a7776ee219424d298d4c2dfe7c9a5a25.vega-embed details,\n",
       "  #altair-viz-a7776ee219424d298d4c2dfe7c9a5a25.vega-embed details summary {\n",
       "    position: relative;\n",
       "  }\n",
       "</style>\n",
       "<div id=\"altair-viz-a7776ee219424d298d4c2dfe7c9a5a25\"></div>\n",
       "<script type=\"text/javascript\">\n",
       "  var VEGA_DEBUG = (typeof VEGA_DEBUG == \"undefined\") ? {} : VEGA_DEBUG;\n",
       "  (function(spec, embedOpt){\n",
       "    let outputDiv = document.currentScript.previousElementSibling;\n",
       "    if (outputDiv.id !== \"altair-viz-a7776ee219424d298d4c2dfe7c9a5a25\") {\n",
       "      outputDiv = document.getElementById(\"altair-viz-a7776ee219424d298d4c2dfe7c9a5a25\");\n",
       "    }\n",
       "    const paths = {\n",
       "      \"vega\": \"https://cdn.jsdelivr.net/npm/vega@5?noext\",\n",
       "      \"vega-lib\": \"https://cdn.jsdelivr.net/npm/vega-lib?noext\",\n",
       "      \"vega-lite\": \"https://cdn.jsdelivr.net/npm/vega-lite@5.14.1?noext\",\n",
       "      \"vega-embed\": \"https://cdn.jsdelivr.net/npm/vega-embed@6?noext\",\n",
       "    };\n",
       "\n",
       "    function maybeLoadScript(lib, version) {\n",
       "      var key = `${lib.replace(\"-\", \"\")}_version`;\n",
       "      return (VEGA_DEBUG[key] == version) ?\n",
       "        Promise.resolve(paths[lib]) :\n",
       "        new Promise(function(resolve, reject) {\n",
       "          var s = document.createElement('script');\n",
       "          document.getElementsByTagName(\"head\")[0].appendChild(s);\n",
       "          s.async = true;\n",
       "          s.onload = () => {\n",
       "            VEGA_DEBUG[key] = version;\n",
       "            return resolve(paths[lib]);\n",
       "          };\n",
       "          s.onerror = () => reject(`Error loading script: ${paths[lib]}`);\n",
       "          s.src = paths[lib];\n",
       "        });\n",
       "    }\n",
       "\n",
       "    function showError(err) {\n",
       "      outputDiv.innerHTML = `<div class=\"error\" style=\"color:red;\">${err}</div>`;\n",
       "      throw err;\n",
       "    }\n",
       "\n",
       "    function displayChart(vegaEmbed) {\n",
       "      vegaEmbed(outputDiv, spec, embedOpt)\n",
       "        .catch(err => showError(`Javascript Error: ${err.message}<br>This usually means there's a typo in your chart specification. See the javascript console for the full traceback.`));\n",
       "    }\n",
       "\n",
       "    if(typeof define === \"function\" && define.amd) {\n",
       "      requirejs.config({paths});\n",
       "      require([\"vega-embed\"], displayChart, err => showError(`Error loading script: ${err.message}`));\n",
       "    } else {\n",
       "      maybeLoadScript(\"vega\", \"5\")\n",
       "        .then(() => maybeLoadScript(\"vega-lite\", \"5.14.1\"))\n",
       "        .then(() => maybeLoadScript(\"vega-embed\", \"6\"))\n",
       "        .catch(showError)\n",
       "        .then(() => displayChart(vegaEmbed));\n",
       "    }\n",
       "  })({\"config\": {\"view\": {\"continuousWidth\": 300, \"continuousHeight\": 300}}, \"data\": {\"name\": \"data-cb586b869524d15ad0754674c14f5ec8\"}, \"mark\": {\"type\": \"line\"}, \"encoding\": {\"color\": {\"field\": \"candidate_name\", \"type\": \"nominal\"}, \"x\": {\"field\": \"date\", \"type\": \"temporal\"}, \"y\": {\"field\": \"pct_estimate\", \"scale\": {\"domain\": [42, 53]}, \"type\": \"quantitative\"}}, \"$schema\": \"https://vega.github.io/schema/vega-lite/v5.14.1.json\", \"datasets\": {\"data-cb586b869524d15ad0754674c14f5ec8\": [{\"cycle\": 2020, \"state\": \"Texas\", \"modeldate\": \"11/3/2020\", \"candidate_name\": \"Joseph R. Biden Jr.\", \"pct_estimate\": 47.46643, \"pct_trend_adjusted\": 47.44781, \"date\": \"2020-11-03T00:00:00\"}, {\"cycle\": 2020, \"state\": \"Texas\", \"modeldate\": \"11/3/2020\", \"candidate_name\": \"Donald Trump\", \"pct_estimate\": 48.57118, \"pct_trend_adjusted\": 48.58794, \"date\": \"2020-11-03T00:00:00\"}, {\"cycle\": 2020, \"state\": \"Texas\", \"modeldate\": \"11/2/2020\", \"candidate_name\": \"Joseph R. Biden Jr.\", \"pct_estimate\": 47.46643, \"pct_trend_adjusted\": 47.44781, \"date\": \"2020-11-02T00:00:00\"}, {\"cycle\": 2020, \"state\": \"Texas\", \"modeldate\": \"11/2/2020\", \"candidate_name\": \"Donald Trump\", \"pct_estimate\": 48.57118, \"pct_trend_adjusted\": 48.58794, \"date\": \"2020-11-02T00:00:00\"}, {\"cycle\": 2020, \"state\": \"Texas\", \"modeldate\": \"11/1/2020\", \"candidate_name\": \"Joseph R. Biden Jr.\", \"pct_estimate\": 47.4559, \"pct_trend_adjusted\": 47.434, \"date\": \"2020-11-01T00:00:00\"}, {\"cycle\": 2020, \"state\": \"Texas\", \"modeldate\": \"11/1/2020\", \"candidate_name\": \"Donald Trump\", \"pct_estimate\": 48.46441, \"pct_trend_adjusted\": 48.54471, \"date\": \"2020-11-01T00:00:00\"}, {\"cycle\": 2020, \"state\": \"Texas\", \"modeldate\": \"10/31/2020\", \"candidate_name\": \"Joseph R. Biden Jr.\", \"pct_estimate\": 47.23946, \"pct_trend_adjusted\": 47.19829, \"date\": \"2020-10-31T00:00:00\"}, {\"cycle\": 2020, \"state\": \"Texas\", \"modeldate\": \"10/31/2020\", \"candidate_name\": \"Donald Trump\", \"pct_estimate\": 48.06615, \"pct_trend_adjusted\": 48.24208, \"date\": \"2020-10-31T00:00:00\"}, {\"cycle\": 2020, \"state\": \"Texas\", \"modeldate\": \"10/30/2020\", \"candidate_name\": \"Joseph R. Biden Jr.\", \"pct_estimate\": 46.82207, \"pct_trend_adjusted\": 46.77404, \"date\": \"2020-10-30T00:00:00\"}, {\"cycle\": 2020, \"state\": \"Texas\", \"modeldate\": \"10/30/2020\", \"candidate_name\": \"Donald Trump\", \"pct_estimate\": 47.93625, \"pct_trend_adjusted\": 48.11536, \"date\": \"2020-10-30T00:00:00\"}, {\"cycle\": 2020, \"state\": \"Texas\", \"modeldate\": \"10/29/2020\", \"candidate_name\": \"Joseph R. Biden Jr.\", \"pct_estimate\": 46.93267, \"pct_trend_adjusted\": 46.83416, \"date\": \"2020-10-29T00:00:00\"}, {\"cycle\": 2020, \"state\": \"Texas\", \"modeldate\": \"10/29/2020\", \"candidate_name\": \"Donald Trump\", \"pct_estimate\": 47.86353, \"pct_trend_adjusted\": 48.09527, \"date\": \"2020-10-29T00:00:00\"}, {\"cycle\": 2020, \"state\": \"Texas\", \"modeldate\": \"10/28/2020\", \"candidate_name\": \"Joseph R. Biden Jr.\", \"pct_estimate\": 46.36433, \"pct_trend_adjusted\": 46.34799, \"date\": \"2020-10-28T00:00:00\"}, {\"cycle\": 2020, \"state\": \"Texas\", \"modeldate\": \"10/28/2020\", \"candidate_name\": \"Donald Trump\", \"pct_estimate\": 47.97564, \"pct_trend_adjusted\": 48.14801, \"date\": \"2020-10-28T00:00:00\"}, {\"cycle\": 2020, \"state\": \"Texas\", \"modeldate\": \"10/27/2020\", \"candidate_name\": \"Joseph R. Biden Jr.\", \"pct_estimate\": 46.5183, \"pct_trend_adjusted\": 46.55659, \"date\": \"2020-10-27T00:00:00\"}, {\"cycle\": 2020, \"state\": \"Texas\", \"modeldate\": \"10/27/2020\", \"candidate_name\": \"Donald Trump\", \"pct_estimate\": 47.72824, \"pct_trend_adjusted\": 47.87221, \"date\": \"2020-10-27T00:00:00\"}, {\"cycle\": 2020, \"state\": \"Texas\", \"modeldate\": \"10/26/2020\", \"candidate_name\": \"Joseph R. Biden Jr.\", \"pct_estimate\": 46.52976, \"pct_trend_adjusted\": 46.58089, \"date\": \"2020-10-26T00:00:00\"}, {\"cycle\": 2020, \"state\": \"Texas\", \"modeldate\": \"10/26/2020\", \"candidate_name\": \"Donald Trump\", \"pct_estimate\": 47.71605, \"pct_trend_adjusted\": 47.80744, \"date\": \"2020-10-26T00:00:00\"}, {\"cycle\": 2020, \"state\": \"Texas\", \"modeldate\": \"10/25/2020\", \"candidate_name\": \"Joseph R. Biden Jr.\", \"pct_estimate\": 47.4801, \"pct_trend_adjusted\": 47.55072, \"date\": \"2020-10-25T00:00:00\"}, {\"cycle\": 2020, \"state\": \"Texas\", \"modeldate\": \"10/25/2020\", \"candidate_name\": \"Donald Trump\", \"pct_estimate\": 47.33944, \"pct_trend_adjusted\": 47.52846, \"date\": \"2020-10-25T00:00:00\"}, {\"cycle\": 2020, \"state\": \"Texas\", \"modeldate\": \"10/24/2020\", \"candidate_name\": \"Joseph R. Biden Jr.\", \"pct_estimate\": 47.14655, \"pct_trend_adjusted\": 47.22937, \"date\": \"2020-10-24T00:00:00\"}, {\"cycle\": 2020, \"state\": \"Texas\", \"modeldate\": \"10/24/2020\", \"candidate_name\": \"Donald Trump\", \"pct_estimate\": 47.58155, \"pct_trend_adjusted\": 47.7373, \"date\": \"2020-10-24T00:00:00\"}, {\"cycle\": 2020, \"state\": \"Texas\", \"modeldate\": \"10/23/2020\", \"candidate_name\": \"Joseph R. Biden Jr.\", \"pct_estimate\": 47.17032, \"pct_trend_adjusted\": 47.30361, \"date\": \"2020-10-23T00:00:00\"}, {\"cycle\": 2020, \"state\": \"Texas\", \"modeldate\": \"10/23/2020\", \"candidate_name\": \"Donald Trump\", \"pct_estimate\": 47.80916, \"pct_trend_adjusted\": 47.79274, \"date\": \"2020-10-23T00:00:00\"}, {\"cycle\": 2020, \"state\": \"Texas\", \"modeldate\": \"10/22/2020\", \"candidate_name\": \"Joseph R. Biden Jr.\", \"pct_estimate\": 47.11637, \"pct_trend_adjusted\": 47.27499, \"date\": \"2020-10-22T00:00:00\"}, {\"cycle\": 2020, \"state\": \"Texas\", \"modeldate\": \"10/22/2020\", \"candidate_name\": \"Donald Trump\", \"pct_estimate\": 47.86441, \"pct_trend_adjusted\": 47.78256, \"date\": \"2020-10-22T00:00:00\"}, {\"cycle\": 2020, \"state\": \"Texas\", \"modeldate\": \"10/21/2020\", \"candidate_name\": \"Joseph R. Biden Jr.\", \"pct_estimate\": 46.86986, \"pct_trend_adjusted\": 47.05593, \"date\": \"2020-10-21T00:00:00\"}, {\"cycle\": 2020, \"state\": \"Texas\", \"modeldate\": \"10/21/2020\", \"candidate_name\": \"Donald Trump\", \"pct_estimate\": 48.10905, \"pct_trend_adjusted\": 48.02841, \"date\": \"2020-10-21T00:00:00\"}, {\"cycle\": 2020, \"state\": \"Texas\", \"modeldate\": \"10/20/2020\", \"candidate_name\": \"Joseph R. Biden Jr.\", \"pct_estimate\": 46.79348, \"pct_trend_adjusted\": 47.04121, \"date\": \"2020-10-20T00:00:00\"}, {\"cycle\": 2020, \"state\": \"Texas\", \"modeldate\": \"10/20/2020\", \"candidate_name\": \"Donald Trump\", \"pct_estimate\": 48.38562, \"pct_trend_adjusted\": 48.23697, \"date\": \"2020-10-20T00:00:00\"}, {\"cycle\": 2020, \"state\": \"Texas\", \"modeldate\": \"10/19/2020\", \"candidate_name\": \"Joseph R. Biden Jr.\", \"pct_estimate\": 46.77259, \"pct_trend_adjusted\": 47.17656, \"date\": \"2020-10-19T00:00:00\"}, {\"cycle\": 2020, \"state\": \"Texas\", \"modeldate\": \"10/19/2020\", \"candidate_name\": \"Donald Trump\", \"pct_estimate\": 48.23845, \"pct_trend_adjusted\": 48.04906, \"date\": \"2020-10-19T00:00:00\"}, {\"cycle\": 2020, \"state\": \"Texas\", \"modeldate\": \"10/18/2020\", \"candidate_name\": \"Joseph R. Biden Jr.\", \"pct_estimate\": 46.82427, \"pct_trend_adjusted\": 47.22083, \"date\": \"2020-10-18T00:00:00\"}, {\"cycle\": 2020, \"state\": \"Texas\", \"modeldate\": \"10/18/2020\", \"candidate_name\": \"Donald Trump\", \"pct_estimate\": 48.70924, \"pct_trend_adjusted\": 48.59669, \"date\": \"2020-10-18T00:00:00\"}, {\"cycle\": 2020, \"state\": \"Texas\", \"modeldate\": \"10/17/2020\", \"candidate_name\": \"Joseph R. Biden Jr.\", \"pct_estimate\": 46.82671, \"pct_trend_adjusted\": 47.20718, \"date\": \"2020-10-17T00:00:00\"}, {\"cycle\": 2020, \"state\": \"Texas\", \"modeldate\": \"10/17/2020\", \"candidate_name\": \"Donald Trump\", \"pct_estimate\": 48.69751, \"pct_trend_adjusted\": 48.55051, \"date\": \"2020-10-17T00:00:00\"}, {\"cycle\": 2020, \"state\": \"Texas\", \"modeldate\": \"10/16/2020\", \"candidate_name\": \"Joseph R. Biden Jr.\", \"pct_estimate\": 46.73175, \"pct_trend_adjusted\": 47.10951, \"date\": \"2020-10-16T00:00:00\"}, {\"cycle\": 2020, \"state\": \"Texas\", \"modeldate\": \"10/16/2020\", \"candidate_name\": \"Donald Trump\", \"pct_estimate\": 48.68825, \"pct_trend_adjusted\": 48.53151, \"date\": \"2020-10-16T00:00:00\"}, {\"cycle\": 2020, \"state\": \"Texas\", \"modeldate\": \"10/15/2020\", \"candidate_name\": \"Joseph R. Biden Jr.\", \"pct_estimate\": 46.61424, \"pct_trend_adjusted\": 47.07853, \"date\": \"2020-10-15T00:00:00\"}, {\"cycle\": 2020, \"state\": \"Texas\", \"modeldate\": \"10/15/2020\", \"candidate_name\": \"Donald Trump\", \"pct_estimate\": 48.65753, \"pct_trend_adjusted\": 48.51936, \"date\": \"2020-10-15T00:00:00\"}, {\"cycle\": 2020, \"state\": \"Texas\", \"modeldate\": \"10/14/2020\", \"candidate_name\": \"Joseph R. Biden Jr.\", \"pct_estimate\": 46.61532, \"pct_trend_adjusted\": 46.97094, \"date\": \"2020-10-14T00:00:00\"}, {\"cycle\": 2020, \"state\": \"Texas\", \"modeldate\": \"10/14/2020\", \"candidate_name\": \"Donald Trump\", \"pct_estimate\": 48.66979, \"pct_trend_adjusted\": 48.49451, \"date\": \"2020-10-14T00:00:00\"}, {\"cycle\": 2020, \"state\": \"Texas\", \"modeldate\": \"10/13/2020\", \"candidate_name\": \"Joseph R. Biden Jr.\", \"pct_estimate\": 46.56169, \"pct_trend_adjusted\": 47.02466, \"date\": \"2020-10-13T00:00:00\"}, {\"cycle\": 2020, \"state\": \"Texas\", \"modeldate\": \"10/13/2020\", \"candidate_name\": \"Donald Trump\", \"pct_estimate\": 48.56747, \"pct_trend_adjusted\": 48.37541, \"date\": \"2020-10-13T00:00:00\"}, {\"cycle\": 2020, \"state\": \"Texas\", \"modeldate\": \"10/12/2020\", \"candidate_name\": \"Joseph R. Biden Jr.\", \"pct_estimate\": 46.277, \"pct_trend_adjusted\": 46.82201, \"date\": \"2020-10-12T00:00:00\"}, {\"cycle\": 2020, \"state\": \"Texas\", \"modeldate\": \"10/12/2020\", \"candidate_name\": \"Donald Trump\", \"pct_estimate\": 48.609, \"pct_trend_adjusted\": 48.34362, \"date\": \"2020-10-12T00:00:00\"}, {\"cycle\": 2020, \"state\": \"Texas\", \"modeldate\": \"10/11/2020\", \"candidate_name\": \"Joseph R. Biden Jr.\", \"pct_estimate\": 46.26738, \"pct_trend_adjusted\": 46.77531, \"date\": \"2020-10-11T00:00:00\"}, {\"cycle\": 2020, \"state\": \"Texas\", \"modeldate\": \"10/11/2020\", \"candidate_name\": \"Donald Trump\", \"pct_estimate\": 48.61756, \"pct_trend_adjusted\": 48.32251, \"date\": \"2020-10-11T00:00:00\"}, {\"cycle\": 2020, \"state\": \"Texas\", \"modeldate\": \"10/10/2020\", \"candidate_name\": \"Joseph R. Biden Jr.\", \"pct_estimate\": 46.22795, \"pct_trend_adjusted\": 46.65842, \"date\": \"2020-10-10T00:00:00\"}, {\"cycle\": 2020, \"state\": \"Texas\", \"modeldate\": \"10/10/2020\", \"candidate_name\": \"Donald Trump\", \"pct_estimate\": 48.65608, \"pct_trend_adjusted\": 48.34404, \"date\": \"2020-10-10T00:00:00\"}, {\"cycle\": 2020, \"state\": \"Texas\", \"modeldate\": \"10/9/2020\", \"candidate_name\": \"Joseph R. Biden Jr.\", \"pct_estimate\": 46.23714, \"pct_trend_adjusted\": 46.66895, \"date\": \"2020-10-09T00:00:00\"}, {\"cycle\": 2020, \"state\": \"Texas\", \"modeldate\": \"10/9/2020\", \"candidate_name\": \"Donald Trump\", \"pct_estimate\": 48.64567, \"pct_trend_adjusted\": 48.35894, \"date\": \"2020-10-09T00:00:00\"}, {\"cycle\": 2020, \"state\": \"Texas\", \"modeldate\": \"10/8/2020\", \"candidate_name\": \"Joseph R. Biden Jr.\", \"pct_estimate\": 46.27598, \"pct_trend_adjusted\": 46.65587, \"date\": \"2020-10-08T00:00:00\"}, {\"cycle\": 2020, \"state\": \"Texas\", \"modeldate\": \"10/8/2020\", \"candidate_name\": \"Donald Trump\", \"pct_estimate\": 48.48419, \"pct_trend_adjusted\": 48.23477, \"date\": \"2020-10-08T00:00:00\"}, {\"cycle\": 2020, \"state\": \"Texas\", \"modeldate\": \"10/7/2020\", \"candidate_name\": \"Joseph R. Biden Jr.\", \"pct_estimate\": 46.05751, \"pct_trend_adjusted\": 46.5043, \"date\": \"2020-10-07T00:00:00\"}, {\"cycle\": 2020, \"state\": \"Texas\", \"modeldate\": \"10/7/2020\", \"candidate_name\": \"Donald Trump\", \"pct_estimate\": 47.99517, \"pct_trend_adjusted\": 47.59927, \"date\": \"2020-10-07T00:00:00\"}, {\"cycle\": 2020, \"state\": \"Texas\", \"modeldate\": \"10/6/2020\", \"candidate_name\": \"Joseph R. Biden Jr.\", \"pct_estimate\": 45.59776, \"pct_trend_adjusted\": 46.08566, \"date\": \"2020-10-06T00:00:00\"}, {\"cycle\": 2020, \"state\": \"Texas\", \"modeldate\": \"10/6/2020\", \"candidate_name\": \"Donald Trump\", \"pct_estimate\": 48.21851, \"pct_trend_adjusted\": 47.83131, \"date\": \"2020-10-06T00:00:00\"}, {\"cycle\": 2020, \"state\": \"Texas\", \"modeldate\": \"10/5/2020\", \"candidate_name\": \"Joseph R. Biden Jr.\", \"pct_estimate\": 45.59505, \"pct_trend_adjusted\": 45.7974, \"date\": \"2020-10-05T00:00:00\"}, {\"cycle\": 2020, \"state\": \"Texas\", \"modeldate\": \"10/5/2020\", \"candidate_name\": \"Donald Trump\", \"pct_estimate\": 48.22139, \"pct_trend_adjusted\": 48.02615, \"date\": \"2020-10-05T00:00:00\"}, {\"cycle\": 2020, \"state\": \"Texas\", \"modeldate\": \"10/4/2020\", \"candidate_name\": \"Joseph R. Biden Jr.\", \"pct_estimate\": 45.59599, \"pct_trend_adjusted\": 45.7504, \"date\": \"2020-10-04T00:00:00\"}, {\"cycle\": 2020, \"state\": \"Texas\", \"modeldate\": \"10/4/2020\", \"candidate_name\": \"Donald Trump\", \"pct_estimate\": 48.19992, \"pct_trend_adjusted\": 48.11354, \"date\": \"2020-10-04T00:00:00\"}, {\"cycle\": 2020, \"state\": \"Texas\", \"modeldate\": \"10/3/2020\", \"candidate_name\": \"Joseph R. Biden Jr.\", \"pct_estimate\": 45.59641, \"pct_trend_adjusted\": 45.67408, \"date\": \"2020-10-03T00:00:00\"}, {\"cycle\": 2020, \"state\": \"Texas\", \"modeldate\": \"10/3/2020\", \"candidate_name\": \"Donald Trump\", \"pct_estimate\": 48.20047, \"pct_trend_adjusted\": 48.25187, \"date\": \"2020-10-03T00:00:00\"}, {\"cycle\": 2020, \"state\": \"Texas\", \"modeldate\": \"10/2/2020\", \"candidate_name\": \"Joseph R. Biden Jr.\", \"pct_estimate\": 45.77011, \"pct_trend_adjusted\": 45.84324, \"date\": \"2020-10-02T00:00:00\"}, {\"cycle\": 2020, \"state\": \"Texas\", \"modeldate\": \"10/2/2020\", \"candidate_name\": \"Donald Trump\", \"pct_estimate\": 47.99397, \"pct_trend_adjusted\": 48.09828, \"date\": \"2020-10-02T00:00:00\"}, {\"cycle\": 2020, \"state\": \"Texas\", \"modeldate\": \"10/1/2020\", \"candidate_name\": \"Joseph R. Biden Jr.\", \"pct_estimate\": 45.86344, \"pct_trend_adjusted\": 46.03644, \"date\": \"2020-10-01T00:00:00\"}, {\"cycle\": 2020, \"state\": \"Texas\", \"modeldate\": \"10/1/2020\", \"candidate_name\": \"Donald Trump\", \"pct_estimate\": 47.78569, \"pct_trend_adjusted\": 47.65346, \"date\": \"2020-10-01T00:00:00\"}, {\"cycle\": 2020, \"state\": \"Texas\", \"modeldate\": \"9/30/2020\", \"candidate_name\": \"Joseph R. Biden Jr.\", \"pct_estimate\": 45.8628, \"pct_trend_adjusted\": 45.91486, \"date\": \"2020-09-30T00:00:00\"}, {\"cycle\": 2020, \"state\": \"Texas\", \"modeldate\": \"9/30/2020\", \"candidate_name\": \"Donald Trump\", \"pct_estimate\": 47.7896, \"pct_trend_adjusted\": 47.76911, \"date\": \"2020-09-30T00:00:00\"}, {\"cycle\": 2020, \"state\": \"Texas\", \"modeldate\": \"9/29/2020\", \"candidate_name\": \"Joseph R. Biden Jr.\", \"pct_estimate\": 45.87399, \"pct_trend_adjusted\": 45.87604, \"date\": \"2020-09-29T00:00:00\"}, {\"cycle\": 2020, \"state\": \"Texas\", \"modeldate\": \"9/29/2020\", \"candidate_name\": \"Donald Trump\", \"pct_estimate\": 47.78341, \"pct_trend_adjusted\": 47.92289, \"date\": \"2020-09-29T00:00:00\"}, {\"cycle\": 2020, \"state\": \"Texas\", \"modeldate\": \"9/28/2020\", \"candidate_name\": \"Joseph R. Biden Jr.\", \"pct_estimate\": 45.84436, \"pct_trend_adjusted\": 45.8177, \"date\": \"2020-09-28T00:00:00\"}, {\"cycle\": 2020, \"state\": \"Texas\", \"modeldate\": \"9/28/2020\", \"candidate_name\": \"Donald Trump\", \"pct_estimate\": 47.54206, \"pct_trend_adjusted\": 47.68512, \"date\": \"2020-09-28T00:00:00\"}, {\"cycle\": 2020, \"state\": \"Texas\", \"modeldate\": \"9/27/2020\", \"candidate_name\": \"Joseph R. Biden Jr.\", \"pct_estimate\": 45.85719, \"pct_trend_adjusted\": 45.81222, \"date\": \"2020-09-27T00:00:00\"}, {\"cycle\": 2020, \"state\": \"Texas\", \"modeldate\": \"9/27/2020\", \"candidate_name\": \"Donald Trump\", \"pct_estimate\": 47.43828, \"pct_trend_adjusted\": 47.55669, \"date\": \"2020-09-27T00:00:00\"}, {\"cycle\": 2020, \"state\": \"Texas\", \"modeldate\": \"9/26/2020\", \"candidate_name\": \"Joseph R. Biden Jr.\", \"pct_estimate\": 45.85507, \"pct_trend_adjusted\": 45.80243, \"date\": \"2020-09-26T00:00:00\"}, {\"cycle\": 2020, \"state\": \"Texas\", \"modeldate\": \"9/26/2020\", \"candidate_name\": \"Donald Trump\", \"pct_estimate\": 47.43436, \"pct_trend_adjusted\": 47.62218, \"date\": \"2020-09-26T00:00:00\"}, {\"cycle\": 2020, \"state\": \"Texas\", \"modeldate\": \"9/25/2020\", \"candidate_name\": \"Joseph R. Biden Jr.\", \"pct_estimate\": 45.86306, \"pct_trend_adjusted\": 45.77008, \"date\": \"2020-09-25T00:00:00\"}, {\"cycle\": 2020, \"state\": \"Texas\", \"modeldate\": \"9/25/2020\", \"candidate_name\": \"Donald Trump\", \"pct_estimate\": 47.44189, \"pct_trend_adjusted\": 47.6004, \"date\": \"2020-09-25T00:00:00\"}, {\"cycle\": 2020, \"state\": \"Texas\", \"modeldate\": \"9/24/2020\", \"candidate_name\": \"Joseph R. Biden Jr.\", \"pct_estimate\": 45.9563, \"pct_trend_adjusted\": 45.82896, \"date\": \"2020-09-24T00:00:00\"}, {\"cycle\": 2020, \"state\": \"Texas\", \"modeldate\": \"9/24/2020\", \"candidate_name\": \"Donald Trump\", \"pct_estimate\": 47.6479, \"pct_trend_adjusted\": 47.83664, \"date\": \"2020-09-24T00:00:00\"}, {\"cycle\": 2020, \"state\": \"Texas\", \"modeldate\": \"9/23/2020\", \"candidate_name\": \"Joseph R. Biden Jr.\", \"pct_estimate\": 46.72293, \"pct_trend_adjusted\": 46.60152, \"date\": \"2020-09-23T00:00:00\"}, {\"cycle\": 2020, \"state\": \"Texas\", \"modeldate\": \"9/23/2020\", \"candidate_name\": \"Donald Trump\", \"pct_estimate\": 46.96414, \"pct_trend_adjusted\": 47.31386, \"date\": \"2020-09-23T00:00:00\"}, {\"cycle\": 2020, \"state\": \"Texas\", \"modeldate\": \"9/22/2020\", \"candidate_name\": \"Joseph R. Biden Jr.\", \"pct_estimate\": 46.72723, \"pct_trend_adjusted\": 46.60715, \"date\": \"2020-09-22T00:00:00\"}, {\"cycle\": 2020, \"state\": \"Texas\", \"modeldate\": \"9/22/2020\", \"candidate_name\": \"Donald Trump\", \"pct_estimate\": 46.93662, \"pct_trend_adjusted\": 47.43475, \"date\": \"2020-09-22T00:00:00\"}, {\"cycle\": 2020, \"state\": \"Texas\", \"modeldate\": \"9/21/2020\", \"candidate_name\": \"Joseph R. Biden Jr.\", \"pct_estimate\": 46.73369, \"pct_trend_adjusted\": 46.5625, \"date\": \"2020-09-21T00:00:00\"}, {\"cycle\": 2020, \"state\": \"Texas\", \"modeldate\": \"9/21/2020\", \"candidate_name\": \"Donald Trump\", \"pct_estimate\": 46.95667, \"pct_trend_adjusted\": 47.39259, \"date\": \"2020-09-21T00:00:00\"}, {\"cycle\": 2020, \"state\": \"Texas\", \"modeldate\": \"9/20/2020\", \"candidate_name\": \"Joseph R. Biden Jr.\", \"pct_estimate\": 46.61185, \"pct_trend_adjusted\": 46.46826, \"date\": \"2020-09-20T00:00:00\"}, {\"cycle\": 2020, \"state\": \"Texas\", \"modeldate\": \"9/20/2020\", \"candidate_name\": \"Donald Trump\", \"pct_estimate\": 47.13303, \"pct_trend_adjusted\": 47.57598, \"date\": \"2020-09-20T00:00:00\"}, {\"cycle\": 2020, \"state\": \"Texas\", \"modeldate\": \"9/19/2020\", \"candidate_name\": \"Joseph R. Biden Jr.\", \"pct_estimate\": 46.64731, \"pct_trend_adjusted\": 46.37269, \"date\": \"2020-09-19T00:00:00\"}, {\"cycle\": 2020, \"state\": \"Texas\", \"modeldate\": \"9/19/2020\", \"candidate_name\": \"Donald Trump\", \"pct_estimate\": 47.26814, \"pct_trend_adjusted\": 47.57804, \"date\": \"2020-09-19T00:00:00\"}, {\"cycle\": 2020, \"state\": \"Texas\", \"modeldate\": \"9/18/2020\", \"candidate_name\": \"Joseph R. Biden Jr.\", \"pct_estimate\": 46.64408, \"pct_trend_adjusted\": 46.39075, \"date\": \"2020-09-18T00:00:00\"}, {\"cycle\": 2020, \"state\": \"Texas\", \"modeldate\": \"9/18/2020\", \"candidate_name\": \"Donald Trump\", \"pct_estimate\": 47.26583, \"pct_trend_adjusted\": 47.58467, \"date\": \"2020-09-18T00:00:00\"}, {\"cycle\": 2020, \"state\": \"Texas\", \"modeldate\": \"9/17/2020\", \"candidate_name\": \"Joseph R. Biden Jr.\", \"pct_estimate\": 46.66349, \"pct_trend_adjusted\": 46.34931, \"date\": \"2020-09-17T00:00:00\"}, {\"cycle\": 2020, \"state\": \"Texas\", \"modeldate\": \"9/17/2020\", \"candidate_name\": \"Donald Trump\", \"pct_estimate\": 47.25473, \"pct_trend_adjusted\": 47.72054, \"date\": \"2020-09-17T00:00:00\"}, {\"cycle\": 2020, \"state\": \"Texas\", \"modeldate\": \"9/16/2020\", \"candidate_name\": \"Joseph R. Biden Jr.\", \"pct_estimate\": 46.67395, \"pct_trend_adjusted\": 46.40338, \"date\": \"2020-09-16T00:00:00\"}, {\"cycle\": 2020, \"state\": \"Texas\", \"modeldate\": \"9/16/2020\", \"candidate_name\": \"Donald Trump\", \"pct_estimate\": 47.26674, \"pct_trend_adjusted\": 47.615, \"date\": \"2020-09-16T00:00:00\"}, {\"cycle\": 2020, \"state\": \"Texas\", \"modeldate\": \"9/15/2020\", \"candidate_name\": \"Joseph R. Biden Jr.\", \"pct_estimate\": 46.64288, \"pct_trend_adjusted\": 46.50115, \"date\": \"2020-09-15T00:00:00\"}, {\"cycle\": 2020, \"state\": \"Texas\", \"modeldate\": \"9/15/2020\", \"candidate_name\": \"Donald Trump\", \"pct_estimate\": 47.24179, \"pct_trend_adjusted\": 47.59393, \"date\": \"2020-09-15T00:00:00\"}, {\"cycle\": 2020, \"state\": \"Texas\", \"modeldate\": \"9/14/2020\", \"candidate_name\": \"Joseph R. Biden Jr.\", \"pct_estimate\": 46.67, \"pct_trend_adjusted\": 46.59711, \"date\": \"2020-09-14T00:00:00\"}, {\"cycle\": 2020, \"state\": \"Texas\", \"modeldate\": \"9/14/2020\", \"candidate_name\": \"Donald Trump\", \"pct_estimate\": 47.25034, \"pct_trend_adjusted\": 47.64143, \"date\": \"2020-09-14T00:00:00\"}, {\"cycle\": 2020, \"state\": \"Texas\", \"modeldate\": \"9/13/2020\", \"candidate_name\": \"Joseph R. Biden Jr.\", \"pct_estimate\": 46.66175, \"pct_trend_adjusted\": 46.65293, \"date\": \"2020-09-13T00:00:00\"}, {\"cycle\": 2020, \"state\": \"Texas\", \"modeldate\": \"9/13/2020\", \"candidate_name\": \"Donald Trump\", \"pct_estimate\": 47.24553, \"pct_trend_adjusted\": 47.60807, \"date\": \"2020-09-13T00:00:00\"}, {\"cycle\": 2020, \"state\": \"Texas\", \"modeldate\": \"9/12/2020\", \"candidate_name\": \"Joseph R. Biden Jr.\", \"pct_estimate\": 46.66985, \"pct_trend_adjusted\": 46.60484, \"date\": \"2020-09-12T00:00:00\"}, {\"cycle\": 2020, \"state\": \"Texas\", \"modeldate\": \"9/12/2020\", \"candidate_name\": \"Donald Trump\", \"pct_estimate\": 47.25832, \"pct_trend_adjusted\": 47.43638, \"date\": \"2020-09-12T00:00:00\"}, {\"cycle\": 2020, \"state\": \"Texas\", \"modeldate\": \"9/11/2020\", \"candidate_name\": \"Joseph R. Biden Jr.\", \"pct_estimate\": 46.69556, \"pct_trend_adjusted\": 46.61954, \"date\": \"2020-09-11T00:00:00\"}, {\"cycle\": 2020, \"state\": \"Texas\", \"modeldate\": \"9/11/2020\", \"candidate_name\": \"Donald Trump\", \"pct_estimate\": 47.27556, \"pct_trend_adjusted\": 47.44784, \"date\": \"2020-09-11T00:00:00\"}, {\"cycle\": 2020, \"state\": \"Texas\", \"modeldate\": \"9/10/2020\", \"candidate_name\": \"Joseph R. Biden Jr.\", \"pct_estimate\": 46.67519, \"pct_trend_adjusted\": 46.58934, \"date\": \"2020-09-10T00:00:00\"}, {\"cycle\": 2020, \"state\": \"Texas\", \"modeldate\": \"9/10/2020\", \"candidate_name\": \"Donald Trump\", \"pct_estimate\": 47.25471, \"pct_trend_adjusted\": 47.42674, \"date\": \"2020-09-10T00:00:00\"}, {\"cycle\": 2020, \"state\": \"Texas\", \"modeldate\": \"9/9/2020\", \"candidate_name\": \"Joseph R. Biden Jr.\", \"pct_estimate\": 46.68188, \"pct_trend_adjusted\": 46.5465, \"date\": \"2020-09-09T00:00:00\"}, {\"cycle\": 2020, \"state\": \"Texas\", \"modeldate\": \"9/9/2020\", \"candidate_name\": \"Donald Trump\", \"pct_estimate\": 47.23582, \"pct_trend_adjusted\": 47.3621, \"date\": \"2020-09-09T00:00:00\"}, {\"cycle\": 2020, \"state\": \"Texas\", \"modeldate\": \"9/8/2020\", \"candidate_name\": \"Joseph R. Biden Jr.\", \"pct_estimate\": 46.93853, \"pct_trend_adjusted\": 46.91003, \"date\": \"2020-09-08T00:00:00\"}, {\"cycle\": 2020, \"state\": \"Texas\", \"modeldate\": \"9/8/2020\", \"candidate_name\": \"Donald Trump\", \"pct_estimate\": 47.69348, \"pct_trend_adjusted\": 48.0306, \"date\": \"2020-09-08T00:00:00\"}, {\"cycle\": 2020, \"state\": \"Texas\", \"modeldate\": \"9/7/2020\", \"candidate_name\": \"Joseph R. Biden Jr.\", \"pct_estimate\": 46.63721, \"pct_trend_adjusted\": 46.61644, \"date\": \"2020-09-07T00:00:00\"}, {\"cycle\": 2020, \"state\": \"Texas\", \"modeldate\": \"9/7/2020\", \"candidate_name\": \"Donald Trump\", \"pct_estimate\": 47.06562, \"pct_trend_adjusted\": 47.67067, \"date\": \"2020-09-07T00:00:00\"}, {\"cycle\": 2020, \"state\": \"Texas\", \"modeldate\": \"9/6/2020\", \"candidate_name\": \"Joseph R. Biden Jr.\", \"pct_estimate\": 46.64128, \"pct_trend_adjusted\": 46.62191, \"date\": \"2020-09-06T00:00:00\"}, {\"cycle\": 2020, \"state\": \"Texas\", \"modeldate\": \"9/6/2020\", \"candidate_name\": \"Donald Trump\", \"pct_estimate\": 47.06486, \"pct_trend_adjusted\": 47.59081, \"date\": \"2020-09-06T00:00:00\"}, {\"cycle\": 2020, \"state\": \"Texas\", \"modeldate\": \"9/5/2020\", \"candidate_name\": \"Joseph R. Biden Jr.\", \"pct_estimate\": 46.65598, \"pct_trend_adjusted\": 46.60919, \"date\": \"2020-09-05T00:00:00\"}, {\"cycle\": 2020, \"state\": \"Texas\", \"modeldate\": \"9/5/2020\", \"candidate_name\": \"Donald Trump\", \"pct_estimate\": 46.60325, \"pct_trend_adjusted\": 47.14882, \"date\": \"2020-09-05T00:00:00\"}, {\"cycle\": 2020, \"state\": \"Texas\", \"modeldate\": \"9/4/2020\", \"candidate_name\": \"Joseph R. Biden Jr.\", \"pct_estimate\": 46.65686, \"pct_trend_adjusted\": 46.60154, \"date\": \"2020-09-04T00:00:00\"}, {\"cycle\": 2020, \"state\": \"Texas\", \"modeldate\": \"9/4/2020\", \"candidate_name\": \"Donald Trump\", \"pct_estimate\": 46.60342, \"pct_trend_adjusted\": 47.11269, \"date\": \"2020-09-04T00:00:00\"}, {\"cycle\": 2020, \"state\": \"Texas\", \"modeldate\": \"9/3/2020\", \"candidate_name\": \"Joseph R. Biden Jr.\", \"pct_estimate\": 46.21809, \"pct_trend_adjusted\": 46.03238, \"date\": \"2020-09-03T00:00:00\"}, {\"cycle\": 2020, \"state\": \"Texas\", \"modeldate\": \"9/3/2020\", \"candidate_name\": \"Donald Trump\", \"pct_estimate\": 47.09089, \"pct_trend_adjusted\": 47.58218, \"date\": \"2020-09-03T00:00:00\"}, {\"cycle\": 2020, \"state\": \"Texas\", \"modeldate\": \"9/2/2020\", \"candidate_name\": \"Joseph R. Biden Jr.\", \"pct_estimate\": 46.20584, \"pct_trend_adjusted\": 46.09057, \"date\": \"2020-09-02T00:00:00\"}, {\"cycle\": 2020, \"state\": \"Texas\", \"modeldate\": \"9/2/2020\", \"candidate_name\": \"Donald Trump\", \"pct_estimate\": 47.07632, \"pct_trend_adjusted\": 47.55614, \"date\": \"2020-09-02T00:00:00\"}, {\"cycle\": 2020, \"state\": \"Texas\", \"modeldate\": \"9/1/2020\", \"candidate_name\": \"Joseph R. Biden Jr.\", \"pct_estimate\": 46.21246, \"pct_trend_adjusted\": 46.11824, \"date\": \"2020-09-01T00:00:00\"}, {\"cycle\": 2020, \"state\": \"Texas\", \"modeldate\": \"9/1/2020\", \"candidate_name\": \"Donald Trump\", \"pct_estimate\": 47.0865, \"pct_trend_adjusted\": 47.70956, \"date\": \"2020-09-01T00:00:00\"}, {\"cycle\": 2020, \"state\": \"Texas\", \"modeldate\": \"8/31/2020\", \"candidate_name\": \"Joseph R. Biden Jr.\", \"pct_estimate\": 45.79023, \"pct_trend_adjusted\": 45.68916, \"date\": \"2020-08-31T00:00:00\"}, {\"cycle\": 2020, \"state\": \"Texas\", \"modeldate\": \"8/31/2020\", \"candidate_name\": \"Donald Trump\", \"pct_estimate\": 47.07668, \"pct_trend_adjusted\": 47.84074, \"date\": \"2020-08-31T00:00:00\"}, {\"cycle\": 2020, \"state\": \"Texas\", \"modeldate\": \"8/30/2020\", \"candidate_name\": \"Joseph R. Biden Jr.\", \"pct_estimate\": 45.76218, \"pct_trend_adjusted\": 45.59472, \"date\": \"2020-08-30T00:00:00\"}, {\"cycle\": 2020, \"state\": \"Texas\", \"modeldate\": \"8/30/2020\", \"candidate_name\": \"Donald Trump\", \"pct_estimate\": 47.05109, \"pct_trend_adjusted\": 46.92114, \"date\": \"2020-08-30T00:00:00\"}, {\"cycle\": 2020, \"state\": \"Texas\", \"modeldate\": \"8/29/2020\", \"candidate_name\": \"Joseph R. Biden Jr.\", \"pct_estimate\": 45.73663, \"pct_trend_adjusted\": 45.72643, \"date\": \"2020-08-29T00:00:00\"}, {\"cycle\": 2020, \"state\": \"Texas\", \"modeldate\": \"8/29/2020\", \"candidate_name\": \"Donald Trump\", \"pct_estimate\": 47.0316, \"pct_trend_adjusted\": 46.88724, \"date\": \"2020-08-29T00:00:00\"}, {\"cycle\": 2020, \"state\": \"Texas\", \"modeldate\": \"8/28/2020\", \"candidate_name\": \"Joseph R. Biden Jr.\", \"pct_estimate\": 45.81792, \"pct_trend_adjusted\": 45.74968, \"date\": \"2020-08-28T00:00:00\"}, {\"cycle\": 2020, \"state\": \"Texas\", \"modeldate\": \"8/28/2020\", \"candidate_name\": \"Donald Trump\", \"pct_estimate\": 47.09627, \"pct_trend_adjusted\": 46.69397, \"date\": \"2020-08-28T00:00:00\"}, {\"cycle\": 2020, \"state\": \"Texas\", \"modeldate\": \"8/27/2020\", \"candidate_name\": \"Joseph R. Biden Jr.\", \"pct_estimate\": 45.78236, \"pct_trend_adjusted\": 45.61591, \"date\": \"2020-08-27T00:00:00\"}, {\"cycle\": 2020, \"state\": \"Texas\", \"modeldate\": \"8/27/2020\", \"candidate_name\": \"Donald Trump\", \"pct_estimate\": 47.05914, \"pct_trend_adjusted\": 47.14753, \"date\": \"2020-08-27T00:00:00\"}, {\"cycle\": 2020, \"state\": \"Texas\", \"modeldate\": \"8/26/2020\", \"candidate_name\": \"Joseph R. Biden Jr.\", \"pct_estimate\": 45.78177, \"pct_trend_adjusted\": 45.61389, \"date\": \"2020-08-26T00:00:00\"}, {\"cycle\": 2020, \"state\": \"Texas\", \"modeldate\": \"8/26/2020\", \"candidate_name\": \"Donald Trump\", \"pct_estimate\": 47.05884, \"pct_trend_adjusted\": 47.14495, \"date\": \"2020-08-26T00:00:00\"}, {\"cycle\": 2020, \"state\": \"Texas\", \"modeldate\": \"8/25/2020\", \"candidate_name\": \"Joseph R. Biden Jr.\", \"pct_estimate\": 45.80996, \"pct_trend_adjusted\": 46.13988, \"date\": \"2020-08-25T00:00:00\"}, {\"cycle\": 2020, \"state\": \"Texas\", \"modeldate\": \"8/25/2020\", \"candidate_name\": \"Donald Trump\", \"pct_estimate\": 47.08171, \"pct_trend_adjusted\": 47.10623, \"date\": \"2020-08-25T00:00:00\"}, {\"cycle\": 2020, \"state\": \"Texas\", \"modeldate\": \"8/24/2020\", \"candidate_name\": \"Joseph R. Biden Jr.\", \"pct_estimate\": 46.06097, \"pct_trend_adjusted\": 46.38882, \"date\": \"2020-08-24T00:00:00\"}, {\"cycle\": 2020, \"state\": \"Texas\", \"modeldate\": \"8/24/2020\", \"candidate_name\": \"Donald Trump\", \"pct_estimate\": 47.19383, \"pct_trend_adjusted\": 47.25117, \"date\": \"2020-08-24T00:00:00\"}, {\"cycle\": 2020, \"state\": \"Texas\", \"modeldate\": \"8/23/2020\", \"candidate_name\": \"Joseph R. Biden Jr.\", \"pct_estimate\": 45.36004, \"pct_trend_adjusted\": 45.74928, \"date\": \"2020-08-23T00:00:00\"}, {\"cycle\": 2020, \"state\": \"Texas\", \"modeldate\": \"8/23/2020\", \"candidate_name\": \"Donald Trump\", \"pct_estimate\": 46.82002, \"pct_trend_adjusted\": 46.98897, \"date\": \"2020-08-23T00:00:00\"}, {\"cycle\": 2020, \"state\": \"Texas\", \"modeldate\": \"8/22/2020\", \"candidate_name\": \"Joseph R. Biden Jr.\", \"pct_estimate\": 45.3712, \"pct_trend_adjusted\": 45.63854, \"date\": \"2020-08-22T00:00:00\"}, {\"cycle\": 2020, \"state\": \"Texas\", \"modeldate\": \"8/22/2020\", \"candidate_name\": \"Donald Trump\", \"pct_estimate\": 46.72144, \"pct_trend_adjusted\": 47.09294, \"date\": \"2020-08-22T00:00:00\"}, {\"cycle\": 2020, \"state\": \"Texas\", \"modeldate\": \"8/21/2020\", \"candidate_name\": \"Joseph R. Biden Jr.\", \"pct_estimate\": 45.46035, \"pct_trend_adjusted\": 45.6658, \"date\": \"2020-08-21T00:00:00\"}, {\"cycle\": 2020, \"state\": \"Texas\", \"modeldate\": \"8/21/2020\", \"candidate_name\": \"Donald Trump\", \"pct_estimate\": 46.89281, \"pct_trend_adjusted\": 47.26152, \"date\": \"2020-08-21T00:00:00\"}, {\"cycle\": 2020, \"state\": \"Texas\", \"modeldate\": \"8/20/2020\", \"candidate_name\": \"Joseph R. Biden Jr.\", \"pct_estimate\": 45.37543, \"pct_trend_adjusted\": 45.69209, \"date\": \"2020-08-20T00:00:00\"}, {\"cycle\": 2020, \"state\": \"Texas\", \"modeldate\": \"8/20/2020\", \"candidate_name\": \"Donald Trump\", \"pct_estimate\": 46.94314, \"pct_trend_adjusted\": 47.50328, \"date\": \"2020-08-20T00:00:00\"}, {\"cycle\": 2020, \"state\": \"Texas\", \"modeldate\": \"8/19/2020\", \"candidate_name\": \"Joseph R. Biden Jr.\", \"pct_estimate\": 45.35937, \"pct_trend_adjusted\": 45.65196, \"date\": \"2020-08-19T00:00:00\"}, {\"cycle\": 2020, \"state\": \"Texas\", \"modeldate\": \"8/19/2020\", \"candidate_name\": \"Donald Trump\", \"pct_estimate\": 46.90518, \"pct_trend_adjusted\": 47.66702, \"date\": \"2020-08-19T00:00:00\"}, {\"cycle\": 2020, \"state\": \"Texas\", \"modeldate\": \"8/18/2020\", \"candidate_name\": \"Joseph R. Biden Jr.\", \"pct_estimate\": 45.39202, \"pct_trend_adjusted\": 45.67191, \"date\": \"2020-08-18T00:00:00\"}, {\"cycle\": 2020, \"state\": \"Texas\", \"modeldate\": \"8/18/2020\", \"candidate_name\": \"Donald Trump\", \"pct_estimate\": 46.92033, \"pct_trend_adjusted\": 47.67178, \"date\": \"2020-08-18T00:00:00\"}, {\"cycle\": 2020, \"state\": \"Texas\", \"modeldate\": \"8/17/2020\", \"candidate_name\": \"Joseph R. Biden Jr.\", \"pct_estimate\": 45.39387, \"pct_trend_adjusted\": 45.72372, \"date\": \"2020-08-17T00:00:00\"}, {\"cycle\": 2020, \"state\": \"Texas\", \"modeldate\": \"8/17/2020\", \"candidate_name\": \"Donald Trump\", \"pct_estimate\": 46.92024, \"pct_trend_adjusted\": 47.68198, \"date\": \"2020-08-17T00:00:00\"}, {\"cycle\": 2020, \"state\": \"Texas\", \"modeldate\": \"8/16/2020\", \"candidate_name\": \"Joseph R. Biden Jr.\", \"pct_estimate\": 46.26512, \"pct_trend_adjusted\": 46.66765, \"date\": \"2020-08-16T00:00:00\"}, {\"cycle\": 2020, \"state\": \"Texas\", \"modeldate\": \"8/16/2020\", \"candidate_name\": \"Donald Trump\", \"pct_estimate\": 46.43683, \"pct_trend_adjusted\": 47.43541, \"date\": \"2020-08-16T00:00:00\"}, {\"cycle\": 2020, \"state\": \"Texas\", \"modeldate\": \"8/15/2020\", \"candidate_name\": \"Joseph R. Biden Jr.\", \"pct_estimate\": 46.40991, \"pct_trend_adjusted\": 46.57449, \"date\": \"2020-08-15T00:00:00\"}, {\"cycle\": 2020, \"state\": \"Texas\", \"modeldate\": \"8/15/2020\", \"candidate_name\": \"Donald Trump\", \"pct_estimate\": 46.35427, \"pct_trend_adjusted\": 47.07581, \"date\": \"2020-08-15T00:00:00\"}, {\"cycle\": 2020, \"state\": \"Texas\", \"modeldate\": \"8/14/2020\", \"candidate_name\": \"Joseph R. Biden Jr.\", \"pct_estimate\": 46.41057, \"pct_trend_adjusted\": 46.57491, \"date\": \"2020-08-14T00:00:00\"}, {\"cycle\": 2020, \"state\": \"Texas\", \"modeldate\": \"8/14/2020\", \"candidate_name\": \"Donald Trump\", \"pct_estimate\": 46.35416, \"pct_trend_adjusted\": 47.07567, \"date\": \"2020-08-14T00:00:00\"}, {\"cycle\": 2020, \"state\": \"Texas\", \"modeldate\": \"8/13/2020\", \"candidate_name\": \"Joseph R. Biden Jr.\", \"pct_estimate\": 46.42604, \"pct_trend_adjusted\": 46.30911, \"date\": \"2020-08-13T00:00:00\"}, {\"cycle\": 2020, \"state\": \"Texas\", \"modeldate\": \"8/13/2020\", \"candidate_name\": \"Donald Trump\", \"pct_estimate\": 46.35225, \"pct_trend_adjusted\": 47.03592, \"date\": \"2020-08-13T00:00:00\"}, {\"cycle\": 2020, \"state\": \"Texas\", \"modeldate\": \"8/12/2020\", \"candidate_name\": \"Joseph R. Biden Jr.\", \"pct_estimate\": 46.2491, \"pct_trend_adjusted\": 46.07573, \"date\": \"2020-08-12T00:00:00\"}, {\"cycle\": 2020, \"state\": \"Texas\", \"modeldate\": \"8/12/2020\", \"candidate_name\": \"Donald Trump\", \"pct_estimate\": 46.41173, \"pct_trend_adjusted\": 46.84499, \"date\": \"2020-08-12T00:00:00\"}, {\"cycle\": 2020, \"state\": \"Texas\", \"modeldate\": \"8/11/2020\", \"candidate_name\": \"Joseph R. Biden Jr.\", \"pct_estimate\": 46.20671, \"pct_trend_adjusted\": 46.14233, \"date\": \"2020-08-11T00:00:00\"}, {\"cycle\": 2020, \"state\": \"Texas\", \"modeldate\": \"8/11/2020\", \"candidate_name\": \"Donald Trump\", \"pct_estimate\": 46.43006, \"pct_trend_adjusted\": 46.82538, \"date\": \"2020-08-11T00:00:00\"}, {\"cycle\": 2020, \"state\": \"Texas\", \"modeldate\": \"8/10/2020\", \"candidate_name\": \"Joseph R. Biden Jr.\", \"pct_estimate\": 46.2858, \"pct_trend_adjusted\": 45.95631, \"date\": \"2020-08-10T00:00:00\"}, {\"cycle\": 2020, \"state\": \"Texas\", \"modeldate\": \"8/10/2020\", \"candidate_name\": \"Donald Trump\", \"pct_estimate\": 46.39816, \"pct_trend_adjusted\": 46.71143, \"date\": \"2020-08-10T00:00:00\"}, {\"cycle\": 2020, \"state\": \"Texas\", \"modeldate\": \"8/9/2020\", \"candidate_name\": \"Joseph R. Biden Jr.\", \"pct_estimate\": 46.22628, \"pct_trend_adjusted\": 45.87377, \"date\": \"2020-08-09T00:00:00\"}, {\"cycle\": 2020, \"state\": \"Texas\", \"modeldate\": \"8/9/2020\", \"candidate_name\": \"Donald Trump\", \"pct_estimate\": 46.42281, \"pct_trend_adjusted\": 46.76827, \"date\": \"2020-08-09T00:00:00\"}, {\"cycle\": 2020, \"state\": \"Texas\", \"modeldate\": \"8/8/2020\", \"candidate_name\": \"Joseph R. Biden Jr.\", \"pct_estimate\": 46.2254, \"pct_trend_adjusted\": 45.87323, \"date\": \"2020-08-08T00:00:00\"}, {\"cycle\": 2020, \"state\": \"Texas\", \"modeldate\": \"8/8/2020\", \"candidate_name\": \"Donald Trump\", \"pct_estimate\": 46.42417, \"pct_trend_adjusted\": 46.76862, \"date\": \"2020-08-08T00:00:00\"}, {\"cycle\": 2020, \"state\": \"Texas\", \"modeldate\": \"8/7/2020\", \"candidate_name\": \"Joseph R. Biden Jr.\", \"pct_estimate\": 46.2254, \"pct_trend_adjusted\": 45.87323, \"date\": \"2020-08-07T00:00:00\"}, {\"cycle\": 2020, \"state\": \"Texas\", \"modeldate\": \"8/7/2020\", \"candidate_name\": \"Donald Trump\", \"pct_estimate\": 46.42417, \"pct_trend_adjusted\": 46.76862, \"date\": \"2020-08-07T00:00:00\"}, {\"cycle\": 2020, \"state\": \"Texas\", \"modeldate\": \"8/6/2020\", \"candidate_name\": \"Joseph R. Biden Jr.\", \"pct_estimate\": 46.74092, \"pct_trend_adjusted\": 46.39928, \"date\": \"2020-08-06T00:00:00\"}, {\"cycle\": 2020, \"state\": \"Texas\", \"modeldate\": \"8/6/2020\", \"candidate_name\": \"Donald Trump\", \"pct_estimate\": 45.91185, \"pct_trend_adjusted\": 46.44963, \"date\": \"2020-08-06T00:00:00\"}, {\"cycle\": 2020, \"state\": \"Texas\", \"modeldate\": \"8/5/2020\", \"candidate_name\": \"Joseph R. Biden Jr.\", \"pct_estimate\": 46.74357, \"pct_trend_adjusted\": 46.50406, \"date\": \"2020-08-05T00:00:00\"}, {\"cycle\": 2020, \"state\": \"Texas\", \"modeldate\": \"8/5/2020\", \"candidate_name\": \"Donald Trump\", \"pct_estimate\": 45.93046, \"pct_trend_adjusted\": 46.52957, \"date\": \"2020-08-05T00:00:00\"}, {\"cycle\": 2020, \"state\": \"Texas\", \"modeldate\": \"8/4/2020\", \"candidate_name\": \"Joseph R. Biden Jr.\", \"pct_estimate\": 46.73875, \"pct_trend_adjusted\": 46.6599, \"date\": \"2020-08-04T00:00:00\"}, {\"cycle\": 2020, \"state\": \"Texas\", \"modeldate\": \"8/4/2020\", \"candidate_name\": \"Donald Trump\", \"pct_estimate\": 45.89725, \"pct_trend_adjusted\": 46.33821, \"date\": \"2020-08-04T00:00:00\"}, {\"cycle\": 2020, \"state\": \"Texas\", \"modeldate\": \"8/3/2020\", \"candidate_name\": \"Joseph R. Biden Jr.\", \"pct_estimate\": 46.7013, \"pct_trend_adjusted\": 46.65185, \"date\": \"2020-08-03T00:00:00\"}, {\"cycle\": 2020, \"state\": \"Texas\", \"modeldate\": \"8/3/2020\", \"candidate_name\": \"Donald Trump\", \"pct_estimate\": 45.69025, \"pct_trend_adjusted\": 46.07081, \"date\": \"2020-08-03T00:00:00\"}, {\"cycle\": 2020, \"state\": \"Texas\", \"modeldate\": \"8/2/2020\", \"candidate_name\": \"Joseph R. Biden Jr.\", \"pct_estimate\": 46.68407, \"pct_trend_adjusted\": 46.56265, \"date\": \"2020-08-02T00:00:00\"}, {\"cycle\": 2020, \"state\": \"Texas\", \"modeldate\": \"8/2/2020\", \"candidate_name\": \"Donald Trump\", \"pct_estimate\": 45.6942, \"pct_trend_adjusted\": 46.01199, \"date\": \"2020-08-02T00:00:00\"}, {\"cycle\": 2020, \"state\": \"Texas\", \"modeldate\": \"8/1/2020\", \"candidate_name\": \"Joseph R. Biden Jr.\", \"pct_estimate\": 46.67899, \"pct_trend_adjusted\": 46.55791, \"date\": \"2020-08-01T00:00:00\"}, {\"cycle\": 2020, \"state\": \"Texas\", \"modeldate\": \"8/1/2020\", \"candidate_name\": \"Donald Trump\", \"pct_estimate\": 45.69263, \"pct_trend_adjusted\": 46.02366, \"date\": \"2020-08-01T00:00:00\"}, {\"cycle\": 2020, \"state\": \"Texas\", \"modeldate\": \"7/31/2020\", \"candidate_name\": \"Joseph R. Biden Jr.\", \"pct_estimate\": 46.67899, \"pct_trend_adjusted\": 46.55791, \"date\": \"2020-07-31T00:00:00\"}, {\"cycle\": 2020, \"state\": \"Texas\", \"modeldate\": \"7/31/2020\", \"candidate_name\": \"Donald Trump\", \"pct_estimate\": 45.69263, \"pct_trend_adjusted\": 46.02366, \"date\": \"2020-07-31T00:00:00\"}, {\"cycle\": 2020, \"state\": \"Texas\", \"modeldate\": \"7/30/2020\", \"candidate_name\": \"Joseph R. Biden Jr.\", \"pct_estimate\": 46.65115, \"pct_trend_adjusted\": 46.40782, \"date\": \"2020-07-30T00:00:00\"}, {\"cycle\": 2020, \"state\": \"Texas\", \"modeldate\": \"7/30/2020\", \"candidate_name\": \"Donald Trump\", \"pct_estimate\": 45.71142, \"pct_trend_adjusted\": 45.78576, \"date\": \"2020-07-30T00:00:00\"}, {\"cycle\": 2020, \"state\": \"Texas\", \"modeldate\": \"7/29/2020\", \"candidate_name\": \"Joseph R. Biden Jr.\", \"pct_estimate\": 46.64946, \"pct_trend_adjusted\": 46.41473, \"date\": \"2020-07-29T00:00:00\"}, {\"cycle\": 2020, \"state\": \"Texas\", \"modeldate\": \"7/29/2020\", \"candidate_name\": \"Donald Trump\", \"pct_estimate\": 45.70789, \"pct_trend_adjusted\": 45.73645, \"date\": \"2020-07-29T00:00:00\"}, {\"cycle\": 2020, \"state\": \"Texas\", \"modeldate\": \"7/28/2020\", \"candidate_name\": \"Joseph R. Biden Jr.\", \"pct_estimate\": 46.67805, \"pct_trend_adjusted\": 46.50204, \"date\": \"2020-07-28T00:00:00\"}, {\"cycle\": 2020, \"state\": \"Texas\", \"modeldate\": \"7/28/2020\", \"candidate_name\": \"Donald Trump\", \"pct_estimate\": 45.70446, \"pct_trend_adjusted\": 45.73021, \"date\": \"2020-07-28T00:00:00\"}, {\"cycle\": 2020, \"state\": \"Texas\", \"modeldate\": \"7/27/2020\", \"candidate_name\": \"Joseph R. Biden Jr.\", \"pct_estimate\": 46.40487, \"pct_trend_adjusted\": 46.16689, \"date\": \"2020-07-27T00:00:00\"}, {\"cycle\": 2020, \"state\": \"Texas\", \"modeldate\": \"7/27/2020\", \"candidate_name\": \"Donald Trump\", \"pct_estimate\": 46.13192, \"pct_trend_adjusted\": 46.16407, \"date\": \"2020-07-27T00:00:00\"}, {\"cycle\": 2020, \"state\": \"Texas\", \"modeldate\": \"7/26/2020\", \"candidate_name\": \"Joseph R. Biden Jr.\", \"pct_estimate\": 46.42859, \"pct_trend_adjusted\": 46.25235, \"date\": \"2020-07-26T00:00:00\"}, {\"cycle\": 2020, \"state\": \"Texas\", \"modeldate\": \"7/26/2020\", \"candidate_name\": \"Donald Trump\", \"pct_estimate\": 46.12651, \"pct_trend_adjusted\": 46.24424, \"date\": \"2020-07-26T00:00:00\"}, {\"cycle\": 2020, \"state\": \"Texas\", \"modeldate\": \"7/25/2020\", \"candidate_name\": \"Joseph R. Biden Jr.\", \"pct_estimate\": 46.41632, \"pct_trend_adjusted\": 46.22531, \"date\": \"2020-07-25T00:00:00\"}, {\"cycle\": 2020, \"state\": \"Texas\", \"modeldate\": \"7/25/2020\", \"candidate_name\": \"Donald Trump\", \"pct_estimate\": 46.13179, \"pct_trend_adjusted\": 46.18945, \"date\": \"2020-07-25T00:00:00\"}, {\"cycle\": 2020, \"state\": \"Texas\", \"modeldate\": \"7/24/2020\", \"candidate_name\": \"Joseph R. Biden Jr.\", \"pct_estimate\": 46.40319, \"pct_trend_adjusted\": 46.21539, \"date\": \"2020-07-24T00:00:00\"}, {\"cycle\": 2020, \"state\": \"Texas\", \"modeldate\": \"7/24/2020\", \"candidate_name\": \"Donald Trump\", \"pct_estimate\": 46.13685, \"pct_trend_adjusted\": 46.19202, \"date\": \"2020-07-24T00:00:00\"}, {\"cycle\": 2020, \"state\": \"Texas\", \"modeldate\": \"7/23/2020\", \"candidate_name\": \"Joseph R. Biden Jr.\", \"pct_estimate\": 46.38708, \"pct_trend_adjusted\": 46.1911, \"date\": \"2020-07-23T00:00:00\"}, {\"cycle\": 2020, \"state\": \"Texas\", \"modeldate\": \"7/23/2020\", \"candidate_name\": \"Donald Trump\", \"pct_estimate\": 46.16223, \"pct_trend_adjusted\": 46.21733, \"date\": \"2020-07-23T00:00:00\"}, {\"cycle\": 2020, \"state\": \"Texas\", \"modeldate\": \"7/22/2020\", \"candidate_name\": \"Joseph R. Biden Jr.\", \"pct_estimate\": 46.37099, \"pct_trend_adjusted\": 46.05226, \"date\": \"2020-07-22T00:00:00\"}, {\"cycle\": 2020, \"state\": \"Texas\", \"modeldate\": \"7/22/2020\", \"candidate_name\": \"Donald Trump\", \"pct_estimate\": 46.15689, \"pct_trend_adjusted\": 46.14724, \"date\": \"2020-07-22T00:00:00\"}, {\"cycle\": 2020, \"state\": \"Texas\", \"modeldate\": \"7/21/2020\", \"candidate_name\": \"Joseph R. Biden Jr.\", \"pct_estimate\": 46.0724, \"pct_trend_adjusted\": 45.98212, \"date\": \"2020-07-21T00:00:00\"}, {\"cycle\": 2020, \"state\": \"Texas\", \"modeldate\": \"7/21/2020\", \"candidate_name\": \"Donald Trump\", \"pct_estimate\": 46.43436, \"pct_trend_adjusted\": 46.38689, \"date\": \"2020-07-21T00:00:00\"}, {\"cycle\": 2020, \"state\": \"Texas\", \"modeldate\": \"7/20/2020\", \"candidate_name\": \"Joseph R. Biden Jr.\", \"pct_estimate\": 46.0726, \"pct_trend_adjusted\": 45.98236, \"date\": \"2020-07-20T00:00:00\"}, {\"cycle\": 2020, \"state\": \"Texas\", \"modeldate\": \"7/20/2020\", \"candidate_name\": \"Donald Trump\", \"pct_estimate\": 46.43402, \"pct_trend_adjusted\": 46.38775, \"date\": \"2020-07-20T00:00:00\"}, {\"cycle\": 2020, \"state\": \"Texas\", \"modeldate\": \"7/19/2020\", \"candidate_name\": \"Joseph R. Biden Jr.\", \"pct_estimate\": 46.0716, \"pct_trend_adjusted\": 45.99834, \"date\": \"2020-07-19T00:00:00\"}, {\"cycle\": 2020, \"state\": \"Texas\", \"modeldate\": \"7/19/2020\", \"candidate_name\": \"Donald Trump\", \"pct_estimate\": 46.43323, \"pct_trend_adjusted\": 46.37, \"date\": \"2020-07-19T00:00:00\"}, {\"cycle\": 2020, \"state\": \"Texas\", \"modeldate\": \"7/18/2020\", \"candidate_name\": \"Joseph R. Biden Jr.\", \"pct_estimate\": 46.02301, \"pct_trend_adjusted\": 45.96741, \"date\": \"2020-07-18T00:00:00\"}, {\"cycle\": 2020, \"state\": \"Texas\", \"modeldate\": \"7/18/2020\", \"candidate_name\": \"Donald Trump\", \"pct_estimate\": 46.42596, \"pct_trend_adjusted\": 46.23777, \"date\": \"2020-07-18T00:00:00\"}, {\"cycle\": 2020, \"state\": \"Texas\", \"modeldate\": \"7/17/2020\", \"candidate_name\": \"Joseph R. Biden Jr.\", \"pct_estimate\": 46.002, \"pct_trend_adjusted\": 45.94587, \"date\": \"2020-07-17T00:00:00\"}, {\"cycle\": 2020, \"state\": \"Texas\", \"modeldate\": \"7/17/2020\", \"candidate_name\": \"Donald Trump\", \"pct_estimate\": 46.43502, \"pct_trend_adjusted\": 46.24728, \"date\": \"2020-07-17T00:00:00\"}, {\"cycle\": 2020, \"state\": \"Texas\", \"modeldate\": \"7/16/2020\", \"candidate_name\": \"Joseph R. Biden Jr.\", \"pct_estimate\": 46.00095, \"pct_trend_adjusted\": 45.94669, \"date\": \"2020-07-16T00:00:00\"}, {\"cycle\": 2020, \"state\": \"Texas\", \"modeldate\": \"7/16/2020\", \"candidate_name\": \"Donald Trump\", \"pct_estimate\": 46.43414, \"pct_trend_adjusted\": 46.22888, \"date\": \"2020-07-16T00:00:00\"}, {\"cycle\": 2020, \"state\": \"Texas\", \"modeldate\": \"7/15/2020\", \"candidate_name\": \"Joseph R. Biden Jr.\", \"pct_estimate\": 46.00103, \"pct_trend_adjusted\": 45.94366, \"date\": \"2020-07-15T00:00:00\"}, {\"cycle\": 2020, \"state\": \"Texas\", \"modeldate\": \"7/15/2020\", \"candidate_name\": \"Donald Trump\", \"pct_estimate\": 46.43446, \"pct_trend_adjusted\": 46.23207, \"date\": \"2020-07-15T00:00:00\"}, {\"cycle\": 2020, \"state\": \"Texas\", \"modeldate\": \"7/14/2020\", \"candidate_name\": \"Joseph R. Biden Jr.\", \"pct_estimate\": 46.07478, \"pct_trend_adjusted\": 45.99501, \"date\": \"2020-07-14T00:00:00\"}, {\"cycle\": 2020, \"state\": \"Texas\", \"modeldate\": \"7/14/2020\", \"candidate_name\": \"Donald Trump\", \"pct_estimate\": 46.40405, \"pct_trend_adjusted\": 46.25737, \"date\": \"2020-07-14T00:00:00\"}, {\"cycle\": 2020, \"state\": \"Texas\", \"modeldate\": \"7/13/2020\", \"candidate_name\": \"Joseph R. Biden Jr.\", \"pct_estimate\": 46.34341, \"pct_trend_adjusted\": 46.21448, \"date\": \"2020-07-13T00:00:00\"}, {\"cycle\": 2020, \"state\": \"Texas\", \"modeldate\": \"7/13/2020\", \"candidate_name\": \"Donald Trump\", \"pct_estimate\": 46.45528, \"pct_trend_adjusted\": 46.29804, \"date\": \"2020-07-13T00:00:00\"}, {\"cycle\": 2020, \"state\": \"Texas\", \"modeldate\": \"7/12/2020\", \"candidate_name\": \"Joseph R. Biden Jr.\", \"pct_estimate\": 46.40676, \"pct_trend_adjusted\": 46.41736, \"date\": \"2020-07-12T00:00:00\"}, {\"cycle\": 2020, \"state\": \"Texas\", \"modeldate\": \"7/12/2020\", \"candidate_name\": \"Donald Trump\", \"pct_estimate\": 46.43709, \"pct_trend_adjusted\": 46.33218, \"date\": \"2020-07-12T00:00:00\"}, {\"cycle\": 2020, \"state\": \"Texas\", \"modeldate\": \"7/11/2020\", \"candidate_name\": \"Joseph R. Biden Jr.\", \"pct_estimate\": 46.75304, \"pct_trend_adjusted\": 46.84515, \"date\": \"2020-07-11T00:00:00\"}, {\"cycle\": 2020, \"state\": \"Texas\", \"modeldate\": \"7/11/2020\", \"candidate_name\": \"Donald Trump\", \"pct_estimate\": 46.79716, \"pct_trend_adjusted\": 46.63825, \"date\": \"2020-07-11T00:00:00\"}, {\"cycle\": 2020, \"state\": \"Texas\", \"modeldate\": \"7/10/2020\", \"candidate_name\": \"Joseph R. Biden Jr.\", \"pct_estimate\": 45.77731, \"pct_trend_adjusted\": 45.99603, \"date\": \"2020-07-10T00:00:00\"}, {\"cycle\": 2020, \"state\": \"Texas\", \"modeldate\": \"7/10/2020\", \"candidate_name\": \"Donald Trump\", \"pct_estimate\": 47.59651, \"pct_trend_adjusted\": 47.28962, \"date\": \"2020-07-10T00:00:00\"}, {\"cycle\": 2020, \"state\": \"Texas\", \"modeldate\": \"7/9/2020\", \"candidate_name\": \"Joseph R. Biden Jr.\", \"pct_estimate\": 45.76323, \"pct_trend_adjusted\": 45.97206, \"date\": \"2020-07-09T00:00:00\"}, {\"cycle\": 2020, \"state\": \"Texas\", \"modeldate\": \"7/9/2020\", \"candidate_name\": \"Donald Trump\", \"pct_estimate\": 47.6011, \"pct_trend_adjusted\": 47.26698, \"date\": \"2020-07-09T00:00:00\"}, {\"cycle\": 2020, \"state\": \"Texas\", \"modeldate\": \"7/8/2020\", \"candidate_name\": \"Joseph R. Biden Jr.\", \"pct_estimate\": 45.73473, \"pct_trend_adjusted\": 45.92944, \"date\": \"2020-07-08T00:00:00\"}, {\"cycle\": 2020, \"state\": \"Texas\", \"modeldate\": \"7/8/2020\", \"candidate_name\": \"Donald Trump\", \"pct_estimate\": 47.61312, \"pct_trend_adjusted\": 47.27, \"date\": \"2020-07-08T00:00:00\"}, {\"cycle\": 2020, \"state\": \"Texas\", \"modeldate\": \"7/7/2020\", \"candidate_name\": \"Joseph R. Biden Jr.\", \"pct_estimate\": 45.78502, \"pct_trend_adjusted\": 46.18188, \"date\": \"2020-07-07T00:00:00\"}, {\"cycle\": 2020, \"state\": \"Texas\", \"modeldate\": \"7/7/2020\", \"candidate_name\": \"Donald Trump\", \"pct_estimate\": 47.60464, \"pct_trend_adjusted\": 47.44253, \"date\": \"2020-07-07T00:00:00\"}, {\"cycle\": 2020, \"state\": \"Texas\", \"modeldate\": \"7/6/2020\", \"candidate_name\": \"Joseph R. Biden Jr.\", \"pct_estimate\": 45.78762, \"pct_trend_adjusted\": 46.15723, \"date\": \"2020-07-06T00:00:00\"}, {\"cycle\": 2020, \"state\": \"Texas\", \"modeldate\": \"7/6/2020\", \"candidate_name\": \"Donald Trump\", \"pct_estimate\": 47.6078, \"pct_trend_adjusted\": 47.42841, \"date\": \"2020-07-06T00:00:00\"}, {\"cycle\": 2020, \"state\": \"Texas\", \"modeldate\": \"7/5/2020\", \"candidate_name\": \"Joseph R. Biden Jr.\", \"pct_estimate\": 45.78754, \"pct_trend_adjusted\": 46.15837, \"date\": \"2020-07-05T00:00:00\"}, {\"cycle\": 2020, \"state\": \"Texas\", \"modeldate\": \"7/5/2020\", \"candidate_name\": \"Donald Trump\", \"pct_estimate\": 47.60809, \"pct_trend_adjusted\": 47.42836, \"date\": \"2020-07-05T00:00:00\"}, {\"cycle\": 2020, \"state\": \"Texas\", \"modeldate\": \"7/4/2020\", \"candidate_name\": \"Joseph R. Biden Jr.\", \"pct_estimate\": 45.78484, \"pct_trend_adjusted\": 46.15559, \"date\": \"2020-07-04T00:00:00\"}, {\"cycle\": 2020, \"state\": \"Texas\", \"modeldate\": \"7/4/2020\", \"candidate_name\": \"Donald Trump\", \"pct_estimate\": 47.60828, \"pct_trend_adjusted\": 47.42847, \"date\": \"2020-07-04T00:00:00\"}, {\"cycle\": 2020, \"state\": \"Texas\", \"modeldate\": \"7/3/2020\", \"candidate_name\": \"Joseph R. Biden Jr.\", \"pct_estimate\": 45.78484, \"pct_trend_adjusted\": 46.15559, \"date\": \"2020-07-03T00:00:00\"}, {\"cycle\": 2020, \"state\": \"Texas\", \"modeldate\": \"7/3/2020\", \"candidate_name\": \"Donald Trump\", \"pct_estimate\": 47.60827, \"pct_trend_adjusted\": 47.42834, \"date\": \"2020-07-03T00:00:00\"}, {\"cycle\": 2020, \"state\": \"Texas\", \"modeldate\": \"7/2/2020\", \"candidate_name\": \"Joseph R. Biden Jr.\", \"pct_estimate\": 45.78147, \"pct_trend_adjusted\": 46.16228, \"date\": \"2020-07-02T00:00:00\"}, {\"cycle\": 2020, \"state\": \"Texas\", \"modeldate\": \"7/2/2020\", \"candidate_name\": \"Donald Trump\", \"pct_estimate\": 47.60802, \"pct_trend_adjusted\": 47.41066, \"date\": \"2020-07-02T00:00:00\"}, {\"cycle\": 2020, \"state\": \"Texas\", \"modeldate\": \"7/1/2020\", \"candidate_name\": \"Joseph R. Biden Jr.\", \"pct_estimate\": 45.71981, \"pct_trend_adjusted\": 46.53586, \"date\": \"2020-07-01T00:00:00\"}, {\"cycle\": 2020, \"state\": \"Texas\", \"modeldate\": \"7/1/2020\", \"candidate_name\": \"Donald Trump\", \"pct_estimate\": 47.65641, \"pct_trend_adjusted\": 46.81166, \"date\": \"2020-07-01T00:00:00\"}, {\"cycle\": 2020, \"state\": \"Texas\", \"modeldate\": \"6/30/2020\", \"candidate_name\": \"Joseph R. Biden Jr.\", \"pct_estimate\": 45.68793, \"pct_trend_adjusted\": 46.61637, \"date\": \"2020-06-30T00:00:00\"}, {\"cycle\": 2020, \"state\": \"Texas\", \"modeldate\": \"6/30/2020\", \"candidate_name\": \"Donald Trump\", \"pct_estimate\": 47.66692, \"pct_trend_adjusted\": 46.84163, \"date\": \"2020-06-30T00:00:00\"}, {\"cycle\": 2020, \"state\": \"Texas\", \"modeldate\": \"6/29/2020\", \"candidate_name\": \"Joseph R. Biden Jr.\", \"pct_estimate\": 45.70984, \"pct_trend_adjusted\": 46.44299, \"date\": \"2020-06-29T00:00:00\"}, {\"cycle\": 2020, \"state\": \"Texas\", \"modeldate\": \"6/29/2020\", \"candidate_name\": \"Donald Trump\", \"pct_estimate\": 47.65038, \"pct_trend_adjusted\": 46.75755, \"date\": \"2020-06-29T00:00:00\"}, {\"cycle\": 2020, \"state\": \"Texas\", \"modeldate\": \"6/28/2020\", \"candidate_name\": \"Joseph R. Biden Jr.\", \"pct_estimate\": 45.78463, \"pct_trend_adjusted\": 46.50582, \"date\": \"2020-06-28T00:00:00\"}, {\"cycle\": 2020, \"state\": \"Texas\", \"modeldate\": \"6/28/2020\", \"candidate_name\": \"Donald Trump\", \"pct_estimate\": 47.69133, \"pct_trend_adjusted\": 46.79747, \"date\": \"2020-06-28T00:00:00\"}, {\"cycle\": 2020, \"state\": \"Texas\", \"modeldate\": \"6/27/2020\", \"candidate_name\": \"Joseph R. Biden Jr.\", \"pct_estimate\": 45.78463, \"pct_trend_adjusted\": 46.50582, \"date\": \"2020-06-27T00:00:00\"}, {\"cycle\": 2020, \"state\": \"Texas\", \"modeldate\": \"6/27/2020\", \"candidate_name\": \"Donald Trump\", \"pct_estimate\": 47.69133, \"pct_trend_adjusted\": 46.79747, \"date\": \"2020-06-27T00:00:00\"}, {\"cycle\": 2020, \"state\": \"Texas\", \"modeldate\": \"6/26/2020\", \"candidate_name\": \"Joseph R. Biden Jr.\", \"pct_estimate\": 45.79541, \"pct_trend_adjusted\": 46.51675, \"date\": \"2020-06-26T00:00:00\"}, {\"cycle\": 2020, \"state\": \"Texas\", \"modeldate\": \"6/26/2020\", \"candidate_name\": \"Donald Trump\", \"pct_estimate\": 47.69673, \"pct_trend_adjusted\": 46.80274, \"date\": \"2020-06-26T00:00:00\"}, {\"cycle\": 2020, \"state\": \"Texas\", \"modeldate\": \"6/25/2020\", \"candidate_name\": \"Joseph R. Biden Jr.\", \"pct_estimate\": 45.73814, \"pct_trend_adjusted\": 46.38778, \"date\": \"2020-06-25T00:00:00\"}, {\"cycle\": 2020, \"state\": \"Texas\", \"modeldate\": \"6/25/2020\", \"candidate_name\": \"Donald Trump\", \"pct_estimate\": 47.66195, \"pct_trend_adjusted\": 46.63203, \"date\": \"2020-06-25T00:00:00\"}, {\"cycle\": 2020, \"state\": \"Texas\", \"modeldate\": \"6/24/2020\", \"candidate_name\": \"Joseph R. Biden Jr.\", \"pct_estimate\": 45.68605, \"pct_trend_adjusted\": 46.58862, \"date\": \"2020-06-24T00:00:00\"}, {\"cycle\": 2020, \"state\": \"Texas\", \"modeldate\": \"6/24/2020\", \"candidate_name\": \"Donald Trump\", \"pct_estimate\": 48.42898, \"pct_trend_adjusted\": 47.06719, \"date\": \"2020-06-24T00:00:00\"}, {\"cycle\": 2020, \"state\": \"Texas\", \"modeldate\": \"6/23/2020\", \"candidate_name\": \"Joseph R. Biden Jr.\", \"pct_estimate\": 45.76314, \"pct_trend_adjusted\": 46.67884, \"date\": \"2020-06-23T00:00:00\"}, {\"cycle\": 2020, \"state\": \"Texas\", \"modeldate\": \"6/23/2020\", \"candidate_name\": \"Donald Trump\", \"pct_estimate\": 48.44992, \"pct_trend_adjusted\": 47.35071, \"date\": \"2020-06-23T00:00:00\"}, {\"cycle\": 2020, \"state\": \"Texas\", \"modeldate\": \"6/22/2020\", \"candidate_name\": \"Joseph R. Biden Jr.\", \"pct_estimate\": 45.71854, \"pct_trend_adjusted\": 46.75321, \"date\": \"2020-06-22T00:00:00\"}, {\"cycle\": 2020, \"state\": \"Texas\", \"modeldate\": \"6/22/2020\", \"candidate_name\": \"Donald Trump\", \"pct_estimate\": 48.40881, \"pct_trend_adjusted\": 47.2409, \"date\": \"2020-06-22T00:00:00\"}, {\"cycle\": 2020, \"state\": \"Texas\", \"modeldate\": \"6/21/2020\", \"candidate_name\": \"Joseph R. Biden Jr.\", \"pct_estimate\": 45.65545, \"pct_trend_adjusted\": 46.47734, \"date\": \"2020-06-21T00:00:00\"}, {\"cycle\": 2020, \"state\": \"Texas\", \"modeldate\": \"6/21/2020\", \"candidate_name\": \"Donald Trump\", \"pct_estimate\": 48.39626, \"pct_trend_adjusted\": 47.21157, \"date\": \"2020-06-21T00:00:00\"}, {\"cycle\": 2020, \"state\": \"Texas\", \"modeldate\": \"6/20/2020\", \"candidate_name\": \"Joseph R. Biden Jr.\", \"pct_estimate\": 45.65629, \"pct_trend_adjusted\": 46.4796, \"date\": \"2020-06-20T00:00:00\"}, {\"cycle\": 2020, \"state\": \"Texas\", \"modeldate\": \"6/20/2020\", \"candidate_name\": \"Donald Trump\", \"pct_estimate\": 48.39553, \"pct_trend_adjusted\": 47.20988, \"date\": \"2020-06-20T00:00:00\"}, {\"cycle\": 2020, \"state\": \"Texas\", \"modeldate\": \"6/19/2020\", \"candidate_name\": \"Joseph R. Biden Jr.\", \"pct_estimate\": 45.65411, \"pct_trend_adjusted\": 46.39807, \"date\": \"2020-06-19T00:00:00\"}, {\"cycle\": 2020, \"state\": \"Texas\", \"modeldate\": \"6/19/2020\", \"candidate_name\": \"Donald Trump\", \"pct_estimate\": 48.39442, \"pct_trend_adjusted\": 47.13835, \"date\": \"2020-06-19T00:00:00\"}, {\"cycle\": 2020, \"state\": \"Texas\", \"modeldate\": \"6/18/2020\", \"candidate_name\": \"Joseph R. Biden Jr.\", \"pct_estimate\": 45.65521, \"pct_trend_adjusted\": 46.41745, \"date\": \"2020-06-18T00:00:00\"}, {\"cycle\": 2020, \"state\": \"Texas\", \"modeldate\": \"6/18/2020\", \"candidate_name\": \"Donald Trump\", \"pct_estimate\": 48.3938, \"pct_trend_adjusted\": 47.12938, \"date\": \"2020-06-18T00:00:00\"}, {\"cycle\": 2020, \"state\": \"Texas\", \"modeldate\": \"6/17/2020\", \"candidate_name\": \"Joseph R. Biden Jr.\", \"pct_estimate\": 45.82125, \"pct_trend_adjusted\": 46.52938, \"date\": \"2020-06-17T00:00:00\"}, {\"cycle\": 2020, \"state\": \"Texas\", \"modeldate\": \"6/17/2020\", \"candidate_name\": \"Donald Trump\", \"pct_estimate\": 48.39614, \"pct_trend_adjusted\": 47.18001, \"date\": \"2020-06-17T00:00:00\"}, {\"cycle\": 2020, \"state\": \"Texas\", \"modeldate\": \"6/16/2020\", \"candidate_name\": \"Joseph R. Biden Jr.\", \"pct_estimate\": 45.65484, \"pct_trend_adjusted\": 46.57892, \"date\": \"2020-06-16T00:00:00\"}, {\"cycle\": 2020, \"state\": \"Texas\", \"modeldate\": \"6/16/2020\", \"candidate_name\": \"Donald Trump\", \"pct_estimate\": 48.40011, \"pct_trend_adjusted\": 47.29775, \"date\": \"2020-06-16T00:00:00\"}, {\"cycle\": 2020, \"state\": \"Texas\", \"modeldate\": \"6/15/2020\", \"candidate_name\": \"Joseph R. Biden Jr.\", \"pct_estimate\": 45.65506, \"pct_trend_adjusted\": 46.26825, \"date\": \"2020-06-15T00:00:00\"}, {\"cycle\": 2020, \"state\": \"Texas\", \"modeldate\": \"6/15/2020\", \"candidate_name\": \"Donald Trump\", \"pct_estimate\": 48.39996, \"pct_trend_adjusted\": 47.47015, \"date\": \"2020-06-15T00:00:00\"}, {\"cycle\": 2020, \"state\": \"Texas\", \"modeldate\": \"6/14/2020\", \"candidate_name\": \"Joseph R. Biden Jr.\", \"pct_estimate\": 45.65529, \"pct_trend_adjusted\": 46.25602, \"date\": \"2020-06-14T00:00:00\"}, {\"cycle\": 2020, \"state\": \"Texas\", \"modeldate\": \"6/14/2020\", \"candidate_name\": \"Donald Trump\", \"pct_estimate\": 48.40041, \"pct_trend_adjusted\": 47.45828, \"date\": \"2020-06-14T00:00:00\"}, {\"cycle\": 2020, \"state\": \"Texas\", \"modeldate\": \"6/13/2020\", \"candidate_name\": \"Joseph R. Biden Jr.\", \"pct_estimate\": 45.65842, \"pct_trend_adjusted\": 46.1666, \"date\": \"2020-06-13T00:00:00\"}, {\"cycle\": 2020, \"state\": \"Texas\", \"modeldate\": \"6/13/2020\", \"candidate_name\": \"Donald Trump\", \"pct_estimate\": 48.40066, \"pct_trend_adjusted\": 47.55542, \"date\": \"2020-06-13T00:00:00\"}, {\"cycle\": 2020, \"state\": \"Texas\", \"modeldate\": \"6/12/2020\", \"candidate_name\": \"Joseph R. Biden Jr.\", \"pct_estimate\": 45.96807, \"pct_trend_adjusted\": 46.42075, \"date\": \"2020-06-12T00:00:00\"}, {\"cycle\": 2020, \"state\": \"Texas\", \"modeldate\": \"6/12/2020\", \"candidate_name\": \"Donald Trump\", \"pct_estimate\": 48.25166, \"pct_trend_adjusted\": 47.80811, \"date\": \"2020-06-12T00:00:00\"}, {\"cycle\": 2020, \"state\": \"Texas\", \"modeldate\": \"6/11/2020\", \"candidate_name\": \"Joseph R. Biden Jr.\", \"pct_estimate\": 45.97309, \"pct_trend_adjusted\": 46.42578, \"date\": \"2020-06-11T00:00:00\"}, {\"cycle\": 2020, \"state\": \"Texas\", \"modeldate\": \"6/11/2020\", \"candidate_name\": \"Donald Trump\", \"pct_estimate\": 48.25065, \"pct_trend_adjusted\": 47.8071, \"date\": \"2020-06-11T00:00:00\"}, {\"cycle\": 2020, \"state\": \"Texas\", \"modeldate\": \"6/10/2020\", \"candidate_name\": \"Joseph R. Biden Jr.\", \"pct_estimate\": 45.96912, \"pct_trend_adjusted\": 46.42196, \"date\": \"2020-06-10T00:00:00\"}, {\"cycle\": 2020, \"state\": \"Texas\", \"modeldate\": \"6/10/2020\", \"candidate_name\": \"Donald Trump\", \"pct_estimate\": 48.25144, \"pct_trend_adjusted\": 47.80786, \"date\": \"2020-06-10T00:00:00\"}, {\"cycle\": 2020, \"state\": \"Texas\", \"modeldate\": \"6/9/2020\", \"candidate_name\": \"Joseph R. Biden Jr.\", \"pct_estimate\": 45.97159, \"pct_trend_adjusted\": 46.39383, \"date\": \"2020-06-09T00:00:00\"}, {\"cycle\": 2020, \"state\": \"Texas\", \"modeldate\": \"6/9/2020\", \"candidate_name\": \"Donald Trump\", \"pct_estimate\": 48.25119, \"pct_trend_adjusted\": 47.83753, \"date\": \"2020-06-09T00:00:00\"}, {\"cycle\": 2020, \"state\": \"Texas\", \"modeldate\": \"6/8/2020\", \"candidate_name\": \"Joseph R. Biden Jr.\", \"pct_estimate\": 45.96637, \"pct_trend_adjusted\": 46.31268, \"date\": \"2020-06-08T00:00:00\"}, {\"cycle\": 2020, \"state\": \"Texas\", \"modeldate\": \"6/8/2020\", \"candidate_name\": \"Donald Trump\", \"pct_estimate\": 48.25227, \"pct_trend_adjusted\": 47.92318, \"date\": \"2020-06-08T00:00:00\"}, {\"cycle\": 2020, \"state\": \"Texas\", \"modeldate\": \"6/7/2020\", \"candidate_name\": \"Joseph R. Biden Jr.\", \"pct_estimate\": 45.96136, \"pct_trend_adjusted\": 46.30786, \"date\": \"2020-06-07T00:00:00\"}, {\"cycle\": 2020, \"state\": \"Texas\", \"modeldate\": \"6/7/2020\", \"candidate_name\": \"Donald Trump\", \"pct_estimate\": 48.25442, \"pct_trend_adjusted\": 47.92487, \"date\": \"2020-06-07T00:00:00\"}, {\"cycle\": 2020, \"state\": \"Texas\", \"modeldate\": \"6/6/2020\", \"candidate_name\": \"Joseph R. Biden Jr.\", \"pct_estimate\": 45.97923, \"pct_trend_adjusted\": 46.35468, \"date\": \"2020-06-06T00:00:00\"}, {\"cycle\": 2020, \"state\": \"Texas\", \"modeldate\": \"6/6/2020\", \"candidate_name\": \"Donald Trump\", \"pct_estimate\": 48.25507, \"pct_trend_adjusted\": 48.03625, \"date\": \"2020-06-06T00:00:00\"}, {\"cycle\": 2020, \"state\": \"Texas\", \"modeldate\": \"6/5/2020\", \"candidate_name\": \"Joseph R. Biden Jr.\", \"pct_estimate\": 45.97945, \"pct_trend_adjusted\": 46.23276, \"date\": \"2020-06-05T00:00:00\"}, {\"cycle\": 2020, \"state\": \"Texas\", \"modeldate\": \"6/5/2020\", \"candidate_name\": \"Donald Trump\", \"pct_estimate\": 48.25577, \"pct_trend_adjusted\": 48.14536, \"date\": \"2020-06-05T00:00:00\"}, {\"cycle\": 2020, \"state\": \"Texas\", \"modeldate\": \"6/4/2020\", \"candidate_name\": \"Joseph R. Biden Jr.\", \"pct_estimate\": 45.97824, \"pct_trend_adjusted\": 46.05003, \"date\": \"2020-06-04T00:00:00\"}, {\"cycle\": 2020, \"state\": \"Texas\", \"modeldate\": \"6/4/2020\", \"candidate_name\": \"Donald Trump\", \"pct_estimate\": 48.25607, \"pct_trend_adjusted\": 48.15585, \"date\": \"2020-06-04T00:00:00\"}, {\"cycle\": 2020, \"state\": \"Texas\", \"modeldate\": \"6/3/2020\", \"candidate_name\": \"Joseph R. Biden Jr.\", \"pct_estimate\": 45.54729, \"pct_trend_adjusted\": 45.50987, \"date\": \"2020-06-03T00:00:00\"}, {\"cycle\": 2020, \"state\": \"Texas\", \"modeldate\": \"6/3/2020\", \"candidate_name\": \"Donald Trump\", \"pct_estimate\": 48.17252, \"pct_trend_adjusted\": 47.92922, \"date\": \"2020-06-03T00:00:00\"}, {\"cycle\": 2020, \"state\": \"Texas\", \"modeldate\": \"6/2/2020\", \"candidate_name\": \"Joseph R. Biden Jr.\", \"pct_estimate\": 45.53836, \"pct_trend_adjusted\": 45.30193, \"date\": \"2020-06-02T00:00:00\"}, {\"cycle\": 2020, \"state\": \"Texas\", \"modeldate\": \"6/2/2020\", \"candidate_name\": \"Donald Trump\", \"pct_estimate\": 48.17556, \"pct_trend_adjusted\": 47.51327, \"date\": \"2020-06-02T00:00:00\"}, {\"cycle\": 2020, \"state\": \"Texas\", \"modeldate\": \"6/1/2020\", \"candidate_name\": \"Joseph R. Biden Jr.\", \"pct_estimate\": 45.47662, \"pct_trend_adjusted\": 45.28806, \"date\": \"2020-06-01T00:00:00\"}, {\"cycle\": 2020, \"state\": \"Texas\", \"modeldate\": \"6/1/2020\", \"candidate_name\": \"Donald Trump\", \"pct_estimate\": 48.16053, \"pct_trend_adjusted\": 47.47187, \"date\": \"2020-06-01T00:00:00\"}, {\"cycle\": 2020, \"state\": \"Texas\", \"modeldate\": \"5/31/2020\", \"candidate_name\": \"Joseph R. Biden Jr.\", \"pct_estimate\": 45.69244, \"pct_trend_adjusted\": 45.03251, \"date\": \"2020-05-31T00:00:00\"}, {\"cycle\": 2020, \"state\": \"Texas\", \"modeldate\": \"5/31/2020\", \"candidate_name\": \"Donald Trump\", \"pct_estimate\": 49.14891, \"pct_trend_adjusted\": 47.92749, \"date\": \"2020-05-31T00:00:00\"}, {\"cycle\": 2020, \"state\": \"Texas\", \"modeldate\": \"5/30/2020\", \"candidate_name\": \"Joseph R. Biden Jr.\", \"pct_estimate\": 45.65428, \"pct_trend_adjusted\": 45.14064, \"date\": \"2020-05-30T00:00:00\"}, {\"cycle\": 2020, \"state\": \"Texas\", \"modeldate\": \"5/30/2020\", \"candidate_name\": \"Donald Trump\", \"pct_estimate\": 49.13599, \"pct_trend_adjusted\": 48.03449, \"date\": \"2020-05-30T00:00:00\"}, {\"cycle\": 2020, \"state\": \"Texas\", \"modeldate\": \"5/29/2020\", \"candidate_name\": \"Joseph R. Biden Jr.\", \"pct_estimate\": 45.69332, \"pct_trend_adjusted\": 45.19598, \"date\": \"2020-05-29T00:00:00\"}, {\"cycle\": 2020, \"state\": \"Texas\", \"modeldate\": \"5/29/2020\", \"candidate_name\": \"Donald Trump\", \"pct_estimate\": 49.14911, \"pct_trend_adjusted\": 48.14761, \"date\": \"2020-05-29T00:00:00\"}, {\"cycle\": 2020, \"state\": \"Texas\", \"modeldate\": \"5/28/2020\", \"candidate_name\": \"Joseph R. Biden Jr.\", \"pct_estimate\": 45.69332, \"pct_trend_adjusted\": 45.19598, \"date\": \"2020-05-28T00:00:00\"}, {\"cycle\": 2020, \"state\": \"Texas\", \"modeldate\": \"5/28/2020\", \"candidate_name\": \"Donald Trump\", \"pct_estimate\": 49.14911, \"pct_trend_adjusted\": 48.14761, \"date\": \"2020-05-28T00:00:00\"}, {\"cycle\": 2020, \"state\": \"Texas\", \"modeldate\": \"5/27/2020\", \"candidate_name\": \"Joseph R. Biden Jr.\", \"pct_estimate\": 45.76201, \"pct_trend_adjusted\": 45.07855, \"date\": \"2020-05-27T00:00:00\"}, {\"cycle\": 2020, \"state\": \"Texas\", \"modeldate\": \"5/27/2020\", \"candidate_name\": \"Donald Trump\", \"pct_estimate\": 49.10361, \"pct_trend_adjusted\": 47.86284, \"date\": \"2020-05-27T00:00:00\"}, {\"cycle\": 2020, \"state\": \"Texas\", \"modeldate\": \"5/26/2020\", \"candidate_name\": \"Joseph R. Biden Jr.\", \"pct_estimate\": 45.73297, \"pct_trend_adjusted\": 45.48844, \"date\": \"2020-05-26T00:00:00\"}, {\"cycle\": 2020, \"state\": \"Texas\", \"modeldate\": \"5/26/2020\", \"candidate_name\": \"Donald Trump\", \"pct_estimate\": 49.09583, \"pct_trend_adjusted\": 48.03069, \"date\": \"2020-05-26T00:00:00\"}, {\"cycle\": 2020, \"state\": \"Texas\", \"modeldate\": \"5/25/2020\", \"candidate_name\": \"Joseph R. Biden Jr.\", \"pct_estimate\": 45.76341, \"pct_trend_adjusted\": 45.23188, \"date\": \"2020-05-25T00:00:00\"}, {\"cycle\": 2020, \"state\": \"Texas\", \"modeldate\": \"5/25/2020\", \"candidate_name\": \"Donald Trump\", \"pct_estimate\": 49.10611, \"pct_trend_adjusted\": 47.99017, \"date\": \"2020-05-25T00:00:00\"}, {\"cycle\": 2020, \"state\": \"Texas\", \"modeldate\": \"5/24/2020\", \"candidate_name\": \"Joseph R. Biden Jr.\", \"pct_estimate\": 45.76341, \"pct_trend_adjusted\": 45.23188, \"date\": \"2020-05-24T00:00:00\"}, {\"cycle\": 2020, \"state\": \"Texas\", \"modeldate\": \"5/24/2020\", \"candidate_name\": \"Donald Trump\", \"pct_estimate\": 49.10611, \"pct_trend_adjusted\": 47.99017, \"date\": \"2020-05-24T00:00:00\"}, {\"cycle\": 2020, \"state\": \"Texas\", \"modeldate\": \"5/23/2020\", \"candidate_name\": \"Joseph R. Biden Jr.\", \"pct_estimate\": 45.75284, \"pct_trend_adjusted\": 45.32833, \"date\": \"2020-05-23T00:00:00\"}, {\"cycle\": 2020, \"state\": \"Texas\", \"modeldate\": \"5/23/2020\", \"candidate_name\": \"Donald Trump\", \"pct_estimate\": 49.10739, \"pct_trend_adjusted\": 48.01275, \"date\": \"2020-05-23T00:00:00\"}, {\"cycle\": 2020, \"state\": \"Texas\", \"modeldate\": \"5/22/2020\", \"candidate_name\": \"Joseph R. Biden Jr.\", \"pct_estimate\": 45.70632, \"pct_trend_adjusted\": 45.34023, \"date\": \"2020-05-22T00:00:00\"}, {\"cycle\": 2020, \"state\": \"Texas\", \"modeldate\": \"5/22/2020\", \"candidate_name\": \"Donald Trump\", \"pct_estimate\": 49.08714, \"pct_trend_adjusted\": 48.08268, \"date\": \"2020-05-22T00:00:00\"}, {\"cycle\": 2020, \"state\": \"Texas\", \"modeldate\": \"5/21/2020\", \"candidate_name\": \"Joseph R. Biden Jr.\", \"pct_estimate\": 45.69866, \"pct_trend_adjusted\": 45.33845, \"date\": \"2020-05-21T00:00:00\"}, {\"cycle\": 2020, \"state\": \"Texas\", \"modeldate\": \"5/21/2020\", \"candidate_name\": \"Donald Trump\", \"pct_estimate\": 49.08376, \"pct_trend_adjusted\": 48.07412, \"date\": \"2020-05-21T00:00:00\"}, {\"cycle\": 2020, \"state\": \"Texas\", \"modeldate\": \"5/20/2020\", \"candidate_name\": \"Joseph R. Biden Jr.\", \"pct_estimate\": 45.76269, \"pct_trend_adjusted\": 45.43376, \"date\": \"2020-05-20T00:00:00\"}, {\"cycle\": 2020, \"state\": \"Texas\", \"modeldate\": \"5/20/2020\", \"candidate_name\": \"Donald Trump\", \"pct_estimate\": 49.10746, \"pct_trend_adjusted\": 48.09582, \"date\": \"2020-05-20T00:00:00\"}, {\"cycle\": 2020, \"state\": \"Texas\", \"modeldate\": \"5/19/2020\", \"candidate_name\": \"Joseph R. Biden Jr.\", \"pct_estimate\": 45.764, \"pct_trend_adjusted\": 45.46821, \"date\": \"2020-05-19T00:00:00\"}, {\"cycle\": 2020, \"state\": \"Texas\", \"modeldate\": \"5/19/2020\", \"candidate_name\": \"Donald Trump\", \"pct_estimate\": 49.10968, \"pct_trend_adjusted\": 48.23973, \"date\": \"2020-05-19T00:00:00\"}, {\"cycle\": 2020, \"state\": \"Texas\", \"modeldate\": \"5/18/2020\", \"candidate_name\": \"Joseph R. Biden Jr.\", \"pct_estimate\": 45.76582, \"pct_trend_adjusted\": 45.34341, \"date\": \"2020-05-18T00:00:00\"}, {\"cycle\": 2020, \"state\": \"Texas\", \"modeldate\": \"5/18/2020\", \"candidate_name\": \"Donald Trump\", \"pct_estimate\": 49.11172, \"pct_trend_adjusted\": 48.29631, \"date\": \"2020-05-18T00:00:00\"}, {\"cycle\": 2020, \"state\": \"Texas\", \"modeldate\": \"5/17/2020\", \"candidate_name\": \"Joseph R. Biden Jr.\", \"pct_estimate\": 45.74335, \"pct_trend_adjusted\": 45.561, \"date\": \"2020-05-17T00:00:00\"}, {\"cycle\": 2020, \"state\": \"Texas\", \"modeldate\": \"5/17/2020\", \"candidate_name\": \"Donald Trump\", \"pct_estimate\": 49.10301, \"pct_trend_adjusted\": 48.61715, \"date\": \"2020-05-17T00:00:00\"}, {\"cycle\": 2020, \"state\": \"Texas\", \"modeldate\": \"5/16/2020\", \"candidate_name\": \"Joseph R. Biden Jr.\", \"pct_estimate\": 45.75136, \"pct_trend_adjusted\": 45.6277, \"date\": \"2020-05-16T00:00:00\"}, {\"cycle\": 2020, \"state\": \"Texas\", \"modeldate\": \"5/16/2020\", \"candidate_name\": \"Donald Trump\", \"pct_estimate\": 49.10577, \"pct_trend_adjusted\": 48.58171, \"date\": \"2020-05-16T00:00:00\"}, {\"cycle\": 2020, \"state\": \"Texas\", \"modeldate\": \"5/15/2020\", \"candidate_name\": \"Joseph R. Biden Jr.\", \"pct_estimate\": 45.75504, \"pct_trend_adjusted\": 45.60758, \"date\": \"2020-05-15T00:00:00\"}, {\"cycle\": 2020, \"state\": \"Texas\", \"modeldate\": \"5/15/2020\", \"candidate_name\": \"Donald Trump\", \"pct_estimate\": 49.10184, \"pct_trend_adjusted\": 48.65851, \"date\": \"2020-05-15T00:00:00\"}, {\"cycle\": 2020, \"state\": \"Texas\", \"modeldate\": \"5/14/2020\", \"candidate_name\": \"Joseph R. Biden Jr.\", \"pct_estimate\": 45.73716, \"pct_trend_adjusted\": 45.58954, \"date\": \"2020-05-14T00:00:00\"}, {\"cycle\": 2020, \"state\": \"Texas\", \"modeldate\": \"5/14/2020\", \"candidate_name\": \"Donald Trump\", \"pct_estimate\": 49.08836, \"pct_trend_adjusted\": 48.64505, \"date\": \"2020-05-14T00:00:00\"}, {\"cycle\": 2020, \"state\": \"Texas\", \"modeldate\": \"5/13/2020\", \"candidate_name\": \"Joseph R. Biden Jr.\", \"pct_estimate\": 45.70819, \"pct_trend_adjusted\": 45.32772, \"date\": \"2020-05-13T00:00:00\"}, {\"cycle\": 2020, \"state\": \"Texas\", \"modeldate\": \"5/13/2020\", \"candidate_name\": \"Donald Trump\", \"pct_estimate\": 49.07634, \"pct_trend_adjusted\": 48.5273, \"date\": \"2020-05-13T00:00:00\"}, {\"cycle\": 2020, \"state\": \"Texas\", \"modeldate\": \"5/12/2020\", \"candidate_name\": \"Joseph R. Biden Jr.\", \"pct_estimate\": 45.70576, \"pct_trend_adjusted\": 45.34403, \"date\": \"2020-05-12T00:00:00\"}, {\"cycle\": 2020, \"state\": \"Texas\", \"modeldate\": \"5/12/2020\", \"candidate_name\": \"Donald Trump\", \"pct_estimate\": 49.06105, \"pct_trend_adjusted\": 48.48554, \"date\": \"2020-05-12T00:00:00\"}, {\"cycle\": 2020, \"state\": \"Texas\", \"modeldate\": \"5/11/2020\", \"candidate_name\": \"Joseph R. Biden Jr.\", \"pct_estimate\": 45.70288, \"pct_trend_adjusted\": 45.28869, \"date\": \"2020-05-11T00:00:00\"}, {\"cycle\": 2020, \"state\": \"Texas\", \"modeldate\": \"5/11/2020\", \"candidate_name\": \"Donald Trump\", \"pct_estimate\": 49.09012, \"pct_trend_adjusted\": 48.51008, \"date\": \"2020-05-11T00:00:00\"}, {\"cycle\": 2020, \"state\": \"Texas\", \"modeldate\": \"5/10/2020\", \"candidate_name\": \"Joseph R. Biden Jr.\", \"pct_estimate\": 45.70253, \"pct_trend_adjusted\": 45.29334, \"date\": \"2020-05-10T00:00:00\"}, {\"cycle\": 2020, \"state\": \"Texas\", \"modeldate\": \"5/10/2020\", \"candidate_name\": \"Donald Trump\", \"pct_estimate\": 49.09027, \"pct_trend_adjusted\": 48.51892, \"date\": \"2020-05-10T00:00:00\"}, {\"cycle\": 2020, \"state\": \"Texas\", \"modeldate\": \"5/9/2020\", \"candidate_name\": \"Joseph R. Biden Jr.\", \"pct_estimate\": 45.26214, \"pct_trend_adjusted\": 44.57414, \"date\": \"2020-05-09T00:00:00\"}, {\"cycle\": 2020, \"state\": \"Texas\", \"modeldate\": \"5/9/2020\", \"candidate_name\": \"Donald Trump\", \"pct_estimate\": 48.48647, \"pct_trend_adjusted\": 47.59814, \"date\": \"2020-05-09T00:00:00\"}, {\"cycle\": 2020, \"state\": \"Texas\", \"modeldate\": \"5/8/2020\", \"candidate_name\": \"Joseph R. Biden Jr.\", \"pct_estimate\": 45.2515, \"pct_trend_adjusted\": 44.70217, \"date\": \"2020-05-08T00:00:00\"}, {\"cycle\": 2020, \"state\": \"Texas\", \"modeldate\": \"5/8/2020\", \"candidate_name\": \"Donald Trump\", \"pct_estimate\": 48.51052, \"pct_trend_adjusted\": 47.77716, \"date\": \"2020-05-08T00:00:00\"}, {\"cycle\": 2020, \"state\": \"Texas\", \"modeldate\": \"5/7/2020\", \"candidate_name\": \"Joseph R. Biden Jr.\", \"pct_estimate\": 45.26326, \"pct_trend_adjusted\": 44.71372, \"date\": \"2020-05-07T00:00:00\"}, {\"cycle\": 2020, \"state\": \"Texas\", \"modeldate\": \"5/7/2020\", \"candidate_name\": \"Donald Trump\", \"pct_estimate\": 48.50006, \"pct_trend_adjusted\": 47.76691, \"date\": \"2020-05-07T00:00:00\"}, {\"cycle\": 2020, \"state\": \"Texas\", \"modeldate\": \"5/6/2020\", \"candidate_name\": \"Joseph R. Biden Jr.\", \"pct_estimate\": 45.27159, \"pct_trend_adjusted\": 44.71851, \"date\": \"2020-05-06T00:00:00\"}, {\"cycle\": 2020, \"state\": \"Texas\", \"modeldate\": \"5/6/2020\", \"candidate_name\": \"Donald Trump\", \"pct_estimate\": 48.49321, \"pct_trend_adjusted\": 47.76286, \"date\": \"2020-05-06T00:00:00\"}, {\"cycle\": 2020, \"state\": \"Texas\", \"modeldate\": \"5/5/2020\", \"candidate_name\": \"Joseph R. Biden Jr.\", \"pct_estimate\": 45.26993, \"pct_trend_adjusted\": 44.90599, \"date\": \"2020-05-05T00:00:00\"}, {\"cycle\": 2020, \"state\": \"Texas\", \"modeldate\": \"5/5/2020\", \"candidate_name\": \"Donald Trump\", \"pct_estimate\": 48.50333, \"pct_trend_adjusted\": 47.79338, \"date\": \"2020-05-05T00:00:00\"}, {\"cycle\": 2020, \"state\": \"Texas\", \"modeldate\": \"5/4/2020\", \"candidate_name\": \"Joseph R. Biden Jr.\", \"pct_estimate\": 45.31667, \"pct_trend_adjusted\": 45.1133, \"date\": \"2020-05-04T00:00:00\"}, {\"cycle\": 2020, \"state\": \"Texas\", \"modeldate\": \"5/4/2020\", \"candidate_name\": \"Donald Trump\", \"pct_estimate\": 48.47422, \"pct_trend_adjusted\": 47.64641, \"date\": \"2020-05-04T00:00:00\"}, {\"cycle\": 2020, \"state\": \"Texas\", \"modeldate\": \"5/3/2020\", \"candidate_name\": \"Joseph R. Biden Jr.\", \"pct_estimate\": 45.34228, \"pct_trend_adjusted\": 44.97477, \"date\": \"2020-05-03T00:00:00\"}, {\"cycle\": 2020, \"state\": \"Texas\", \"modeldate\": \"5/3/2020\", \"candidate_name\": \"Donald Trump\", \"pct_estimate\": 48.4674, \"pct_trend_adjusted\": 47.71323, \"date\": \"2020-05-03T00:00:00\"}, {\"cycle\": 2020, \"state\": \"Texas\", \"modeldate\": \"5/2/2020\", \"candidate_name\": \"Joseph R. Biden Jr.\", \"pct_estimate\": 45.29976, \"pct_trend_adjusted\": 45.05579, \"date\": \"2020-05-02T00:00:00\"}, {\"cycle\": 2020, \"state\": \"Texas\", \"modeldate\": \"5/2/2020\", \"candidate_name\": \"Donald Trump\", \"pct_estimate\": 48.48819, \"pct_trend_adjusted\": 47.68878, \"date\": \"2020-05-02T00:00:00\"}, {\"cycle\": 2020, \"state\": \"Texas\", \"modeldate\": \"5/1/2020\", \"candidate_name\": \"Joseph R. Biden Jr.\", \"pct_estimate\": 45.26225, \"pct_trend_adjusted\": 45.02918, \"date\": \"2020-05-01T00:00:00\"}, {\"cycle\": 2020, \"state\": \"Texas\", \"modeldate\": \"5/1/2020\", \"candidate_name\": \"Donald Trump\", \"pct_estimate\": 48.50566, \"pct_trend_adjusted\": 47.72288, \"date\": \"2020-05-01T00:00:00\"}, {\"cycle\": 2020, \"state\": \"Texas\", \"modeldate\": \"4/30/2020\", \"candidate_name\": \"Joseph R. Biden Jr.\", \"pct_estimate\": 45.24782, \"pct_trend_adjusted\": 44.98715, \"date\": \"2020-04-30T00:00:00\"}, {\"cycle\": 2020, \"state\": \"Texas\", \"modeldate\": \"4/30/2020\", \"candidate_name\": \"Donald Trump\", \"pct_estimate\": 48.51319, \"pct_trend_adjusted\": 47.70721, \"date\": \"2020-04-30T00:00:00\"}, {\"cycle\": 2020, \"state\": \"Texas\", \"modeldate\": \"4/29/2020\", \"candidate_name\": \"Joseph R. Biden Jr.\", \"pct_estimate\": 45.24785, \"pct_trend_adjusted\": 44.98518, \"date\": \"2020-04-29T00:00:00\"}, {\"cycle\": 2020, \"state\": \"Texas\", \"modeldate\": \"4/29/2020\", \"candidate_name\": \"Donald Trump\", \"pct_estimate\": 48.51315, \"pct_trend_adjusted\": 47.70347, \"date\": \"2020-04-29T00:00:00\"}, {\"cycle\": 2020, \"state\": \"Texas\", \"modeldate\": \"4/28/2020\", \"candidate_name\": \"Joseph R. Biden Jr.\", \"pct_estimate\": 45.26254, \"pct_trend_adjusted\": 45.30837, \"date\": \"2020-04-28T00:00:00\"}, {\"cycle\": 2020, \"state\": \"Texas\", \"modeldate\": \"4/28/2020\", \"candidate_name\": \"Donald Trump\", \"pct_estimate\": 48.51252, \"pct_trend_adjusted\": 47.72049, \"date\": \"2020-04-28T00:00:00\"}, {\"cycle\": 2020, \"state\": \"Texas\", \"modeldate\": \"4/27/2020\", \"candidate_name\": \"Joseph R. Biden Jr.\", \"pct_estimate\": 44.91525, \"pct_trend_adjusted\": 44.62137, \"date\": \"2020-04-27T00:00:00\"}, {\"cycle\": 2020, \"state\": \"Texas\", \"modeldate\": \"4/27/2020\", \"candidate_name\": \"Donald Trump\", \"pct_estimate\": 48.80686, \"pct_trend_adjusted\": 47.64787, \"date\": \"2020-04-27T00:00:00\"}, {\"cycle\": 2020, \"state\": \"Texas\", \"modeldate\": \"4/26/2020\", \"candidate_name\": \"Joseph R. Biden Jr.\", \"pct_estimate\": 45.08833, \"pct_trend_adjusted\": 44.81301, \"date\": \"2020-04-26T00:00:00\"}, {\"cycle\": 2020, \"state\": \"Texas\", \"modeldate\": \"4/26/2020\", \"candidate_name\": \"Donald Trump\", \"pct_estimate\": 49.40167, \"pct_trend_adjusted\": 48.23511, \"date\": \"2020-04-26T00:00:00\"}, {\"cycle\": 2020, \"state\": \"Texas\", \"modeldate\": \"4/25/2020\", \"candidate_name\": \"Joseph R. Biden Jr.\", \"pct_estimate\": 45.11222, \"pct_trend_adjusted\": 44.83345, \"date\": \"2020-04-25T00:00:00\"}, {\"cycle\": 2020, \"state\": \"Texas\", \"modeldate\": \"4/25/2020\", \"candidate_name\": \"Donald Trump\", \"pct_estimate\": 49.39608, \"pct_trend_adjusted\": 48.25571, \"date\": \"2020-04-25T00:00:00\"}, {\"cycle\": 2020, \"state\": \"Texas\", \"modeldate\": \"4/24/2020\", \"candidate_name\": \"Joseph R. Biden Jr.\", \"pct_estimate\": 45.07273, \"pct_trend_adjusted\": 44.81182, \"date\": \"2020-04-24T00:00:00\"}, {\"cycle\": 2020, \"state\": \"Texas\", \"modeldate\": \"4/24/2020\", \"candidate_name\": \"Donald Trump\", \"pct_estimate\": 49.41512, \"pct_trend_adjusted\": 48.46453, \"date\": \"2020-04-24T00:00:00\"}, {\"cycle\": 2020, \"state\": \"Texas\", \"modeldate\": \"4/23/2020\", \"candidate_name\": \"Joseph R. Biden Jr.\", \"pct_estimate\": 45.07273, \"pct_trend_adjusted\": 44.81182, \"date\": \"2020-04-23T00:00:00\"}, {\"cycle\": 2020, \"state\": \"Texas\", \"modeldate\": \"4/23/2020\", \"candidate_name\": \"Donald Trump\", \"pct_estimate\": 49.41512, \"pct_trend_adjusted\": 48.46453, \"date\": \"2020-04-23T00:00:00\"}, {\"cycle\": 2020, \"state\": \"Texas\", \"modeldate\": \"4/22/2020\", \"candidate_name\": \"Joseph R. Biden Jr.\", \"pct_estimate\": 45.07273, \"pct_trend_adjusted\": 44.81184, \"date\": \"2020-04-22T00:00:00\"}, {\"cycle\": 2020, \"state\": \"Texas\", \"modeldate\": \"4/22/2020\", \"candidate_name\": \"Donald Trump\", \"pct_estimate\": 49.41512, \"pct_trend_adjusted\": 48.46452, \"date\": \"2020-04-22T00:00:00\"}, {\"cycle\": 2020, \"state\": \"Texas\", \"modeldate\": \"4/21/2020\", \"candidate_name\": \"Joseph R. Biden Jr.\", \"pct_estimate\": 45.07273, \"pct_trend_adjusted\": 44.81184, \"date\": \"2020-04-21T00:00:00\"}, {\"cycle\": 2020, \"state\": \"Texas\", \"modeldate\": \"4/21/2020\", \"candidate_name\": \"Donald Trump\", \"pct_estimate\": 49.41512, \"pct_trend_adjusted\": 48.46452, \"date\": \"2020-04-21T00:00:00\"}, {\"cycle\": 2020, \"state\": \"Texas\", \"modeldate\": \"4/20/2020\", \"candidate_name\": \"Joseph R. Biden Jr.\", \"pct_estimate\": 45.1102, \"pct_trend_adjusted\": 44.7972, \"date\": \"2020-04-20T00:00:00\"}, {\"cycle\": 2020, \"state\": \"Texas\", \"modeldate\": \"4/20/2020\", \"candidate_name\": \"Donald Trump\", \"pct_estimate\": 49.42709, \"pct_trend_adjusted\": 48.66854, \"date\": \"2020-04-20T00:00:00\"}, {\"cycle\": 2020, \"state\": \"Texas\", \"modeldate\": \"4/19/2020\", \"candidate_name\": \"Joseph R. Biden Jr.\", \"pct_estimate\": 45.09126, \"pct_trend_adjusted\": 44.67862, \"date\": \"2020-04-19T00:00:00\"}, {\"cycle\": 2020, \"state\": \"Texas\", \"modeldate\": \"4/19/2020\", \"candidate_name\": \"Donald Trump\", \"pct_estimate\": 49.4292, \"pct_trend_adjusted\": 48.74386, \"date\": \"2020-04-19T00:00:00\"}, {\"cycle\": 2020, \"state\": \"Texas\", \"modeldate\": \"4/18/2020\", \"candidate_name\": \"Joseph R. Biden Jr.\", \"pct_estimate\": 45.36634, \"pct_trend_adjusted\": 44.87691, \"date\": \"2020-04-18T00:00:00\"}, {\"cycle\": 2020, \"state\": \"Texas\", \"modeldate\": \"4/18/2020\", \"candidate_name\": \"Donald Trump\", \"pct_estimate\": 48.95316, \"pct_trend_adjusted\": 48.08126, \"date\": \"2020-04-18T00:00:00\"}, {\"cycle\": 2020, \"state\": \"Texas\", \"modeldate\": \"4/17/2020\", \"candidate_name\": \"Joseph R. Biden Jr.\", \"pct_estimate\": 45.33366, \"pct_trend_adjusted\": 44.80618, \"date\": \"2020-04-17T00:00:00\"}, {\"cycle\": 2020, \"state\": \"Texas\", \"modeldate\": \"4/17/2020\", \"candidate_name\": \"Donald Trump\", \"pct_estimate\": 48.91222, \"pct_trend_adjusted\": 48.05882, \"date\": \"2020-04-17T00:00:00\"}, {\"cycle\": 2020, \"state\": \"Texas\", \"modeldate\": \"4/16/2020\", \"candidate_name\": \"Joseph R. Biden Jr.\", \"pct_estimate\": 45.33365, \"pct_trend_adjusted\": 44.79313, \"date\": \"2020-04-16T00:00:00\"}, {\"cycle\": 2020, \"state\": \"Texas\", \"modeldate\": \"4/16/2020\", \"candidate_name\": \"Donald Trump\", \"pct_estimate\": 48.91214, \"pct_trend_adjusted\": 48.0246, \"date\": \"2020-04-16T00:00:00\"}, {\"cycle\": 2020, \"state\": \"Texas\", \"modeldate\": \"4/15/2020\", \"candidate_name\": \"Joseph R. Biden Jr.\", \"pct_estimate\": 45.37593, \"pct_trend_adjusted\": 44.53908, \"date\": \"2020-04-15T00:00:00\"}, {\"cycle\": 2020, \"state\": \"Texas\", \"modeldate\": \"4/15/2020\", \"candidate_name\": \"Donald Trump\", \"pct_estimate\": 48.92004, \"pct_trend_adjusted\": 47.78412, \"date\": \"2020-04-15T00:00:00\"}, {\"cycle\": 2020, \"state\": \"Texas\", \"modeldate\": \"4/14/2020\", \"candidate_name\": \"Joseph R. Biden Jr.\", \"pct_estimate\": 45.37777, \"pct_trend_adjusted\": 44.26213, \"date\": \"2020-04-14T00:00:00\"}, {\"cycle\": 2020, \"state\": \"Texas\", \"modeldate\": \"4/14/2020\", \"candidate_name\": \"Donald Trump\", \"pct_estimate\": 48.95632, \"pct_trend_adjusted\": 47.964, \"date\": \"2020-04-14T00:00:00\"}, {\"cycle\": 2020, \"state\": \"Texas\", \"modeldate\": \"4/13/2020\", \"candidate_name\": \"Joseph R. Biden Jr.\", \"pct_estimate\": 45.3744, \"pct_trend_adjusted\": 43.98346, \"date\": \"2020-04-13T00:00:00\"}, {\"cycle\": 2020, \"state\": \"Texas\", \"modeldate\": \"4/13/2020\", \"candidate_name\": \"Donald Trump\", \"pct_estimate\": 48.92057, \"pct_trend_adjusted\": 47.91183, \"date\": \"2020-04-13T00:00:00\"}, {\"cycle\": 2020, \"state\": \"Texas\", \"modeldate\": \"4/12/2020\", \"candidate_name\": \"Joseph R. Biden Jr.\", \"pct_estimate\": 45.37432, \"pct_trend_adjusted\": 43.98388, \"date\": \"2020-04-12T00:00:00\"}, {\"cycle\": 2020, \"state\": \"Texas\", \"modeldate\": \"4/12/2020\", \"candidate_name\": \"Donald Trump\", \"pct_estimate\": 48.92065, \"pct_trend_adjusted\": 47.91185, \"date\": \"2020-04-12T00:00:00\"}, {\"cycle\": 2020, \"state\": \"Texas\", \"modeldate\": \"4/11/2020\", \"candidate_name\": \"Joseph R. Biden Jr.\", \"pct_estimate\": 45.48539, \"pct_trend_adjusted\": 44.22745, \"date\": \"2020-04-11T00:00:00\"}, {\"cycle\": 2020, \"state\": \"Texas\", \"modeldate\": \"4/11/2020\", \"candidate_name\": \"Donald Trump\", \"pct_estimate\": 48.92983, \"pct_trend_adjusted\": 47.25134, \"date\": \"2020-04-11T00:00:00\"}, {\"cycle\": 2020, \"state\": \"Texas\", \"modeldate\": \"4/10/2020\", \"candidate_name\": \"Joseph R. Biden Jr.\", \"pct_estimate\": 45.56173, \"pct_trend_adjusted\": 44.30293, \"date\": \"2020-04-10T00:00:00\"}, {\"cycle\": 2020, \"state\": \"Texas\", \"modeldate\": \"4/10/2020\", \"candidate_name\": \"Donald Trump\", \"pct_estimate\": 48.93618, \"pct_trend_adjusted\": 47.25791, \"date\": \"2020-04-10T00:00:00\"}, {\"cycle\": 2020, \"state\": \"Texas\", \"modeldate\": \"4/9/2020\", \"candidate_name\": \"Joseph R. Biden Jr.\", \"pct_estimate\": 45.37382, \"pct_trend_adjusted\": 44.50026, \"date\": \"2020-04-09T00:00:00\"}, {\"cycle\": 2020, \"state\": \"Texas\", \"modeldate\": \"4/9/2020\", \"candidate_name\": \"Donald Trump\", \"pct_estimate\": 48.91921, \"pct_trend_adjusted\": 47.30573, \"date\": \"2020-04-09T00:00:00\"}, {\"cycle\": 2020, \"state\": \"Texas\", \"modeldate\": \"4/8/2020\", \"candidate_name\": \"Joseph R. Biden Jr.\", \"pct_estimate\": 45.37385, \"pct_trend_adjusted\": 44.50021, \"date\": \"2020-04-08T00:00:00\"}, {\"cycle\": 2020, \"state\": \"Texas\", \"modeldate\": \"4/8/2020\", \"candidate_name\": \"Donald Trump\", \"pct_estimate\": 48.91956, \"pct_trend_adjusted\": 47.30591, \"date\": \"2020-04-08T00:00:00\"}, {\"cycle\": 2020, \"state\": \"Texas\", \"modeldate\": \"4/7/2020\", \"candidate_name\": \"Joseph R. Biden Jr.\", \"pct_estimate\": 45.38001, \"pct_trend_adjusted\": 44.45592, \"date\": \"2020-04-07T00:00:00\"}, {\"cycle\": 2020, \"state\": \"Texas\", \"modeldate\": \"4/7/2020\", \"candidate_name\": \"Donald Trump\", \"pct_estimate\": 48.94107, \"pct_trend_adjusted\": 47.36072, \"date\": \"2020-04-07T00:00:00\"}, {\"cycle\": 2020, \"state\": \"Texas\", \"modeldate\": \"4/6/2020\", \"candidate_name\": \"Joseph R. Biden Jr.\", \"pct_estimate\": 45.37498, \"pct_trend_adjusted\": 44.86072, \"date\": \"2020-04-06T00:00:00\"}, {\"cycle\": 2020, \"state\": \"Texas\", \"modeldate\": \"4/6/2020\", \"candidate_name\": \"Donald Trump\", \"pct_estimate\": 48.92049, \"pct_trend_adjusted\": 47.32308, \"date\": \"2020-04-06T00:00:00\"}, {\"cycle\": 2020, \"state\": \"Texas\", \"modeldate\": \"4/5/2020\", \"candidate_name\": \"Joseph R. Biden Jr.\", \"pct_estimate\": 45.3679, \"pct_trend_adjusted\": 44.6477, \"date\": \"2020-04-05T00:00:00\"}, {\"cycle\": 2020, \"state\": \"Texas\", \"modeldate\": \"4/5/2020\", \"candidate_name\": \"Donald Trump\", \"pct_estimate\": 48.94017, \"pct_trend_adjusted\": 47.45573, \"date\": \"2020-04-05T00:00:00\"}, {\"cycle\": 2020, \"state\": \"Texas\", \"modeldate\": \"4/4/2020\", \"candidate_name\": \"Joseph R. Biden Jr.\", \"pct_estimate\": 45.3702, \"pct_trend_adjusted\": 44.59201, \"date\": \"2020-04-04T00:00:00\"}, {\"cycle\": 2020, \"state\": \"Texas\", \"modeldate\": \"4/4/2020\", \"candidate_name\": \"Donald Trump\", \"pct_estimate\": 48.93533, \"pct_trend_adjusted\": 47.37709, \"date\": \"2020-04-04T00:00:00\"}, {\"cycle\": 2020, \"state\": \"Texas\", \"modeldate\": \"4/3/2020\", \"candidate_name\": \"Joseph R. Biden Jr.\", \"pct_estimate\": 45.3711, \"pct_trend_adjusted\": 44.59254, \"date\": \"2020-04-03T00:00:00\"}, {\"cycle\": 2020, \"state\": \"Texas\", \"modeldate\": \"4/3/2020\", \"candidate_name\": \"Donald Trump\", \"pct_estimate\": 48.95016, \"pct_trend_adjusted\": 47.4261, \"date\": \"2020-04-03T00:00:00\"}, {\"cycle\": 2020, \"state\": \"Texas\", \"modeldate\": \"4/2/2020\", \"candidate_name\": \"Joseph R. Biden Jr.\", \"pct_estimate\": 45.37923, \"pct_trend_adjusted\": 44.91772, \"date\": \"2020-04-02T00:00:00\"}, {\"cycle\": 2020, \"state\": \"Texas\", \"modeldate\": \"4/2/2020\", \"candidate_name\": \"Donald Trump\", \"pct_estimate\": 48.92068, \"pct_trend_adjusted\": 47.5107, \"date\": \"2020-04-02T00:00:00\"}, {\"cycle\": 2020, \"state\": \"Texas\", \"modeldate\": \"4/1/2020\", \"candidate_name\": \"Joseph R. Biden Jr.\", \"pct_estimate\": 45.37923, \"pct_trend_adjusted\": 44.91772, \"date\": \"2020-04-01T00:00:00\"}, {\"cycle\": 2020, \"state\": \"Texas\", \"modeldate\": \"4/1/2020\", \"candidate_name\": \"Donald Trump\", \"pct_estimate\": 48.92068, \"pct_trend_adjusted\": 47.5107, \"date\": \"2020-04-01T00:00:00\"}, {\"cycle\": 2020, \"state\": \"Texas\", \"modeldate\": \"3/31/2020\", \"candidate_name\": \"Joseph R. Biden Jr.\", \"pct_estimate\": 45.37795, \"pct_trend_adjusted\": 44.99798, \"date\": \"2020-03-31T00:00:00\"}, {\"cycle\": 2020, \"state\": \"Texas\", \"modeldate\": \"3/31/2020\", \"candidate_name\": \"Donald Trump\", \"pct_estimate\": 48.95903, \"pct_trend_adjusted\": 47.57693, \"date\": \"2020-03-31T00:00:00\"}, {\"cycle\": 2020, \"state\": \"Texas\", \"modeldate\": \"3/30/2020\", \"candidate_name\": \"Joseph R. Biden Jr.\", \"pct_estimate\": 45.37971, \"pct_trend_adjusted\": 45.1142, \"date\": \"2020-03-30T00:00:00\"}, {\"cycle\": 2020, \"state\": \"Texas\", \"modeldate\": \"3/30/2020\", \"candidate_name\": \"Donald Trump\", \"pct_estimate\": 48.92102, \"pct_trend_adjusted\": 47.63726, \"date\": \"2020-03-30T00:00:00\"}, {\"cycle\": 2020, \"state\": \"Texas\", \"modeldate\": \"3/29/2020\", \"candidate_name\": \"Joseph R. Biden Jr.\", \"pct_estimate\": 45.37955, \"pct_trend_adjusted\": 45.29802, \"date\": \"2020-03-29T00:00:00\"}, {\"cycle\": 2020, \"state\": \"Texas\", \"modeldate\": \"3/29/2020\", \"candidate_name\": \"Donald Trump\", \"pct_estimate\": 48.9207, \"pct_trend_adjusted\": 47.66122, \"date\": \"2020-03-29T00:00:00\"}, {\"cycle\": 2020, \"state\": \"Texas\", \"modeldate\": \"3/28/2020\", \"candidate_name\": \"Joseph R. Biden Jr.\", \"pct_estimate\": 45.38026, \"pct_trend_adjusted\": 45.37651, \"date\": \"2020-03-28T00:00:00\"}, {\"cycle\": 2020, \"state\": \"Texas\", \"modeldate\": \"3/28/2020\", \"candidate_name\": \"Donald Trump\", \"pct_estimate\": 48.92043, \"pct_trend_adjusted\": 47.70966, \"date\": \"2020-03-28T00:00:00\"}, {\"cycle\": 2020, \"state\": \"Texas\", \"modeldate\": \"3/27/2020\", \"candidate_name\": \"Joseph R. Biden Jr.\", \"pct_estimate\": 45.37897, \"pct_trend_adjusted\": 45.44786, \"date\": \"2020-03-27T00:00:00\"}, {\"cycle\": 2020, \"state\": \"Texas\", \"modeldate\": \"3/27/2020\", \"candidate_name\": \"Donald Trump\", \"pct_estimate\": 48.9659, \"pct_trend_adjusted\": 47.85113, \"date\": \"2020-03-27T00:00:00\"}, {\"cycle\": 2020, \"state\": \"Texas\", \"modeldate\": \"3/26/2020\", \"candidate_name\": \"Joseph R. Biden Jr.\", \"pct_estimate\": 45.37897, \"pct_trend_adjusted\": 45.44786, \"date\": \"2020-03-26T00:00:00\"}, {\"cycle\": 2020, \"state\": \"Texas\", \"modeldate\": \"3/26/2020\", \"candidate_name\": \"Donald Trump\", \"pct_estimate\": 48.9659, \"pct_trend_adjusted\": 47.85113, \"date\": \"2020-03-26T00:00:00\"}, {\"cycle\": 2020, \"state\": \"Texas\", \"modeldate\": \"3/25/2020\", \"candidate_name\": \"Joseph R. Biden Jr.\", \"pct_estimate\": 45.38054, \"pct_trend_adjusted\": 45.24429, \"date\": \"2020-03-25T00:00:00\"}, {\"cycle\": 2020, \"state\": \"Texas\", \"modeldate\": \"3/25/2020\", \"candidate_name\": \"Donald Trump\", \"pct_estimate\": 48.92607, \"pct_trend_adjusted\": 47.82076, \"date\": \"2020-03-25T00:00:00\"}, {\"cycle\": 2020, \"state\": \"Texas\", \"modeldate\": \"3/24/2020\", \"candidate_name\": \"Joseph R. Biden Jr.\", \"pct_estimate\": 45.38083, \"pct_trend_adjusted\": 45.22026, \"date\": \"2020-03-24T00:00:00\"}, {\"cycle\": 2020, \"state\": \"Texas\", \"modeldate\": \"3/24/2020\", \"candidate_name\": \"Donald Trump\", \"pct_estimate\": 48.91612, \"pct_trend_adjusted\": 47.48615, \"date\": \"2020-03-24T00:00:00\"}, {\"cycle\": 2020, \"state\": \"Texas\", \"modeldate\": \"3/23/2020\", \"candidate_name\": \"Joseph R. Biden Jr.\", \"pct_estimate\": 45.39624, \"pct_trend_adjusted\": 45.56614, \"date\": \"2020-03-23T00:00:00\"}, {\"cycle\": 2020, \"state\": \"Texas\", \"modeldate\": \"3/23/2020\", \"candidate_name\": \"Donald Trump\", \"pct_estimate\": 49.00179, \"pct_trend_adjusted\": 48.2608, \"date\": \"2020-03-23T00:00:00\"}, {\"cycle\": 2020, \"state\": \"Texas\", \"modeldate\": \"3/22/2020\", \"candidate_name\": \"Joseph R. Biden Jr.\", \"pct_estimate\": 45.37892, \"pct_trend_adjusted\": 45.65755, \"date\": \"2020-03-22T00:00:00\"}, {\"cycle\": 2020, \"state\": \"Texas\", \"modeldate\": \"3/22/2020\", \"candidate_name\": \"Donald Trump\", \"pct_estimate\": 48.92501, \"pct_trend_adjusted\": 48.50124, \"date\": \"2020-03-22T00:00:00\"}, {\"cycle\": 2020, \"state\": \"Texas\", \"modeldate\": \"3/21/2020\", \"candidate_name\": \"Joseph R. Biden Jr.\", \"pct_estimate\": 45.38175, \"pct_trend_adjusted\": 45.76151, \"date\": \"2020-03-21T00:00:00\"}, {\"cycle\": 2020, \"state\": \"Texas\", \"modeldate\": \"3/21/2020\", \"candidate_name\": \"Donald Trump\", \"pct_estimate\": 48.91952, \"pct_trend_adjusted\": 48.37172, \"date\": \"2020-03-21T00:00:00\"}, {\"cycle\": 2020, \"state\": \"Texas\", \"modeldate\": \"3/20/2020\", \"candidate_name\": \"Joseph R. Biden Jr.\", \"pct_estimate\": 45.38517, \"pct_trend_adjusted\": 45.76351, \"date\": \"2020-03-20T00:00:00\"}, {\"cycle\": 2020, \"state\": \"Texas\", \"modeldate\": \"3/20/2020\", \"candidate_name\": \"Donald Trump\", \"pct_estimate\": 48.92702, \"pct_trend_adjusted\": 48.36951, \"date\": \"2020-03-20T00:00:00\"}, {\"cycle\": 2020, \"state\": \"Texas\", \"modeldate\": \"3/19/2020\", \"candidate_name\": \"Joseph R. Biden Jr.\", \"pct_estimate\": 45.38876, \"pct_trend_adjusted\": 45.76796, \"date\": \"2020-03-19T00:00:00\"}, {\"cycle\": 2020, \"state\": \"Texas\", \"modeldate\": \"3/19/2020\", \"candidate_name\": \"Donald Trump\", \"pct_estimate\": 48.93405, \"pct_trend_adjusted\": 48.37724, \"date\": \"2020-03-19T00:00:00\"}, {\"cycle\": 2020, \"state\": \"Texas\", \"modeldate\": \"3/18/2020\", \"candidate_name\": \"Joseph R. Biden Jr.\", \"pct_estimate\": 45.39569, \"pct_trend_adjusted\": 45.40362, \"date\": \"2020-03-18T00:00:00\"}, {\"cycle\": 2020, \"state\": \"Texas\", \"modeldate\": \"3/18/2020\", \"candidate_name\": \"Donald Trump\", \"pct_estimate\": 48.96954, \"pct_trend_adjusted\": 47.98061, \"date\": \"2020-03-18T00:00:00\"}, {\"cycle\": 2020, \"state\": \"Texas\", \"modeldate\": \"3/17/2020\", \"candidate_name\": \"Joseph R. Biden Jr.\", \"pct_estimate\": 45.39569, \"pct_trend_adjusted\": 45.40362, \"date\": \"2020-03-17T00:00:00\"}, {\"cycle\": 2020, \"state\": \"Texas\", \"modeldate\": \"3/17/2020\", \"candidate_name\": \"Donald Trump\", \"pct_estimate\": 48.96954, \"pct_trend_adjusted\": 47.98061, \"date\": \"2020-03-17T00:00:00\"}, {\"cycle\": 2020, \"state\": \"Texas\", \"modeldate\": \"3/16/2020\", \"candidate_name\": \"Joseph R. Biden Jr.\", \"pct_estimate\": 45.39734, \"pct_trend_adjusted\": 45.40208, \"date\": \"2020-03-16T00:00:00\"}, {\"cycle\": 2020, \"state\": \"Texas\", \"modeldate\": \"3/16/2020\", \"candidate_name\": \"Donald Trump\", \"pct_estimate\": 48.94514, \"pct_trend_adjusted\": 48.035, \"date\": \"2020-03-16T00:00:00\"}, {\"cycle\": 2020, \"state\": \"Texas\", \"modeldate\": \"3/15/2020\", \"candidate_name\": \"Joseph R. Biden Jr.\", \"pct_estimate\": 45.4053, \"pct_trend_adjusted\": 45.51376, \"date\": \"2020-03-15T00:00:00\"}, {\"cycle\": 2020, \"state\": \"Texas\", \"modeldate\": \"3/15/2020\", \"candidate_name\": \"Donald Trump\", \"pct_estimate\": 48.94862, \"pct_trend_adjusted\": 48.29742, \"date\": \"2020-03-15T00:00:00\"}, {\"cycle\": 2020, \"state\": \"Texas\", \"modeldate\": \"3/14/2020\", \"candidate_name\": \"Joseph R. Biden Jr.\", \"pct_estimate\": 45.37857, \"pct_trend_adjusted\": 45.57745, \"date\": \"2020-03-14T00:00:00\"}, {\"cycle\": 2020, \"state\": \"Texas\", \"modeldate\": \"3/14/2020\", \"candidate_name\": \"Donald Trump\", \"pct_estimate\": 48.91954, \"pct_trend_adjusted\": 48.35711, \"date\": \"2020-03-14T00:00:00\"}, {\"cycle\": 2020, \"state\": \"Texas\", \"modeldate\": \"3/13/2020\", \"candidate_name\": \"Joseph R. Biden Jr.\", \"pct_estimate\": 45.37909, \"pct_trend_adjusted\": 45.57774, \"date\": \"2020-03-13T00:00:00\"}, {\"cycle\": 2020, \"state\": \"Texas\", \"modeldate\": \"3/13/2020\", \"candidate_name\": \"Donald Trump\", \"pct_estimate\": 48.91874, \"pct_trend_adjusted\": 48.35991, \"date\": \"2020-03-13T00:00:00\"}, {\"cycle\": 2020, \"state\": \"Texas\", \"modeldate\": \"3/12/2020\", \"candidate_name\": \"Joseph R. Biden Jr.\", \"pct_estimate\": 45.38205, \"pct_trend_adjusted\": 45.38954, \"date\": \"2020-03-12T00:00:00\"}, {\"cycle\": 2020, \"state\": \"Texas\", \"modeldate\": \"3/12/2020\", \"candidate_name\": \"Donald Trump\", \"pct_estimate\": 48.91751, \"pct_trend_adjusted\": 48.40346, \"date\": \"2020-03-12T00:00:00\"}, {\"cycle\": 2020, \"state\": \"Texas\", \"modeldate\": \"3/11/2020\", \"candidate_name\": \"Joseph R. Biden Jr.\", \"pct_estimate\": 45.38067, \"pct_trend_adjusted\": 45.33354, \"date\": \"2020-03-11T00:00:00\"}, {\"cycle\": 2020, \"state\": \"Texas\", \"modeldate\": \"3/11/2020\", \"candidate_name\": \"Donald Trump\", \"pct_estimate\": 48.91215, \"pct_trend_adjusted\": 48.40405, \"date\": \"2020-03-11T00:00:00\"}, {\"cycle\": 2020, \"state\": \"Texas\", \"modeldate\": \"3/10/2020\", \"candidate_name\": \"Joseph R. Biden Jr.\", \"pct_estimate\": 45.42166, \"pct_trend_adjusted\": 45.48906, \"date\": \"2020-03-10T00:00:00\"}, {\"cycle\": 2020, \"state\": \"Texas\", \"modeldate\": \"3/10/2020\", \"candidate_name\": \"Donald Trump\", \"pct_estimate\": 48.8606, \"pct_trend_adjusted\": 48.21477, \"date\": \"2020-03-10T00:00:00\"}, {\"cycle\": 2020, \"state\": \"Texas\", \"modeldate\": \"3/9/2020\", \"candidate_name\": \"Joseph R. Biden Jr.\", \"pct_estimate\": 45.4101, \"pct_trend_adjusted\": 45.51103, \"date\": \"2020-03-09T00:00:00\"}, {\"cycle\": 2020, \"state\": \"Texas\", \"modeldate\": \"3/9/2020\", \"candidate_name\": \"Donald Trump\", \"pct_estimate\": 48.85574, \"pct_trend_adjusted\": 48.28524, \"date\": \"2020-03-09T00:00:00\"}, {\"cycle\": 2020, \"state\": \"Texas\", \"modeldate\": \"3/8/2020\", \"candidate_name\": \"Joseph R. Biden Jr.\", \"pct_estimate\": 45.37666, \"pct_trend_adjusted\": 45.58582, \"date\": \"2020-03-08T00:00:00\"}, {\"cycle\": 2020, \"state\": \"Texas\", \"modeldate\": \"3/8/2020\", \"candidate_name\": \"Donald Trump\", \"pct_estimate\": 48.9183, \"pct_trend_adjusted\": 48.44775, \"date\": \"2020-03-08T00:00:00\"}, {\"cycle\": 2020, \"state\": \"Texas\", \"modeldate\": \"3/7/2020\", \"candidate_name\": \"Joseph R. Biden Jr.\", \"pct_estimate\": 45.37598, \"pct_trend_adjusted\": 45.44608, \"date\": \"2020-03-07T00:00:00\"}, {\"cycle\": 2020, \"state\": \"Texas\", \"modeldate\": \"3/7/2020\", \"candidate_name\": \"Donald Trump\", \"pct_estimate\": 48.91954, \"pct_trend_adjusted\": 48.84656, \"date\": \"2020-03-07T00:00:00\"}, {\"cycle\": 2020, \"state\": \"Texas\", \"modeldate\": \"3/6/2020\", \"candidate_name\": \"Joseph R. Biden Jr.\", \"pct_estimate\": 45.37695, \"pct_trend_adjusted\": 45.36056, \"date\": \"2020-03-06T00:00:00\"}, {\"cycle\": 2020, \"state\": \"Texas\", \"modeldate\": \"3/6/2020\", \"candidate_name\": \"Donald Trump\", \"pct_estimate\": 48.91899, \"pct_trend_adjusted\": 49.04848, \"date\": \"2020-03-06T00:00:00\"}, {\"cycle\": 2020, \"state\": \"Texas\", \"modeldate\": \"3/5/2020\", \"candidate_name\": \"Joseph R. Biden Jr.\", \"pct_estimate\": 45.37675, \"pct_trend_adjusted\": 45.36018, \"date\": \"2020-03-05T00:00:00\"}, {\"cycle\": 2020, \"state\": \"Texas\", \"modeldate\": \"3/5/2020\", \"candidate_name\": \"Donald Trump\", \"pct_estimate\": 48.91926, \"pct_trend_adjusted\": 49.04891, \"date\": \"2020-03-05T00:00:00\"}, {\"cycle\": 2020, \"state\": \"Texas\", \"modeldate\": \"3/4/2020\", \"candidate_name\": \"Joseph R. Biden Jr.\", \"pct_estimate\": 45.37571, \"pct_trend_adjusted\": 45.35905, \"date\": \"2020-03-04T00:00:00\"}, {\"cycle\": 2020, \"state\": \"Texas\", \"modeldate\": \"3/4/2020\", \"candidate_name\": \"Donald Trump\", \"pct_estimate\": 48.92039, \"pct_trend_adjusted\": 49.05014, \"date\": \"2020-03-04T00:00:00\"}, {\"cycle\": 2020, \"state\": \"Texas\", \"modeldate\": \"3/3/2020\", \"candidate_name\": \"Joseph R. Biden Jr.\", \"pct_estimate\": 45.37645, \"pct_trend_adjusted\": 45.35637, \"date\": \"2020-03-03T00:00:00\"}, {\"cycle\": 2020, \"state\": \"Texas\", \"modeldate\": \"3/3/2020\", \"candidate_name\": \"Donald Trump\", \"pct_estimate\": 48.91925, \"pct_trend_adjusted\": 49.05639, \"date\": \"2020-03-03T00:00:00\"}, {\"cycle\": 2020, \"state\": \"Texas\", \"modeldate\": \"3/2/2020\", \"candidate_name\": \"Joseph R. Biden Jr.\", \"pct_estimate\": 45.37694, \"pct_trend_adjusted\": 45.35197, \"date\": \"2020-03-02T00:00:00\"}, {\"cycle\": 2020, \"state\": \"Texas\", \"modeldate\": \"3/2/2020\", \"candidate_name\": \"Donald Trump\", \"pct_estimate\": 48.91861, \"pct_trend_adjusted\": 49.06053, \"date\": \"2020-03-02T00:00:00\"}, {\"cycle\": 2020, \"state\": \"Texas\", \"modeldate\": \"3/1/2020\", \"candidate_name\": \"Joseph R. Biden Jr.\", \"pct_estimate\": 45.30895, \"pct_trend_adjusted\": 45.26183, \"date\": \"2020-03-01T00:00:00\"}, {\"cycle\": 2020, \"state\": \"Texas\", \"modeldate\": \"3/1/2020\", \"candidate_name\": \"Donald Trump\", \"pct_estimate\": 49.09724, \"pct_trend_adjusted\": 49.21024, \"date\": \"2020-03-01T00:00:00\"}, {\"cycle\": 2020, \"state\": \"Texas\", \"modeldate\": \"2/29/2020\", \"candidate_name\": \"Joseph R. Biden Jr.\", \"pct_estimate\": 45.30896, \"pct_trend_adjusted\": 45.26183, \"date\": \"2020-02-29T00:00:00\"}, {\"cycle\": 2020, \"state\": \"Texas\", \"modeldate\": \"2/29/2020\", \"candidate_name\": \"Donald Trump\", \"pct_estimate\": 49.09724, \"pct_trend_adjusted\": 49.21024, \"date\": \"2020-02-29T00:00:00\"}, {\"cycle\": 2020, \"state\": \"Texas\", \"modeldate\": \"2/28/2020\", \"candidate_name\": \"Joseph R. Biden Jr.\", \"pct_estimate\": 45.30901, \"pct_trend_adjusted\": 45.288, \"date\": \"2020-02-28T00:00:00\"}, {\"cycle\": 2020, \"state\": \"Texas\", \"modeldate\": \"2/28/2020\", \"candidate_name\": \"Donald Trump\", \"pct_estimate\": 49.09676, \"pct_trend_adjusted\": 49.16067, \"date\": \"2020-02-28T00:00:00\"}, {\"cycle\": 2020, \"state\": \"Texas\", \"modeldate\": \"2/27/2020\", \"candidate_name\": \"Joseph R. Biden Jr.\", \"pct_estimate\": 45.30089, \"pct_trend_adjusted\": 45.21401, \"date\": \"2020-02-27T00:00:00\"}, {\"cycle\": 2020, \"state\": \"Texas\", \"modeldate\": \"2/27/2020\", \"candidate_name\": \"Donald Trump\", \"pct_estimate\": 49.07925, \"pct_trend_adjusted\": 49.10172, \"date\": \"2020-02-27T00:00:00\"}]}}, {\"mode\": \"vega-lite\"});\n",
       "</script>"
      ],
      "text/plain": [
       "alt.Chart(...)"
      ]
     },
     "execution_count": 12,
     "metadata": {},
     "output_type": "execute_result"
    }
   ],
   "source": [
    "alt.Chart(df_texas_bt).mark_line().encode(\n",
    "    y=alt.Y('pct_estimate', scale=alt.Scale(domain=[42,53])),\n",
    "    x='date',\n",
    "    color='candidate_name')"
   ]
  },
  {
   "cell_type": "markdown",
   "metadata": {},
   "source": [
    "Sometimes multiple axis are used for each line, or in a combined line and bar plot.\n",
    "\n",
    "The example [here](https://altair-viz.github.io/user_guide/scale_resolve.html) uses a dataframe with a column for each line. Our data does not have that."
   ]
  },
  {
   "cell_type": "code",
   "execution_count": 13,
   "metadata": {},
   "outputs": [
    {
     "data": {
      "text/html": [
       "<div>\n",
       "<style scoped>\n",
       "    .dataframe tbody tr th:only-of-type {\n",
       "        vertical-align: middle;\n",
       "    }\n",
       "\n",
       "    .dataframe tbody tr th {\n",
       "        vertical-align: top;\n",
       "    }\n",
       "\n",
       "    .dataframe thead th {\n",
       "        text-align: right;\n",
       "    }\n",
       "</style>\n",
       "<table border=\"1\" class=\"dataframe\">\n",
       "  <thead>\n",
       "    <tr style=\"text-align: right;\">\n",
       "      <th></th>\n",
       "      <th>candidate_name</th>\n",
       "      <th>pct_estimate</th>\n",
       "      <th>date</th>\n",
       "    </tr>\n",
       "  </thead>\n",
       "  <tbody>\n",
       "    <tr>\n",
       "      <th>7</th>\n",
       "      <td>Joseph R. Biden Jr.</td>\n",
       "      <td>47.46643</td>\n",
       "      <td>2020-11-03</td>\n",
       "    </tr>\n",
       "    <tr>\n",
       "      <th>63</th>\n",
       "      <td>Donald Trump</td>\n",
       "      <td>48.57118</td>\n",
       "      <td>2020-11-03</td>\n",
       "    </tr>\n",
       "    <tr>\n",
       "      <th>231</th>\n",
       "      <td>Joseph R. Biden Jr.</td>\n",
       "      <td>47.46643</td>\n",
       "      <td>2020-11-02</td>\n",
       "    </tr>\n",
       "    <tr>\n",
       "      <th>287</th>\n",
       "      <td>Donald Trump</td>\n",
       "      <td>48.57118</td>\n",
       "      <td>2020-11-02</td>\n",
       "    </tr>\n",
       "    <tr>\n",
       "      <th>455</th>\n",
       "      <td>Joseph R. Biden Jr.</td>\n",
       "      <td>47.45590</td>\n",
       "      <td>2020-11-01</td>\n",
       "    </tr>\n",
       "    <tr>\n",
       "      <th>...</th>\n",
       "      <td>...</td>\n",
       "      <td>...</td>\n",
       "      <td>...</td>\n",
       "    </tr>\n",
       "    <tr>\n",
       "      <th>28931</th>\n",
       "      <td>Donald Trump</td>\n",
       "      <td>49.09724</td>\n",
       "      <td>2020-02-29</td>\n",
       "    </tr>\n",
       "    <tr>\n",
       "      <th>28963</th>\n",
       "      <td>Joseph R. Biden Jr.</td>\n",
       "      <td>45.30901</td>\n",
       "      <td>2020-02-28</td>\n",
       "    </tr>\n",
       "    <tr>\n",
       "      <th>28995</th>\n",
       "      <td>Donald Trump</td>\n",
       "      <td>49.09676</td>\n",
       "      <td>2020-02-28</td>\n",
       "    </tr>\n",
       "    <tr>\n",
       "      <th>29027</th>\n",
       "      <td>Joseph R. Biden Jr.</td>\n",
       "      <td>45.30089</td>\n",
       "      <td>2020-02-27</td>\n",
       "    </tr>\n",
       "    <tr>\n",
       "      <th>29058</th>\n",
       "      <td>Donald Trump</td>\n",
       "      <td>49.07925</td>\n",
       "      <td>2020-02-27</td>\n",
       "    </tr>\n",
       "  </tbody>\n",
       "</table>\n",
       "<p>502 rows × 3 columns</p>\n",
       "</div>"
      ],
      "text/plain": [
       "            candidate_name  pct_estimate       date\n",
       "7      Joseph R. Biden Jr.      47.46643 2020-11-03\n",
       "63            Donald Trump      48.57118 2020-11-03\n",
       "231    Joseph R. Biden Jr.      47.46643 2020-11-02\n",
       "287           Donald Trump      48.57118 2020-11-02\n",
       "455    Joseph R. Biden Jr.      47.45590 2020-11-01\n",
       "...                    ...           ...        ...\n",
       "28931         Donald Trump      49.09724 2020-02-29\n",
       "28963  Joseph R. Biden Jr.      45.30901 2020-02-28\n",
       "28995         Donald Trump      49.09676 2020-02-28\n",
       "29027  Joseph R. Biden Jr.      45.30089 2020-02-27\n",
       "29058         Donald Trump      49.07925 2020-02-27\n",
       "\n",
       "[502 rows x 3 columns]"
      ]
     },
     "execution_count": 13,
     "metadata": {},
     "output_type": "execute_result"
    }
   ],
   "source": [
    "df_texas_bt\n",
    "our_df = df_texas_bt[['candidate_name', 'pct_estimate', 'date']]\n",
    "our_df"
   ]
  },
  {
   "cell_type": "markdown",
   "metadata": {},
   "source": [
    "Pivot table allows us to reshape our dataframe."
   ]
  },
  {
   "cell_type": "code",
   "execution_count": 14,
   "metadata": {},
   "outputs": [
    {
     "data": {
      "text/html": [
       "<div>\n",
       "<style scoped>\n",
       "    .dataframe tbody tr th:only-of-type {\n",
       "        vertical-align: middle;\n",
       "    }\n",
       "\n",
       "    .dataframe tbody tr th {\n",
       "        vertical-align: top;\n",
       "    }\n",
       "\n",
       "    .dataframe thead th {\n",
       "        text-align: right;\n",
       "    }\n",
       "</style>\n",
       "<table border=\"1\" class=\"dataframe\">\n",
       "  <thead>\n",
       "    <tr style=\"text-align: right;\">\n",
       "      <th></th>\n",
       "      <th>pct_estimate_Donald Trump</th>\n",
       "      <th>pct_estimate_Joseph R. Biden Jr.</th>\n",
       "    </tr>\n",
       "    <tr>\n",
       "      <th>date</th>\n",
       "      <th></th>\n",
       "      <th></th>\n",
       "    </tr>\n",
       "  </thead>\n",
       "  <tbody>\n",
       "    <tr>\n",
       "      <th>2020-02-27</th>\n",
       "      <td>49.07925</td>\n",
       "      <td>45.30089</td>\n",
       "    </tr>\n",
       "    <tr>\n",
       "      <th>2020-02-28</th>\n",
       "      <td>49.09676</td>\n",
       "      <td>45.30901</td>\n",
       "    </tr>\n",
       "    <tr>\n",
       "      <th>2020-02-29</th>\n",
       "      <td>49.09724</td>\n",
       "      <td>45.30896</td>\n",
       "    </tr>\n",
       "    <tr>\n",
       "      <th>2020-03-01</th>\n",
       "      <td>49.09724</td>\n",
       "      <td>45.30895</td>\n",
       "    </tr>\n",
       "    <tr>\n",
       "      <th>2020-03-02</th>\n",
       "      <td>48.91861</td>\n",
       "      <td>45.37694</td>\n",
       "    </tr>\n",
       "  </tbody>\n",
       "</table>\n",
       "</div>"
      ],
      "text/plain": [
       "            pct_estimate_Donald Trump  pct_estimate_Joseph R. Biden Jr.\n",
       "date                                                                   \n",
       "2020-02-27                   49.07925                          45.30089\n",
       "2020-02-28                   49.09676                          45.30901\n",
       "2020-02-29                   49.09724                          45.30896\n",
       "2020-03-01                   49.09724                          45.30895\n",
       "2020-03-02                   48.91861                          45.37694"
      ]
     },
     "execution_count": 14,
     "metadata": {},
     "output_type": "execute_result"
    }
   ],
   "source": [
    "our_df = pd.pivot_table(our_df, index=['date'], columns = 'candidate_name')\n",
    "our_df.columns = our_df.columns.to_series().str.join('_')\n",
    "our_df.head()"
   ]
  },
  {
   "cell_type": "markdown",
   "metadata": {},
   "source": [
    "Date here is the dataframe index. We want it to be a column."
   ]
  },
  {
   "cell_type": "code",
   "execution_count": 15,
   "metadata": {},
   "outputs": [
    {
     "data": {
      "text/html": [
       "<div>\n",
       "<style scoped>\n",
       "    .dataframe tbody tr th:only-of-type {\n",
       "        vertical-align: middle;\n",
       "    }\n",
       "\n",
       "    .dataframe tbody tr th {\n",
       "        vertical-align: top;\n",
       "    }\n",
       "\n",
       "    .dataframe thead th {\n",
       "        text-align: right;\n",
       "    }\n",
       "</style>\n",
       "<table border=\"1\" class=\"dataframe\">\n",
       "  <thead>\n",
       "    <tr style=\"text-align: right;\">\n",
       "      <th></th>\n",
       "      <th>Trump</th>\n",
       "      <th>Biden</th>\n",
       "      <th>date1</th>\n",
       "    </tr>\n",
       "    <tr>\n",
       "      <th>date</th>\n",
       "      <th></th>\n",
       "      <th></th>\n",
       "      <th></th>\n",
       "    </tr>\n",
       "  </thead>\n",
       "  <tbody>\n",
       "    <tr>\n",
       "      <th>2020-02-27</th>\n",
       "      <td>49.07925</td>\n",
       "      <td>45.30089</td>\n",
       "      <td>2020-02-27</td>\n",
       "    </tr>\n",
       "    <tr>\n",
       "      <th>2020-02-28</th>\n",
       "      <td>49.09676</td>\n",
       "      <td>45.30901</td>\n",
       "      <td>2020-02-28</td>\n",
       "    </tr>\n",
       "    <tr>\n",
       "      <th>2020-02-29</th>\n",
       "      <td>49.09724</td>\n",
       "      <td>45.30896</td>\n",
       "      <td>2020-02-29</td>\n",
       "    </tr>\n",
       "    <tr>\n",
       "      <th>2020-03-01</th>\n",
       "      <td>49.09724</td>\n",
       "      <td>45.30895</td>\n",
       "      <td>2020-03-01</td>\n",
       "    </tr>\n",
       "    <tr>\n",
       "      <th>2020-03-02</th>\n",
       "      <td>48.91861</td>\n",
       "      <td>45.37694</td>\n",
       "      <td>2020-03-02</td>\n",
       "    </tr>\n",
       "  </tbody>\n",
       "</table>\n",
       "</div>"
      ],
      "text/plain": [
       "               Trump     Biden      date1\n",
       "date                                     \n",
       "2020-02-27  49.07925  45.30089 2020-02-27\n",
       "2020-02-28  49.09676  45.30901 2020-02-28\n",
       "2020-02-29  49.09724  45.30896 2020-02-29\n",
       "2020-03-01  49.09724  45.30895 2020-03-01\n",
       "2020-03-02  48.91861  45.37694 2020-03-02"
      ]
     },
     "execution_count": 15,
     "metadata": {},
     "output_type": "execute_result"
    }
   ],
   "source": [
    "our_df['date1'] = our_df.index\n",
    "our_df.columns = ['Trump', 'Biden', 'date1']\n",
    "our_df.head()"
   ]
  },
  {
   "cell_type": "markdown",
   "metadata": {},
   "source": [
    "Creating our new plot, to fool all those people who expect Trump to win in Texas."
   ]
  },
  {
   "cell_type": "code",
   "execution_count": 16,
   "metadata": {},
   "outputs": [
    {
     "data": {
      "text/html": [
       "\n",
       "<style>\n",
       "  #altair-viz-7b57a65e44b84073be351337660afd48.vega-embed {\n",
       "    width: 100%;\n",
       "    display: flex;\n",
       "  }\n",
       "\n",
       "  #altair-viz-7b57a65e44b84073be351337660afd48.vega-embed details,\n",
       "  #altair-viz-7b57a65e44b84073be351337660afd48.vega-embed details summary {\n",
       "    position: relative;\n",
       "  }\n",
       "</style>\n",
       "<div id=\"altair-viz-7b57a65e44b84073be351337660afd48\"></div>\n",
       "<script type=\"text/javascript\">\n",
       "  var VEGA_DEBUG = (typeof VEGA_DEBUG == \"undefined\") ? {} : VEGA_DEBUG;\n",
       "  (function(spec, embedOpt){\n",
       "    let outputDiv = document.currentScript.previousElementSibling;\n",
       "    if (outputDiv.id !== \"altair-viz-7b57a65e44b84073be351337660afd48\") {\n",
       "      outputDiv = document.getElementById(\"altair-viz-7b57a65e44b84073be351337660afd48\");\n",
       "    }\n",
       "    const paths = {\n",
       "      \"vega\": \"https://cdn.jsdelivr.net/npm/vega@5?noext\",\n",
       "      \"vega-lib\": \"https://cdn.jsdelivr.net/npm/vega-lib?noext\",\n",
       "      \"vega-lite\": \"https://cdn.jsdelivr.net/npm/vega-lite@5.14.1?noext\",\n",
       "      \"vega-embed\": \"https://cdn.jsdelivr.net/npm/vega-embed@6?noext\",\n",
       "    };\n",
       "\n",
       "    function maybeLoadScript(lib, version) {\n",
       "      var key = `${lib.replace(\"-\", \"\")}_version`;\n",
       "      return (VEGA_DEBUG[key] == version) ?\n",
       "        Promise.resolve(paths[lib]) :\n",
       "        new Promise(function(resolve, reject) {\n",
       "          var s = document.createElement('script');\n",
       "          document.getElementsByTagName(\"head\")[0].appendChild(s);\n",
       "          s.async = true;\n",
       "          s.onload = () => {\n",
       "            VEGA_DEBUG[key] = version;\n",
       "            return resolve(paths[lib]);\n",
       "          };\n",
       "          s.onerror = () => reject(`Error loading script: ${paths[lib]}`);\n",
       "          s.src = paths[lib];\n",
       "        });\n",
       "    }\n",
       "\n",
       "    function showError(err) {\n",
       "      outputDiv.innerHTML = `<div class=\"error\" style=\"color:red;\">${err}</div>`;\n",
       "      throw err;\n",
       "    }\n",
       "\n",
       "    function displayChart(vegaEmbed) {\n",
       "      vegaEmbed(outputDiv, spec, embedOpt)\n",
       "        .catch(err => showError(`Javascript Error: ${err.message}<br>This usually means there's a typo in your chart specification. See the javascript console for the full traceback.`));\n",
       "    }\n",
       "\n",
       "    if(typeof define === \"function\" && define.amd) {\n",
       "      requirejs.config({paths});\n",
       "      require([\"vega-embed\"], displayChart, err => showError(`Error loading script: ${err.message}`));\n",
       "    } else {\n",
       "      maybeLoadScript(\"vega\", \"5\")\n",
       "        .then(() => maybeLoadScript(\"vega-lite\", \"5.14.1\"))\n",
       "        .then(() => maybeLoadScript(\"vega-embed\", \"6\"))\n",
       "        .catch(showError)\n",
       "        .then(() => displayChart(vegaEmbed));\n",
       "    }\n",
       "  })({\"config\": {\"view\": {\"continuousWidth\": 300, \"continuousHeight\": 300}}, \"layer\": [{\"mark\": {\"type\": \"line\", \"color\": \"#5276A7\"}, \"encoding\": {\"x\": {\"field\": \"date1\", \"type\": \"temporal\"}, \"y\": {\"axis\": {\"titleColor\": \"#5276A7\"}, \"field\": \"Trump\", \"scale\": {\"domain\": [42, 53]}, \"type\": \"quantitative\"}}}, {\"mark\": {\"type\": \"line\", \"color\": \"#F18727\"}, \"encoding\": {\"x\": {\"field\": \"date1\", \"type\": \"temporal\"}, \"y\": {\"axis\": {\"titleColor\": \"#F18727\"}, \"field\": \"Biden\", \"scale\": {\"domain\": [35, 53]}, \"type\": \"quantitative\"}}}], \"data\": {\"name\": \"data-786effca6d776ec68e6db333031e9194\"}, \"resolve\": {\"scale\": {\"y\": \"independent\"}}, \"$schema\": \"https://vega.github.io/schema/vega-lite/v5.14.1.json\", \"datasets\": {\"data-786effca6d776ec68e6db333031e9194\": [{\"Trump\": 49.07925, \"Biden\": 45.30089, \"date1\": \"2020-02-27T00:00:00\"}, {\"Trump\": 49.09676, \"Biden\": 45.30901, \"date1\": \"2020-02-28T00:00:00\"}, {\"Trump\": 49.09724, \"Biden\": 45.30896, \"date1\": \"2020-02-29T00:00:00\"}, {\"Trump\": 49.09724, \"Biden\": 45.30895, \"date1\": \"2020-03-01T00:00:00\"}, {\"Trump\": 48.91861, \"Biden\": 45.37694, \"date1\": \"2020-03-02T00:00:00\"}, {\"Trump\": 48.91925, \"Biden\": 45.37645, \"date1\": \"2020-03-03T00:00:00\"}, {\"Trump\": 48.92039, \"Biden\": 45.37571, \"date1\": \"2020-03-04T00:00:00\"}, {\"Trump\": 48.91926, \"Biden\": 45.37675, \"date1\": \"2020-03-05T00:00:00\"}, {\"Trump\": 48.91899, \"Biden\": 45.37695, \"date1\": \"2020-03-06T00:00:00\"}, {\"Trump\": 48.91954, \"Biden\": 45.37598, \"date1\": \"2020-03-07T00:00:00\"}, {\"Trump\": 48.9183, \"Biden\": 45.37666, \"date1\": \"2020-03-08T00:00:00\"}, {\"Trump\": 48.85574, \"Biden\": 45.4101, \"date1\": \"2020-03-09T00:00:00\"}, {\"Trump\": 48.8606, \"Biden\": 45.42166, \"date1\": \"2020-03-10T00:00:00\"}, {\"Trump\": 48.91215, \"Biden\": 45.38067, \"date1\": \"2020-03-11T00:00:00\"}, {\"Trump\": 48.91751, \"Biden\": 45.38205, \"date1\": \"2020-03-12T00:00:00\"}, {\"Trump\": 48.91874, \"Biden\": 45.37909, \"date1\": \"2020-03-13T00:00:00\"}, {\"Trump\": 48.91954, \"Biden\": 45.37857, \"date1\": \"2020-03-14T00:00:00\"}, {\"Trump\": 48.94862, \"Biden\": 45.4053, \"date1\": \"2020-03-15T00:00:00\"}, {\"Trump\": 48.94514, \"Biden\": 45.39734, \"date1\": \"2020-03-16T00:00:00\"}, {\"Trump\": 48.96954, \"Biden\": 45.39569, \"date1\": \"2020-03-17T00:00:00\"}, {\"Trump\": 48.96954, \"Biden\": 45.39569, \"date1\": \"2020-03-18T00:00:00\"}, {\"Trump\": 48.93405, \"Biden\": 45.38876, \"date1\": \"2020-03-19T00:00:00\"}, {\"Trump\": 48.92702, \"Biden\": 45.38517, \"date1\": \"2020-03-20T00:00:00\"}, {\"Trump\": 48.91952, \"Biden\": 45.38175, \"date1\": \"2020-03-21T00:00:00\"}, {\"Trump\": 48.92501, \"Biden\": 45.37892, \"date1\": \"2020-03-22T00:00:00\"}, {\"Trump\": 49.00179, \"Biden\": 45.39624, \"date1\": \"2020-03-23T00:00:00\"}, {\"Trump\": 48.91612, \"Biden\": 45.38083, \"date1\": \"2020-03-24T00:00:00\"}, {\"Trump\": 48.92607, \"Biden\": 45.38054, \"date1\": \"2020-03-25T00:00:00\"}, {\"Trump\": 48.9659, \"Biden\": 45.37897, \"date1\": \"2020-03-26T00:00:00\"}, {\"Trump\": 48.9659, \"Biden\": 45.37897, \"date1\": \"2020-03-27T00:00:00\"}, {\"Trump\": 48.92043, \"Biden\": 45.38026, \"date1\": \"2020-03-28T00:00:00\"}, {\"Trump\": 48.9207, \"Biden\": 45.37955, \"date1\": \"2020-03-29T00:00:00\"}, {\"Trump\": 48.92102, \"Biden\": 45.37971, \"date1\": \"2020-03-30T00:00:00\"}, {\"Trump\": 48.95903, \"Biden\": 45.37795, \"date1\": \"2020-03-31T00:00:00\"}, {\"Trump\": 48.92068, \"Biden\": 45.37923, \"date1\": \"2020-04-01T00:00:00\"}, {\"Trump\": 48.92068, \"Biden\": 45.37923, \"date1\": \"2020-04-02T00:00:00\"}, {\"Trump\": 48.95016, \"Biden\": 45.3711, \"date1\": \"2020-04-03T00:00:00\"}, {\"Trump\": 48.93533, \"Biden\": 45.3702, \"date1\": \"2020-04-04T00:00:00\"}, {\"Trump\": 48.94017, \"Biden\": 45.3679, \"date1\": \"2020-04-05T00:00:00\"}, {\"Trump\": 48.92049, \"Biden\": 45.37498, \"date1\": \"2020-04-06T00:00:00\"}, {\"Trump\": 48.94107, \"Biden\": 45.38001, \"date1\": \"2020-04-07T00:00:00\"}, {\"Trump\": 48.91956, \"Biden\": 45.37385, \"date1\": \"2020-04-08T00:00:00\"}, {\"Trump\": 48.91921, \"Biden\": 45.37382, \"date1\": \"2020-04-09T00:00:00\"}, {\"Trump\": 48.93618, \"Biden\": 45.56173, \"date1\": \"2020-04-10T00:00:00\"}, {\"Trump\": 48.92983, \"Biden\": 45.48539, \"date1\": \"2020-04-11T00:00:00\"}, {\"Trump\": 48.92065, \"Biden\": 45.37432, \"date1\": \"2020-04-12T00:00:00\"}, {\"Trump\": 48.92057, \"Biden\": 45.3744, \"date1\": \"2020-04-13T00:00:00\"}, {\"Trump\": 48.95632, \"Biden\": 45.37777, \"date1\": \"2020-04-14T00:00:00\"}, {\"Trump\": 48.92004, \"Biden\": 45.37593, \"date1\": \"2020-04-15T00:00:00\"}, {\"Trump\": 48.91214, \"Biden\": 45.33365, \"date1\": \"2020-04-16T00:00:00\"}, {\"Trump\": 48.91222, \"Biden\": 45.33366, \"date1\": \"2020-04-17T00:00:00\"}, {\"Trump\": 48.95316, \"Biden\": 45.36634, \"date1\": \"2020-04-18T00:00:00\"}, {\"Trump\": 49.4292, \"Biden\": 45.09126, \"date1\": \"2020-04-19T00:00:00\"}, {\"Trump\": 49.42709, \"Biden\": 45.1102, \"date1\": \"2020-04-20T00:00:00\"}, {\"Trump\": 49.41512, \"Biden\": 45.07273, \"date1\": \"2020-04-21T00:00:00\"}, {\"Trump\": 49.41512, \"Biden\": 45.07273, \"date1\": \"2020-04-22T00:00:00\"}, {\"Trump\": 49.41512, \"Biden\": 45.07273, \"date1\": \"2020-04-23T00:00:00\"}, {\"Trump\": 49.41512, \"Biden\": 45.07273, \"date1\": \"2020-04-24T00:00:00\"}, {\"Trump\": 49.39608, \"Biden\": 45.11222, \"date1\": \"2020-04-25T00:00:00\"}, {\"Trump\": 49.40167, \"Biden\": 45.08833, \"date1\": \"2020-04-26T00:00:00\"}, {\"Trump\": 48.80686, \"Biden\": 44.91525, \"date1\": \"2020-04-27T00:00:00\"}, {\"Trump\": 48.51252, \"Biden\": 45.26254, \"date1\": \"2020-04-28T00:00:00\"}, {\"Trump\": 48.51315, \"Biden\": 45.24785, \"date1\": \"2020-04-29T00:00:00\"}, {\"Trump\": 48.51319, \"Biden\": 45.24782, \"date1\": \"2020-04-30T00:00:00\"}, {\"Trump\": 48.50566, \"Biden\": 45.26225, \"date1\": \"2020-05-01T00:00:00\"}, {\"Trump\": 48.48819, \"Biden\": 45.29976, \"date1\": \"2020-05-02T00:00:00\"}, {\"Trump\": 48.4674, \"Biden\": 45.34228, \"date1\": \"2020-05-03T00:00:00\"}, {\"Trump\": 48.47422, \"Biden\": 45.31667, \"date1\": \"2020-05-04T00:00:00\"}, {\"Trump\": 48.50333, \"Biden\": 45.26993, \"date1\": \"2020-05-05T00:00:00\"}, {\"Trump\": 48.49321, \"Biden\": 45.27159, \"date1\": \"2020-05-06T00:00:00\"}, {\"Trump\": 48.50006, \"Biden\": 45.26326, \"date1\": \"2020-05-07T00:00:00\"}, {\"Trump\": 48.51052, \"Biden\": 45.2515, \"date1\": \"2020-05-08T00:00:00\"}, {\"Trump\": 48.48647, \"Biden\": 45.26214, \"date1\": \"2020-05-09T00:00:00\"}, {\"Trump\": 49.09027, \"Biden\": 45.70253, \"date1\": \"2020-05-10T00:00:00\"}, {\"Trump\": 49.09012, \"Biden\": 45.70288, \"date1\": \"2020-05-11T00:00:00\"}, {\"Trump\": 49.06105, \"Biden\": 45.70576, \"date1\": \"2020-05-12T00:00:00\"}, {\"Trump\": 49.07634, \"Biden\": 45.70819, \"date1\": \"2020-05-13T00:00:00\"}, {\"Trump\": 49.08836, \"Biden\": 45.73716, \"date1\": \"2020-05-14T00:00:00\"}, {\"Trump\": 49.10184, \"Biden\": 45.75504, \"date1\": \"2020-05-15T00:00:00\"}, {\"Trump\": 49.10577, \"Biden\": 45.75136, \"date1\": \"2020-05-16T00:00:00\"}, {\"Trump\": 49.10301, \"Biden\": 45.74335, \"date1\": \"2020-05-17T00:00:00\"}, {\"Trump\": 49.11172, \"Biden\": 45.76582, \"date1\": \"2020-05-18T00:00:00\"}, {\"Trump\": 49.10968, \"Biden\": 45.764, \"date1\": \"2020-05-19T00:00:00\"}, {\"Trump\": 49.10746, \"Biden\": 45.76269, \"date1\": \"2020-05-20T00:00:00\"}, {\"Trump\": 49.08376, \"Biden\": 45.69866, \"date1\": \"2020-05-21T00:00:00\"}, {\"Trump\": 49.08714, \"Biden\": 45.70632, \"date1\": \"2020-05-22T00:00:00\"}, {\"Trump\": 49.10739, \"Biden\": 45.75284, \"date1\": \"2020-05-23T00:00:00\"}, {\"Trump\": 49.10611, \"Biden\": 45.76341, \"date1\": \"2020-05-24T00:00:00\"}, {\"Trump\": 49.10611, \"Biden\": 45.76341, \"date1\": \"2020-05-25T00:00:00\"}, {\"Trump\": 49.09583, \"Biden\": 45.73297, \"date1\": \"2020-05-26T00:00:00\"}, {\"Trump\": 49.10361, \"Biden\": 45.76201, \"date1\": \"2020-05-27T00:00:00\"}, {\"Trump\": 49.14911, \"Biden\": 45.69332, \"date1\": \"2020-05-28T00:00:00\"}, {\"Trump\": 49.14911, \"Biden\": 45.69332, \"date1\": \"2020-05-29T00:00:00\"}, {\"Trump\": 49.13599, \"Biden\": 45.65428, \"date1\": \"2020-05-30T00:00:00\"}, {\"Trump\": 49.14891, \"Biden\": 45.69244, \"date1\": \"2020-05-31T00:00:00\"}, {\"Trump\": 48.16053, \"Biden\": 45.47662, \"date1\": \"2020-06-01T00:00:00\"}, {\"Trump\": 48.17556, \"Biden\": 45.53836, \"date1\": \"2020-06-02T00:00:00\"}, {\"Trump\": 48.17252, \"Biden\": 45.54729, \"date1\": \"2020-06-03T00:00:00\"}, {\"Trump\": 48.25607, \"Biden\": 45.97824, \"date1\": \"2020-06-04T00:00:00\"}, {\"Trump\": 48.25577, \"Biden\": 45.97945, \"date1\": \"2020-06-05T00:00:00\"}, {\"Trump\": 48.25507, \"Biden\": 45.97923, \"date1\": \"2020-06-06T00:00:00\"}, {\"Trump\": 48.25442, \"Biden\": 45.96136, \"date1\": \"2020-06-07T00:00:00\"}, {\"Trump\": 48.25227, \"Biden\": 45.96637, \"date1\": \"2020-06-08T00:00:00\"}, {\"Trump\": 48.25119, \"Biden\": 45.97159, \"date1\": \"2020-06-09T00:00:00\"}, {\"Trump\": 48.25144, \"Biden\": 45.96912, \"date1\": \"2020-06-10T00:00:00\"}, {\"Trump\": 48.25065, \"Biden\": 45.97309, \"date1\": \"2020-06-11T00:00:00\"}, {\"Trump\": 48.25166, \"Biden\": 45.96807, \"date1\": \"2020-06-12T00:00:00\"}, {\"Trump\": 48.40066, \"Biden\": 45.65842, \"date1\": \"2020-06-13T00:00:00\"}, {\"Trump\": 48.40041, \"Biden\": 45.65529, \"date1\": \"2020-06-14T00:00:00\"}, {\"Trump\": 48.39996, \"Biden\": 45.65506, \"date1\": \"2020-06-15T00:00:00\"}, {\"Trump\": 48.40011, \"Biden\": 45.65484, \"date1\": \"2020-06-16T00:00:00\"}, {\"Trump\": 48.39614, \"Biden\": 45.82125, \"date1\": \"2020-06-17T00:00:00\"}, {\"Trump\": 48.3938, \"Biden\": 45.65521, \"date1\": \"2020-06-18T00:00:00\"}, {\"Trump\": 48.39442, \"Biden\": 45.65411, \"date1\": \"2020-06-19T00:00:00\"}, {\"Trump\": 48.39553, \"Biden\": 45.65629, \"date1\": \"2020-06-20T00:00:00\"}, {\"Trump\": 48.39626, \"Biden\": 45.65545, \"date1\": \"2020-06-21T00:00:00\"}, {\"Trump\": 48.40881, \"Biden\": 45.71854, \"date1\": \"2020-06-22T00:00:00\"}, {\"Trump\": 48.44992, \"Biden\": 45.76314, \"date1\": \"2020-06-23T00:00:00\"}, {\"Trump\": 48.42898, \"Biden\": 45.68605, \"date1\": \"2020-06-24T00:00:00\"}, {\"Trump\": 47.66195, \"Biden\": 45.73814, \"date1\": \"2020-06-25T00:00:00\"}, {\"Trump\": 47.69673, \"Biden\": 45.79541, \"date1\": \"2020-06-26T00:00:00\"}, {\"Trump\": 47.69133, \"Biden\": 45.78463, \"date1\": \"2020-06-27T00:00:00\"}, {\"Trump\": 47.69133, \"Biden\": 45.78463, \"date1\": \"2020-06-28T00:00:00\"}, {\"Trump\": 47.65038, \"Biden\": 45.70984, \"date1\": \"2020-06-29T00:00:00\"}, {\"Trump\": 47.66692, \"Biden\": 45.68793, \"date1\": \"2020-06-30T00:00:00\"}, {\"Trump\": 47.65641, \"Biden\": 45.71981, \"date1\": \"2020-07-01T00:00:00\"}, {\"Trump\": 47.60802, \"Biden\": 45.78147, \"date1\": \"2020-07-02T00:00:00\"}, {\"Trump\": 47.60827, \"Biden\": 45.78484, \"date1\": \"2020-07-03T00:00:00\"}, {\"Trump\": 47.60828, \"Biden\": 45.78484, \"date1\": \"2020-07-04T00:00:00\"}, {\"Trump\": 47.60809, \"Biden\": 45.78754, \"date1\": \"2020-07-05T00:00:00\"}, {\"Trump\": 47.6078, \"Biden\": 45.78762, \"date1\": \"2020-07-06T00:00:00\"}, {\"Trump\": 47.60464, \"Biden\": 45.78502, \"date1\": \"2020-07-07T00:00:00\"}, {\"Trump\": 47.61312, \"Biden\": 45.73473, \"date1\": \"2020-07-08T00:00:00\"}, {\"Trump\": 47.6011, \"Biden\": 45.76323, \"date1\": \"2020-07-09T00:00:00\"}, {\"Trump\": 47.59651, \"Biden\": 45.77731, \"date1\": \"2020-07-10T00:00:00\"}, {\"Trump\": 46.79716, \"Biden\": 46.75304, \"date1\": \"2020-07-11T00:00:00\"}, {\"Trump\": 46.43709, \"Biden\": 46.40676, \"date1\": \"2020-07-12T00:00:00\"}, {\"Trump\": 46.45528, \"Biden\": 46.34341, \"date1\": \"2020-07-13T00:00:00\"}, {\"Trump\": 46.40405, \"Biden\": 46.07478, \"date1\": \"2020-07-14T00:00:00\"}, {\"Trump\": 46.43446, \"Biden\": 46.00103, \"date1\": \"2020-07-15T00:00:00\"}, {\"Trump\": 46.43414, \"Biden\": 46.00095, \"date1\": \"2020-07-16T00:00:00\"}, {\"Trump\": 46.43502, \"Biden\": 46.002, \"date1\": \"2020-07-17T00:00:00\"}, {\"Trump\": 46.42596, \"Biden\": 46.02301, \"date1\": \"2020-07-18T00:00:00\"}, {\"Trump\": 46.43323, \"Biden\": 46.0716, \"date1\": \"2020-07-19T00:00:00\"}, {\"Trump\": 46.43402, \"Biden\": 46.0726, \"date1\": \"2020-07-20T00:00:00\"}, {\"Trump\": 46.43436, \"Biden\": 46.0724, \"date1\": \"2020-07-21T00:00:00\"}, {\"Trump\": 46.15689, \"Biden\": 46.37099, \"date1\": \"2020-07-22T00:00:00\"}, {\"Trump\": 46.16223, \"Biden\": 46.38708, \"date1\": \"2020-07-23T00:00:00\"}, {\"Trump\": 46.13685, \"Biden\": 46.40319, \"date1\": \"2020-07-24T00:00:00\"}, {\"Trump\": 46.13179, \"Biden\": 46.41632, \"date1\": \"2020-07-25T00:00:00\"}, {\"Trump\": 46.12651, \"Biden\": 46.42859, \"date1\": \"2020-07-26T00:00:00\"}, {\"Trump\": 46.13192, \"Biden\": 46.40487, \"date1\": \"2020-07-27T00:00:00\"}, {\"Trump\": 45.70446, \"Biden\": 46.67805, \"date1\": \"2020-07-28T00:00:00\"}, {\"Trump\": 45.70789, \"Biden\": 46.64946, \"date1\": \"2020-07-29T00:00:00\"}, {\"Trump\": 45.71142, \"Biden\": 46.65115, \"date1\": \"2020-07-30T00:00:00\"}, {\"Trump\": 45.69263, \"Biden\": 46.67899, \"date1\": \"2020-07-31T00:00:00\"}, {\"Trump\": 45.69263, \"Biden\": 46.67899, \"date1\": \"2020-08-01T00:00:00\"}, {\"Trump\": 45.6942, \"Biden\": 46.68407, \"date1\": \"2020-08-02T00:00:00\"}, {\"Trump\": 45.69025, \"Biden\": 46.7013, \"date1\": \"2020-08-03T00:00:00\"}, {\"Trump\": 45.89725, \"Biden\": 46.73875, \"date1\": \"2020-08-04T00:00:00\"}, {\"Trump\": 45.93046, \"Biden\": 46.74357, \"date1\": \"2020-08-05T00:00:00\"}, {\"Trump\": 45.91185, \"Biden\": 46.74092, \"date1\": \"2020-08-06T00:00:00\"}, {\"Trump\": 46.42417, \"Biden\": 46.2254, \"date1\": \"2020-08-07T00:00:00\"}, {\"Trump\": 46.42417, \"Biden\": 46.2254, \"date1\": \"2020-08-08T00:00:00\"}, {\"Trump\": 46.42281, \"Biden\": 46.22628, \"date1\": \"2020-08-09T00:00:00\"}, {\"Trump\": 46.39816, \"Biden\": 46.2858, \"date1\": \"2020-08-10T00:00:00\"}, {\"Trump\": 46.43006, \"Biden\": 46.20671, \"date1\": \"2020-08-11T00:00:00\"}, {\"Trump\": 46.41173, \"Biden\": 46.2491, \"date1\": \"2020-08-12T00:00:00\"}, {\"Trump\": 46.35225, \"Biden\": 46.42604, \"date1\": \"2020-08-13T00:00:00\"}, {\"Trump\": 46.35416, \"Biden\": 46.41057, \"date1\": \"2020-08-14T00:00:00\"}, {\"Trump\": 46.35427, \"Biden\": 46.40991, \"date1\": \"2020-08-15T00:00:00\"}, {\"Trump\": 46.43683, \"Biden\": 46.26512, \"date1\": \"2020-08-16T00:00:00\"}, {\"Trump\": 46.92024, \"Biden\": 45.39387, \"date1\": \"2020-08-17T00:00:00\"}, {\"Trump\": 46.92033, \"Biden\": 45.39202, \"date1\": \"2020-08-18T00:00:00\"}, {\"Trump\": 46.90518, \"Biden\": 45.35937, \"date1\": \"2020-08-19T00:00:00\"}, {\"Trump\": 46.94314, \"Biden\": 45.37543, \"date1\": \"2020-08-20T00:00:00\"}, {\"Trump\": 46.89281, \"Biden\": 45.46035, \"date1\": \"2020-08-21T00:00:00\"}, {\"Trump\": 46.72144, \"Biden\": 45.3712, \"date1\": \"2020-08-22T00:00:00\"}, {\"Trump\": 46.82002, \"Biden\": 45.36004, \"date1\": \"2020-08-23T00:00:00\"}, {\"Trump\": 47.19383, \"Biden\": 46.06097, \"date1\": \"2020-08-24T00:00:00\"}, {\"Trump\": 47.08171, \"Biden\": 45.80996, \"date1\": \"2020-08-25T00:00:00\"}, {\"Trump\": 47.05884, \"Biden\": 45.78177, \"date1\": \"2020-08-26T00:00:00\"}, {\"Trump\": 47.05914, \"Biden\": 45.78236, \"date1\": \"2020-08-27T00:00:00\"}, {\"Trump\": 47.09627, \"Biden\": 45.81792, \"date1\": \"2020-08-28T00:00:00\"}, {\"Trump\": 47.0316, \"Biden\": 45.73663, \"date1\": \"2020-08-29T00:00:00\"}, {\"Trump\": 47.05109, \"Biden\": 45.76218, \"date1\": \"2020-08-30T00:00:00\"}, {\"Trump\": 47.07668, \"Biden\": 45.79023, \"date1\": \"2020-08-31T00:00:00\"}, {\"Trump\": 47.0865, \"Biden\": 46.21246, \"date1\": \"2020-09-01T00:00:00\"}, {\"Trump\": 47.07632, \"Biden\": 46.20584, \"date1\": \"2020-09-02T00:00:00\"}, {\"Trump\": 47.09089, \"Biden\": 46.21809, \"date1\": \"2020-09-03T00:00:00\"}, {\"Trump\": 46.60342, \"Biden\": 46.65686, \"date1\": \"2020-09-04T00:00:00\"}, {\"Trump\": 46.60325, \"Biden\": 46.65598, \"date1\": \"2020-09-05T00:00:00\"}, {\"Trump\": 47.06486, \"Biden\": 46.64128, \"date1\": \"2020-09-06T00:00:00\"}, {\"Trump\": 47.06562, \"Biden\": 46.63721, \"date1\": \"2020-09-07T00:00:00\"}, {\"Trump\": 47.69348, \"Biden\": 46.93853, \"date1\": \"2020-09-08T00:00:00\"}, {\"Trump\": 47.23582, \"Biden\": 46.68188, \"date1\": \"2020-09-09T00:00:00\"}, {\"Trump\": 47.25471, \"Biden\": 46.67519, \"date1\": \"2020-09-10T00:00:00\"}, {\"Trump\": 47.27556, \"Biden\": 46.69556, \"date1\": \"2020-09-11T00:00:00\"}, {\"Trump\": 47.25832, \"Biden\": 46.66985, \"date1\": \"2020-09-12T00:00:00\"}, {\"Trump\": 47.24553, \"Biden\": 46.66175, \"date1\": \"2020-09-13T00:00:00\"}, {\"Trump\": 47.25034, \"Biden\": 46.67, \"date1\": \"2020-09-14T00:00:00\"}, {\"Trump\": 47.24179, \"Biden\": 46.64288, \"date1\": \"2020-09-15T00:00:00\"}, {\"Trump\": 47.26674, \"Biden\": 46.67395, \"date1\": \"2020-09-16T00:00:00\"}, {\"Trump\": 47.25473, \"Biden\": 46.66349, \"date1\": \"2020-09-17T00:00:00\"}, {\"Trump\": 47.26583, \"Biden\": 46.64408, \"date1\": \"2020-09-18T00:00:00\"}, {\"Trump\": 47.26814, \"Biden\": 46.64731, \"date1\": \"2020-09-19T00:00:00\"}, {\"Trump\": 47.13303, \"Biden\": 46.61185, \"date1\": \"2020-09-20T00:00:00\"}, {\"Trump\": 46.95667, \"Biden\": 46.73369, \"date1\": \"2020-09-21T00:00:00\"}, {\"Trump\": 46.93662, \"Biden\": 46.72723, \"date1\": \"2020-09-22T00:00:00\"}, {\"Trump\": 46.96414, \"Biden\": 46.72293, \"date1\": \"2020-09-23T00:00:00\"}, {\"Trump\": 47.6479, \"Biden\": 45.9563, \"date1\": \"2020-09-24T00:00:00\"}, {\"Trump\": 47.44189, \"Biden\": 45.86306, \"date1\": \"2020-09-25T00:00:00\"}, {\"Trump\": 47.43436, \"Biden\": 45.85507, \"date1\": \"2020-09-26T00:00:00\"}, {\"Trump\": 47.43828, \"Biden\": 45.85719, \"date1\": \"2020-09-27T00:00:00\"}, {\"Trump\": 47.54206, \"Biden\": 45.84436, \"date1\": \"2020-09-28T00:00:00\"}, {\"Trump\": 47.78341, \"Biden\": 45.87399, \"date1\": \"2020-09-29T00:00:00\"}, {\"Trump\": 47.7896, \"Biden\": 45.8628, \"date1\": \"2020-09-30T00:00:00\"}, {\"Trump\": 47.78569, \"Biden\": 45.86344, \"date1\": \"2020-10-01T00:00:00\"}, {\"Trump\": 47.99397, \"Biden\": 45.77011, \"date1\": \"2020-10-02T00:00:00\"}, {\"Trump\": 48.20047, \"Biden\": 45.59641, \"date1\": \"2020-10-03T00:00:00\"}, {\"Trump\": 48.19992, \"Biden\": 45.59599, \"date1\": \"2020-10-04T00:00:00\"}, {\"Trump\": 48.22139, \"Biden\": 45.59505, \"date1\": \"2020-10-05T00:00:00\"}, {\"Trump\": 48.21851, \"Biden\": 45.59776, \"date1\": \"2020-10-06T00:00:00\"}, {\"Trump\": 47.99517, \"Biden\": 46.05751, \"date1\": \"2020-10-07T00:00:00\"}, {\"Trump\": 48.48419, \"Biden\": 46.27598, \"date1\": \"2020-10-08T00:00:00\"}, {\"Trump\": 48.64567, \"Biden\": 46.23714, \"date1\": \"2020-10-09T00:00:00\"}, {\"Trump\": 48.65608, \"Biden\": 46.22795, \"date1\": \"2020-10-10T00:00:00\"}, {\"Trump\": 48.61756, \"Biden\": 46.26738, \"date1\": \"2020-10-11T00:00:00\"}, {\"Trump\": 48.609, \"Biden\": 46.277, \"date1\": \"2020-10-12T00:00:00\"}, {\"Trump\": 48.56747, \"Biden\": 46.56169, \"date1\": \"2020-10-13T00:00:00\"}, {\"Trump\": 48.66979, \"Biden\": 46.61532, \"date1\": \"2020-10-14T00:00:00\"}, {\"Trump\": 48.65753, \"Biden\": 46.61424, \"date1\": \"2020-10-15T00:00:00\"}, {\"Trump\": 48.68825, \"Biden\": 46.73175, \"date1\": \"2020-10-16T00:00:00\"}, {\"Trump\": 48.69751, \"Biden\": 46.82671, \"date1\": \"2020-10-17T00:00:00\"}, {\"Trump\": 48.70924, \"Biden\": 46.82427, \"date1\": \"2020-10-18T00:00:00\"}, {\"Trump\": 48.23845, \"Biden\": 46.77259, \"date1\": \"2020-10-19T00:00:00\"}, {\"Trump\": 48.38562, \"Biden\": 46.79348, \"date1\": \"2020-10-20T00:00:00\"}, {\"Trump\": 48.10905, \"Biden\": 46.86986, \"date1\": \"2020-10-21T00:00:00\"}, {\"Trump\": 47.86441, \"Biden\": 47.11637, \"date1\": \"2020-10-22T00:00:00\"}, {\"Trump\": 47.80916, \"Biden\": 47.17032, \"date1\": \"2020-10-23T00:00:00\"}, {\"Trump\": 47.58155, \"Biden\": 47.14655, \"date1\": \"2020-10-24T00:00:00\"}, {\"Trump\": 47.33944, \"Biden\": 47.4801, \"date1\": \"2020-10-25T00:00:00\"}, {\"Trump\": 47.71605, \"Biden\": 46.52976, \"date1\": \"2020-10-26T00:00:00\"}, {\"Trump\": 47.72824, \"Biden\": 46.5183, \"date1\": \"2020-10-27T00:00:00\"}, {\"Trump\": 47.97564, \"Biden\": 46.36433, \"date1\": \"2020-10-28T00:00:00\"}, {\"Trump\": 47.86353, \"Biden\": 46.93267, \"date1\": \"2020-10-29T00:00:00\"}, {\"Trump\": 47.93625, \"Biden\": 46.82207, \"date1\": \"2020-10-30T00:00:00\"}, {\"Trump\": 48.06615, \"Biden\": 47.23946, \"date1\": \"2020-10-31T00:00:00\"}, {\"Trump\": 48.46441, \"Biden\": 47.4559, \"date1\": \"2020-11-01T00:00:00\"}, {\"Trump\": 48.57118, \"Biden\": 47.46643, \"date1\": \"2020-11-02T00:00:00\"}, {\"Trump\": 48.57118, \"Biden\": 47.46643, \"date1\": \"2020-11-03T00:00:00\"}]}}, {\"mode\": \"vega-lite\"});\n",
       "</script>"
      ],
      "text/plain": [
       "alt.LayerChart(...)"
      ]
     },
     "execution_count": 16,
     "metadata": {},
     "output_type": "execute_result"
    }
   ],
   "source": [
    "base = alt.Chart(our_df).encode(\n",
    "        alt.X('date1')\n",
    ")\n",
    "\n",
    "line_A = base.mark_line(color='#5276A7').encode(\n",
    "    alt.Y('Trump', axis=alt.Axis(titleColor='#5276A7'), scale=alt.Scale(domain=[42,53]))\n",
    ")\n",
    "\n",
    "line_B = base.mark_line(color='#F18727').encode(\n",
    "    alt.Y('Biden', axis=alt.Axis(titleColor='#F18727'), scale=alt.Scale(domain=[35,53]))\n",
    ")\n",
    "\n",
    "alt.layer(line_A, line_B).resolve_scale(y='independent')"
   ]
  },
  {
   "cell_type": "markdown",
   "metadata": {},
   "source": [
    "Did you see what I did there?\n",
    "\n",
    "Of course, mixed axis plots are rarely purely line plots. Instead they can be mixes of different axis. For these and other plotting mistakes, the economist has a nice article [here](https://medium.economist.com/mistakes-weve-drawn-a-few-8cdd8a42d368). You may want to try some of these plots with this data set or the world indicators dataset from a few weeks ago."
   ]
  }
 ],
 "metadata": {
  "kernelspec": {
   "display_name": "Python 3",
   "language": "python",
   "name": "python3"
  },
  "language_info": {
   "codemirror_mode": {
    "name": "ipython",
    "version": 3
   },
   "file_extension": ".py",
   "mimetype": "text/x-python",
   "name": "python",
   "nbconvert_exporter": "python",
   "pygments_lexer": "ipython3",
   "version": "3.11.4"
  }
 },
 "nbformat": 4,
 "nbformat_minor": 4
}
