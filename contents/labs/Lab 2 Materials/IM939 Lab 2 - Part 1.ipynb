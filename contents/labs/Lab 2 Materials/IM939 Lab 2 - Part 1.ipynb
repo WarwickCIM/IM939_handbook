{
 "cells": [
  {
   "cell_type": "markdown",
   "metadata": {},
   "source": [
    "# IM939 Lab 2 - Part 1\n",
    "\n",
    "Last session we loaded data using [Pandas](https://pandas.pydata.org/). Here we explore how to use Pandas to read in, process and explore data.\n",
    "\n",
    "As before we load pandas and use the read_csv method."
   ]
  },
  {
   "cell_type": "code",
   "execution_count": 43,
   "metadata": {},
   "outputs": [],
   "source": [
    "import pandas as pd\n",
    "\n",
    "df = pd.read_csv('office_ratings.csv', encoding='UTF-8')"
   ]
  },
  {
   "cell_type": "code",
   "execution_count": 45,
   "metadata": {},
   "outputs": [
    {
     "name": "stdout",
     "output_type": "stream",
     "text": [
      "<class 'pandas.core.frame.DataFrame'>\n",
      "RangeIndex: 188 entries, 0 to 187\n",
      "Data columns (total 6 columns):\n",
      " #   Column       Non-Null Count  Dtype  \n",
      "---  ------       --------------  -----  \n",
      " 0   season       188 non-null    int64  \n",
      " 1   episode      188 non-null    int64  \n",
      " 2   title        188 non-null    object \n",
      " 3   imdb_rating  188 non-null    float64\n",
      " 4   total_votes  188 non-null    int64  \n",
      " 5   air_date     188 non-null    object \n",
      "dtypes: float64(1), int64(3), object(2)\n",
      "memory usage: 8.9+ KB\n"
     ]
    }
   ],
   "source": [
    "df.info()"
   ]
  },
  {
   "cell_type": "markdown",
   "metadata": {},
   "source": [
    "## Help!\n",
    "\n",
    "Python has inbuilt documentation. To access this add a ? before an object or method.\n",
    "\n",
    "For example, our dataframe"
   ]
  },
  {
   "cell_type": "code",
   "execution_count": 47,
   "metadata": {
    "jupyter": {
     "outputs_hidden": true
    }
   },
   "outputs": [],
   "source": [
    "?df.info"
   ]
  },
  {
   "cell_type": "markdown",
   "metadata": {},
   "source": [
    "The dtypes property (properties of obejct are values associated with the object and are not called with a () at the end)."
   ]
  },
  {
   "cell_type": "code",
   "execution_count": 48,
   "metadata": {
    "jupyter": {
     "outputs_hidden": true
    }
   },
   "outputs": [],
   "source": [
    "?df.dtypes"
   ]
  },
  {
   "cell_type": "markdown",
   "metadata": {},
   "source": [
    "The info method for dataframes."
   ]
  },
  {
   "cell_type": "code",
   "execution_count": 49,
   "metadata": {
    "jupyter": {
     "outputs_hidden": true
    }
   },
   "outputs": [],
   "source": [
    "?df.info"
   ]
  },
  {
   "cell_type": "markdown",
   "metadata": {},
   "source": [
    "The below is quite long. But goes give you the various arguments (options) you can use with the method."
   ]
  },
  {
   "cell_type": "code",
   "execution_count": 50,
   "metadata": {
    "jupyter": {
     "outputs_hidden": true
    }
   },
   "outputs": [],
   "source": [
    "?pd.read_csv"
   ]
  },
  {
   "cell_type": "markdown",
   "metadata": {},
   "source": [
    "The Pandas documentation is rather good. Relevent to our below work is:\n",
    "\n",
    "* [What kind of data does pandas handle?](https://pandas.pydata.org/pandas-docs/stable/getting_started/intro_tutorials/01_table_oriented.html#min-tut-01-tableoriented)\n",
    "* [How to calculate summary statistics?](https://pandas.pydata.org/pandas-docs/stable/getting_started/intro_tutorials/01_table_oriented.html#min-tut-01-tableoriented)\n",
    "* [How to create plots in pandas?](https://pandas.pydata.org/pandas-docs/stable/getting_started/intro_tutorials/04_plotting.html#min-tut-04-plotting)\n",
    "* [How to handle time series data with ease?](https://pandas.pydata.org/pandas-docs/stable/getting_started/intro_tutorials/09_timeseries.html#min-tut-09-timeseries)\n",
    "\n",
    "I also found [a rather nice series of lessons a kind person put together](https://bitbucket.org/hrojas/learn-pandas/src/master/). There are lots of online tutorials which will help you."
   ]
  },
  {
   "cell_type": "markdown",
   "metadata": {},
   "source": [
    "## Structure"
   ]
  },
  {
   "cell_type": "markdown",
   "metadata": {},
   "source": [
    "How do we find out the structure of our data?\n",
    "\n",
    "Well, the variable df is now a pandas DataFrame object."
   ]
  },
  {
   "cell_type": "code",
   "execution_count": 60,
   "metadata": {},
   "outputs": [
    {
     "data": {
      "text/plain": [
       "pandas.core.frame.DataFrame"
      ]
     },
     "execution_count": 60,
     "metadata": {},
     "output_type": "execute_result"
    }
   ],
   "source": [
    "type(df)"
   ]
  },
  {
   "cell_type": "markdown",
   "metadata": {},
   "source": [
    "The DataFrame object has lots of built in methods and attributes.\n",
    "\n",
    "The info method gives us information about datatypes, dimensions and the presence of null values in our dataframe."
   ]
  },
  {
   "cell_type": "code",
   "execution_count": 39,
   "metadata": {},
   "outputs": [
    {
     "name": "stdout",
     "output_type": "stream",
     "text": [
      "<class 'pandas.core.frame.DataFrame'>\n",
      "RangeIndex: 188 entries, 0 to 187\n",
      "Data columns (total 6 columns):\n",
      " #   Column       Non-Null Count  Dtype  \n",
      "---  ------       --------------  -----  \n",
      " 0   season       188 non-null    int64  \n",
      " 1   episode      188 non-null    int64  \n",
      " 2   title        188 non-null    object \n",
      " 3   imdb_rating  188 non-null    float64\n",
      " 4   total_votes  188 non-null    int64  \n",
      " 5   air_date     188 non-null    object \n",
      "dtypes: float64(1), int64(3), object(2)\n",
      "memory usage: 8.9+ KB\n"
     ]
    }
   ],
   "source": [
    "df.info()"
   ]
  },
  {
   "cell_type": "markdown",
   "metadata": {},
   "source": [
    "We can just look at the datatypes if we want."
   ]
  },
  {
   "cell_type": "code",
   "execution_count": 40,
   "metadata": {},
   "outputs": [
    {
     "data": {
      "text/plain": [
       "season           int64\n",
       "episode          int64\n",
       "title           object\n",
       "imdb_rating    float64\n",
       "total_votes      int64\n",
       "air_date        object\n",
       "dtype: object"
      ]
     },
     "execution_count": 40,
     "metadata": {},
     "output_type": "execute_result"
    }
   ],
   "source": [
    "df.dtypes"
   ]
  },
  {
   "cell_type": "markdown",
   "metadata": {},
   "source": [
    "Or just the dimensions."
   ]
  },
  {
   "cell_type": "code",
   "execution_count": 51,
   "metadata": {},
   "outputs": [
    {
     "data": {
      "text/plain": [
       "(188, 6)"
      ]
     },
     "execution_count": 51,
     "metadata": {},
     "output_type": "execute_result"
    }
   ],
   "source": [
    "df.shape"
   ]
  },
  {
   "cell_type": "markdown",
   "metadata": {},
   "source": [
    "In this case, there are only 188 rows. But for larger datasets we might want to look at the head (top 5) and tail (bottom 5) rows."
   ]
  },
  {
   "cell_type": "code",
   "execution_count": 52,
   "metadata": {},
   "outputs": [
    {
     "data": {
      "text/html": [
       "<div>\n",
       "<style scoped>\n",
       "    .dataframe tbody tr th:only-of-type {\n",
       "        vertical-align: middle;\n",
       "    }\n",
       "\n",
       "    .dataframe tbody tr th {\n",
       "        vertical-align: top;\n",
       "    }\n",
       "\n",
       "    .dataframe thead th {\n",
       "        text-align: right;\n",
       "    }\n",
       "</style>\n",
       "<table border=\"1\" class=\"dataframe\">\n",
       "  <thead>\n",
       "    <tr style=\"text-align: right;\">\n",
       "      <th></th>\n",
       "      <th>season</th>\n",
       "      <th>episode</th>\n",
       "      <th>title</th>\n",
       "      <th>imdb_rating</th>\n",
       "      <th>total_votes</th>\n",
       "      <th>air_date</th>\n",
       "    </tr>\n",
       "  </thead>\n",
       "  <tbody>\n",
       "    <tr>\n",
       "      <th>0</th>\n",
       "      <td>1</td>\n",
       "      <td>1</td>\n",
       "      <td>Pilot</td>\n",
       "      <td>7.6</td>\n",
       "      <td>3706</td>\n",
       "      <td>2005-03-24</td>\n",
       "    </tr>\n",
       "    <tr>\n",
       "      <th>1</th>\n",
       "      <td>1</td>\n",
       "      <td>2</td>\n",
       "      <td>Diversity Day</td>\n",
       "      <td>8.3</td>\n",
       "      <td>3566</td>\n",
       "      <td>2005-03-29</td>\n",
       "    </tr>\n",
       "    <tr>\n",
       "      <th>2</th>\n",
       "      <td>1</td>\n",
       "      <td>3</td>\n",
       "      <td>Health Care</td>\n",
       "      <td>7.9</td>\n",
       "      <td>2983</td>\n",
       "      <td>2005-04-05</td>\n",
       "    </tr>\n",
       "    <tr>\n",
       "      <th>3</th>\n",
       "      <td>1</td>\n",
       "      <td>4</td>\n",
       "      <td>The Alliance</td>\n",
       "      <td>8.1</td>\n",
       "      <td>2886</td>\n",
       "      <td>2005-04-12</td>\n",
       "    </tr>\n",
       "    <tr>\n",
       "      <th>4</th>\n",
       "      <td>1</td>\n",
       "      <td>5</td>\n",
       "      <td>Basketball</td>\n",
       "      <td>8.4</td>\n",
       "      <td>3179</td>\n",
       "      <td>2005-04-19</td>\n",
       "    </tr>\n",
       "  </tbody>\n",
       "</table>\n",
       "</div>"
      ],
      "text/plain": [
       "   season  episode          title  imdb_rating  total_votes    air_date\n",
       "0       1        1          Pilot          7.6         3706  2005-03-24\n",
       "1       1        2  Diversity Day          8.3         3566  2005-03-29\n",
       "2       1        3    Health Care          7.9         2983  2005-04-05\n",
       "3       1        4   The Alliance          8.1         2886  2005-04-12\n",
       "4       1        5     Basketball          8.4         3179  2005-04-19"
      ]
     },
     "execution_count": 52,
     "metadata": {},
     "output_type": "execute_result"
    }
   ],
   "source": [
    "df.head()"
   ]
  },
  {
   "cell_type": "code",
   "execution_count": 53,
   "metadata": {},
   "outputs": [
    {
     "data": {
      "text/html": [
       "<div>\n",
       "<style scoped>\n",
       "    .dataframe tbody tr th:only-of-type {\n",
       "        vertical-align: middle;\n",
       "    }\n",
       "\n",
       "    .dataframe tbody tr th {\n",
       "        vertical-align: top;\n",
       "    }\n",
       "\n",
       "    .dataframe thead th {\n",
       "        text-align: right;\n",
       "    }\n",
       "</style>\n",
       "<table border=\"1\" class=\"dataframe\">\n",
       "  <thead>\n",
       "    <tr style=\"text-align: right;\">\n",
       "      <th></th>\n",
       "      <th>season</th>\n",
       "      <th>episode</th>\n",
       "      <th>title</th>\n",
       "      <th>imdb_rating</th>\n",
       "      <th>total_votes</th>\n",
       "      <th>air_date</th>\n",
       "    </tr>\n",
       "  </thead>\n",
       "  <tbody>\n",
       "    <tr>\n",
       "      <th>183</th>\n",
       "      <td>9</td>\n",
       "      <td>19</td>\n",
       "      <td>Stairmageddon</td>\n",
       "      <td>8.0</td>\n",
       "      <td>1484</td>\n",
       "      <td>2013-04-11</td>\n",
       "    </tr>\n",
       "    <tr>\n",
       "      <th>184</th>\n",
       "      <td>9</td>\n",
       "      <td>20</td>\n",
       "      <td>Paper Airplane</td>\n",
       "      <td>8.0</td>\n",
       "      <td>1482</td>\n",
       "      <td>2013-04-25</td>\n",
       "    </tr>\n",
       "    <tr>\n",
       "      <th>185</th>\n",
       "      <td>9</td>\n",
       "      <td>21</td>\n",
       "      <td>Livin' the Dream</td>\n",
       "      <td>8.9</td>\n",
       "      <td>2041</td>\n",
       "      <td>2013-05-02</td>\n",
       "    </tr>\n",
       "    <tr>\n",
       "      <th>186</th>\n",
       "      <td>9</td>\n",
       "      <td>22</td>\n",
       "      <td>A.A.R.M.</td>\n",
       "      <td>9.3</td>\n",
       "      <td>2860</td>\n",
       "      <td>2013-05-09</td>\n",
       "    </tr>\n",
       "    <tr>\n",
       "      <th>187</th>\n",
       "      <td>9</td>\n",
       "      <td>23</td>\n",
       "      <td>Finale</td>\n",
       "      <td>9.7</td>\n",
       "      <td>7934</td>\n",
       "      <td>2013-05-16</td>\n",
       "    </tr>\n",
       "  </tbody>\n",
       "</table>\n",
       "</div>"
      ],
      "text/plain": [
       "     season  episode             title  imdb_rating  total_votes    air_date\n",
       "183       9       19     Stairmageddon          8.0         1484  2013-04-11\n",
       "184       9       20    Paper Airplane          8.0         1482  2013-04-25\n",
       "185       9       21  Livin' the Dream          8.9         2041  2013-05-02\n",
       "186       9       22          A.A.R.M.          9.3         2860  2013-05-09\n",
       "187       9       23            Finale          9.7         7934  2013-05-16"
      ]
     },
     "execution_count": 53,
     "metadata": {},
     "output_type": "execute_result"
    }
   ],
   "source": [
    " df.tail()"
   ]
  },
  {
   "cell_type": "markdown",
   "metadata": {},
   "source": [
    "We may need to put together a dataset.\n",
    "\n",
    "Consider the two dataframe below"
   ]
  },
  {
   "cell_type": "code",
   "execution_count": 54,
   "metadata": {},
   "outputs": [],
   "source": [
    "df_1 = pd.read_csv('office1.csv', encoding='UTF-8')\n",
    "df_2 = pd.read_csv('office2.csv', encoding='UTF-8')"
   ]
  },
  {
   "cell_type": "code",
   "execution_count": 55,
   "metadata": {},
   "outputs": [
    {
     "data": {
      "text/html": [
       "<div>\n",
       "<style scoped>\n",
       "    .dataframe tbody tr th:only-of-type {\n",
       "        vertical-align: middle;\n",
       "    }\n",
       "\n",
       "    .dataframe tbody tr th {\n",
       "        vertical-align: top;\n",
       "    }\n",
       "\n",
       "    .dataframe thead th {\n",
       "        text-align: right;\n",
       "    }\n",
       "</style>\n",
       "<table border=\"1\" class=\"dataframe\">\n",
       "  <thead>\n",
       "    <tr style=\"text-align: right;\">\n",
       "      <th></th>\n",
       "      <th>id</th>\n",
       "      <th>season</th>\n",
       "      <th>episode</th>\n",
       "      <th>imdb_rating</th>\n",
       "    </tr>\n",
       "  </thead>\n",
       "  <tbody>\n",
       "    <tr>\n",
       "      <th>0</th>\n",
       "      <td>5-1</td>\n",
       "      <td>5</td>\n",
       "      <td>1</td>\n",
       "      <td>8.8</td>\n",
       "    </tr>\n",
       "    <tr>\n",
       "      <th>1</th>\n",
       "      <td>9-13</td>\n",
       "      <td>9</td>\n",
       "      <td>13</td>\n",
       "      <td>7.7</td>\n",
       "    </tr>\n",
       "    <tr>\n",
       "      <th>2</th>\n",
       "      <td>5-6</td>\n",
       "      <td>5</td>\n",
       "      <td>6</td>\n",
       "      <td>8.5</td>\n",
       "    </tr>\n",
       "    <tr>\n",
       "      <th>3</th>\n",
       "      <td>3-23</td>\n",
       "      <td>3</td>\n",
       "      <td>23</td>\n",
       "      <td>9.3</td>\n",
       "    </tr>\n",
       "    <tr>\n",
       "      <th>4</th>\n",
       "      <td>9-16</td>\n",
       "      <td>9</td>\n",
       "      <td>16</td>\n",
       "      <td>8.2</td>\n",
       "    </tr>\n",
       "  </tbody>\n",
       "</table>\n",
       "</div>"
      ],
      "text/plain": [
       "     id  season  episode  imdb_rating\n",
       "0   5-1       5        1          8.8\n",
       "1  9-13       9       13          7.7\n",
       "2   5-6       5        6          8.5\n",
       "3  3-23       3       23          9.3\n",
       "4  9-16       9       16          8.2"
      ]
     },
     "execution_count": 55,
     "metadata": {},
     "output_type": "execute_result"
    }
   ],
   "source": [
    "df_1.head()"
   ]
  },
  {
   "cell_type": "code",
   "execution_count": 56,
   "metadata": {},
   "outputs": [
    {
     "data": {
      "text/html": [
       "<div>\n",
       "<style scoped>\n",
       "    .dataframe tbody tr th:only-of-type {\n",
       "        vertical-align: middle;\n",
       "    }\n",
       "\n",
       "    .dataframe tbody tr th {\n",
       "        vertical-align: top;\n",
       "    }\n",
       "\n",
       "    .dataframe thead th {\n",
       "        text-align: right;\n",
       "    }\n",
       "</style>\n",
       "<table border=\"1\" class=\"dataframe\">\n",
       "  <thead>\n",
       "    <tr style=\"text-align: right;\">\n",
       "      <th></th>\n",
       "      <th>id</th>\n",
       "      <th>total_votes</th>\n",
       "    </tr>\n",
       "  </thead>\n",
       "  <tbody>\n",
       "    <tr>\n",
       "      <th>0</th>\n",
       "      <td>4-10</td>\n",
       "      <td>2095</td>\n",
       "    </tr>\n",
       "    <tr>\n",
       "      <th>1</th>\n",
       "      <td>3-21</td>\n",
       "      <td>2403</td>\n",
       "    </tr>\n",
       "    <tr>\n",
       "      <th>2</th>\n",
       "      <td>7-24</td>\n",
       "      <td>2040</td>\n",
       "    </tr>\n",
       "    <tr>\n",
       "      <th>3</th>\n",
       "      <td>6-18</td>\n",
       "      <td>1769</td>\n",
       "    </tr>\n",
       "    <tr>\n",
       "      <th>4</th>\n",
       "      <td>8-8</td>\n",
       "      <td>1584</td>\n",
       "    </tr>\n",
       "  </tbody>\n",
       "</table>\n",
       "</div>"
      ],
      "text/plain": [
       "     id  total_votes\n",
       "0  4-10         2095\n",
       "1  3-21         2403\n",
       "2  7-24         2040\n",
       "3  6-18         1769\n",
       "4   8-8         1584"
      ]
     },
     "execution_count": 56,
     "metadata": {},
     "output_type": "execute_result"
    }
   ],
   "source": [
    "df_2.head()"
   ]
  },
  {
   "cell_type": "markdown",
   "metadata": {},
   "source": [
    "The total votes and imdb ratings data are split between files. There is a common column called id. We can join the two dataframes together using the common column."
   ]
  },
  {
   "cell_type": "code",
   "execution_count": 57,
   "metadata": {},
   "outputs": [
    {
     "data": {
      "text/html": [
       "<div>\n",
       "<style scoped>\n",
       "    .dataframe tbody tr th:only-of-type {\n",
       "        vertical-align: middle;\n",
       "    }\n",
       "\n",
       "    .dataframe tbody tr th {\n",
       "        vertical-align: top;\n",
       "    }\n",
       "\n",
       "    .dataframe thead th {\n",
       "        text-align: right;\n",
       "    }\n",
       "</style>\n",
       "<table border=\"1\" class=\"dataframe\">\n",
       "  <thead>\n",
       "    <tr style=\"text-align: right;\">\n",
       "      <th></th>\n",
       "      <th>id</th>\n",
       "      <th>season</th>\n",
       "      <th>episode</th>\n",
       "      <th>imdb_rating</th>\n",
       "      <th>total_votes</th>\n",
       "    </tr>\n",
       "  </thead>\n",
       "  <tbody>\n",
       "    <tr>\n",
       "      <th>0</th>\n",
       "      <td>5-1</td>\n",
       "      <td>5</td>\n",
       "      <td>1</td>\n",
       "      <td>8.8</td>\n",
       "      <td>2501</td>\n",
       "    </tr>\n",
       "    <tr>\n",
       "      <th>1</th>\n",
       "      <td>9-13</td>\n",
       "      <td>9</td>\n",
       "      <td>13</td>\n",
       "      <td>7.7</td>\n",
       "      <td>1394</td>\n",
       "    </tr>\n",
       "    <tr>\n",
       "      <th>2</th>\n",
       "      <td>5-6</td>\n",
       "      <td>5</td>\n",
       "      <td>6</td>\n",
       "      <td>8.5</td>\n",
       "      <td>2018</td>\n",
       "    </tr>\n",
       "    <tr>\n",
       "      <th>3</th>\n",
       "      <td>3-23</td>\n",
       "      <td>3</td>\n",
       "      <td>23</td>\n",
       "      <td>9.3</td>\n",
       "      <td>3010</td>\n",
       "    </tr>\n",
       "    <tr>\n",
       "      <th>4</th>\n",
       "      <td>9-16</td>\n",
       "      <td>9</td>\n",
       "      <td>16</td>\n",
       "      <td>8.2</td>\n",
       "      <td>1572</td>\n",
       "    </tr>\n",
       "    <tr>\n",
       "      <th>...</th>\n",
       "      <td>...</td>\n",
       "      <td>...</td>\n",
       "      <td>...</td>\n",
       "      <td>...</td>\n",
       "      <td>...</td>\n",
       "    </tr>\n",
       "    <tr>\n",
       "      <th>183</th>\n",
       "      <td>5-21</td>\n",
       "      <td>5</td>\n",
       "      <td>21</td>\n",
       "      <td>8.7</td>\n",
       "      <td>2032</td>\n",
       "    </tr>\n",
       "    <tr>\n",
       "      <th>184</th>\n",
       "      <td>2-13</td>\n",
       "      <td>2</td>\n",
       "      <td>13</td>\n",
       "      <td>8.3</td>\n",
       "      <td>2363</td>\n",
       "    </tr>\n",
       "    <tr>\n",
       "      <th>185</th>\n",
       "      <td>9-6</td>\n",
       "      <td>9</td>\n",
       "      <td>6</td>\n",
       "      <td>7.8</td>\n",
       "      <td>1455</td>\n",
       "    </tr>\n",
       "    <tr>\n",
       "      <th>186</th>\n",
       "      <td>2-2</td>\n",
       "      <td>2</td>\n",
       "      <td>2</td>\n",
       "      <td>8.2</td>\n",
       "      <td>2736</td>\n",
       "    </tr>\n",
       "    <tr>\n",
       "      <th>187</th>\n",
       "      <td>3-4</td>\n",
       "      <td>3</td>\n",
       "      <td>4</td>\n",
       "      <td>8.0</td>\n",
       "      <td>2311</td>\n",
       "    </tr>\n",
       "  </tbody>\n",
       "</table>\n",
       "<p>188 rows × 5 columns</p>\n",
       "</div>"
      ],
      "text/plain": [
       "       id  season  episode  imdb_rating  total_votes\n",
       "0     5-1       5        1          8.8         2501\n",
       "1    9-13       9       13          7.7         1394\n",
       "2     5-6       5        6          8.5         2018\n",
       "3    3-23       3       23          9.3         3010\n",
       "4    9-16       9       16          8.2         1572\n",
       "..    ...     ...      ...          ...          ...\n",
       "183  5-21       5       21          8.7         2032\n",
       "184  2-13       2       13          8.3         2363\n",
       "185   9-6       9        6          7.8         1455\n",
       "186   2-2       2        2          8.2         2736\n",
       "187   3-4       3        4          8.0         2311\n",
       "\n",
       "[188 rows x 5 columns]"
      ]
     },
     "execution_count": 57,
     "metadata": {},
     "output_type": "execute_result"
    }
   ],
   "source": [
    "inner_join_office_df = pd.merge(df_1, df_2, on='id', how='inner')\n",
    "inner_join_office_df"
   ]
  },
  {
   "cell_type": "markdown",
   "metadata": {},
   "source": [
    "In this way you can combine datasets using common columns. We will leave that for the moment. If you want more information about merging data then see [this page](https://www.datasciencemadesimple.com/join-merge-data-frames-pandas-python/#:~:text=Merge%20%28%29%20Function%20in%20pandas%20is%20similar%20to,rows%20from%20both%20data%20frames%2C%20specify%20how%3D%20%E2%80%98outer%E2%80%99.) and the [pandas documentation](https://pandas.pydata.org/pandas-docs/stable/reference/api/pandas.DataFrame.merge.html)."
   ]
  },
  {
   "cell_type": "markdown",
   "metadata": {},
   "source": [
    "## Summary\n",
    "\n",
    "To get an overview of our data we can ask Python to 'describe our data'"
   ]
  },
  {
   "cell_type": "code",
   "execution_count": 61,
   "metadata": {},
   "outputs": [
    {
     "data": {
      "text/html": [
       "<div>\n",
       "<style scoped>\n",
       "    .dataframe tbody tr th:only-of-type {\n",
       "        vertical-align: middle;\n",
       "    }\n",
       "\n",
       "    .dataframe tbody tr th {\n",
       "        vertical-align: top;\n",
       "    }\n",
       "\n",
       "    .dataframe thead th {\n",
       "        text-align: right;\n",
       "    }\n",
       "</style>\n",
       "<table border=\"1\" class=\"dataframe\">\n",
       "  <thead>\n",
       "    <tr style=\"text-align: right;\">\n",
       "      <th></th>\n",
       "      <th>season</th>\n",
       "      <th>episode</th>\n",
       "      <th>imdb_rating</th>\n",
       "      <th>total_votes</th>\n",
       "    </tr>\n",
       "  </thead>\n",
       "  <tbody>\n",
       "    <tr>\n",
       "      <th>count</th>\n",
       "      <td>188.000000</td>\n",
       "      <td>188.000000</td>\n",
       "      <td>188.000000</td>\n",
       "      <td>188.000000</td>\n",
       "    </tr>\n",
       "    <tr>\n",
       "      <th>mean</th>\n",
       "      <td>5.468085</td>\n",
       "      <td>11.877660</td>\n",
       "      <td>8.257447</td>\n",
       "      <td>2126.648936</td>\n",
       "    </tr>\n",
       "    <tr>\n",
       "      <th>std</th>\n",
       "      <td>2.386245</td>\n",
       "      <td>7.024855</td>\n",
       "      <td>0.538067</td>\n",
       "      <td>787.098275</td>\n",
       "    </tr>\n",
       "    <tr>\n",
       "      <th>min</th>\n",
       "      <td>1.000000</td>\n",
       "      <td>1.000000</td>\n",
       "      <td>6.700000</td>\n",
       "      <td>1393.000000</td>\n",
       "    </tr>\n",
       "    <tr>\n",
       "      <th>25%</th>\n",
       "      <td>3.000000</td>\n",
       "      <td>6.000000</td>\n",
       "      <td>7.900000</td>\n",
       "      <td>1631.500000</td>\n",
       "    </tr>\n",
       "    <tr>\n",
       "      <th>50%</th>\n",
       "      <td>6.000000</td>\n",
       "      <td>11.500000</td>\n",
       "      <td>8.200000</td>\n",
       "      <td>1952.500000</td>\n",
       "    </tr>\n",
       "    <tr>\n",
       "      <th>75%</th>\n",
       "      <td>7.250000</td>\n",
       "      <td>18.000000</td>\n",
       "      <td>8.600000</td>\n",
       "      <td>2379.000000</td>\n",
       "    </tr>\n",
       "    <tr>\n",
       "      <th>max</th>\n",
       "      <td>9.000000</td>\n",
       "      <td>26.000000</td>\n",
       "      <td>9.700000</td>\n",
       "      <td>7934.000000</td>\n",
       "    </tr>\n",
       "  </tbody>\n",
       "</table>\n",
       "</div>"
      ],
      "text/plain": [
       "           season     episode  imdb_rating  total_votes\n",
       "count  188.000000  188.000000   188.000000   188.000000\n",
       "mean     5.468085   11.877660     8.257447  2126.648936\n",
       "std      2.386245    7.024855     0.538067   787.098275\n",
       "min      1.000000    1.000000     6.700000  1393.000000\n",
       "25%      3.000000    6.000000     7.900000  1631.500000\n",
       "50%      6.000000   11.500000     8.200000  1952.500000\n",
       "75%      7.250000   18.000000     8.600000  2379.000000\n",
       "max      9.000000   26.000000     9.700000  7934.000000"
      ]
     },
     "execution_count": 61,
     "metadata": {},
     "output_type": "execute_result"
    }
   ],
   "source": [
    "df.describe()"
   ]
  },
  {
   "cell_type": "markdown",
   "metadata": {},
   "source": [
    "or we can pull out specific statistics."
   ]
  },
  {
   "cell_type": "code",
   "execution_count": 62,
   "metadata": {},
   "outputs": [
    {
     "data": {
      "text/plain": [
       "season            5.468085\n",
       "episode          11.877660\n",
       "imdb_rating       8.257447\n",
       "total_votes    2126.648936\n",
       "dtype: float64"
      ]
     },
     "execution_count": 62,
     "metadata": {},
     "output_type": "execute_result"
    }
   ],
   "source": [
    "df.mean()"
   ]
  },
  {
   "cell_type": "markdown",
   "metadata": {},
   "source": [
    "or the sum."
   ]
  },
  {
   "cell_type": "code",
   "execution_count": 50,
   "metadata": {},
   "outputs": [
    {
     "data": {
      "text/plain": [
       "season                                                      1028\n",
       "episode                                                     2233\n",
       "title          PilotDiversity DayHealth CareThe AllianceBaske...\n",
       "imdb_rating                                               1552.4\n",
       "total_votes                                               399810\n",
       "air_date       2005-03-242005-03-292005-04-052005-04-122005-0...\n",
       "dtype: object"
      ]
     },
     "execution_count": 50,
     "metadata": {},
     "output_type": "execute_result"
    }
   ],
   "source": [
    "df.sum()"
   ]
  },
  {
   "cell_type": "markdown",
   "metadata": {},
   "source": [
    "Calculating these statistics for specific columns is straight forward."
   ]
  },
  {
   "cell_type": "code",
   "execution_count": 63,
   "metadata": {},
   "outputs": [
    {
     "data": {
      "text/plain": [
       "8.257446808510643"
      ]
     },
     "execution_count": 63,
     "metadata": {},
     "output_type": "execute_result"
    }
   ],
   "source": [
    "df['imdb_rating'].mean()"
   ]
  },
  {
   "cell_type": "code",
   "execution_count": 52,
   "metadata": {},
   "outputs": [
    {
     "data": {
      "text/plain": [
       "399810"
      ]
     },
     "execution_count": 52,
     "metadata": {},
     "output_type": "execute_result"
    }
   ],
   "source": [
    "df['total_votes'].sum()"
   ]
  },
  {
   "cell_type": "markdown",
   "metadata": {},
   "source": [
    "## Selecting subsets\n",
    "\n",
    "We can even select more than one column!"
   ]
  },
  {
   "cell_type": "code",
   "execution_count": 68,
   "metadata": {},
   "outputs": [
    {
     "data": {
      "text/plain": [
       "imdb_rating       8.257447\n",
       "total_votes    2126.648936\n",
       "dtype: float64"
      ]
     },
     "execution_count": 68,
     "metadata": {},
     "output_type": "execute_result"
    }
   ],
   "source": [
    "df[['imdb_rating', 'total_votes']].mean()"
   ]
  },
  {
   "cell_type": "markdown",
   "metadata": {},
   "source": [
    "Two sets of squared brackets is needed because you are passing a list of the column names to the getitem dunder method of the pandas dataframe object (thank [this stackoverflow question](https://stackoverflow.com/questions/11285613/selecting-multiple-columns-in-a-pandas-dataframe)). You can also check out the pandas documentation on [indexing and selecting data](https://pandas.pydata.org/pandas-docs/stable/user_guide/indexing.html#basics).\n",
    "\n",
    "You can also select by row and column name using the iloc method. You can specify the [row, column]. So to choose the value in the 2nd row and 4th column."
   ]
  },
  {
   "cell_type": "code",
   "execution_count": 69,
   "metadata": {},
   "outputs": [
    {
     "data": {
      "text/plain": [
       "2983"
      ]
     },
     "execution_count": 69,
     "metadata": {},
     "output_type": "execute_result"
    }
   ],
   "source": [
    "df.iloc[2,4]"
   ]
  },
  {
   "cell_type": "markdown",
   "metadata": {},
   "source": [
    "All the rows or all the columns are indicated by :. Such as,"
   ]
  },
  {
   "cell_type": "code",
   "execution_count": 70,
   "metadata": {},
   "outputs": [
    {
     "data": {
      "text/plain": [
       "0                 Pilot\n",
       "1         Diversity Day\n",
       "2           Health Care\n",
       "3          The Alliance\n",
       "4            Basketball\n",
       "             ...       \n",
       "183       Stairmageddon\n",
       "184      Paper Airplane\n",
       "185    Livin' the Dream\n",
       "186            A.A.R.M.\n",
       "187              Finale\n",
       "Name: title, Length: 188, dtype: object"
      ]
     },
     "execution_count": 70,
     "metadata": {},
     "output_type": "execute_result"
    }
   ],
   "source": [
    "df.iloc[:,2]"
   ]
  },
  {
   "cell_type": "code",
   "execution_count": 71,
   "metadata": {
    "scrolled": true
   },
   "outputs": [
    {
     "data": {
      "text/plain": [
       "season                   1\n",
       "episode                  3\n",
       "title          Health Care\n",
       "imdb_rating            7.9\n",
       "total_votes           2983\n",
       "air_date        2005-04-05\n",
       "Name: 2, dtype: object"
      ]
     },
     "execution_count": 71,
     "metadata": {},
     "output_type": "execute_result"
    }
   ],
   "source": [
    "df.iloc[2,:]"
   ]
  },
  {
   "cell_type": "markdown",
   "metadata": {},
   "source": [
    "We can use negative values in indexes to indicate 'from the end'. So, an index of [-10, :] returns the 10th from last row."
   ]
  },
  {
   "cell_type": "code",
   "execution_count": 72,
   "metadata": {},
   "outputs": [
    {
     "data": {
      "text/plain": [
       "season                  9\n",
       "episode                14\n",
       "title           Vandalism\n",
       "imdb_rating           7.6\n",
       "total_votes          1402\n",
       "air_date       2013-01-31\n",
       "Name: 178, dtype: object"
      ]
     },
     "execution_count": 72,
     "metadata": {},
     "output_type": "execute_result"
    }
   ],
   "source": [
    "df.iloc[-10,:]"
   ]
  },
  {
   "cell_type": "markdown",
   "metadata": {},
   "source": [
    "Instead of using tail, we could ask for the last 10 rows with an index of [-10:, :]. I read : as 'and everything else' in these cases."
   ]
  },
  {
   "cell_type": "code",
   "execution_count": 74,
   "metadata": {},
   "outputs": [
    {
     "data": {
      "text/html": [
       "<div>\n",
       "<style scoped>\n",
       "    .dataframe tbody tr th:only-of-type {\n",
       "        vertical-align: middle;\n",
       "    }\n",
       "\n",
       "    .dataframe tbody tr th {\n",
       "        vertical-align: top;\n",
       "    }\n",
       "\n",
       "    .dataframe thead th {\n",
       "        text-align: right;\n",
       "    }\n",
       "</style>\n",
       "<table border=\"1\" class=\"dataframe\">\n",
       "  <thead>\n",
       "    <tr style=\"text-align: right;\">\n",
       "      <th></th>\n",
       "      <th>season</th>\n",
       "      <th>episode</th>\n",
       "      <th>title</th>\n",
       "      <th>imdb_rating</th>\n",
       "      <th>total_votes</th>\n",
       "      <th>air_date</th>\n",
       "    </tr>\n",
       "  </thead>\n",
       "  <tbody>\n",
       "    <tr>\n",
       "      <th>183</th>\n",
       "      <td>9</td>\n",
       "      <td>19</td>\n",
       "      <td>Stairmageddon</td>\n",
       "      <td>8.0</td>\n",
       "      <td>1484</td>\n",
       "      <td>2013-04-11</td>\n",
       "    </tr>\n",
       "    <tr>\n",
       "      <th>184</th>\n",
       "      <td>9</td>\n",
       "      <td>20</td>\n",
       "      <td>Paper Airplane</td>\n",
       "      <td>8.0</td>\n",
       "      <td>1482</td>\n",
       "      <td>2013-04-25</td>\n",
       "    </tr>\n",
       "    <tr>\n",
       "      <th>185</th>\n",
       "      <td>9</td>\n",
       "      <td>21</td>\n",
       "      <td>Livin' the Dream</td>\n",
       "      <td>8.9</td>\n",
       "      <td>2041</td>\n",
       "      <td>2013-05-02</td>\n",
       "    </tr>\n",
       "    <tr>\n",
       "      <th>186</th>\n",
       "      <td>9</td>\n",
       "      <td>22</td>\n",
       "      <td>A.A.R.M.</td>\n",
       "      <td>9.3</td>\n",
       "      <td>2860</td>\n",
       "      <td>2013-05-09</td>\n",
       "    </tr>\n",
       "    <tr>\n",
       "      <th>187</th>\n",
       "      <td>9</td>\n",
       "      <td>23</td>\n",
       "      <td>Finale</td>\n",
       "      <td>9.7</td>\n",
       "      <td>7934</td>\n",
       "      <td>2013-05-16</td>\n",
       "    </tr>\n",
       "  </tbody>\n",
       "</table>\n",
       "</div>"
      ],
      "text/plain": [
       "     season  episode             title  imdb_rating  total_votes    air_date\n",
       "183       9       19     Stairmageddon          8.0         1484  2013-04-11\n",
       "184       9       20    Paper Airplane          8.0         1482  2013-04-25\n",
       "185       9       21  Livin' the Dream          8.9         2041  2013-05-02\n",
       "186       9       22          A.A.R.M.          9.3         2860  2013-05-09\n",
       "187       9       23            Finale          9.7         7934  2013-05-16"
      ]
     },
     "execution_count": 74,
     "metadata": {},
     "output_type": "execute_result"
    }
   ],
   "source": [
    "df.iloc[-5:,:]"
   ]
  },
  {
   "cell_type": "code",
   "execution_count": 75,
   "metadata": {},
   "outputs": [
    {
     "data": {
      "text/html": [
       "<div>\n",
       "<style scoped>\n",
       "    .dataframe tbody tr th:only-of-type {\n",
       "        vertical-align: middle;\n",
       "    }\n",
       "\n",
       "    .dataframe tbody tr th {\n",
       "        vertical-align: top;\n",
       "    }\n",
       "\n",
       "    .dataframe thead th {\n",
       "        text-align: right;\n",
       "    }\n",
       "</style>\n",
       "<table border=\"1\" class=\"dataframe\">\n",
       "  <thead>\n",
       "    <tr style=\"text-align: right;\">\n",
       "      <th></th>\n",
       "      <th>season</th>\n",
       "      <th>episode</th>\n",
       "      <th>title</th>\n",
       "      <th>imdb_rating</th>\n",
       "      <th>total_votes</th>\n",
       "      <th>air_date</th>\n",
       "    </tr>\n",
       "  </thead>\n",
       "  <tbody>\n",
       "    <tr>\n",
       "      <th>183</th>\n",
       "      <td>9</td>\n",
       "      <td>19</td>\n",
       "      <td>Stairmageddon</td>\n",
       "      <td>8.0</td>\n",
       "      <td>1484</td>\n",
       "      <td>2013-04-11</td>\n",
       "    </tr>\n",
       "    <tr>\n",
       "      <th>184</th>\n",
       "      <td>9</td>\n",
       "      <td>20</td>\n",
       "      <td>Paper Airplane</td>\n",
       "      <td>8.0</td>\n",
       "      <td>1482</td>\n",
       "      <td>2013-04-25</td>\n",
       "    </tr>\n",
       "    <tr>\n",
       "      <th>185</th>\n",
       "      <td>9</td>\n",
       "      <td>21</td>\n",
       "      <td>Livin' the Dream</td>\n",
       "      <td>8.9</td>\n",
       "      <td>2041</td>\n",
       "      <td>2013-05-02</td>\n",
       "    </tr>\n",
       "    <tr>\n",
       "      <th>186</th>\n",
       "      <td>9</td>\n",
       "      <td>22</td>\n",
       "      <td>A.A.R.M.</td>\n",
       "      <td>9.3</td>\n",
       "      <td>2860</td>\n",
       "      <td>2013-05-09</td>\n",
       "    </tr>\n",
       "    <tr>\n",
       "      <th>187</th>\n",
       "      <td>9</td>\n",
       "      <td>23</td>\n",
       "      <td>Finale</td>\n",
       "      <td>9.7</td>\n",
       "      <td>7934</td>\n",
       "      <td>2013-05-16</td>\n",
       "    </tr>\n",
       "  </tbody>\n",
       "</table>\n",
       "</div>"
      ],
      "text/plain": [
       "     season  episode             title  imdb_rating  total_votes    air_date\n",
       "183       9       19     Stairmageddon          8.0         1484  2013-04-11\n",
       "184       9       20    Paper Airplane          8.0         1482  2013-04-25\n",
       "185       9       21  Livin' the Dream          8.9         2041  2013-05-02\n",
       "186       9       22          A.A.R.M.          9.3         2860  2013-05-09\n",
       "187       9       23            Finale          9.7         7934  2013-05-16"
      ]
     },
     "execution_count": 75,
     "metadata": {},
     "output_type": "execute_result"
    }
   ],
   "source": [
    "df.tail()"
   ]
  },
  {
   "cell_type": "markdown",
   "metadata": {},
   "source": [
    "Note that the row is shown on the left. That will stop you getting lost in slices of the data. \n",
    "\n",
    "For the top ten rows"
   ]
  },
  {
   "cell_type": "code",
   "execution_count": 76,
   "metadata": {},
   "outputs": [
    {
     "data": {
      "text/html": [
       "<div>\n",
       "<style scoped>\n",
       "    .dataframe tbody tr th:only-of-type {\n",
       "        vertical-align: middle;\n",
       "    }\n",
       "\n",
       "    .dataframe tbody tr th {\n",
       "        vertical-align: top;\n",
       "    }\n",
       "\n",
       "    .dataframe thead th {\n",
       "        text-align: right;\n",
       "    }\n",
       "</style>\n",
       "<table border=\"1\" class=\"dataframe\">\n",
       "  <thead>\n",
       "    <tr style=\"text-align: right;\">\n",
       "      <th></th>\n",
       "      <th>season</th>\n",
       "      <th>episode</th>\n",
       "      <th>title</th>\n",
       "      <th>imdb_rating</th>\n",
       "      <th>total_votes</th>\n",
       "      <th>air_date</th>\n",
       "    </tr>\n",
       "  </thead>\n",
       "  <tbody>\n",
       "    <tr>\n",
       "      <th>0</th>\n",
       "      <td>1</td>\n",
       "      <td>1</td>\n",
       "      <td>Pilot</td>\n",
       "      <td>7.6</td>\n",
       "      <td>3706</td>\n",
       "      <td>2005-03-24</td>\n",
       "    </tr>\n",
       "    <tr>\n",
       "      <th>1</th>\n",
       "      <td>1</td>\n",
       "      <td>2</td>\n",
       "      <td>Diversity Day</td>\n",
       "      <td>8.3</td>\n",
       "      <td>3566</td>\n",
       "      <td>2005-03-29</td>\n",
       "    </tr>\n",
       "    <tr>\n",
       "      <th>2</th>\n",
       "      <td>1</td>\n",
       "      <td>3</td>\n",
       "      <td>Health Care</td>\n",
       "      <td>7.9</td>\n",
       "      <td>2983</td>\n",
       "      <td>2005-04-05</td>\n",
       "    </tr>\n",
       "    <tr>\n",
       "      <th>3</th>\n",
       "      <td>1</td>\n",
       "      <td>4</td>\n",
       "      <td>The Alliance</td>\n",
       "      <td>8.1</td>\n",
       "      <td>2886</td>\n",
       "      <td>2005-04-12</td>\n",
       "    </tr>\n",
       "    <tr>\n",
       "      <th>4</th>\n",
       "      <td>1</td>\n",
       "      <td>5</td>\n",
       "      <td>Basketball</td>\n",
       "      <td>8.4</td>\n",
       "      <td>3179</td>\n",
       "      <td>2005-04-19</td>\n",
       "    </tr>\n",
       "    <tr>\n",
       "      <th>5</th>\n",
       "      <td>1</td>\n",
       "      <td>6</td>\n",
       "      <td>Hot Girl</td>\n",
       "      <td>7.8</td>\n",
       "      <td>2852</td>\n",
       "      <td>2005-04-26</td>\n",
       "    </tr>\n",
       "    <tr>\n",
       "      <th>6</th>\n",
       "      <td>2</td>\n",
       "      <td>1</td>\n",
       "      <td>The Dundies</td>\n",
       "      <td>8.7</td>\n",
       "      <td>3213</td>\n",
       "      <td>2005-09-20</td>\n",
       "    </tr>\n",
       "    <tr>\n",
       "      <th>7</th>\n",
       "      <td>2</td>\n",
       "      <td>2</td>\n",
       "      <td>Sexual Harassment</td>\n",
       "      <td>8.2</td>\n",
       "      <td>2736</td>\n",
       "      <td>2005-09-27</td>\n",
       "    </tr>\n",
       "    <tr>\n",
       "      <th>8</th>\n",
       "      <td>2</td>\n",
       "      <td>3</td>\n",
       "      <td>Office Olympics</td>\n",
       "      <td>8.4</td>\n",
       "      <td>2742</td>\n",
       "      <td>2005-10-04</td>\n",
       "    </tr>\n",
       "    <tr>\n",
       "      <th>9</th>\n",
       "      <td>2</td>\n",
       "      <td>4</td>\n",
       "      <td>The Fire</td>\n",
       "      <td>8.4</td>\n",
       "      <td>2713</td>\n",
       "      <td>2005-10-11</td>\n",
       "    </tr>\n",
       "  </tbody>\n",
       "</table>\n",
       "</div>"
      ],
      "text/plain": [
       "   season  episode              title  imdb_rating  total_votes    air_date\n",
       "0       1        1              Pilot          7.6         3706  2005-03-24\n",
       "1       1        2      Diversity Day          8.3         3566  2005-03-29\n",
       "2       1        3        Health Care          7.9         2983  2005-04-05\n",
       "3       1        4       The Alliance          8.1         2886  2005-04-12\n",
       "4       1        5         Basketball          8.4         3179  2005-04-19\n",
       "5       1        6           Hot Girl          7.8         2852  2005-04-26\n",
       "6       2        1        The Dundies          8.7         3213  2005-09-20\n",
       "7       2        2  Sexual Harassment          8.2         2736  2005-09-27\n",
       "8       2        3    Office Olympics          8.4         2742  2005-10-04\n",
       "9       2        4           The Fire          8.4         2713  2005-10-11"
      ]
     },
     "execution_count": 76,
     "metadata": {},
     "output_type": "execute_result"
    }
   ],
   "source": [
    "df.iloc[:10,:]"
   ]
  },
  {
   "cell_type": "markdown",
   "metadata": {},
   "source": [
    "Of course, we can run methods on these slices. We could, if we wanted to, calculate the mean imdb rating of only the first and last 100 episodes. _Note_ the indexing starts at 0 so we want the column index of 3 (0:season, 1:episode, 2:title, 3:imdb_rating)."
   ]
  },
  {
   "cell_type": "code",
   "execution_count": 77,
   "metadata": {},
   "outputs": [
    {
     "data": {
      "text/plain": [
       "8.483000000000006"
      ]
     },
     "execution_count": 77,
     "metadata": {},
     "output_type": "execute_result"
    }
   ],
   "source": [
    "df.iloc[:100,3].mean()"
   ]
  },
  {
   "cell_type": "code",
   "execution_count": 61,
   "metadata": {},
   "outputs": [
    {
     "data": {
      "text/plain": [
       "8.062000000000001"
      ]
     },
     "execution_count": 61,
     "metadata": {},
     "output_type": "execute_result"
    }
   ],
   "source": [
    "df.iloc[-100:,3].mean()"
   ]
  },
  {
   "cell_type": "markdown",
   "metadata": {},
   "source": [
    "If you are unsure how many rows you have then the count method comes to the rescue."
   ]
  },
  {
   "cell_type": "code",
   "execution_count": 62,
   "metadata": {},
   "outputs": [
    {
     "data": {
      "text/plain": [
       "100"
      ]
     },
     "execution_count": 62,
     "metadata": {},
     "output_type": "execute_result"
    }
   ],
   "source": [
    "df.iloc[-100:,3].count()"
   ]
  },
  {
   "cell_type": "code",
   "execution_count": 81,
   "metadata": {},
   "outputs": [
    {
     "data": {
      "text/html": [
       "<div>\n",
       "<style scoped>\n",
       "    .dataframe tbody tr th:only-of-type {\n",
       "        vertical-align: middle;\n",
       "    }\n",
       "\n",
       "    .dataframe tbody tr th {\n",
       "        vertical-align: top;\n",
       "    }\n",
       "\n",
       "    .dataframe thead th {\n",
       "        text-align: right;\n",
       "    }\n",
       "</style>\n",
       "<table border=\"1\" class=\"dataframe\">\n",
       "  <thead>\n",
       "    <tr style=\"text-align: right;\">\n",
       "      <th></th>\n",
       "      <th>season</th>\n",
       "      <th>episode</th>\n",
       "      <th>imdb_rating</th>\n",
       "      <th>total_votes</th>\n",
       "    </tr>\n",
       "  </thead>\n",
       "  <tbody>\n",
       "    <tr>\n",
       "      <th>count</th>\n",
       "      <td>188.000000</td>\n",
       "      <td>188.000000</td>\n",
       "      <td>188.000000</td>\n",
       "      <td>188.000000</td>\n",
       "    </tr>\n",
       "    <tr>\n",
       "      <th>mean</th>\n",
       "      <td>5.468085</td>\n",
       "      <td>11.877660</td>\n",
       "      <td>8.257447</td>\n",
       "      <td>2126.648936</td>\n",
       "    </tr>\n",
       "    <tr>\n",
       "      <th>std</th>\n",
       "      <td>2.386245</td>\n",
       "      <td>7.024855</td>\n",
       "      <td>0.538067</td>\n",
       "      <td>787.098275</td>\n",
       "    </tr>\n",
       "    <tr>\n",
       "      <th>min</th>\n",
       "      <td>1.000000</td>\n",
       "      <td>1.000000</td>\n",
       "      <td>6.700000</td>\n",
       "      <td>1393.000000</td>\n",
       "    </tr>\n",
       "    <tr>\n",
       "      <th>25%</th>\n",
       "      <td>3.000000</td>\n",
       "      <td>6.000000</td>\n",
       "      <td>7.900000</td>\n",
       "      <td>1631.500000</td>\n",
       "    </tr>\n",
       "    <tr>\n",
       "      <th>50%</th>\n",
       "      <td>6.000000</td>\n",
       "      <td>11.500000</td>\n",
       "      <td>8.200000</td>\n",
       "      <td>1952.500000</td>\n",
       "    </tr>\n",
       "    <tr>\n",
       "      <th>75%</th>\n",
       "      <td>7.250000</td>\n",
       "      <td>18.000000</td>\n",
       "      <td>8.600000</td>\n",
       "      <td>2379.000000</td>\n",
       "    </tr>\n",
       "    <tr>\n",
       "      <th>max</th>\n",
       "      <td>9.000000</td>\n",
       "      <td>26.000000</td>\n",
       "      <td>9.700000</td>\n",
       "      <td>7934.000000</td>\n",
       "    </tr>\n",
       "  </tbody>\n",
       "</table>\n",
       "</div>"
      ],
      "text/plain": [
       "           season     episode  imdb_rating  total_votes\n",
       "count  188.000000  188.000000   188.000000   188.000000\n",
       "mean     5.468085   11.877660     8.257447  2126.648936\n",
       "std      2.386245    7.024855     0.538067   787.098275\n",
       "min      1.000000    1.000000     6.700000  1393.000000\n",
       "25%      3.000000    6.000000     7.900000  1631.500000\n",
       "50%      6.000000   11.500000     8.200000  1952.500000\n",
       "75%      7.250000   18.000000     8.600000  2379.000000\n",
       "max      9.000000   26.000000     9.700000  7934.000000"
      ]
     },
     "execution_count": 81,
     "metadata": {},
     "output_type": "execute_result"
    }
   ],
   "source": [
    "df.describe()"
   ]
  },
  {
   "cell_type": "markdown",
   "metadata": {},
   "source": [
    "So it looks like the last 100 episodes were less good than the first 100. I guess that is why it was cancelled.\n",
    "\n",
    "Our data is organised by season. Looking at the average by season might help."
   ]
  },
  {
   "cell_type": "code",
   "execution_count": 63,
   "metadata": {},
   "outputs": [
    {
     "data": {
      "text/html": [
       "<div>\n",
       "<style scoped>\n",
       "    .dataframe tbody tr th:only-of-type {\n",
       "        vertical-align: middle;\n",
       "    }\n",
       "\n",
       "    .dataframe tbody tr th {\n",
       "        vertical-align: top;\n",
       "    }\n",
       "\n",
       "    .dataframe thead th {\n",
       "        text-align: right;\n",
       "    }\n",
       "</style>\n",
       "<table border=\"1\" class=\"dataframe\">\n",
       "  <thead>\n",
       "    <tr style=\"text-align: right;\">\n",
       "      <th></th>\n",
       "      <th>episode</th>\n",
       "      <th>imdb_rating</th>\n",
       "      <th>total_votes</th>\n",
       "    </tr>\n",
       "    <tr>\n",
       "      <th>season</th>\n",
       "      <th></th>\n",
       "      <th></th>\n",
       "      <th></th>\n",
       "    </tr>\n",
       "  </thead>\n",
       "  <tbody>\n",
       "    <tr>\n",
       "      <th>1</th>\n",
       "      <td>3.5</td>\n",
       "      <td>8.016667</td>\n",
       "      <td>3195.333333</td>\n",
       "    </tr>\n",
       "    <tr>\n",
       "      <th>2</th>\n",
       "      <td>11.5</td>\n",
       "      <td>8.436364</td>\n",
       "      <td>2630.636364</td>\n",
       "    </tr>\n",
       "    <tr>\n",
       "      <th>3</th>\n",
       "      <td>12.0</td>\n",
       "      <td>8.573913</td>\n",
       "      <td>2443.173913</td>\n",
       "    </tr>\n",
       "    <tr>\n",
       "      <th>4</th>\n",
       "      <td>7.5</td>\n",
       "      <td>8.600000</td>\n",
       "      <td>2422.571429</td>\n",
       "    </tr>\n",
       "    <tr>\n",
       "      <th>5</th>\n",
       "      <td>13.5</td>\n",
       "      <td>8.492308</td>\n",
       "      <td>2150.730769</td>\n",
       "    </tr>\n",
       "    <tr>\n",
       "      <th>6</th>\n",
       "      <td>13.5</td>\n",
       "      <td>8.219231</td>\n",
       "      <td>1856.538462</td>\n",
       "    </tr>\n",
       "    <tr>\n",
       "      <th>7</th>\n",
       "      <td>12.5</td>\n",
       "      <td>8.316667</td>\n",
       "      <td>2030.958333</td>\n",
       "    </tr>\n",
       "    <tr>\n",
       "      <th>8</th>\n",
       "      <td>12.5</td>\n",
       "      <td>7.666667</td>\n",
       "      <td>1546.375000</td>\n",
       "    </tr>\n",
       "    <tr>\n",
       "      <th>9</th>\n",
       "      <td>12.0</td>\n",
       "      <td>7.956522</td>\n",
       "      <td>1852.608696</td>\n",
       "    </tr>\n",
       "  </tbody>\n",
       "</table>\n",
       "</div>"
      ],
      "text/plain": [
       "        episode  imdb_rating  total_votes\n",
       "season                                   \n",
       "1           3.5     8.016667  3195.333333\n",
       "2          11.5     8.436364  2630.636364\n",
       "3          12.0     8.573913  2443.173913\n",
       "4           7.5     8.600000  2422.571429\n",
       "5          13.5     8.492308  2150.730769\n",
       "6          13.5     8.219231  1856.538462\n",
       "7          12.5     8.316667  2030.958333\n",
       "8          12.5     7.666667  1546.375000\n",
       "9          12.0     7.956522  1852.608696"
      ]
     },
     "execution_count": 63,
     "metadata": {},
     "output_type": "execute_result"
    }
   ],
   "source": [
    "df.groupby('season').mean()"
   ]
  },
  {
   "cell_type": "markdown",
   "metadata": {},
   "source": [
    "The above line groups our dataframe by values in the season column and then displays the mean for each group. Pretty nifty.\n",
    "\n",
    "Season 8 looks pretty bad. We can look at just the rows for season 8."
   ]
  },
  {
   "cell_type": "code",
   "execution_count": 84,
   "metadata": {},
   "outputs": [
    {
     "data": {
      "text/html": [
       "<div>\n",
       "<style scoped>\n",
       "    .dataframe tbody tr th:only-of-type {\n",
       "        vertical-align: middle;\n",
       "    }\n",
       "\n",
       "    .dataframe tbody tr th {\n",
       "        vertical-align: top;\n",
       "    }\n",
       "\n",
       "    .dataframe thead th {\n",
       "        text-align: right;\n",
       "    }\n",
       "</style>\n",
       "<table border=\"1\" class=\"dataframe\">\n",
       "  <thead>\n",
       "    <tr style=\"text-align: right;\">\n",
       "      <th></th>\n",
       "      <th>season</th>\n",
       "      <th>episode</th>\n",
       "      <th>title</th>\n",
       "      <th>imdb_rating</th>\n",
       "      <th>total_votes</th>\n",
       "      <th>air_date</th>\n",
       "    </tr>\n",
       "  </thead>\n",
       "  <tbody>\n",
       "    <tr>\n",
       "      <th>141</th>\n",
       "      <td>8</td>\n",
       "      <td>1</td>\n",
       "      <td>The List</td>\n",
       "      <td>8.2</td>\n",
       "      <td>1829</td>\n",
       "      <td>2011-09-22</td>\n",
       "    </tr>\n",
       "    <tr>\n",
       "      <th>142</th>\n",
       "      <td>8</td>\n",
       "      <td>2</td>\n",
       "      <td>The Incentive</td>\n",
       "      <td>8.2</td>\n",
       "      <td>1668</td>\n",
       "      <td>2011-09-29</td>\n",
       "    </tr>\n",
       "    <tr>\n",
       "      <th>143</th>\n",
       "      <td>8</td>\n",
       "      <td>3</td>\n",
       "      <td>Lotto</td>\n",
       "      <td>7.3</td>\n",
       "      <td>1601</td>\n",
       "      <td>2011-10-06</td>\n",
       "    </tr>\n",
       "    <tr>\n",
       "      <th>144</th>\n",
       "      <td>8</td>\n",
       "      <td>4</td>\n",
       "      <td>Garden Party</td>\n",
       "      <td>8.1</td>\n",
       "      <td>1717</td>\n",
       "      <td>2011-10-13</td>\n",
       "    </tr>\n",
       "    <tr>\n",
       "      <th>145</th>\n",
       "      <td>8</td>\n",
       "      <td>5</td>\n",
       "      <td>Spooked</td>\n",
       "      <td>7.6</td>\n",
       "      <td>1543</td>\n",
       "      <td>2011-10-27</td>\n",
       "    </tr>\n",
       "    <tr>\n",
       "      <th>146</th>\n",
       "      <td>8</td>\n",
       "      <td>6</td>\n",
       "      <td>Doomsday</td>\n",
       "      <td>7.8</td>\n",
       "      <td>1476</td>\n",
       "      <td>2011-11-03</td>\n",
       "    </tr>\n",
       "    <tr>\n",
       "      <th>147</th>\n",
       "      <td>8</td>\n",
       "      <td>7</td>\n",
       "      <td>Pam's Replacement</td>\n",
       "      <td>7.7</td>\n",
       "      <td>1563</td>\n",
       "      <td>2011-11-10</td>\n",
       "    </tr>\n",
       "    <tr>\n",
       "      <th>148</th>\n",
       "      <td>8</td>\n",
       "      <td>8</td>\n",
       "      <td>Gettysburg</td>\n",
       "      <td>7.0</td>\n",
       "      <td>1584</td>\n",
       "      <td>2011-11-17</td>\n",
       "    </tr>\n",
       "    <tr>\n",
       "      <th>149</th>\n",
       "      <td>8</td>\n",
       "      <td>9</td>\n",
       "      <td>Mrs. California</td>\n",
       "      <td>7.7</td>\n",
       "      <td>1553</td>\n",
       "      <td>2011-12-01</td>\n",
       "    </tr>\n",
       "    <tr>\n",
       "      <th>150</th>\n",
       "      <td>8</td>\n",
       "      <td>10</td>\n",
       "      <td>Christmas Wishes</td>\n",
       "      <td>8.0</td>\n",
       "      <td>1547</td>\n",
       "      <td>2011-12-08</td>\n",
       "    </tr>\n",
       "    <tr>\n",
       "      <th>151</th>\n",
       "      <td>8</td>\n",
       "      <td>11</td>\n",
       "      <td>Trivia</td>\n",
       "      <td>7.9</td>\n",
       "      <td>1488</td>\n",
       "      <td>2012-01-12</td>\n",
       "    </tr>\n",
       "    <tr>\n",
       "      <th>152</th>\n",
       "      <td>8</td>\n",
       "      <td>12</td>\n",
       "      <td>Pool Party</td>\n",
       "      <td>8.0</td>\n",
       "      <td>1612</td>\n",
       "      <td>2012-01-19</td>\n",
       "    </tr>\n",
       "    <tr>\n",
       "      <th>153</th>\n",
       "      <td>8</td>\n",
       "      <td>13</td>\n",
       "      <td>Jury Duty</td>\n",
       "      <td>7.5</td>\n",
       "      <td>1478</td>\n",
       "      <td>2012-02-02</td>\n",
       "    </tr>\n",
       "    <tr>\n",
       "      <th>154</th>\n",
       "      <td>8</td>\n",
       "      <td>14</td>\n",
       "      <td>Special Project</td>\n",
       "      <td>7.8</td>\n",
       "      <td>1432</td>\n",
       "      <td>2012-02-09</td>\n",
       "    </tr>\n",
       "    <tr>\n",
       "      <th>155</th>\n",
       "      <td>8</td>\n",
       "      <td>15</td>\n",
       "      <td>Tallahassee</td>\n",
       "      <td>7.9</td>\n",
       "      <td>1522</td>\n",
       "      <td>2012-02-16</td>\n",
       "    </tr>\n",
       "    <tr>\n",
       "      <th>156</th>\n",
       "      <td>8</td>\n",
       "      <td>16</td>\n",
       "      <td>After Hours</td>\n",
       "      <td>8.1</td>\n",
       "      <td>1567</td>\n",
       "      <td>2012-02-23</td>\n",
       "    </tr>\n",
       "    <tr>\n",
       "      <th>157</th>\n",
       "      <td>8</td>\n",
       "      <td>17</td>\n",
       "      <td>Test the Store</td>\n",
       "      <td>7.8</td>\n",
       "      <td>1478</td>\n",
       "      <td>2012-03-01</td>\n",
       "    </tr>\n",
       "    <tr>\n",
       "      <th>158</th>\n",
       "      <td>8</td>\n",
       "      <td>18</td>\n",
       "      <td>Last Day in Florida</td>\n",
       "      <td>7.8</td>\n",
       "      <td>1429</td>\n",
       "      <td>2012-03-08</td>\n",
       "    </tr>\n",
       "    <tr>\n",
       "      <th>159</th>\n",
       "      <td>8</td>\n",
       "      <td>19</td>\n",
       "      <td>Get the Girl</td>\n",
       "      <td>6.7</td>\n",
       "      <td>1642</td>\n",
       "      <td>2012-03-15</td>\n",
       "    </tr>\n",
       "    <tr>\n",
       "      <th>160</th>\n",
       "      <td>8</td>\n",
       "      <td>20</td>\n",
       "      <td>Welcome Party</td>\n",
       "      <td>7.2</td>\n",
       "      <td>1489</td>\n",
       "      <td>2012-04-12</td>\n",
       "    </tr>\n",
       "    <tr>\n",
       "      <th>161</th>\n",
       "      <td>8</td>\n",
       "      <td>21</td>\n",
       "      <td>Angry Andy</td>\n",
       "      <td>7.1</td>\n",
       "      <td>1585</td>\n",
       "      <td>2012-04-19</td>\n",
       "    </tr>\n",
       "    <tr>\n",
       "      <th>162</th>\n",
       "      <td>8</td>\n",
       "      <td>22</td>\n",
       "      <td>Fundraiser</td>\n",
       "      <td>7.1</td>\n",
       "      <td>1453</td>\n",
       "      <td>2012-04-26</td>\n",
       "    </tr>\n",
       "    <tr>\n",
       "      <th>163</th>\n",
       "      <td>8</td>\n",
       "      <td>23</td>\n",
       "      <td>Turf War</td>\n",
       "      <td>7.7</td>\n",
       "      <td>1393</td>\n",
       "      <td>2012-05-03</td>\n",
       "    </tr>\n",
       "    <tr>\n",
       "      <th>164</th>\n",
       "      <td>8</td>\n",
       "      <td>24</td>\n",
       "      <td>Free Family Portrait Studio</td>\n",
       "      <td>7.8</td>\n",
       "      <td>1464</td>\n",
       "      <td>2012-05-10</td>\n",
       "    </tr>\n",
       "  </tbody>\n",
       "</table>\n",
       "</div>"
      ],
      "text/plain": [
       "     season  episode                        title  imdb_rating  total_votes  \\\n",
       "141       8        1                     The List          8.2         1829   \n",
       "142       8        2                The Incentive          8.2         1668   \n",
       "143       8        3                        Lotto          7.3         1601   \n",
       "144       8        4                 Garden Party          8.1         1717   \n",
       "145       8        5                      Spooked          7.6         1543   \n",
       "146       8        6                     Doomsday          7.8         1476   \n",
       "147       8        7            Pam's Replacement          7.7         1563   \n",
       "148       8        8                   Gettysburg          7.0         1584   \n",
       "149       8        9              Mrs. California          7.7         1553   \n",
       "150       8       10             Christmas Wishes          8.0         1547   \n",
       "151       8       11                       Trivia          7.9         1488   \n",
       "152       8       12                   Pool Party          8.0         1612   \n",
       "153       8       13                    Jury Duty          7.5         1478   \n",
       "154       8       14              Special Project          7.8         1432   \n",
       "155       8       15                  Tallahassee          7.9         1522   \n",
       "156       8       16                  After Hours          8.1         1567   \n",
       "157       8       17               Test the Store          7.8         1478   \n",
       "158       8       18          Last Day in Florida          7.8         1429   \n",
       "159       8       19                 Get the Girl          6.7         1642   \n",
       "160       8       20                Welcome Party          7.2         1489   \n",
       "161       8       21                   Angry Andy          7.1         1585   \n",
       "162       8       22                   Fundraiser          7.1         1453   \n",
       "163       8       23                     Turf War          7.7         1393   \n",
       "164       8       24  Free Family Portrait Studio          7.8         1464   \n",
       "\n",
       "       air_date  \n",
       "141  2011-09-22  \n",
       "142  2011-09-29  \n",
       "143  2011-10-06  \n",
       "144  2011-10-13  \n",
       "145  2011-10-27  \n",
       "146  2011-11-03  \n",
       "147  2011-11-10  \n",
       "148  2011-11-17  \n",
       "149  2011-12-01  \n",
       "150  2011-12-08  \n",
       "151  2012-01-12  \n",
       "152  2012-01-19  \n",
       "153  2012-02-02  \n",
       "154  2012-02-09  \n",
       "155  2012-02-16  \n",
       "156  2012-02-23  \n",
       "157  2012-03-01  \n",
       "158  2012-03-08  \n",
       "159  2012-03-15  \n",
       "160  2012-04-12  \n",
       "161  2012-04-19  \n",
       "162  2012-04-26  \n",
       "163  2012-05-03  \n",
       "164  2012-05-10  "
      ]
     },
     "execution_count": 84,
     "metadata": {},
     "output_type": "execute_result"
    }
   ],
   "source": [
    "df[df['season'] == 8]"
   ]
  },
  {
   "cell_type": "code",
   "execution_count": 82,
   "metadata": {},
   "outputs": [
    {
     "data": {
      "text/plain": [
       "0      False\n",
       "1      False\n",
       "2      False\n",
       "3      False\n",
       "4      False\n",
       "       ...  \n",
       "183    False\n",
       "184    False\n",
       "185    False\n",
       "186    False\n",
       "187    False\n",
       "Name: season, Length: 188, dtype: bool"
      ]
     },
     "execution_count": 82,
     "metadata": {},
     "output_type": "execute_result"
    }
   ],
   "source": [
    "df['season'] == 8"
   ]
  },
  {
   "cell_type": "markdown",
   "metadata": {},
   "source": [
    "Generally pretty bad, but there is clearly one very disliked episode."
   ]
  },
  {
   "cell_type": "markdown",
   "metadata": {},
   "source": [
    "## Adding columns\n",
    "\n",
    "We can add new columns pretty simply."
   ]
  },
  {
   "cell_type": "code",
   "execution_count": 85,
   "metadata": {},
   "outputs": [
    {
     "data": {
      "text/html": [
       "<div>\n",
       "<style scoped>\n",
       "    .dataframe tbody tr th:only-of-type {\n",
       "        vertical-align: middle;\n",
       "    }\n",
       "\n",
       "    .dataframe tbody tr th {\n",
       "        vertical-align: top;\n",
       "    }\n",
       "\n",
       "    .dataframe thead th {\n",
       "        text-align: right;\n",
       "    }\n",
       "</style>\n",
       "<table border=\"1\" class=\"dataframe\">\n",
       "  <thead>\n",
       "    <tr style=\"text-align: right;\">\n",
       "      <th></th>\n",
       "      <th>season</th>\n",
       "      <th>episode</th>\n",
       "      <th>title</th>\n",
       "      <th>imdb_rating</th>\n",
       "      <th>total_votes</th>\n",
       "      <th>air_date</th>\n",
       "      <th>x</th>\n",
       "    </tr>\n",
       "  </thead>\n",
       "  <tbody>\n",
       "    <tr>\n",
       "      <th>0</th>\n",
       "      <td>1</td>\n",
       "      <td>1</td>\n",
       "      <td>Pilot</td>\n",
       "      <td>7.6</td>\n",
       "      <td>3706</td>\n",
       "      <td>2005-03-24</td>\n",
       "      <td>44</td>\n",
       "    </tr>\n",
       "    <tr>\n",
       "      <th>1</th>\n",
       "      <td>1</td>\n",
       "      <td>2</td>\n",
       "      <td>Diversity Day</td>\n",
       "      <td>8.3</td>\n",
       "      <td>3566</td>\n",
       "      <td>2005-03-29</td>\n",
       "      <td>44</td>\n",
       "    </tr>\n",
       "    <tr>\n",
       "      <th>2</th>\n",
       "      <td>1</td>\n",
       "      <td>3</td>\n",
       "      <td>Health Care</td>\n",
       "      <td>7.9</td>\n",
       "      <td>2983</td>\n",
       "      <td>2005-04-05</td>\n",
       "      <td>44</td>\n",
       "    </tr>\n",
       "    <tr>\n",
       "      <th>3</th>\n",
       "      <td>1</td>\n",
       "      <td>4</td>\n",
       "      <td>The Alliance</td>\n",
       "      <td>8.1</td>\n",
       "      <td>2886</td>\n",
       "      <td>2005-04-12</td>\n",
       "      <td>44</td>\n",
       "    </tr>\n",
       "    <tr>\n",
       "      <th>4</th>\n",
       "      <td>1</td>\n",
       "      <td>5</td>\n",
       "      <td>Basketball</td>\n",
       "      <td>8.4</td>\n",
       "      <td>3179</td>\n",
       "      <td>2005-04-19</td>\n",
       "      <td>44</td>\n",
       "    </tr>\n",
       "  </tbody>\n",
       "</table>\n",
       "</div>"
      ],
      "text/plain": [
       "   season  episode          title  imdb_rating  total_votes    air_date   x\n",
       "0       1        1          Pilot          7.6         3706  2005-03-24  44\n",
       "1       1        2  Diversity Day          8.3         3566  2005-03-29  44\n",
       "2       1        3    Health Care          7.9         2983  2005-04-05  44\n",
       "3       1        4   The Alliance          8.1         2886  2005-04-12  44\n",
       "4       1        5     Basketball          8.4         3179  2005-04-19  44"
      ]
     },
     "execution_count": 85,
     "metadata": {},
     "output_type": "execute_result"
    }
   ],
   "source": [
    "df['x'] = 44\n",
    "df.head()"
   ]
  },
  {
   "cell_type": "markdown",
   "metadata": {},
   "source": [
    "Our new column can be an operation on other columns"
   ]
  },
  {
   "cell_type": "code",
   "execution_count": 87,
   "metadata": {},
   "outputs": [
    {
     "data": {
      "text/html": [
       "<div>\n",
       "<style scoped>\n",
       "    .dataframe tbody tr th:only-of-type {\n",
       "        vertical-align: middle;\n",
       "    }\n",
       "\n",
       "    .dataframe tbody tr th {\n",
       "        vertical-align: top;\n",
       "    }\n",
       "\n",
       "    .dataframe thead th {\n",
       "        text-align: right;\n",
       "    }\n",
       "</style>\n",
       "<table border=\"1\" class=\"dataframe\">\n",
       "  <thead>\n",
       "    <tr style=\"text-align: right;\">\n",
       "      <th></th>\n",
       "      <th>season</th>\n",
       "      <th>episode</th>\n",
       "      <th>title</th>\n",
       "      <th>imdb_rating</th>\n",
       "      <th>total_votes</th>\n",
       "      <th>air_date</th>\n",
       "      <th>x</th>\n",
       "      <th>rating_div_total_votes</th>\n",
       "    </tr>\n",
       "  </thead>\n",
       "  <tbody>\n",
       "    <tr>\n",
       "      <th>0</th>\n",
       "      <td>1</td>\n",
       "      <td>1</td>\n",
       "      <td>Pilot</td>\n",
       "      <td>7.6</td>\n",
       "      <td>3706</td>\n",
       "      <td>2005-03-24</td>\n",
       "      <td>44</td>\n",
       "      <td>0.002051</td>\n",
       "    </tr>\n",
       "    <tr>\n",
       "      <th>1</th>\n",
       "      <td>1</td>\n",
       "      <td>2</td>\n",
       "      <td>Diversity Day</td>\n",
       "      <td>8.3</td>\n",
       "      <td>3566</td>\n",
       "      <td>2005-03-29</td>\n",
       "      <td>44</td>\n",
       "      <td>0.002328</td>\n",
       "    </tr>\n",
       "    <tr>\n",
       "      <th>2</th>\n",
       "      <td>1</td>\n",
       "      <td>3</td>\n",
       "      <td>Health Care</td>\n",
       "      <td>7.9</td>\n",
       "      <td>2983</td>\n",
       "      <td>2005-04-05</td>\n",
       "      <td>44</td>\n",
       "      <td>0.002648</td>\n",
       "    </tr>\n",
       "    <tr>\n",
       "      <th>3</th>\n",
       "      <td>1</td>\n",
       "      <td>4</td>\n",
       "      <td>The Alliance</td>\n",
       "      <td>8.1</td>\n",
       "      <td>2886</td>\n",
       "      <td>2005-04-12</td>\n",
       "      <td>44</td>\n",
       "      <td>0.002807</td>\n",
       "    </tr>\n",
       "    <tr>\n",
       "      <th>4</th>\n",
       "      <td>1</td>\n",
       "      <td>5</td>\n",
       "      <td>Basketball</td>\n",
       "      <td>8.4</td>\n",
       "      <td>3179</td>\n",
       "      <td>2005-04-19</td>\n",
       "      <td>44</td>\n",
       "      <td>0.002642</td>\n",
       "    </tr>\n",
       "  </tbody>\n",
       "</table>\n",
       "</div>"
      ],
      "text/plain": [
       "   season  episode          title  imdb_rating  total_votes    air_date   x  \\\n",
       "0       1        1          Pilot          7.6         3706  2005-03-24  44   \n",
       "1       1        2  Diversity Day          8.3         3566  2005-03-29  44   \n",
       "2       1        3    Health Care          7.9         2983  2005-04-05  44   \n",
       "3       1        4   The Alliance          8.1         2886  2005-04-12  44   \n",
       "4       1        5     Basketball          8.4         3179  2005-04-19  44   \n",
       "\n",
       "   rating_div_total_votes  \n",
       "0                0.002051  \n",
       "1                0.002328  \n",
       "2                0.002648  \n",
       "3                0.002807  \n",
       "4                0.002642  "
      ]
     },
     "execution_count": 87,
     "metadata": {},
     "output_type": "execute_result"
    }
   ],
   "source": [
    "df['rating_div_total_votes'] = df['imdb_rating'] / df['total_votes']\n",
    "df.head()"
   ]
  },
  {
   "cell_type": "markdown",
   "metadata": {},
   "source": [
    "or as simple as adding one to every value."
   ]
  },
  {
   "cell_type": "code",
   "execution_count": 88,
   "metadata": {},
   "outputs": [
    {
     "data": {
      "text/html": [
       "<div>\n",
       "<style scoped>\n",
       "    .dataframe tbody tr th:only-of-type {\n",
       "        vertical-align: middle;\n",
       "    }\n",
       "\n",
       "    .dataframe tbody tr th {\n",
       "        vertical-align: top;\n",
       "    }\n",
       "\n",
       "    .dataframe thead th {\n",
       "        text-align: right;\n",
       "    }\n",
       "</style>\n",
       "<table border=\"1\" class=\"dataframe\">\n",
       "  <thead>\n",
       "    <tr style=\"text-align: right;\">\n",
       "      <th></th>\n",
       "      <th>season</th>\n",
       "      <th>episode</th>\n",
       "      <th>title</th>\n",
       "      <th>imdb_rating</th>\n",
       "      <th>total_votes</th>\n",
       "      <th>air_date</th>\n",
       "      <th>x</th>\n",
       "      <th>rating_div_total_votes</th>\n",
       "      <th>y</th>\n",
       "    </tr>\n",
       "  </thead>\n",
       "  <tbody>\n",
       "    <tr>\n",
       "      <th>0</th>\n",
       "      <td>1</td>\n",
       "      <td>1</td>\n",
       "      <td>Pilot</td>\n",
       "      <td>7.6</td>\n",
       "      <td>3706</td>\n",
       "      <td>2005-03-24</td>\n",
       "      <td>44</td>\n",
       "      <td>0.002051</td>\n",
       "      <td>2</td>\n",
       "    </tr>\n",
       "    <tr>\n",
       "      <th>1</th>\n",
       "      <td>1</td>\n",
       "      <td>2</td>\n",
       "      <td>Diversity Day</td>\n",
       "      <td>8.3</td>\n",
       "      <td>3566</td>\n",
       "      <td>2005-03-29</td>\n",
       "      <td>44</td>\n",
       "      <td>0.002328</td>\n",
       "      <td>2</td>\n",
       "    </tr>\n",
       "    <tr>\n",
       "      <th>2</th>\n",
       "      <td>1</td>\n",
       "      <td>3</td>\n",
       "      <td>Health Care</td>\n",
       "      <td>7.9</td>\n",
       "      <td>2983</td>\n",
       "      <td>2005-04-05</td>\n",
       "      <td>44</td>\n",
       "      <td>0.002648</td>\n",
       "      <td>2</td>\n",
       "    </tr>\n",
       "    <tr>\n",
       "      <th>3</th>\n",
       "      <td>1</td>\n",
       "      <td>4</td>\n",
       "      <td>The Alliance</td>\n",
       "      <td>8.1</td>\n",
       "      <td>2886</td>\n",
       "      <td>2005-04-12</td>\n",
       "      <td>44</td>\n",
       "      <td>0.002807</td>\n",
       "      <td>2</td>\n",
       "    </tr>\n",
       "    <tr>\n",
       "      <th>4</th>\n",
       "      <td>1</td>\n",
       "      <td>5</td>\n",
       "      <td>Basketball</td>\n",
       "      <td>8.4</td>\n",
       "      <td>3179</td>\n",
       "      <td>2005-04-19</td>\n",
       "      <td>44</td>\n",
       "      <td>0.002642</td>\n",
       "      <td>2</td>\n",
       "    </tr>\n",
       "  </tbody>\n",
       "</table>\n",
       "</div>"
      ],
      "text/plain": [
       "   season  episode          title  imdb_rating  total_votes    air_date   x  \\\n",
       "0       1        1          Pilot          7.6         3706  2005-03-24  44   \n",
       "1       1        2  Diversity Day          8.3         3566  2005-03-29  44   \n",
       "2       1        3    Health Care          7.9         2983  2005-04-05  44   \n",
       "3       1        4   The Alliance          8.1         2886  2005-04-12  44   \n",
       "4       1        5     Basketball          8.4         3179  2005-04-19  44   \n",
       "\n",
       "   rating_div_total_votes  y  \n",
       "0                0.002051  2  \n",
       "1                0.002328  2  \n",
       "2                0.002648  2  \n",
       "3                0.002807  2  \n",
       "4                0.002642  2  "
      ]
     },
     "execution_count": 88,
     "metadata": {},
     "output_type": "execute_result"
    }
   ],
   "source": [
    "df['y'] = df['season'] + 1\n",
    "df.iloc[0:5,:]"
   ]
  },
  {
   "cell_type": "code",
   "execution_count": 89,
   "metadata": {},
   "outputs": [],
   "source": [
    "y =  df['season'] + 1"
   ]
  },
  {
   "cell_type": "markdown",
   "metadata": {},
   "source": [
    "## Writing data\n",
    "\n",
    "Pandas supports writing out data frames to various formats."
   ]
  },
  {
   "cell_type": "code",
   "execution_count": 68,
   "metadata": {},
   "outputs": [],
   "source": [
    "?df.to_csv\n",
    "df.to_csv('my_output_ratings.csv', encoding='UTF-8')"
   ]
  },
  {
   "cell_type": "code",
   "execution_count": 69,
   "metadata": {},
   "outputs": [],
   "source": [
    "?df.to_excel\n",
    "df.to_excel('my_output_ratings.xlsx', encoding='UTF-8')"
   ]
  }
 ],
 "metadata": {
  "kernelspec": {
   "display_name": "Python 3",
   "language": "python",
   "name": "python3"
  },
  "language_info": {
   "codemirror_mode": {
    "name": "ipython",
    "version": 3
   },
   "file_extension": ".py",
   "mimetype": "text/x-python",
   "name": "python",
   "nbconvert_exporter": "python",
   "pygments_lexer": "ipython3",
   "version": "3.8.3"
  }
 },
 "nbformat": 4,
 "nbformat_minor": 4
}
